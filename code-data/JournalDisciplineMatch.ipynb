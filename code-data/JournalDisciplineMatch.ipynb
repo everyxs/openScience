{
 "cells": [
  {
   "cell_type": "code",
   "execution_count": 1,
   "metadata": {},
   "outputs": [
    {
     "data": {
      "text/plain": [
       "'/home/jovyan/openScience/code-data'"
      ]
     },
     "execution_count": 1,
     "metadata": {},
     "output_type": "execute_result"
    }
   ],
   "source": [
    "import os, sys\n",
    "os.getcwd()\n",
    "#!pip install azure-storage-blob --user\n",
    "#!pip install storefact --user"
   ]
  },
  {
   "cell_type": "code",
   "execution_count": 2,
   "metadata": {},
   "outputs": [
    {
     "name": "stdout",
     "output_type": "stream",
     "text": [
      "['/usr/local/spark/python', '/usr/local/spark/python/lib/py4j-0.10.7-src.zip', '/opt/conda/lib/python36.zip', '/opt/conda/lib/python3.6', '/opt/conda/lib/python3.6/lib-dynload', '', '/home/jovyan/.local/lib/python3.6/site-packages', '/opt/conda/lib/python3.6/site-packages', '/opt/conda/lib/python3.6/site-packages/IPython/extensions', '/home/jovyan/.ipython', '/home/jovyan/.local/lib/python3.6/site-packages/']\n"
     ]
    },
    {
     "data": {
      "text/plain": [
       "['configuration', 'credentials']"
      ]
     },
     "execution_count": 2,
     "metadata": {},
     "output_type": "execute_result"
    }
   ],
   "source": [
    "import os, sys\n",
    "import configparser\n",
    "sys.path.append('/home/jovyan/.local/lib/python3.6/site-packages/')\n",
    "print(sys.path)\n",
    "\n",
    "os.path.abspath(\"AzureDownload/config.txt\")\n",
    "os.getcwd()\n",
    "config = configparser.ConfigParser()\n",
    "config.read(\"/home/jovyan/AzureDownload/config.txt\")\n",
    "config.sections()"
   ]
  },
  {
   "cell_type": "markdown",
   "metadata": {},
   "source": [
    "### Credentials setup, read the WoS jounral name mapped table from Azure"
   ]
  },
  {
   "cell_type": "code",
   "execution_count": 26,
   "metadata": {},
   "outputs": [
    {
     "name": "stdout",
     "output_type": "stream",
     "text": [
      "It takes 1.2857496738433838 seconds to download MAGwosJournalMatch/OpenSci3Journal.csv/part-00000-tid-7242307188284210216-0aedd498-2286-4df5-b026-90293dd23573-7785-c000.csv\n"
     ]
    }
   ],
   "source": [
    "import time\n",
    "from azure.storage.blob import BlockBlobService\n",
    "\n",
    "CONTAINERNAME = \"mag-2019-01-25\"\n",
    "BLOBNAME= \"MAGwosJournalMatch/OpenSci3Journal.csv/part-00000-tid-7242307188284210216-0aedd498-2286-4df5-b026-90293dd23573-7785-c000.csv\"\n",
    "LOCALFILENAME= \"/home/jovyan/openScience/code-data/OpenSci3Journal.csv\"\n",
    "\n",
    "block_blob_service=BlockBlobService(account_name=config.get(\"configuration\",\"account\"),account_key=config.get(\"configuration\",\"password\"))\n",
    "#download from blob\n",
    "t1=time.time()\n",
    "block_blob_service.get_blob_to_path(CONTAINERNAME,BLOBNAME,LOCALFILENAME)\n",
    "t2=time.time()\n",
    "print((\"It takes %s seconds to download \"+BLOBNAME) % (t2 - t1))"
   ]
  },
  {
   "cell_type": "code",
   "execution_count": 32,
   "metadata": {},
   "outputs": [
    {
     "data": {
      "text/plain": [
       "Tag                  2945\n",
       "AuthorIdsOrder       2945\n",
       "AuthorNamesOrder     2945\n",
       "authorCount          2945\n",
       "unknownCount         2945\n",
       "femaleCount          2945\n",
       "femaleProp           2631\n",
       "1st                  2114\n",
       "2nd                  1607\n",
       "3rd                  1267\n",
       "4th                   962\n",
       "5th                   743\n",
       "last                 2089\n",
       "FoSNames             2945\n",
       "Year                 2945\n",
       "DocType              2945\n",
       "Journal              2557\n",
       "Publisher            2360\n",
       "Doi                  2937\n",
       "Title                2945\n",
       "EstimatedCitation    2945\n",
       "IndexedAbstract      1916\n",
       "WoSID                1499\n",
       "WoSjournal           1499\n",
       "dtype: int64"
      ]
     },
     "execution_count": 32,
     "metadata": {},
     "output_type": "execute_result"
    }
   ],
   "source": [
    "import pandas as pd\n",
    "\n",
    "openJ = pd.read_csv('OpenSci3Journal.csv', escapechar='\\\\', encoding='utf-8')\n",
    "openJ.count()"
   ]
  },
  {
   "cell_type": "markdown",
   "metadata": {},
   "source": [
    "### To verify that the Spark output is consistent, we compare the pandas dataframes before and after the WoS jounral mapping"
   ]
  },
  {
   "cell_type": "code",
   "execution_count": 33,
   "metadata": {},
   "outputs": [
    {
     "data": {
      "text/plain": [
       "Tag                  2945\n",
       "PaperId              2945\n",
       "AuthorIdsOrder       2945\n",
       "AuthorNamesOrder     2945\n",
       "authorCount          2945\n",
       "unknownCount         2945\n",
       "femaleCount          2945\n",
       "femaleProp           2631\n",
       "1st                  2114\n",
       "2nd                  1607\n",
       "3rd                  1267\n",
       "4th                   962\n",
       "5th                   743\n",
       "last                 2089\n",
       "FoSNames             2945\n",
       "Year                 2945\n",
       "DocType              2945\n",
       "Journal              2557\n",
       "Publisher            2360\n",
       "Doi                  2937\n",
       "Title                2945\n",
       "EstimatedCitation    2945\n",
       "IndexedAbstract      1916\n",
       "dtype: int64"
      ]
     },
     "execution_count": 33,
     "metadata": {},
     "output_type": "execute_result"
    }
   ],
   "source": [
    "openJ0 = pd.read_csv('OpenSci3.csv', escapechar='\\\\', encoding='utf-8')\n",
    "openJ0.count()"
   ]
  },
  {
   "cell_type": "code",
   "execution_count": null,
   "metadata": {},
   "outputs": [],
   "source": []
  }
 ],
 "metadata": {
  "kernelspec": {
   "display_name": "Python 3",
   "language": "python",
   "name": "python3"
  },
  "language_info": {
   "codemirror_mode": {
    "name": "ipython",
    "version": 3
   },
   "file_extension": ".py",
   "mimetype": "text/x-python",
   "name": "python",
   "nbconvert_exporter": "python",
   "pygments_lexer": "ipython3",
   "version": "3.6.8"
  }
 },
 "nbformat": 4,
 "nbformat_minor": 2
}
