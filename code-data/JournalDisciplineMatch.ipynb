{
 "cells": [
  {
   "cell_type": "code",
   "execution_count": 1,
   "metadata": {},
   "outputs": [
    {
     "data": {
      "text/plain": [
       "'/home/jovyan/openScience/code-data'"
      ]
     },
     "execution_count": 1,
     "metadata": {},
     "output_type": "execute_result"
    }
   ],
   "source": [
    "import os, sys\n",
    "os.getcwd()\n",
    "#!pip install azure-storage-blob --user\n",
    "#!pip install storefact --user"
   ]
  },
  {
   "cell_type": "code",
   "execution_count": 2,
   "metadata": {},
   "outputs": [
    {
     "name": "stdout",
     "output_type": "stream",
     "text": [
      "['/usr/local/spark/python', '/usr/local/spark/python/lib/py4j-0.10.7-src.zip', '/opt/conda/lib/python36.zip', '/opt/conda/lib/python3.6', '/opt/conda/lib/python3.6/lib-dynload', '', '/home/jovyan/.local/lib/python3.6/site-packages', '/opt/conda/lib/python3.6/site-packages', '/opt/conda/lib/python3.6/site-packages/IPython/extensions', '/home/jovyan/.ipython', '/home/jovyan/.local/lib/python3.6/site-packages/']\n"
     ]
    },
    {
     "data": {
      "text/plain": [
       "['configuration', 'credentials']"
      ]
     },
     "execution_count": 2,
     "metadata": {},
     "output_type": "execute_result"
    }
   ],
   "source": [
    "import os, sys\n",
    "import configparser\n",
    "sys.path.append('/home/jovyan/.local/lib/python3.6/site-packages/')\n",
    "print(sys.path)\n",
    "\n",
    "os.path.abspath(\"AzureDownload/config.txt\")\n",
    "os.getcwd()\n",
    "config = configparser.ConfigParser()\n",
    "config.read(\"/home/jovyan/AzureDownload/config.txt\")\n",
    "config.sections()"
   ]
  },
  {
   "cell_type": "markdown",
   "metadata": {},
   "source": [
    "### Credentials setup, read the WoS jounral name mapped table from Azure"
   ]
  },
  {
   "cell_type": "code",
   "execution_count": 3,
   "metadata": {},
   "outputs": [
    {
     "name": "stdout",
     "output_type": "stream",
     "text": [
      "It takes 1.5608294010162354 seconds to download MAGwosJournalMatch/OpenSci3Journal.csv/part-00000-tid-8679026268804875386-7586e989-d017-4b12-9d5a-53fc6497ec02-1116-c000.csv\n"
     ]
    }
   ],
   "source": [
    "import time\n",
    "from azure.storage.blob import BlockBlobService\n",
    "\n",
    "CONTAINERNAME = \"mag-2019-01-25\"\n",
    "BLOBNAME= \"MAGwosJournalMatch/OpenSci3Journal.csv/part-00000-tid-8679026268804875386-7586e989-d017-4b12-9d5a-53fc6497ec02-1116-c000.csv\"\n",
    "LOCALFILENAME= \"/home/jovyan/openScience/code-data/OpenSci3Journal.csv\"\n",
    "\n",
    "block_blob_service=BlockBlobService(account_name=config.get(\"configuration\",\"account\"),account_key=config.get(\"configuration\",\"password\"))\n",
    "#download from blob\n",
    "t1=time.time()\n",
    "block_blob_service.get_blob_to_path(CONTAINERNAME,BLOBNAME,LOCALFILENAME)\n",
    "t2=time.time()\n",
    "print((\"It takes %s seconds to download \"+BLOBNAME) % (t2 - t1))"
   ]
  },
  {
   "cell_type": "code",
   "execution_count": 4,
   "metadata": {},
   "outputs": [
    {
     "data": {
      "text/plain": [
       "Tag                  2945\n",
       "PaperId              2945\n",
       "AuthorIdsOrder       2945\n",
       "AuthorNamesOrder     2945\n",
       "authorCount          2945\n",
       "unknownCount         2945\n",
       "femaleCount          2945\n",
       "femaleProp           2631\n",
       "1st                  2114\n",
       "2nd                  1607\n",
       "3rd                  1267\n",
       "4th                   962\n",
       "5th                   743\n",
       "last                 2089\n",
       "FoSNames             2945\n",
       "Year                 2945\n",
       "DocType              2945\n",
       "Journal              2557\n",
       "Publisher            2360\n",
       "Doi                  2937\n",
       "Title                2945\n",
       "EstimatedCitation    2945\n",
       "IndexedAbstract      1916\n",
       "WoSID                1499\n",
       "WoSjournal           1499\n",
       "dtype: int64"
      ]
     },
     "execution_count": 4,
     "metadata": {},
     "output_type": "execute_result"
    }
   ],
   "source": [
    "import pandas as pd\n",
    "\n",
    "openJ = pd.read_csv('OpenSci3Journal.csv', escapechar='\\\\', encoding='utf-8')\n",
    "openJ.count()"
   ]
  },
  {
   "cell_type": "markdown",
   "metadata": {},
   "source": [
    "### To verify that the Spark output is consistent, we compare the pandas dataframes before and after the WoS jounral mapping"
   ]
  },
  {
   "cell_type": "code",
   "execution_count": 6,
   "metadata": {},
   "outputs": [
    {
     "data": {
      "text/plain": [
       "Tag                  2926\n",
       "PaperId              2926\n",
       "AuthorIdsOrder       2926\n",
       "AuthorNamesOrder     2926\n",
       "authorCount          2926\n",
       "unknownCount         2926\n",
       "femaleCount          2926\n",
       "femaleProp           2614\n",
       "1st                  2099\n",
       "2nd                  1597\n",
       "3rd                  1260\n",
       "4th                   958\n",
       "5th                   737\n",
       "last                 2075\n",
       "FoSNames             2926\n",
       "Year                 2926\n",
       "DocType              2926\n",
       "Journal              2542\n",
       "Publisher            2346\n",
       "Doi                  2918\n",
       "Title                2926\n",
       "EstimatedCitation    2926\n",
       "IndexedAbstract      1906\n",
       "dtype: int64"
      ]
     },
     "execution_count": 6,
     "metadata": {},
     "output_type": "execute_result"
    }
   ],
   "source": [
    "open0 = pd.read_csv('OpenSci3.csv', escapechar='\\\\', encoding='utf-8')\n",
    "open0.count()"
   ]
  },
  {
   "cell_type": "markdown",
   "metadata": {},
   "source": [
    "### Compare matched MAG journal names and WoS journal names"
   ]
  },
  {
   "cell_type": "code",
   "execution_count": 7,
   "metadata": {},
   "outputs": [
    {
     "data": {
      "text/plain": [
       "Tag                  1281\n",
       "PaperId              1281\n",
       "AuthorIdsOrder       1281\n",
       "AuthorNamesOrder     1281\n",
       "authorCount          1281\n",
       "unknownCount         1281\n",
       "femaleCount          1281\n",
       "femaleProp           1181\n",
       "1st                   949\n",
       "2nd                   749\n",
       "3rd                   610\n",
       "4th                   482\n",
       "5th                   381\n",
       "last                  943\n",
       "FoSNames             1281\n",
       "Year                 1281\n",
       "DocType              1281\n",
       "Journal              1281\n",
       "Publisher            1197\n",
       "Doi                  1281\n",
       "Title                1281\n",
       "EstimatedCitation    1281\n",
       "IndexedAbstract      1001\n",
       "WoSID                1281\n",
       "WoSjournal           1281\n",
       "dtype: int64"
      ]
     },
     "execution_count": 7,
     "metadata": {},
     "output_type": "execute_result"
    }
   ],
   "source": [
    "openJ['Journal'] = openJ.Journal.str.lower()\n",
    "openJ['WoSjournal'] = openJ.WoSjournal.str.lower()\n",
    "matched = openJ[openJ['Journal'] == openJ['WoSjournal']]\n",
    "matched.count()"
   ]
  },
  {
   "cell_type": "markdown",
   "metadata": {},
   "source": [
    "### Matching with UCSD map of science journal names"
   ]
  },
  {
   "cell_type": "code",
   "execution_count": 8,
   "metadata": {},
   "outputs": [
    {
     "data": {
      "text/plain": [
       "Tag                  2945\n",
       "PaperId              2945\n",
       "AuthorIdsOrder       2945\n",
       "AuthorNamesOrder     2945\n",
       "authorCount          2945\n",
       "unknownCount         2945\n",
       "femaleCount          2945\n",
       "femaleProp           2631\n",
       "1st                  2114\n",
       "2nd                  1607\n",
       "3rd                  1267\n",
       "4th                   962\n",
       "5th                   743\n",
       "last                 2089\n",
       "FoSNames             2945\n",
       "Year                 2945\n",
       "DocType              2945\n",
       "Journal              2557\n",
       "Publisher            2360\n",
       "Doi                  2937\n",
       "Title                2945\n",
       "EstimatedCitation    2945\n",
       "IndexedAbstract      1916\n",
       "WoSID                1499\n",
       "WoSjournal           1499\n",
       "journ_id             1641\n",
       "journal_name         1641\n",
       "source_type          1641\n",
       "dtype: int64"
      ]
     },
     "execution_count": 8,
     "metadata": {},
     "output_type": "execute_result"
    }
   ],
   "source": [
    "journalMap = pd.read_csv('WoSmatch/journalName.csv')\n",
    "journalMap['journal_name'] = journalMap.journal_name.str.lower()\n",
    "JwosMap = journalMap[journalMap['source_type']==\"Thomson\"]\n",
    "MAGmatched = pd.merge(openJ, JwosMap, left_on=['Journal'], right_on=['journal_name'], how='left')\n",
    "MAGmatched.count()"
   ]
  },
  {
   "cell_type": "code",
   "execution_count": 9,
   "metadata": {},
   "outputs": [
    {
     "data": {
      "text/plain": [
       "Tag                  2945\n",
       "PaperId              2945\n",
       "AuthorIdsOrder       2945\n",
       "AuthorNamesOrder     2945\n",
       "authorCount          2945\n",
       "unknownCount         2945\n",
       "femaleCount          2945\n",
       "femaleProp           2631\n",
       "1st                  2114\n",
       "2nd                  1607\n",
       "3rd                  1267\n",
       "4th                   962\n",
       "5th                   743\n",
       "last                 2089\n",
       "FoSNames             2945\n",
       "Year                 2945\n",
       "DocType              2945\n",
       "Journal              2557\n",
       "Publisher            2360\n",
       "Doi                  2937\n",
       "Title                2945\n",
       "EstimatedCitation    2945\n",
       "IndexedAbstract      1916\n",
       "WoSID                1499\n",
       "WoSjournal           1499\n",
       "journ_id             1150\n",
       "journal_name         1150\n",
       "source_type          1150\n",
       "dtype: int64"
      ]
     },
     "execution_count": 9,
     "metadata": {},
     "output_type": "execute_result"
    }
   ],
   "source": [
    "WoSmatched = pd.merge(openJ, JwosMap, left_on=['WoSjournal'], right_on=['journal_name'], how='left')\n",
    "WoSmatched.count()"
   ]
  },
  {
   "cell_type": "markdown",
   "metadata": {},
   "source": [
    "### Combining matched journal names from WoS and MAG to the UCSD map of science"
   ]
  },
  {
   "cell_type": "code",
   "execution_count": 10,
   "metadata": {},
   "outputs": [
    {
     "data": {
      "text/plain": [
       "Tag                  2945\n",
       "PaperId              2945\n",
       "AuthorIdsOrder       2945\n",
       "AuthorNamesOrder     2945\n",
       "authorCount          2945\n",
       "unknownCount         2945\n",
       "femaleCount          2945\n",
       "femaleProp           2631\n",
       "1st                  2114\n",
       "2nd                  1607\n",
       "3rd                  1267\n",
       "4th                   962\n",
       "5th                   743\n",
       "last                 2089\n",
       "FoSNames             2945\n",
       "Year                 2945\n",
       "DocType              2945\n",
       "Journal              2557\n",
       "Publisher            2360\n",
       "Doi                  2937\n",
       "Title                2945\n",
       "EstimatedCitation    2945\n",
       "IndexedAbstract      1916\n",
       "WoSID                1499\n",
       "WoSjournal           1499\n",
       "journ_id             1702\n",
       "journal_name         1702\n",
       "source_type          1702\n",
       "dtype: int64"
      ]
     },
     "execution_count": 10,
     "metadata": {},
     "output_type": "execute_result"
    }
   ],
   "source": [
    "MAGmatched.update(WoSmatched)\n",
    "MAGmatched.count()"
   ]
  },
  {
   "cell_type": "markdown",
   "metadata": {},
   "source": [
    "### Mapping from matched jounrals to subdisciplines"
   ]
  },
  {
   "cell_type": "code",
   "execution_count": 11,
   "metadata": {},
   "outputs": [
    {
     "data": {
      "text/plain": [
       "Tag                  9419\n",
       "PaperId              9419\n",
       "AuthorIdsOrder       9419\n",
       "AuthorNamesOrder     9419\n",
       "authorCount          9419\n",
       "unknownCount         9419\n",
       "femaleCount          9419\n",
       "femaleProp           8711\n",
       "1st                  8020\n",
       "2nd                  3297\n",
       "3rd                  2432\n",
       "4th                  1896\n",
       "5th                  1123\n",
       "last                 7961\n",
       "FoSNames             9419\n",
       "Year                 9419\n",
       "DocType              9419\n",
       "Journal              9031\n",
       "Publisher            7419\n",
       "Doi                  9411\n",
       "Title                9419\n",
       "EstimatedCitation    9419\n",
       "IndexedAbstract      5181\n",
       "WoSID                3292\n",
       "WoSjournal           3292\n",
       "journ_id             8176\n",
       "journal_name         8176\n",
       "source_type          8176\n",
       "jfraction            8176\n",
       "subd_id              8176\n",
       "dtype: int64"
      ]
     },
     "execution_count": 11,
     "metadata": {},
     "output_type": "execute_result"
    }
   ],
   "source": [
    "JsubMap = pd.read_csv('WoSmatch/jounral-subdiscipline.csv')\n",
    "JsubMap.journ_id = JsubMap.journ_id.astype('float64')\n",
    "subMatched = pd.merge(MAGmatched, JsubMap, left_on=['journ_id'], right_on=['journ_id'], how='left').drop(columns='formal_name')\n",
    "subMatched.count()\n",
    "#subMatched.dtypes"
   ]
  },
  {
   "cell_type": "code",
   "execution_count": 12,
   "metadata": {},
   "outputs": [
    {
     "data": {
      "text/plain": [
       "Tag                  9419\n",
       "PaperId              9419\n",
       "AuthorIdsOrder       9419\n",
       "AuthorNamesOrder     9419\n",
       "authorCount          9419\n",
       "unknownCount         9419\n",
       "femaleCount          9419\n",
       "femaleProp           8711\n",
       "1st                  8020\n",
       "2nd                  3297\n",
       "3rd                  2432\n",
       "4th                  1896\n",
       "5th                  1123\n",
       "last                 7961\n",
       "FoSNames             9419\n",
       "Year                 9419\n",
       "DocType              9419\n",
       "Journal              9031\n",
       "Publisher            7419\n",
       "Doi                  9411\n",
       "Title                9419\n",
       "EstimatedCitation    9419\n",
       "IndexedAbstract      5181\n",
       "WoSID                3292\n",
       "WoSjournal           3292\n",
       "journ_id             8176\n",
       "journal_name         8176\n",
       "source_type          8176\n",
       "jfraction            8176\n",
       "subd_id              8176\n",
       "subd_name            8176\n",
       "disc_id              8176\n",
       "dtype: int64"
      ]
     },
     "execution_count": 12,
     "metadata": {},
     "output_type": "execute_result"
    }
   ],
   "source": [
    "subTable = pd.read_csv('WoSmatch/subdiscipline.csv')\n",
    "subTable.subd_id = subTable.subd_id.astype('float64')\n",
    "subNameMatched = pd.merge(subMatched, subTable, left_on=['subd_id'], right_on=['subd_id'], how='left').drop(columns=['size','x','y'])\n",
    "subNameMatched.count()"
   ]
  },
  {
   "cell_type": "markdown",
   "metadata": {},
   "source": [
    "### Since each journal has a distribution of corresponding disciplines, we will collect the disipline vectors into new columns"
   ]
  },
  {
   "cell_type": "code",
   "execution_count": 14,
   "metadata": {},
   "outputs": [
    {
     "name": "stderr",
     "output_type": "stream",
     "text": [
      "/opt/conda/lib/python3.6/site-packages/ipykernel_launcher.py:10: SettingWithCopyWarning: \n",
      "A value is trying to be set on a copy of a slice from a DataFrame.\n",
      "Try using .loc[row_indexer,col_indexer] = value instead\n",
      "\n",
      "See the caveats in the documentation: http://pandas.pydata.org/pandas-docs/stable/indexing.html#indexing-view-versus-copy\n",
      "  # Remove the CWD from sys.path while we load stuff.\n",
      "/opt/conda/lib/python3.6/site-packages/ipykernel_launcher.py:11: SettingWithCopyWarning: \n",
      "A value is trying to be set on a copy of a slice from a DataFrame.\n",
      "Try using .loc[row_indexer,col_indexer] = value instead\n",
      "\n",
      "See the caveats in the documentation: http://pandas.pydata.org/pandas-docs/stable/indexing.html#indexing-view-versus-copy\n",
      "  # This is added back by InteractiveShellApp.init_path()\n",
      "/opt/conda/lib/python3.6/site-packages/ipykernel_launcher.py:12: SettingWithCopyWarning: \n",
      "A value is trying to be set on a copy of a slice from a DataFrame.\n",
      "Try using .loc[row_indexer,col_indexer] = value instead\n",
      "\n",
      "See the caveats in the documentation: http://pandas.pydata.org/pandas-docs/stable/indexing.html#indexing-view-versus-copy\n",
      "  if sys.path[0] == '':\n"
     ]
    },
    {
     "data": {
      "text/plain": [
       "PaperId       2945\n",
       "WoSID         1499\n",
       "WoSjournal    1499\n",
       "jfraction     1702\n",
       "subd_name     1702\n",
       "disc_name     1702\n",
       "dtype: int64"
      ]
     },
     "execution_count": 14,
     "metadata": {},
     "output_type": "execute_result"
    }
   ],
   "source": [
    "import numpy as np\n",
    "majTable = pd.read_csv('WoSmatch/discipline.csv')\n",
    "majTable.disc_id = majTable.disc_id.astype('float64')\n",
    "discMatched = pd.merge(subNameMatched, majTable, left_on=['disc_id'], right_on=['disc_id'], how='left').drop(columns=['color','x','y'])\n",
    "discMatched.jfraction = discMatched.jfraction.astype('str')\n",
    "discMatched.subd_name = discMatched.subd_name.astype('str')\n",
    "discMatched.disc_name = discMatched.disc_name.astype('str')\n",
    "temp = pd.DataFrame() \n",
    "temp = discMatched[['PaperId','WoSID','WoSjournal','jfraction','subd_name','disc_name']]\n",
    "temp['jfraction'] = discMatched.groupby(['PaperId'])['jfraction'].transform(lambda x: ';'.join(x)).replace('nan', np.nan)\n",
    "temp['subd_name'] = discMatched.groupby(['PaperId'])['subd_name'].transform(lambda x: ';'.join(x)).replace('nan', np.nan)\n",
    "temp['disc_name'] = discMatched.groupby(['PaperId'])['disc_name'].transform(lambda x: ';'.join(x)).replace('nan', np.nan)\n",
    "temp2 = temp.drop_duplicates()\n",
    "temp2.count()"
   ]
  },
  {
   "cell_type": "markdown",
   "metadata": {},
   "source": [
    "### Groupby number matches and we merge the mapped discipline data back to the OpenSci3.csv"
   ]
  },
  {
   "cell_type": "code",
   "execution_count": 15,
   "metadata": {},
   "outputs": [
    {
     "data": {
      "text/plain": [
       "Tag                  2926\n",
       "PaperId              2926\n",
       "AuthorIdsOrder       2926\n",
       "AuthorNamesOrder     2926\n",
       "authorCount          2926\n",
       "unknownCount         2926\n",
       "femaleCount          2926\n",
       "femaleProp           2614\n",
       "1st                  2099\n",
       "2nd                  1597\n",
       "3rd                  1260\n",
       "4th                   958\n",
       "5th                   737\n",
       "last                 2075\n",
       "FoSNames             2926\n",
       "Year                 2926\n",
       "DocType              2926\n",
       "Journal              2542\n",
       "Publisher            2346\n",
       "Doi                  2918\n",
       "Title                2926\n",
       "EstimatedCitation    2926\n",
       "IndexedAbstract      1906\n",
       "WoSID                1490\n",
       "WoSjournal           1490\n",
       "jfraction            1694\n",
       "subd_name            1694\n",
       "disc_name            1694\n",
       "dtype: int64"
      ]
     },
     "execution_count": 15,
     "metadata": {},
     "output_type": "execute_result"
    }
   ],
   "source": [
    "OpenSci3Disc = pd.merge(open0, temp2, left_on=['PaperId'], right_on=['PaperId'], how='left')\n",
    "OpenSci3Disc.count()"
   ]
  },
  {
   "cell_type": "code",
   "execution_count": 16,
   "metadata": {},
   "outputs": [],
   "source": [
    "OpenSci3Disc.to_csv('OpenSci3Discipline.csv',index=False, sep=',', encoding='utf-8')"
   ]
  },
  {
   "cell_type": "code",
   "execution_count": null,
   "metadata": {},
   "outputs": [],
   "source": []
  }
 ],
 "metadata": {
  "kernelspec": {
   "display_name": "Python 3",
   "language": "python",
   "name": "python3"
  },
  "language_info": {
   "codemirror_mode": {
    "name": "ipython",
    "version": 3
   },
   "file_extension": ".py",
   "mimetype": "text/x-python",
   "name": "python",
   "nbconvert_exporter": "python",
   "pygments_lexer": "ipython3",
   "version": "3.6.8"
  }
 },
 "nbformat": 4,
 "nbformat_minor": 2
}
