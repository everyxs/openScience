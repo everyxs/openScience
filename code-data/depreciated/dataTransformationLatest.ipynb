{
 "cells": [
  {
   "cell_type": "code",
   "execution_count": 3,
   "metadata": {},
   "outputs": [
    {
     "name": "stderr",
     "output_type": "stream",
     "text": [
      "Installing package into ‘/usr/local/spark-2.4.0-bin-hadoop2.7/R/lib’\n",
      "(as ‘lib’ is unspecified)\n",
      "Installing package into ‘/usr/local/spark-2.4.0-bin-hadoop2.7/R/lib’\n",
      "(as ‘lib’ is unspecified)\n",
      "also installing the dependencies ‘hms’, ‘clipr’\n",
      "\n",
      "Installing package into ‘/usr/local/spark-2.4.0-bin-hadoop2.7/R/lib’\n",
      "(as ‘lib’ is unspecified)\n",
      "\n",
      "Attaching package: ‘igraph’\n",
      "\n",
      "The following object is masked from ‘package:tidyr’:\n",
      "\n",
      "    crossing\n",
      "\n",
      "The following objects are masked from ‘package:dplyr’:\n",
      "\n",
      "    as_data_frame, groups, union\n",
      "\n",
      "The following objects are masked from ‘package:stats’:\n",
      "\n",
      "    decompose, spectrum\n",
      "\n",
      "The following object is masked from ‘package:base’:\n",
      "\n",
      "    union\n",
      "\n"
     ]
    }
   ],
   "source": [
    "library(dplyr)\n",
    "library(tidyr)\n",
    "library(stringr)\n",
    "install.packages('widyr')\n",
    "library(widyr)\n",
    "install.packages('readr')\n",
    "library(readr)\n",
    "install.packages('igraph')\n",
    "library(igraph)"
   ]
  },
  {
   "cell_type": "code",
   "execution_count": 3,
   "metadata": {},
   "outputs": [
    {
     "name": "stderr",
     "output_type": "stream",
     "text": [
      "Parsed with column specification:\n",
      "cols(\n",
      "  .default = col_character(),\n",
      "  PaperId = col_double(),\n",
      "  Rank = col_double(),\n",
      "  JournalId = col_double(),\n",
      "  ConferenceInstanceId = col_double(),\n",
      "  Year = col_double(),\n",
      "  Date = col_datetime(format = \"\"),\n",
      "  ReferenceCount = col_double(),\n",
      "  CitationCount = col_double(),\n",
      "  EstimatedCitation = col_double()\n",
      ")\n",
      "See spec(...) for full column specifications.\n",
      "Warning message:\n",
      "“Expected 300 pieces. Missing pieces filled with `NA` in 1969 rows [1, 2, 3, 4, 5, 6, 7, 8, 9, 10, 11, 12, 13, 14, 15, 16, 17, 18, 19, 20, ...].”"
     ]
    },
    {
     "data": {
      "text/html": [
       "<table>\n",
       "<thead><tr><th scope=col>PaperId</th><th scope=col>Year</th><th scope=col>DocType</th><th scope=col>authorOrder</th><th scope=col>AuthorIds</th></tr></thead>\n",
       "<tbody>\n",
       "\t<tr><td>2531695428</td><td>2016      </td><td>Journal   </td><td>Author.1  </td><td>1226163102</td></tr>\n",
       "\t<tr><td>2582557720</td><td>2016      </td><td>Journal   </td><td>Author.1  </td><td>2029728625</td></tr>\n",
       "\t<tr><td>2889218562</td><td>2017      </td><td>Journal   </td><td>Author.1  </td><td>2056779090</td></tr>\n",
       "\t<tr><td>2061163123</td><td>2013      </td><td>Journal   </td><td>Author.1  </td><td>2081393523</td></tr>\n",
       "\t<tr><td>2771858406</td><td>2017      </td><td>Journal   </td><td>Author.1  </td><td>2056779090</td></tr>\n",
       "\t<tr><td>2571078861</td><td>2017      </td><td>Journal   </td><td>Author.1  </td><td>105859912 </td></tr>\n",
       "\t<tr><td>2617485564</td><td>2016      </td><td>Journal   </td><td>Author.1  </td><td>2095106681</td></tr>\n",
       "\t<tr><td>2582162025</td><td>2016      </td><td>Journal   </td><td>Author.1  </td><td>2108117674</td></tr>\n",
       "\t<tr><td>2771080145</td><td>2017      </td><td>Journal   </td><td>Author.1  </td><td>131719713 </td></tr>\n",
       "\t<tr><td>2236901712</td><td>2012      </td><td>Journal   </td><td>Author.1  </td><td>1969552000</td></tr>\n",
       "\t<tr><td>1604357307</td><td>2015      </td><td>Journal   </td><td>Author.1  </td><td>1544135984</td></tr>\n",
       "\t<tr><td>2796974625</td><td>2017      </td><td>Journal   </td><td>Author.1  </td><td>1042434965</td></tr>\n",
       "\t<tr><td>2891619271</td><td>2017      </td><td>Journal   </td><td>Author.1  </td><td>1928012519</td></tr>\n",
       "\t<tr><td>2602618972</td><td>2016      </td><td>Journal   </td><td>Author.1  </td><td>1916191124</td></tr>\n",
       "\t<tr><td>2466314544</td><td>2016      </td><td>Journal   </td><td>Author.1  </td><td>1871135775</td></tr>\n",
       "\t<tr><td>2728881417</td><td>2016      </td><td>Journal   </td><td>Author.1  </td><td>1903954269</td></tr>\n",
       "\t<tr><td>2078340291</td><td>2012      </td><td>Journal   </td><td>Author.1  </td><td>1103498097</td></tr>\n",
       "\t<tr><td>2725032833</td><td>2016      </td><td>Journal   </td><td>Author.1  </td><td>1361603334</td></tr>\n",
       "\t<tr><td>2587084670</td><td>2014      </td><td>Journal   </td><td>Author.1  </td><td>1272481586</td></tr>\n",
       "\t<tr><td>2732842814</td><td>2016      </td><td>Journal   </td><td>Author.1  </td><td>1361603334</td></tr>\n",
       "\t<tr><td>1868915578</td><td>2014      </td><td>Journal   </td><td>Author.1  </td><td>1764071712</td></tr>\n",
       "\t<tr><td>2583649981</td><td>2015      </td><td>Journal   </td><td>Author.1  </td><td>1908413421</td></tr>\n",
       "\t<tr><td>1965939795</td><td>2013      </td><td>Journal   </td><td>Author.1  </td><td>1575656952</td></tr>\n",
       "\t<tr><td>2405542630</td><td>2015      </td><td>Journal   </td><td>Author.1  </td><td>2100373333</td></tr>\n",
       "\t<tr><td>2752465675</td><td>2017      </td><td>Journal   </td><td>Author.1  </td><td>2014703636</td></tr>\n",
       "\t<tr><td>2733545651</td><td>2016      </td><td>Journal   </td><td>Author.1  </td><td>1239885676</td></tr>\n",
       "\t<tr><td>2294275112</td><td>2014      </td><td>Journal   </td><td>Author.1  </td><td>2126710552</td></tr>\n",
       "\t<tr><td>2142565532</td><td>2010      </td><td>Journal   </td><td>Author.1  </td><td>2029328209</td></tr>\n",
       "\t<tr><td>2625258557</td><td>2016      </td><td>Journal   </td><td>Author.1  </td><td>2084531969</td></tr>\n",
       "\t<tr><td>2767707846</td><td>2017      </td><td>Journal   </td><td>Author.1  </td><td>2106280427</td></tr>\n",
       "\t<tr><td>⋮</td><td>⋮</td><td>⋮</td><td>⋮</td><td>⋮</td></tr>\n",
       "\t<tr><td>1983511654 </td><td>2013       </td><td>Journal    </td><td>Author.249 </td><td> 1996713060</td></tr>\n",
       "\t<tr><td>1983511654 </td><td>2013       </td><td>Journal    </td><td>Author.250 </td><td> 2144367869</td></tr>\n",
       "\t<tr><td>1983511654 </td><td>2013       </td><td>Journal    </td><td>Author.251 </td><td> 2062763355</td></tr>\n",
       "\t<tr><td>1983511654 </td><td>2013       </td><td>Journal    </td><td>Author.252 </td><td> 2112833522</td></tr>\n",
       "\t<tr><td>1983511654 </td><td>2013       </td><td>Journal    </td><td>Author.253 </td><td> 2091397543</td></tr>\n",
       "\t<tr><td>1983511654 </td><td>2013       </td><td>Journal    </td><td>Author.254 </td><td> 2570084215</td></tr>\n",
       "\t<tr><td>1983511654 </td><td>2013       </td><td>Journal    </td><td>Author.255 </td><td> 1897176229</td></tr>\n",
       "\t<tr><td>1983511654 </td><td>2013       </td><td>Journal    </td><td>Author.256 </td><td> 2907787130</td></tr>\n",
       "\t<tr><td>1983511654 </td><td>2013       </td><td>Journal    </td><td>Author.257 </td><td> 2096242732</td></tr>\n",
       "\t<tr><td>1983511654 </td><td>2013       </td><td>Journal    </td><td>Author.258 </td><td> 2017622782</td></tr>\n",
       "\t<tr><td>1983511654 </td><td>2013       </td><td>Journal    </td><td>Author.259 </td><td> 2831127508</td></tr>\n",
       "\t<tr><td>1983511654 </td><td>2013       </td><td>Journal    </td><td>Author.260 </td><td> 1993903771</td></tr>\n",
       "\t<tr><td>1983511654 </td><td>2013       </td><td>Journal    </td><td>Author.261 </td><td> 2043987934</td></tr>\n",
       "\t<tr><td>1983511654 </td><td>2013       </td><td>Journal    </td><td>Author.262 </td><td> 2052748087</td></tr>\n",
       "\t<tr><td>1983511654 </td><td>2013       </td><td>Journal    </td><td>Author.263 </td><td> 2070348041</td></tr>\n",
       "\t<tr><td>1983511654 </td><td>2013       </td><td>Journal    </td><td>Author.264 </td><td> 2589508719</td></tr>\n",
       "\t<tr><td>1983511654 </td><td>2013       </td><td>Journal    </td><td>Author.265 </td><td> 2241619328</td></tr>\n",
       "\t<tr><td>1983511654 </td><td>2013       </td><td>Journal    </td><td>Author.266 </td><td> 2907297008</td></tr>\n",
       "\t<tr><td>1983511654 </td><td>2013       </td><td>Journal    </td><td>Author.267 </td><td> 2282285763</td></tr>\n",
       "\t<tr><td>1983511654 </td><td>2013       </td><td>Journal    </td><td>Author.268 </td><td> 2476567171</td></tr>\n",
       "\t<tr><td>1983511654 </td><td>2013       </td><td>Journal    </td><td>Author.269 </td><td> 2010659224</td></tr>\n",
       "\t<tr><td>1983511654 </td><td>2013       </td><td>Journal    </td><td>Author.270 </td><td> 2318150732</td></tr>\n",
       "\t<tr><td>1983511654 </td><td>2013       </td><td>Journal    </td><td>Author.271 </td><td> 2594015500</td></tr>\n",
       "\t<tr><td>1983511654 </td><td>2013       </td><td>Journal    </td><td>Author.272 </td><td> 2544331310</td></tr>\n",
       "\t<tr><td>1983511654 </td><td>2013       </td><td>Journal    </td><td>Author.273 </td><td> 405684402 </td></tr>\n",
       "\t<tr><td>1983511654 </td><td>2013       </td><td>Journal    </td><td>Author.274 </td><td> 2761387065</td></tr>\n",
       "\t<tr><td>1983511654 </td><td>2013       </td><td>Journal    </td><td>Author.275 </td><td> 1987633254</td></tr>\n",
       "\t<tr><td>1983511654 </td><td>2013       </td><td>Journal    </td><td>Author.276 </td><td> 2515244756</td></tr>\n",
       "\t<tr><td>1983511654 </td><td>2013       </td><td>Journal    </td><td>Author.277 </td><td> 2463642734</td></tr>\n",
       "\t<tr><td>1983511654 </td><td>2013       </td><td>Journal    </td><td>Author.278 </td><td> 2102037058</td></tr>\n",
       "</tbody>\n",
       "</table>\n"
      ],
      "text/latex": [
       "\\begin{tabular}{r|lllll}\n",
       " PaperId & Year & DocType & authorOrder & AuthorIds\\\\\n",
       "\\hline\n",
       "\t 2531695428 & 2016       & Journal    & Author.1   & 1226163102\\\\\n",
       "\t 2582557720 & 2016       & Journal    & Author.1   & 2029728625\\\\\n",
       "\t 2889218562 & 2017       & Journal    & Author.1   & 2056779090\\\\\n",
       "\t 2061163123 & 2013       & Journal    & Author.1   & 2081393523\\\\\n",
       "\t 2771858406 & 2017       & Journal    & Author.1   & 2056779090\\\\\n",
       "\t 2571078861 & 2017       & Journal    & Author.1   & 105859912 \\\\\n",
       "\t 2617485564 & 2016       & Journal    & Author.1   & 2095106681\\\\\n",
       "\t 2582162025 & 2016       & Journal    & Author.1   & 2108117674\\\\\n",
       "\t 2771080145 & 2017       & Journal    & Author.1   & 131719713 \\\\\n",
       "\t 2236901712 & 2012       & Journal    & Author.1   & 1969552000\\\\\n",
       "\t 1604357307 & 2015       & Journal    & Author.1   & 1544135984\\\\\n",
       "\t 2796974625 & 2017       & Journal    & Author.1   & 1042434965\\\\\n",
       "\t 2891619271 & 2017       & Journal    & Author.1   & 1928012519\\\\\n",
       "\t 2602618972 & 2016       & Journal    & Author.1   & 1916191124\\\\\n",
       "\t 2466314544 & 2016       & Journal    & Author.1   & 1871135775\\\\\n",
       "\t 2728881417 & 2016       & Journal    & Author.1   & 1903954269\\\\\n",
       "\t 2078340291 & 2012       & Journal    & Author.1   & 1103498097\\\\\n",
       "\t 2725032833 & 2016       & Journal    & Author.1   & 1361603334\\\\\n",
       "\t 2587084670 & 2014       & Journal    & Author.1   & 1272481586\\\\\n",
       "\t 2732842814 & 2016       & Journal    & Author.1   & 1361603334\\\\\n",
       "\t 1868915578 & 2014       & Journal    & Author.1   & 1764071712\\\\\n",
       "\t 2583649981 & 2015       & Journal    & Author.1   & 1908413421\\\\\n",
       "\t 1965939795 & 2013       & Journal    & Author.1   & 1575656952\\\\\n",
       "\t 2405542630 & 2015       & Journal    & Author.1   & 2100373333\\\\\n",
       "\t 2752465675 & 2017       & Journal    & Author.1   & 2014703636\\\\\n",
       "\t 2733545651 & 2016       & Journal    & Author.1   & 1239885676\\\\\n",
       "\t 2294275112 & 2014       & Journal    & Author.1   & 2126710552\\\\\n",
       "\t 2142565532 & 2010       & Journal    & Author.1   & 2029328209\\\\\n",
       "\t 2625258557 & 2016       & Journal    & Author.1   & 2084531969\\\\\n",
       "\t 2767707846 & 2017       & Journal    & Author.1   & 2106280427\\\\\n",
       "\t ⋮ & ⋮ & ⋮ & ⋮ & ⋮\\\\\n",
       "\t 1983511654  & 2013        & Journal     & Author.249  &  1996713060\\\\\n",
       "\t 1983511654  & 2013        & Journal     & Author.250  &  2144367869\\\\\n",
       "\t 1983511654  & 2013        & Journal     & Author.251  &  2062763355\\\\\n",
       "\t 1983511654  & 2013        & Journal     & Author.252  &  2112833522\\\\\n",
       "\t 1983511654  & 2013        & Journal     & Author.253  &  2091397543\\\\\n",
       "\t 1983511654  & 2013        & Journal     & Author.254  &  2570084215\\\\\n",
       "\t 1983511654  & 2013        & Journal     & Author.255  &  1897176229\\\\\n",
       "\t 1983511654  & 2013        & Journal     & Author.256  &  2907787130\\\\\n",
       "\t 1983511654  & 2013        & Journal     & Author.257  &  2096242732\\\\\n",
       "\t 1983511654  & 2013        & Journal     & Author.258  &  2017622782\\\\\n",
       "\t 1983511654  & 2013        & Journal     & Author.259  &  2831127508\\\\\n",
       "\t 1983511654  & 2013        & Journal     & Author.260  &  1993903771\\\\\n",
       "\t 1983511654  & 2013        & Journal     & Author.261  &  2043987934\\\\\n",
       "\t 1983511654  & 2013        & Journal     & Author.262  &  2052748087\\\\\n",
       "\t 1983511654  & 2013        & Journal     & Author.263  &  2070348041\\\\\n",
       "\t 1983511654  & 2013        & Journal     & Author.264  &  2589508719\\\\\n",
       "\t 1983511654  & 2013        & Journal     & Author.265  &  2241619328\\\\\n",
       "\t 1983511654  & 2013        & Journal     & Author.266  &  2907297008\\\\\n",
       "\t 1983511654  & 2013        & Journal     & Author.267  &  2282285763\\\\\n",
       "\t 1983511654  & 2013        & Journal     & Author.268  &  2476567171\\\\\n",
       "\t 1983511654  & 2013        & Journal     & Author.269  &  2010659224\\\\\n",
       "\t 1983511654  & 2013        & Journal     & Author.270  &  2318150732\\\\\n",
       "\t 1983511654  & 2013        & Journal     & Author.271  &  2594015500\\\\\n",
       "\t 1983511654  & 2013        & Journal     & Author.272  &  2544331310\\\\\n",
       "\t 1983511654  & 2013        & Journal     & Author.273  &  405684402 \\\\\n",
       "\t 1983511654  & 2013        & Journal     & Author.274  &  2761387065\\\\\n",
       "\t 1983511654  & 2013        & Journal     & Author.275  &  1987633254\\\\\n",
       "\t 1983511654  & 2013        & Journal     & Author.276  &  2515244756\\\\\n",
       "\t 1983511654  & 2013        & Journal     & Author.277  &  2463642734\\\\\n",
       "\t 1983511654  & 2013        & Journal     & Author.278  &  2102037058\\\\\n",
       "\\end{tabular}\n"
      ],
      "text/markdown": [
       "\n",
       "| PaperId | Year | DocType | authorOrder | AuthorIds |\n",
       "|---|---|---|---|---|\n",
       "| 2531695428 | 2016       | Journal    | Author.1   | 1226163102 |\n",
       "| 2582557720 | 2016       | Journal    | Author.1   | 2029728625 |\n",
       "| 2889218562 | 2017       | Journal    | Author.1   | 2056779090 |\n",
       "| 2061163123 | 2013       | Journal    | Author.1   | 2081393523 |\n",
       "| 2771858406 | 2017       | Journal    | Author.1   | 2056779090 |\n",
       "| 2571078861 | 2017       | Journal    | Author.1   | 105859912  |\n",
       "| 2617485564 | 2016       | Journal    | Author.1   | 2095106681 |\n",
       "| 2582162025 | 2016       | Journal    | Author.1   | 2108117674 |\n",
       "| 2771080145 | 2017       | Journal    | Author.1   | 131719713  |\n",
       "| 2236901712 | 2012       | Journal    | Author.1   | 1969552000 |\n",
       "| 1604357307 | 2015       | Journal    | Author.1   | 1544135984 |\n",
       "| 2796974625 | 2017       | Journal    | Author.1   | 1042434965 |\n",
       "| 2891619271 | 2017       | Journal    | Author.1   | 1928012519 |\n",
       "| 2602618972 | 2016       | Journal    | Author.1   | 1916191124 |\n",
       "| 2466314544 | 2016       | Journal    | Author.1   | 1871135775 |\n",
       "| 2728881417 | 2016       | Journal    | Author.1   | 1903954269 |\n",
       "| 2078340291 | 2012       | Journal    | Author.1   | 1103498097 |\n",
       "| 2725032833 | 2016       | Journal    | Author.1   | 1361603334 |\n",
       "| 2587084670 | 2014       | Journal    | Author.1   | 1272481586 |\n",
       "| 2732842814 | 2016       | Journal    | Author.1   | 1361603334 |\n",
       "| 1868915578 | 2014       | Journal    | Author.1   | 1764071712 |\n",
       "| 2583649981 | 2015       | Journal    | Author.1   | 1908413421 |\n",
       "| 1965939795 | 2013       | Journal    | Author.1   | 1575656952 |\n",
       "| 2405542630 | 2015       | Journal    | Author.1   | 2100373333 |\n",
       "| 2752465675 | 2017       | Journal    | Author.1   | 2014703636 |\n",
       "| 2733545651 | 2016       | Journal    | Author.1   | 1239885676 |\n",
       "| 2294275112 | 2014       | Journal    | Author.1   | 2126710552 |\n",
       "| 2142565532 | 2010       | Journal    | Author.1   | 2029328209 |\n",
       "| 2625258557 | 2016       | Journal    | Author.1   | 2084531969 |\n",
       "| 2767707846 | 2017       | Journal    | Author.1   | 2106280427 |\n",
       "| ⋮ | ⋮ | ⋮ | ⋮ | ⋮ |\n",
       "| 1983511654  | 2013        | Journal     | Author.249  |  1996713060 |\n",
       "| 1983511654  | 2013        | Journal     | Author.250  |  2144367869 |\n",
       "| 1983511654  | 2013        | Journal     | Author.251  |  2062763355 |\n",
       "| 1983511654  | 2013        | Journal     | Author.252  |  2112833522 |\n",
       "| 1983511654  | 2013        | Journal     | Author.253  |  2091397543 |\n",
       "| 1983511654  | 2013        | Journal     | Author.254  |  2570084215 |\n",
       "| 1983511654  | 2013        | Journal     | Author.255  |  1897176229 |\n",
       "| 1983511654  | 2013        | Journal     | Author.256  |  2907787130 |\n",
       "| 1983511654  | 2013        | Journal     | Author.257  |  2096242732 |\n",
       "| 1983511654  | 2013        | Journal     | Author.258  |  2017622782 |\n",
       "| 1983511654  | 2013        | Journal     | Author.259  |  2831127508 |\n",
       "| 1983511654  | 2013        | Journal     | Author.260  |  1993903771 |\n",
       "| 1983511654  | 2013        | Journal     | Author.261  |  2043987934 |\n",
       "| 1983511654  | 2013        | Journal     | Author.262  |  2052748087 |\n",
       "| 1983511654  | 2013        | Journal     | Author.263  |  2070348041 |\n",
       "| 1983511654  | 2013        | Journal     | Author.264  |  2589508719 |\n",
       "| 1983511654  | 2013        | Journal     | Author.265  |  2241619328 |\n",
       "| 1983511654  | 2013        | Journal     | Author.266  |  2907297008 |\n",
       "| 1983511654  | 2013        | Journal     | Author.267  |  2282285763 |\n",
       "| 1983511654  | 2013        | Journal     | Author.268  |  2476567171 |\n",
       "| 1983511654  | 2013        | Journal     | Author.269  |  2010659224 |\n",
       "| 1983511654  | 2013        | Journal     | Author.270  |  2318150732 |\n",
       "| 1983511654  | 2013        | Journal     | Author.271  |  2594015500 |\n",
       "| 1983511654  | 2013        | Journal     | Author.272  |  2544331310 |\n",
       "| 1983511654  | 2013        | Journal     | Author.273  |  405684402  |\n",
       "| 1983511654  | 2013        | Journal     | Author.274  |  2761387065 |\n",
       "| 1983511654  | 2013        | Journal     | Author.275  |  1987633254 |\n",
       "| 1983511654  | 2013        | Journal     | Author.276  |  2515244756 |\n",
       "| 1983511654  | 2013        | Journal     | Author.277  |  2463642734 |\n",
       "| 1983511654  | 2013        | Journal     | Author.278  |  2102037058 |\n",
       "\n"
      ],
      "text/plain": [
       "     PaperId    Year DocType authorOrder AuthorIds  \n",
       "1    2531695428 2016 Journal Author.1    1226163102 \n",
       "2    2582557720 2016 Journal Author.1    2029728625 \n",
       "3    2889218562 2017 Journal Author.1    2056779090 \n",
       "4    2061163123 2013 Journal Author.1    2081393523 \n",
       "5    2771858406 2017 Journal Author.1    2056779090 \n",
       "6    2571078861 2017 Journal Author.1    105859912  \n",
       "7    2617485564 2016 Journal Author.1    2095106681 \n",
       "8    2582162025 2016 Journal Author.1    2108117674 \n",
       "9    2771080145 2017 Journal Author.1    131719713  \n",
       "10   2236901712 2012 Journal Author.1    1969552000 \n",
       "11   1604357307 2015 Journal Author.1    1544135984 \n",
       "12   2796974625 2017 Journal Author.1    1042434965 \n",
       "13   2891619271 2017 Journal Author.1    1928012519 \n",
       "14   2602618972 2016 Journal Author.1    1916191124 \n",
       "15   2466314544 2016 Journal Author.1    1871135775 \n",
       "16   2728881417 2016 Journal Author.1    1903954269 \n",
       "17   2078340291 2012 Journal Author.1    1103498097 \n",
       "18   2725032833 2016 Journal Author.1    1361603334 \n",
       "19   2587084670 2014 Journal Author.1    1272481586 \n",
       "20   2732842814 2016 Journal Author.1    1361603334 \n",
       "21   1868915578 2014 Journal Author.1    1764071712 \n",
       "22   2583649981 2015 Journal Author.1    1908413421 \n",
       "23   1965939795 2013 Journal Author.1    1575656952 \n",
       "24   2405542630 2015 Journal Author.1    2100373333 \n",
       "25   2752465675 2017 Journal Author.1    2014703636 \n",
       "26   2733545651 2016 Journal Author.1    1239885676 \n",
       "27   2294275112 2014 Journal Author.1    2126710552 \n",
       "28   2142565532 2010 Journal Author.1    2029328209 \n",
       "29   2625258557 2016 Journal Author.1    2084531969 \n",
       "30   2767707846 2017 Journal Author.1    2106280427 \n",
       "⋮    ⋮          ⋮    ⋮       ⋮           ⋮          \n",
       "8254 1983511654 2013 Journal Author.249   1996713060\n",
       "8255 1983511654 2013 Journal Author.250   2144367869\n",
       "8256 1983511654 2013 Journal Author.251   2062763355\n",
       "8257 1983511654 2013 Journal Author.252   2112833522\n",
       "8258 1983511654 2013 Journal Author.253   2091397543\n",
       "8259 1983511654 2013 Journal Author.254   2570084215\n",
       "8260 1983511654 2013 Journal Author.255   1897176229\n",
       "8261 1983511654 2013 Journal Author.256   2907787130\n",
       "8262 1983511654 2013 Journal Author.257   2096242732\n",
       "8263 1983511654 2013 Journal Author.258   2017622782\n",
       "8264 1983511654 2013 Journal Author.259   2831127508\n",
       "8265 1983511654 2013 Journal Author.260   1993903771\n",
       "8266 1983511654 2013 Journal Author.261   2043987934\n",
       "8267 1983511654 2013 Journal Author.262   2052748087\n",
       "8268 1983511654 2013 Journal Author.263   2070348041\n",
       "8269 1983511654 2013 Journal Author.264   2589508719\n",
       "8270 1983511654 2013 Journal Author.265   2241619328\n",
       "8271 1983511654 2013 Journal Author.266   2907297008\n",
       "8272 1983511654 2013 Journal Author.267   2282285763\n",
       "8273 1983511654 2013 Journal Author.268   2476567171\n",
       "8274 1983511654 2013 Journal Author.269   2010659224\n",
       "8275 1983511654 2013 Journal Author.270   2318150732\n",
       "8276 1983511654 2013 Journal Author.271   2594015500\n",
       "8277 1983511654 2013 Journal Author.272   2544331310\n",
       "8278 1983511654 2013 Journal Author.273   405684402 \n",
       "8279 1983511654 2013 Journal Author.274   2761387065\n",
       "8280 1983511654 2013 Journal Author.275   1987633254\n",
       "8281 1983511654 2013 Journal Author.276   2515244756\n",
       "8282 1983511654 2013 Journal Author.277   2463642734\n",
       "8283 1983511654 2013 Journal Author.278   2102037058"
      ]
     },
     "metadata": {},
     "output_type": "display_data"
    }
   ],
   "source": [
    "#setwd(\"/home/everyan/Dropbox/MAGprojects/womenOpenSci/newData\")\n",
    "block = read_tsv(\"Open.csv\", col_names = TRUE, quote = \"\\\"\")\n",
    "myvars <- c(\"PaperId\", \"AuthorIds\", \"Year\", \"DocType\")\n",
    "data <- block[myvars]\n",
    "data <- data[data$Year >=2010 & data$Year <=2017,]\n",
    "data <- data[!is.na(data$DocType),]\n",
    "AuthorTable <- data %>% separate(AuthorIds, into = sprintf('%s.%s', rep('Author',300), rep(1:300)), sep = \";\") #max author has exceeded 50\n",
    "AuthorTable <- AuthorTable %>% gather(authorOrder, AuthorIds, into = sprintf('%s.%s', rep('Author',300), rep(1:300)))\n",
    "AuthorTable <- AuthorTable[!is.na(AuthorTable$AuthorIds), ]\n",
    "AuthorTable"
   ]
  },
  {
   "cell_type": "code",
   "execution_count": 5,
   "metadata": {},
   "outputs": [
    {
     "data": {
      "text/html": [
       "1969"
      ],
      "text/latex": [
       "1969"
      ],
      "text/markdown": [
       "1969"
      ],
      "text/plain": [
       "[1] 1969"
      ]
     },
     "metadata": {},
     "output_type": "display_data"
    },
    {
     "data": {
      "text/html": [
       "2547"
      ],
      "text/latex": [
       "2547"
      ],
      "text/markdown": [
       "2547"
      ],
      "text/plain": [
       "[1] 2547"
      ]
     },
     "metadata": {},
     "output_type": "display_data"
    }
   ],
   "source": [
    "PaperCollab <- pairwise_count(AuthorTable, PaperId, AuthorIds, sort = TRUE)\n",
    "openG <- graph_from_data_frame(d = PaperCollab, directed=FALSE, vertices=data)\n",
    "write_graph(openG, \"/home/jovyan/openScience/code-data/openRawNew.graphml\", format=\"graphml\")\n",
    "n1=vcount(openG)\n",
    "m1=ecount(openG)/2\n",
    "n1\n",
    "m1"
   ]
  },
  {
   "cell_type": "code",
   "execution_count": 6,
   "metadata": {},
   "outputs": [
    {
     "name": "stderr",
     "output_type": "stream",
     "text": [
      "Parsed with column specification:\n",
      "cols(\n",
      "  .default = col_character(),\n",
      "  PaperId = col_double(),\n",
      "  Rank = col_double(),\n",
      "  JournalId = col_double(),\n",
      "  ConferenceInstanceId = col_double(),\n",
      "  Year = col_double(),\n",
      "  Date = col_datetime(format = \"\"),\n",
      "  ReferenceCount = col_double(),\n",
      "  CitationCount = col_double(),\n",
      "  EstimatedCitation = col_double()\n",
      ")\n",
      "See spec(...) for full column specifications.\n",
      "Warning message:\n",
      "“Expected 300 pieces. Missing pieces filled with `NA` in 8918 rows [1, 2, 3, 4, 5, 6, 7, 8, 9, 10, 11, 12, 13, 14, 15, 16, 17, 18, 19, 20, ...].”"
     ]
    },
    {
     "data": {
      "text/html": [
       "<table>\n",
       "<thead><tr><th scope=col>PaperId</th><th scope=col>Year</th><th scope=col>DocType</th><th scope=col>authorOrder</th><th scope=col>AuthorIds</th></tr></thead>\n",
       "<tbody>\n",
       "\t<tr><td>2146984239</td><td>2012      </td><td>Journal   </td><td>Author.1  </td><td>1928884780</td></tr>\n",
       "\t<tr><td>2486553162</td><td>2016      </td><td>Journal   </td><td>Author.1  </td><td>1084826482</td></tr>\n",
       "\t<tr><td>2006325924</td><td>2011      </td><td>Journal   </td><td>Author.1  </td><td>1209777913</td></tr>\n",
       "\t<tr><td>2051101538</td><td>2011      </td><td>Journal   </td><td>Author.1  </td><td>1076087560</td></tr>\n",
       "\t<tr><td>2155437161</td><td>2015      </td><td>Journal   </td><td>Author.1  </td><td>1238144408</td></tr>\n",
       "\t<tr><td>2573925941</td><td>2017      </td><td>Journal   </td><td>Author.1  </td><td>1810172455</td></tr>\n",
       "\t<tr><td>2028185420</td><td>2010      </td><td>Journal   </td><td>Author.1  </td><td>1464205759</td></tr>\n",
       "\t<tr><td>2398225705</td><td>2016      </td><td>Journal   </td><td>Author.1  </td><td>1260774609</td></tr>\n",
       "\t<tr><td>2094449973</td><td>2010      </td><td>Journal   </td><td>Author.1  </td><td>1288459150</td></tr>\n",
       "\t<tr><td>2022568093</td><td>2015      </td><td>Journal   </td><td>Author.1  </td><td>1119064243</td></tr>\n",
       "\t<tr><td>2011805874</td><td>2015      </td><td>Journal   </td><td>Author.1  </td><td>101509324 </td></tr>\n",
       "\t<tr><td>2505739664</td><td>2016      </td><td>Journal   </td><td>Author.1  </td><td>1274830576</td></tr>\n",
       "\t<tr><td>2492434175</td><td>2010      </td><td>Journal   </td><td>Author.1  </td><td>1131302587</td></tr>\n",
       "\t<tr><td>2316586083</td><td>2010      </td><td>Conference</td><td>Author.1  </td><td>1154988903</td></tr>\n",
       "\t<tr><td>2065155113</td><td>2010      </td><td>Journal   </td><td>Author.1  </td><td>101844295 </td></tr>\n",
       "\t<tr><td>1988400866</td><td>2010      </td><td>Journal   </td><td>Author.1  </td><td>1196570803</td></tr>\n",
       "\t<tr><td>1493892327</td><td>2012      </td><td>Journal   </td><td>Author.1  </td><td>1273631552</td></tr>\n",
       "\t<tr><td>1974820645</td><td>2011      </td><td>Journal   </td><td>Author.1  </td><td>1080435264</td></tr>\n",
       "\t<tr><td>2780392608</td><td>2017      </td><td>Journal   </td><td>Author.1  </td><td>1953670829</td></tr>\n",
       "\t<tr><td>2160055870</td><td>2011      </td><td>Journal   </td><td>Author.1  </td><td>1977572183</td></tr>\n",
       "\t<tr><td>2055064720</td><td>2013      </td><td>Journal   </td><td>Author.1  </td><td>1738531449</td></tr>\n",
       "\t<tr><td>2768302927</td><td>2017      </td><td>Journal   </td><td>Author.1  </td><td>1261194467</td></tr>\n",
       "\t<tr><td>1984444563</td><td>2012      </td><td>Journal   </td><td>Author.1  </td><td>1227353039</td></tr>\n",
       "\t<tr><td>2026319322</td><td>2013      </td><td>Journal   </td><td>Author.1  </td><td>1254906929</td></tr>\n",
       "\t<tr><td>2778646813</td><td>2017      </td><td>Journal   </td><td>Author.1  </td><td>1789621507</td></tr>\n",
       "\t<tr><td>2239529754</td><td>2015      </td><td>Journal   </td><td>Author.1  </td><td>1526838130</td></tr>\n",
       "\t<tr><td>2164583033</td><td>2012      </td><td>Journal   </td><td>Author.1  </td><td>1302731174</td></tr>\n",
       "\t<tr><td>2340071928</td><td>2016      </td><td>Journal   </td><td>Author.1  </td><td>1327215664</td></tr>\n",
       "\t<tr><td>1570773684</td><td>2012      </td><td>Journal   </td><td>Author.1  </td><td>1348824210</td></tr>\n",
       "\t<tr><td>2036219466</td><td>2013      </td><td>Journal   </td><td>Author.1  </td><td>1539165933</td></tr>\n",
       "\t<tr><td>⋮</td><td>⋮</td><td>⋮</td><td>⋮</td><td>⋮</td></tr>\n",
       "\t<tr><td>1897139626 </td><td>2015       </td><td>Journal    </td><td>Author.261 </td><td> 2789617394</td></tr>\n",
       "\t<tr><td>1897139626 </td><td>2015       </td><td>Journal    </td><td>Author.262 </td><td> 2101460654</td></tr>\n",
       "\t<tr><td>1897139626 </td><td>2015       </td><td>Journal    </td><td>Author.263 </td><td> 2265237729</td></tr>\n",
       "\t<tr><td>1897139626 </td><td>2015       </td><td>Journal    </td><td>Author.264 </td><td> 270541052 </td></tr>\n",
       "\t<tr><td>1897139626 </td><td>2015       </td><td>Journal    </td><td>Author.265 </td><td> 2745612947</td></tr>\n",
       "\t<tr><td>1897139626 </td><td>2015       </td><td>Journal    </td><td>Author.266 </td><td> 2317916980</td></tr>\n",
       "\t<tr><td>1897139626 </td><td>2015       </td><td>Journal    </td><td>Author.267 </td><td> 2160545387</td></tr>\n",
       "\t<tr><td>1897139626 </td><td>2015       </td><td>Journal    </td><td>Author.268 </td><td> 2051564079</td></tr>\n",
       "\t<tr><td>1897139626 </td><td>2015       </td><td>Journal    </td><td>Author.269 </td><td> 2108949000</td></tr>\n",
       "\t<tr><td>1897139626 </td><td>2015       </td><td>Journal    </td><td>Author.270 </td><td> 2151956684</td></tr>\n",
       "\t<tr><td>1897139626 </td><td>2015       </td><td>Journal    </td><td>Author.271 </td><td> 1920285226</td></tr>\n",
       "\t<tr><td>1897139626 </td><td>2015       </td><td>Journal    </td><td>Author.272 </td><td> 2778185214</td></tr>\n",
       "\t<tr><td>1897139626 </td><td>2015       </td><td>Journal    </td><td>Author.273 </td><td> 2749661683</td></tr>\n",
       "\t<tr><td>1897139626 </td><td>2015       </td><td>Journal    </td><td>Author.274 </td><td> 290387184 </td></tr>\n",
       "\t<tr><td>1897139626 </td><td>2015       </td><td>Journal    </td><td>Author.275 </td><td> 2669910472</td></tr>\n",
       "\t<tr><td>1897139626 </td><td>2015       </td><td>Journal    </td><td>Author.276 </td><td> 2162643977</td></tr>\n",
       "\t<tr><td>1897139626 </td><td>2015       </td><td>Journal    </td><td>Author.277 </td><td> 2749432879</td></tr>\n",
       "\t<tr><td>1897139626 </td><td>2015       </td><td>Journal    </td><td>Author.278 </td><td> 2093034454</td></tr>\n",
       "\t<tr><td>1897139626 </td><td>2015       </td><td>Journal    </td><td>Author.279 </td><td> 2746694370</td></tr>\n",
       "\t<tr><td>1897139626 </td><td>2015       </td><td>Journal    </td><td>Author.280 </td><td> 2166505430</td></tr>\n",
       "\t<tr><td>1897139626 </td><td>2015       </td><td>Journal    </td><td>Author.281 </td><td> 2791324206</td></tr>\n",
       "\t<tr><td>1897139626 </td><td>2015       </td><td>Journal    </td><td>Author.282 </td><td> 2781277029</td></tr>\n",
       "\t<tr><td>1897139626 </td><td>2015       </td><td>Journal    </td><td>Author.283 </td><td> 1979988203</td></tr>\n",
       "\t<tr><td>1897139626 </td><td>2015       </td><td>Journal    </td><td>Author.284 </td><td> 2748365676</td></tr>\n",
       "\t<tr><td>1897139626 </td><td>2015       </td><td>Journal    </td><td>Author.285 </td><td> 2616546373</td></tr>\n",
       "\t<tr><td>1897139626 </td><td>2015       </td><td>Journal    </td><td>Author.286 </td><td> 2064319456</td></tr>\n",
       "\t<tr><td>1897139626 </td><td>2015       </td><td>Journal    </td><td>Author.287 </td><td> 2064319456</td></tr>\n",
       "\t<tr><td>1897139626 </td><td>2015       </td><td>Journal    </td><td>Author.288 </td><td> 2202426251</td></tr>\n",
       "\t<tr><td>1897139626 </td><td>2015       </td><td>Journal    </td><td>Author.289 </td><td> 1156305176</td></tr>\n",
       "\t<tr><td>1897139626 </td><td>2015       </td><td>Journal    </td><td>Author.290 </td><td> 2748767398</td></tr>\n",
       "</tbody>\n",
       "</table>\n"
      ],
      "text/latex": [
       "\\begin{tabular}{r|lllll}\n",
       " PaperId & Year & DocType & authorOrder & AuthorIds\\\\\n",
       "\\hline\n",
       "\t 2146984239 & 2012       & Journal    & Author.1   & 1928884780\\\\\n",
       "\t 2486553162 & 2016       & Journal    & Author.1   & 1084826482\\\\\n",
       "\t 2006325924 & 2011       & Journal    & Author.1   & 1209777913\\\\\n",
       "\t 2051101538 & 2011       & Journal    & Author.1   & 1076087560\\\\\n",
       "\t 2155437161 & 2015       & Journal    & Author.1   & 1238144408\\\\\n",
       "\t 2573925941 & 2017       & Journal    & Author.1   & 1810172455\\\\\n",
       "\t 2028185420 & 2010       & Journal    & Author.1   & 1464205759\\\\\n",
       "\t 2398225705 & 2016       & Journal    & Author.1   & 1260774609\\\\\n",
       "\t 2094449973 & 2010       & Journal    & Author.1   & 1288459150\\\\\n",
       "\t 2022568093 & 2015       & Journal    & Author.1   & 1119064243\\\\\n",
       "\t 2011805874 & 2015       & Journal    & Author.1   & 101509324 \\\\\n",
       "\t 2505739664 & 2016       & Journal    & Author.1   & 1274830576\\\\\n",
       "\t 2492434175 & 2010       & Journal    & Author.1   & 1131302587\\\\\n",
       "\t 2316586083 & 2010       & Conference & Author.1   & 1154988903\\\\\n",
       "\t 2065155113 & 2010       & Journal    & Author.1   & 101844295 \\\\\n",
       "\t 1988400866 & 2010       & Journal    & Author.1   & 1196570803\\\\\n",
       "\t 1493892327 & 2012       & Journal    & Author.1   & 1273631552\\\\\n",
       "\t 1974820645 & 2011       & Journal    & Author.1   & 1080435264\\\\\n",
       "\t 2780392608 & 2017       & Journal    & Author.1   & 1953670829\\\\\n",
       "\t 2160055870 & 2011       & Journal    & Author.1   & 1977572183\\\\\n",
       "\t 2055064720 & 2013       & Journal    & Author.1   & 1738531449\\\\\n",
       "\t 2768302927 & 2017       & Journal    & Author.1   & 1261194467\\\\\n",
       "\t 1984444563 & 2012       & Journal    & Author.1   & 1227353039\\\\\n",
       "\t 2026319322 & 2013       & Journal    & Author.1   & 1254906929\\\\\n",
       "\t 2778646813 & 2017       & Journal    & Author.1   & 1789621507\\\\\n",
       "\t 2239529754 & 2015       & Journal    & Author.1   & 1526838130\\\\\n",
       "\t 2164583033 & 2012       & Journal    & Author.1   & 1302731174\\\\\n",
       "\t 2340071928 & 2016       & Journal    & Author.1   & 1327215664\\\\\n",
       "\t 1570773684 & 2012       & Journal    & Author.1   & 1348824210\\\\\n",
       "\t 2036219466 & 2013       & Journal    & Author.1   & 1539165933\\\\\n",
       "\t ⋮ & ⋮ & ⋮ & ⋮ & ⋮\\\\\n",
       "\t 1897139626  & 2015        & Journal     & Author.261  &  2789617394\\\\\n",
       "\t 1897139626  & 2015        & Journal     & Author.262  &  2101460654\\\\\n",
       "\t 1897139626  & 2015        & Journal     & Author.263  &  2265237729\\\\\n",
       "\t 1897139626  & 2015        & Journal     & Author.264  &  270541052 \\\\\n",
       "\t 1897139626  & 2015        & Journal     & Author.265  &  2745612947\\\\\n",
       "\t 1897139626  & 2015        & Journal     & Author.266  &  2317916980\\\\\n",
       "\t 1897139626  & 2015        & Journal     & Author.267  &  2160545387\\\\\n",
       "\t 1897139626  & 2015        & Journal     & Author.268  &  2051564079\\\\\n",
       "\t 1897139626  & 2015        & Journal     & Author.269  &  2108949000\\\\\n",
       "\t 1897139626  & 2015        & Journal     & Author.270  &  2151956684\\\\\n",
       "\t 1897139626  & 2015        & Journal     & Author.271  &  1920285226\\\\\n",
       "\t 1897139626  & 2015        & Journal     & Author.272  &  2778185214\\\\\n",
       "\t 1897139626  & 2015        & Journal     & Author.273  &  2749661683\\\\\n",
       "\t 1897139626  & 2015        & Journal     & Author.274  &  290387184 \\\\\n",
       "\t 1897139626  & 2015        & Journal     & Author.275  &  2669910472\\\\\n",
       "\t 1897139626  & 2015        & Journal     & Author.276  &  2162643977\\\\\n",
       "\t 1897139626  & 2015        & Journal     & Author.277  &  2749432879\\\\\n",
       "\t 1897139626  & 2015        & Journal     & Author.278  &  2093034454\\\\\n",
       "\t 1897139626  & 2015        & Journal     & Author.279  &  2746694370\\\\\n",
       "\t 1897139626  & 2015        & Journal     & Author.280  &  2166505430\\\\\n",
       "\t 1897139626  & 2015        & Journal     & Author.281  &  2791324206\\\\\n",
       "\t 1897139626  & 2015        & Journal     & Author.282  &  2781277029\\\\\n",
       "\t 1897139626  & 2015        & Journal     & Author.283  &  1979988203\\\\\n",
       "\t 1897139626  & 2015        & Journal     & Author.284  &  2748365676\\\\\n",
       "\t 1897139626  & 2015        & Journal     & Author.285  &  2616546373\\\\\n",
       "\t 1897139626  & 2015        & Journal     & Author.286  &  2064319456\\\\\n",
       "\t 1897139626  & 2015        & Journal     & Author.287  &  2064319456\\\\\n",
       "\t 1897139626  & 2015        & Journal     & Author.288  &  2202426251\\\\\n",
       "\t 1897139626  & 2015        & Journal     & Author.289  &  1156305176\\\\\n",
       "\t 1897139626  & 2015        & Journal     & Author.290  &  2748767398\\\\\n",
       "\\end{tabular}\n"
      ],
      "text/markdown": [
       "\n",
       "| PaperId | Year | DocType | authorOrder | AuthorIds |\n",
       "|---|---|---|---|---|\n",
       "| 2146984239 | 2012       | Journal    | Author.1   | 1928884780 |\n",
       "| 2486553162 | 2016       | Journal    | Author.1   | 1084826482 |\n",
       "| 2006325924 | 2011       | Journal    | Author.1   | 1209777913 |\n",
       "| 2051101538 | 2011       | Journal    | Author.1   | 1076087560 |\n",
       "| 2155437161 | 2015       | Journal    | Author.1   | 1238144408 |\n",
       "| 2573925941 | 2017       | Journal    | Author.1   | 1810172455 |\n",
       "| 2028185420 | 2010       | Journal    | Author.1   | 1464205759 |\n",
       "| 2398225705 | 2016       | Journal    | Author.1   | 1260774609 |\n",
       "| 2094449973 | 2010       | Journal    | Author.1   | 1288459150 |\n",
       "| 2022568093 | 2015       | Journal    | Author.1   | 1119064243 |\n",
       "| 2011805874 | 2015       | Journal    | Author.1   | 101509324  |\n",
       "| 2505739664 | 2016       | Journal    | Author.1   | 1274830576 |\n",
       "| 2492434175 | 2010       | Journal    | Author.1   | 1131302587 |\n",
       "| 2316586083 | 2010       | Conference | Author.1   | 1154988903 |\n",
       "| 2065155113 | 2010       | Journal    | Author.1   | 101844295  |\n",
       "| 1988400866 | 2010       | Journal    | Author.1   | 1196570803 |\n",
       "| 1493892327 | 2012       | Journal    | Author.1   | 1273631552 |\n",
       "| 1974820645 | 2011       | Journal    | Author.1   | 1080435264 |\n",
       "| 2780392608 | 2017       | Journal    | Author.1   | 1953670829 |\n",
       "| 2160055870 | 2011       | Journal    | Author.1   | 1977572183 |\n",
       "| 2055064720 | 2013       | Journal    | Author.1   | 1738531449 |\n",
       "| 2768302927 | 2017       | Journal    | Author.1   | 1261194467 |\n",
       "| 1984444563 | 2012       | Journal    | Author.1   | 1227353039 |\n",
       "| 2026319322 | 2013       | Journal    | Author.1   | 1254906929 |\n",
       "| 2778646813 | 2017       | Journal    | Author.1   | 1789621507 |\n",
       "| 2239529754 | 2015       | Journal    | Author.1   | 1526838130 |\n",
       "| 2164583033 | 2012       | Journal    | Author.1   | 1302731174 |\n",
       "| 2340071928 | 2016       | Journal    | Author.1   | 1327215664 |\n",
       "| 1570773684 | 2012       | Journal    | Author.1   | 1348824210 |\n",
       "| 2036219466 | 2013       | Journal    | Author.1   | 1539165933 |\n",
       "| ⋮ | ⋮ | ⋮ | ⋮ | ⋮ |\n",
       "| 1897139626  | 2015        | Journal     | Author.261  |  2789617394 |\n",
       "| 1897139626  | 2015        | Journal     | Author.262  |  2101460654 |\n",
       "| 1897139626  | 2015        | Journal     | Author.263  |  2265237729 |\n",
       "| 1897139626  | 2015        | Journal     | Author.264  |  270541052  |\n",
       "| 1897139626  | 2015        | Journal     | Author.265  |  2745612947 |\n",
       "| 1897139626  | 2015        | Journal     | Author.266  |  2317916980 |\n",
       "| 1897139626  | 2015        | Journal     | Author.267  |  2160545387 |\n",
       "| 1897139626  | 2015        | Journal     | Author.268  |  2051564079 |\n",
       "| 1897139626  | 2015        | Journal     | Author.269  |  2108949000 |\n",
       "| 1897139626  | 2015        | Journal     | Author.270  |  2151956684 |\n",
       "| 1897139626  | 2015        | Journal     | Author.271  |  1920285226 |\n",
       "| 1897139626  | 2015        | Journal     | Author.272  |  2778185214 |\n",
       "| 1897139626  | 2015        | Journal     | Author.273  |  2749661683 |\n",
       "| 1897139626  | 2015        | Journal     | Author.274  |  290387184  |\n",
       "| 1897139626  | 2015        | Journal     | Author.275  |  2669910472 |\n",
       "| 1897139626  | 2015        | Journal     | Author.276  |  2162643977 |\n",
       "| 1897139626  | 2015        | Journal     | Author.277  |  2749432879 |\n",
       "| 1897139626  | 2015        | Journal     | Author.278  |  2093034454 |\n",
       "| 1897139626  | 2015        | Journal     | Author.279  |  2746694370 |\n",
       "| 1897139626  | 2015        | Journal     | Author.280  |  2166505430 |\n",
       "| 1897139626  | 2015        | Journal     | Author.281  |  2791324206 |\n",
       "| 1897139626  | 2015        | Journal     | Author.282  |  2781277029 |\n",
       "| 1897139626  | 2015        | Journal     | Author.283  |  1979988203 |\n",
       "| 1897139626  | 2015        | Journal     | Author.284  |  2748365676 |\n",
       "| 1897139626  | 2015        | Journal     | Author.285  |  2616546373 |\n",
       "| 1897139626  | 2015        | Journal     | Author.286  |  2064319456 |\n",
       "| 1897139626  | 2015        | Journal     | Author.287  |  2064319456 |\n",
       "| 1897139626  | 2015        | Journal     | Author.288  |  2202426251 |\n",
       "| 1897139626  | 2015        | Journal     | Author.289  |  1156305176 |\n",
       "| 1897139626  | 2015        | Journal     | Author.290  |  2748767398 |\n",
       "\n"
      ],
      "text/plain": [
       "      PaperId    Year DocType    authorOrder AuthorIds  \n",
       "1     2146984239 2012 Journal    Author.1    1928884780 \n",
       "2     2486553162 2016 Journal    Author.1    1084826482 \n",
       "3     2006325924 2011 Journal    Author.1    1209777913 \n",
       "4     2051101538 2011 Journal    Author.1    1076087560 \n",
       "5     2155437161 2015 Journal    Author.1    1238144408 \n",
       "6     2573925941 2017 Journal    Author.1    1810172455 \n",
       "7     2028185420 2010 Journal    Author.1    1464205759 \n",
       "8     2398225705 2016 Journal    Author.1    1260774609 \n",
       "9     2094449973 2010 Journal    Author.1    1288459150 \n",
       "10    2022568093 2015 Journal    Author.1    1119064243 \n",
       "11    2011805874 2015 Journal    Author.1    101509324  \n",
       "12    2505739664 2016 Journal    Author.1    1274830576 \n",
       "13    2492434175 2010 Journal    Author.1    1131302587 \n",
       "14    2316586083 2010 Conference Author.1    1154988903 \n",
       "15    2065155113 2010 Journal    Author.1    101844295  \n",
       "16    1988400866 2010 Journal    Author.1    1196570803 \n",
       "17    1493892327 2012 Journal    Author.1    1273631552 \n",
       "18    1974820645 2011 Journal    Author.1    1080435264 \n",
       "19    2780392608 2017 Journal    Author.1    1953670829 \n",
       "20    2160055870 2011 Journal    Author.1    1977572183 \n",
       "21    2055064720 2013 Journal    Author.1    1738531449 \n",
       "22    2768302927 2017 Journal    Author.1    1261194467 \n",
       "23    1984444563 2012 Journal    Author.1    1227353039 \n",
       "24    2026319322 2013 Journal    Author.1    1254906929 \n",
       "25    2778646813 2017 Journal    Author.1    1789621507 \n",
       "26    2239529754 2015 Journal    Author.1    1526838130 \n",
       "27    2164583033 2012 Journal    Author.1    1302731174 \n",
       "28    2340071928 2016 Journal    Author.1    1327215664 \n",
       "29    1570773684 2012 Journal    Author.1    1348824210 \n",
       "30    2036219466 2013 Journal    Author.1    1539165933 \n",
       "⋮     ⋮          ⋮    ⋮          ⋮           ⋮          \n",
       "51097 1897139626 2015 Journal    Author.261   2789617394\n",
       "51098 1897139626 2015 Journal    Author.262   2101460654\n",
       "51099 1897139626 2015 Journal    Author.263   2265237729\n",
       "51100 1897139626 2015 Journal    Author.264   270541052 \n",
       "51101 1897139626 2015 Journal    Author.265   2745612947\n",
       "51102 1897139626 2015 Journal    Author.266   2317916980\n",
       "51103 1897139626 2015 Journal    Author.267   2160545387\n",
       "51104 1897139626 2015 Journal    Author.268   2051564079\n",
       "51105 1897139626 2015 Journal    Author.269   2108949000\n",
       "51106 1897139626 2015 Journal    Author.270   2151956684\n",
       "51107 1897139626 2015 Journal    Author.271   1920285226\n",
       "51108 1897139626 2015 Journal    Author.272   2778185214\n",
       "51109 1897139626 2015 Journal    Author.273   2749661683\n",
       "51110 1897139626 2015 Journal    Author.274   290387184 \n",
       "51111 1897139626 2015 Journal    Author.275   2669910472\n",
       "51112 1897139626 2015 Journal    Author.276   2162643977\n",
       "51113 1897139626 2015 Journal    Author.277   2749432879\n",
       "51114 1897139626 2015 Journal    Author.278   2093034454\n",
       "51115 1897139626 2015 Journal    Author.279   2746694370\n",
       "51116 1897139626 2015 Journal    Author.280   2166505430\n",
       "51117 1897139626 2015 Journal    Author.281   2791324206\n",
       "51118 1897139626 2015 Journal    Author.282   2781277029\n",
       "51119 1897139626 2015 Journal    Author.283   1979988203\n",
       "51120 1897139626 2015 Journal    Author.284   2748365676\n",
       "51121 1897139626 2015 Journal    Author.285   2616546373\n",
       "51122 1897139626 2015 Journal    Author.286   2064319456\n",
       "51123 1897139626 2015 Journal    Author.287   2064319456\n",
       "51124 1897139626 2015 Journal    Author.288   2202426251\n",
       "51125 1897139626 2015 Journal    Author.289   1156305176\n",
       "51126 1897139626 2015 Journal    Author.290   2748767398"
      ]
     },
     "metadata": {},
     "output_type": "display_data"
    }
   ],
   "source": [
    "block2 = read_tsv(\"Reproduce.csv\", col_names = TRUE)\n",
    "myvars <- c(\"PaperId\", \"AuthorIds\", \"Year\", \"DocType\")\n",
    "data2 <- block2[myvars]\n",
    "data2 <- data2[data2$Year >=2010 & data2$Year <=2017,]\n",
    "data2 <- data2[!is.na(data2$DocType),]\n",
    "AuthorTable2 <- data2 %>% separate(AuthorIds, into = sprintf('%s.%s', rep('Author',300), rep(1:300)), sep = \";\") #max author has exceeded 250\n",
    "AuthorTable2 <- AuthorTable2 %>% gather(authorOrder, AuthorIds, into = sprintf('%s.%s', rep('Author',300), rep(1:300)))\n",
    "AuthorTable2 <- AuthorTable2[!is.na(AuthorTable2$AuthorIds), ]\n",
    "AuthorTable2"
   ]
  },
  {
   "cell_type": "code",
   "execution_count": 7,
   "metadata": {},
   "outputs": [
    {
     "data": {
      "text/html": [
       "8918"
      ],
      "text/latex": [
       "8918"
      ],
      "text/markdown": [
       "8918"
      ],
      "text/plain": [
       "[1] 8918"
      ]
     },
     "metadata": {},
     "output_type": "display_data"
    },
    {
     "data": {
      "text/html": [
       "5935"
      ],
      "text/latex": [
       "5935"
      ],
      "text/markdown": [
       "5935"
      ],
      "text/plain": [
       "[1] 5935"
      ]
     },
     "metadata": {},
     "output_type": "display_data"
    }
   ],
   "source": [
    "PaperCollab2 <- pairwise_count(AuthorTable2, PaperId, AuthorIds, sort = TRUE)\n",
    "repG <- graph_from_data_frame(d = PaperCollab2, directed=FALSE, vertices=data2)\n",
    "write_graph(repG, \"/home/jovyan/openScience/code-data/reproduceRawNew.graphml\", \"graphml\")\n",
    "n2=vcount(repG)\n",
    "m2=ecount(repG)/2\n",
    "n2\n",
    "m2"
   ]
  },
  {
   "cell_type": "code",
   "execution_count": 8,
   "metadata": {},
   "outputs": [
    {
     "data": {
      "text/html": [
       "10887"
      ],
      "text/latex": [
       "10887"
      ],
      "text/markdown": [
       "10887"
      ],
      "text/plain": [
       "[1] 10887"
      ]
     },
     "metadata": {},
     "output_type": "display_data"
    }
   ],
   "source": [
    "nrow(data)+nrow(data2)"
   ]
  },
  {
   "cell_type": "code",
   "execution_count": 9,
   "metadata": {},
   "outputs": [
    {
     "data": {
      "text/html": [
       "<table>\n",
       "<thead><tr><th scope=col>n</th></tr></thead>\n",
       "<tbody>\n",
       "\t<tr><td>7075</td></tr>\n",
       "</tbody>\n",
       "</table>\n"
      ],
      "text/latex": [
       "\\begin{tabular}{r|l}\n",
       " n\\\\\n",
       "\\hline\n",
       "\t 7075\\\\\n",
       "\\end{tabular}\n"
      ],
      "text/markdown": [
       "\n",
       "| n |\n",
       "|---|\n",
       "| 7075 |\n",
       "\n"
      ],
      "text/plain": [
       "  n   \n",
       "1 7075"
      ]
     },
     "metadata": {},
     "output_type": "display_data"
    },
    {
     "data": {
      "text/html": [
       "<table>\n",
       "<thead><tr><th scope=col>n</th></tr></thead>\n",
       "<tbody>\n",
       "\t<tr><td>43328</td></tr>\n",
       "</tbody>\n",
       "</table>\n"
      ],
      "text/latex": [
       "\\begin{tabular}{r|l}\n",
       " n\\\\\n",
       "\\hline\n",
       "\t 43328\\\\\n",
       "\\end{tabular}\n"
      ],
      "text/markdown": [
       "\n",
       "| n |\n",
       "|---|\n",
       "| 43328 |\n",
       "\n"
      ],
      "text/plain": [
       "  n    \n",
       "1 43328"
      ]
     },
     "metadata": {},
     "output_type": "display_data"
    }
   ],
   "source": [
    "AuthorTable %>% summarize(n = n_distinct(AuthorIds))\n",
    "AuthorTable2 %>% summarize(n = n_distinct(AuthorIds))"
   ]
  },
  {
   "cell_type": "code",
   "execution_count": 10,
   "metadata": {},
   "outputs": [
    {
     "data": {
      "text/html": [
       "31940"
      ],
      "text/latex": [
       "31940"
      ],
      "text/markdown": [
       "31940"
      ],
      "text/plain": [
       "[1] 31940"
      ]
     },
     "metadata": {},
     "output_type": "display_data"
    }
   ],
   "source": [
    "nrow(block)+nrow(block2)"
   ]
  },
  {
   "cell_type": "code",
   "execution_count": 11,
   "metadata": {},
   "outputs": [
    {
     "data": {
      "text/html": [
       "0.00131458335913984"
      ],
      "text/latex": [
       "0.00131458335913984"
      ],
      "text/markdown": [
       "0.00131458335913984"
      ],
      "text/plain": [
       "[1] 0.001314583"
      ]
     },
     "metadata": {},
     "output_type": "display_data"
    },
    {
     "data": {
      "text/html": [
       "0.000149267233694366"
      ],
      "text/latex": [
       "0.000149267233694366"
      ],
      "text/markdown": [
       "0.000149267233694366"
      ],
      "text/plain": [
       "[1] 0.0001492672"
      ]
     },
     "metadata": {},
     "output_type": "display_data"
    }
   ],
   "source": [
    "2*m1/n1/(n1-1)\n",
    "2*m2/n2/(n2-1)"
   ]
  },
  {
   "cell_type": "code",
   "execution_count": 12,
   "metadata": {},
   "outputs": [
    {
     "data": {
      "text/plain": [
       "\n",
       "\tFisher's Exact Test for Count Data\n",
       "\n",
       "data:  table\n",
       "p-value < 2.2e-16\n",
       "alternative hypothesis: true odds ratio is greater than 1\n",
       "95 percent confidence interval:\n",
       " 8.477874      Inf\n",
       "sample estimates:\n",
       "odds ratio \n",
       "  8.817939 \n"
      ]
     },
     "metadata": {},
     "output_type": "display_data"
    },
    {
     "data": {
      "text/plain": [
       "\n",
       "\tFisher's Exact Test for Count Data\n",
       "\n",
       "data:  table\n",
       "p-value < 2.2e-16\n",
       "alternative hypothesis: true odds ratio is greater than 1\n",
       "95 percent confidence interval:\n",
       " 8.477874      Inf\n",
       "sample estimates:\n",
       "odds ratio \n",
       "  8.817939 \n"
      ]
     },
     "metadata": {},
     "output_type": "display_data"
    }
   ],
   "source": [
    "table <- cbind(c(m1,m2),c(n1*(n1-1)/2-m1,n2*(n2-1)/2-m2))\n",
    "fisher.test(table, alternative=\"greater\")\n",
    "\n",
    "table <- rbind(c(m1,m2),c(n1*(n1-1)/2-m1,n2*(n2-1)/2-m2))\n",
    "fisher.test(table, alternative=\"greater\")"
   ]
  },
  {
   "cell_type": "code",
   "execution_count": 14,
   "metadata": {},
   "outputs": [
    {
     "data": {
      "text/html": [
       "1.40242165242165"
      ],
      "text/latex": [
       "1.40242165242165"
      ],
      "text/markdown": [
       "1.40242165242165"
      ],
      "text/plain": [
       "[1] 1.402422"
      ]
     },
     "metadata": {},
     "output_type": "display_data"
    },
    {
     "data": {
      "text/html": [
       "1.43676494280651"
      ],
      "text/latex": [
       "1.43676494280651"
      ],
      "text/markdown": [
       "1.43676494280651"
      ],
      "text/plain": [
       "[1] 1.436765"
      ]
     },
     "metadata": {},
     "output_type": "display_data"
    }
   ],
   "source": [
    "n1/1404\n",
    "n2/6207"
   ]
  },
  {
   "cell_type": "code",
   "execution_count": null,
   "metadata": {},
   "outputs": [],
   "source": [
    "myvars <- c(\"PaperId\", \"AuthorIds\", \"AuthorOrders\", \"AuthorNames\", \"FoSNames\", \"Year\", \"DocType\", \"DisplayName\", \"Publisher\", \"Doi\", \"OriginalTitle\", \"EstimatedCitation\", \"IndexedAbstract\")\n",
    "data01 <- block[myvars]\n",
    "data02 <- block2[myvars]\n",
    "data0 <- dplyr::bind_rows(list(OpenScience=data01, Reproducibility=data02), .id = 'Tag')\n",
    "data0 <- data0[data0$Year >=2010 & data0$Year <=2017,]\n",
    "data0 <- data0[!is.na(data0$DocType),]\n",
    "data0 <- data0[data0$DocType!=\"Patent\",]\n",
    "write_csv(data0, \"newdataCombined.csv\")"
   ]
  },
  {
   "cell_type": "code",
   "execution_count": null,
   "metadata": {},
   "outputs": [],
   "source": [
    "input <- data0$IndexedAbstract[2]\n",
    "header <- \",\\\\\\\"InvertedIndex\\\\\\\":\\\\{?\"\n",
    "length <- as.numeric(strsplit(strsplit(input, header)[[1]][1],\"\\\\{\\\\\\\"IndexLength\\\\\\\":?\")[[1]][2])\n",
    "parsed <- character(length)\n",
    "body <- strsplit(input, header)[[1]][2]\n",
    "input"
   ]
  },
  {
   "cell_type": "code",
   "execution_count": null,
   "metadata": {},
   "outputs": [],
   "source": [
    "words <- \"\\\\\\\"(.*?)\\\\\\\":\\\\[([0-9]+(,[0-9]+)*)\\\\]\"\n",
    "dictionary <- str_match_all(body, words)[[1]]\n",
    "nrow(dictionary)\n",
    "\n",
    "fill <- function(word, indices) \n",
    "{\n",
    "  parsed[] <- \n",
    "}\n",
    "#strsplit(dictionary[]"
   ]
  }
 ],
 "metadata": {
  "kernelspec": {
   "display_name": "R",
   "language": "R",
   "name": "ir"
  },
  "language_info": {
   "codemirror_mode": "r",
   "file_extension": ".r",
   "mimetype": "text/x-r-source",
   "name": "R",
   "pygments_lexer": "r",
   "version": "3.5.1"
  }
 },
 "nbformat": 4,
 "nbformat_minor": 2
}
