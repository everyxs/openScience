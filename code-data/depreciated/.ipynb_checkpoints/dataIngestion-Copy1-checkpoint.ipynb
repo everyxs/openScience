{
 "cells": [
  {
   "cell_type": "code",
   "execution_count": 16,
   "metadata": {},
   "outputs": [
    {
     "name": "stdout",
     "output_type": "stream",
     "text": [
      "Requirement already up-to-date: pip in /opt/conda/lib/python3.6/site-packages (19.0.3)\n"
     ]
    },
    {
     "data": {
      "text/plain": [
       "['configuration', 'credentials']"
      ]
     },
     "execution_count": 16,
     "metadata": {},
     "output_type": "execute_result"
    }
   ],
   "source": [
    "!pip install --upgrade pip --user\n",
    "#!pip install configparser --user\n",
    "import os, sys\n",
    "import configparser\n",
    "sys.path.append('/home/jovyan/.local/lib/python3.6/site-packages/')\n",
    "print(sys.path)\n",
    "\n",
    "os.path.abspath(\"AzureDownload/config.txt\")\n",
    "os.getcwd()\n",
    "config = configparser.ConfigParser()\n",
    "config.read(\"/home/jovyan/AzureDownload/config.txt\")\n",
    "config.sections()"
   ]
  },
  {
   "cell_type": "code",
   "execution_count": 23,
   "metadata": {},
   "outputs": [
    {
     "name": "stdout",
     "output_type": "stream",
     "text": [
      "Requirement already satisfied: azure-mgmt-datalake-analytics in /home/jovyan/.local/lib/python3.6/site-packages (0.6.0)\n",
      "Requirement already satisfied: azure-mgmt-datalake-nspkg>=2.0.0 in /home/jovyan/.local/lib/python3.6/site-packages (from azure-mgmt-datalake-analytics) (3.0.1)\n",
      "Requirement already satisfied: azure-common~=1.1 in /home/jovyan/.local/lib/python3.6/site-packages (from azure-mgmt-datalake-analytics) (1.1.18)\n",
      "Requirement already satisfied: msrestazure<2.0.0,>=0.4.27 in /home/jovyan/.local/lib/python3.6/site-packages (from azure-mgmt-datalake-analytics) (0.6.0)\n",
      "Requirement already satisfied: azure-mgmt-nspkg>=3.0.0 in /home/jovyan/.local/lib/python3.6/site-packages (from azure-mgmt-datalake-nspkg>=2.0.0->azure-mgmt-datalake-analytics) (3.0.2)\n",
      "Requirement already satisfied: msrest<2.0.0,>=0.6.0 in /home/jovyan/.local/lib/python3.6/site-packages (from msrestazure<2.0.0,>=0.4.27->azure-mgmt-datalake-analytics) (0.6.6)\n",
      "Requirement already satisfied: adal<2.0.0,>=0.6.0 in /home/jovyan/.local/lib/python3.6/site-packages (from msrestazure<2.0.0,>=0.4.27->azure-mgmt-datalake-analytics) (1.2.1)\n",
      "Requirement already satisfied: azure-nspkg>=3.0.0 in /home/jovyan/.local/lib/python3.6/site-packages (from azure-mgmt-nspkg>=3.0.0->azure-mgmt-datalake-nspkg>=2.0.0->azure-mgmt-datalake-analytics) (3.0.2)\n",
      "Requirement already satisfied: isodate>=0.6.0 in /home/jovyan/.local/lib/python3.6/site-packages (from msrest<2.0.0,>=0.6.0->msrestazure<2.0.0,>=0.4.27->azure-mgmt-datalake-analytics) (0.6.0)\n",
      "Requirement already satisfied: requests-oauthlib>=0.5.0 in /home/jovyan/.local/lib/python3.6/site-packages (from msrest<2.0.0,>=0.6.0->msrestazure<2.0.0,>=0.4.27->azure-mgmt-datalake-analytics) (1.2.0)\n",
      "Requirement already satisfied: requests~=2.16 in /opt/conda/lib/python3.6/site-packages (from msrest<2.0.0,>=0.6.0->msrestazure<2.0.0,>=0.4.27->azure-mgmt-datalake-analytics) (2.21.0)\n",
      "Requirement already satisfied: certifi>=2017.4.17 in /opt/conda/lib/python3.6/site-packages (from msrest<2.0.0,>=0.6.0->msrestazure<2.0.0,>=0.4.27->azure-mgmt-datalake-analytics) (2018.11.29)\n",
      "Requirement already satisfied: PyJWT>=1.0.0 in /home/jovyan/.local/lib/python3.6/site-packages (from adal<2.0.0,>=0.6.0->msrestazure<2.0.0,>=0.4.27->azure-mgmt-datalake-analytics) (1.7.1)\n",
      "Requirement already satisfied: python-dateutil>=2.1.0 in /opt/conda/lib/python3.6/site-packages (from adal<2.0.0,>=0.6.0->msrestazure<2.0.0,>=0.4.27->azure-mgmt-datalake-analytics) (2.8.0)\n",
      "Requirement already satisfied: cryptography>=1.1.0 in /opt/conda/lib/python3.6/site-packages (from adal<2.0.0,>=0.6.0->msrestazure<2.0.0,>=0.4.27->azure-mgmt-datalake-analytics) (2.5)\n",
      "Requirement already satisfied: six in /opt/conda/lib/python3.6/site-packages (from isodate>=0.6.0->msrest<2.0.0,>=0.6.0->msrestazure<2.0.0,>=0.4.27->azure-mgmt-datalake-analytics) (1.12.0)\n",
      "Requirement already satisfied: oauthlib>=3.0.0 in /home/jovyan/.local/lib/python3.6/site-packages (from requests-oauthlib>=0.5.0->msrest<2.0.0,>=0.6.0->msrestazure<2.0.0,>=0.4.27->azure-mgmt-datalake-analytics) (3.0.1)\n",
      "Requirement already satisfied: chardet<3.1.0,>=3.0.2 in /opt/conda/lib/python3.6/site-packages (from requests~=2.16->msrest<2.0.0,>=0.6.0->msrestazure<2.0.0,>=0.4.27->azure-mgmt-datalake-analytics) (3.0.4)\n",
      "Requirement already satisfied: urllib3<1.25,>=1.21.1 in /opt/conda/lib/python3.6/site-packages (from requests~=2.16->msrest<2.0.0,>=0.6.0->msrestazure<2.0.0,>=0.4.27->azure-mgmt-datalake-analytics) (1.24.1)\n",
      "Requirement already satisfied: idna<2.9,>=2.5 in /opt/conda/lib/python3.6/site-packages (from requests~=2.16->msrest<2.0.0,>=0.6.0->msrestazure<2.0.0,>=0.4.27->azure-mgmt-datalake-analytics) (2.8)\n",
      "Requirement already satisfied: cffi!=1.11.3,>=1.8 in /opt/conda/lib/python3.6/site-packages (from cryptography>=1.1.0->adal<2.0.0,>=0.6.0->msrestazure<2.0.0,>=0.4.27->azure-mgmt-datalake-analytics) (1.12.1)\n",
      "Requirement already satisfied: asn1crypto>=0.21.0 in /opt/conda/lib/python3.6/site-packages (from cryptography>=1.1.0->adal<2.0.0,>=0.6.0->msrestazure<2.0.0,>=0.4.27->azure-mgmt-datalake-analytics) (0.24.0)\n",
      "Requirement already satisfied: pycparser in /opt/conda/lib/python3.6/site-packages (from cffi!=1.11.3,>=1.8->cryptography>=1.1.0->adal<2.0.0,>=0.6.0->msrestazure<2.0.0,>=0.4.27->azure-mgmt-datalake-analytics) (2.19)\n"
     ]
    }
   ],
   "source": [
    "## Required for Azure Data Lake Analytics job management\n",
    "!pip install azure-mgmt-datalake-analytics --user\n",
    "from azure.mgmt.datalake.analytics.job import DataLakeAnalyticsJobManagementClient\n",
    "from azure.mgmt.datalake.analytics.job.models import JobInformation, JobState, USqlJobProperties\n",
    "from azure.common.credentials import ServicePrincipalCredentials\n",
    "\n",
    "credentials = ServicePrincipalCredentials(client_id =config.get(\"credentials\",\"client\"), secret=config.get(\"credentials\",\"password\"), tenant =config.get(\"credentials\",\"tenant\"))\n",
    "\n",
    "subid= 'Microsoft Azure Sponsorship'\n",
    "rg = 'IUNI-MAG-RG'\n",
    "location = 'eastus2'\n",
    "adla = 'iunimag'\n",
    "\n",
    "adlaJobClient = DataLakeAnalyticsJobManagementClient(credentials, 'azuredatalakeanalytics.net')"
   ]
  },
  {
   "cell_type": "code",
   "execution_count": 25,
   "metadata": {},
   "outputs": [],
   "source": [
    "import logging, getpass, pprint, uuid, time\n",
    "script = open(\"/home/jovyan/openScience/code-data/usql-scripts/MAGget.usql\", \"r\")\n",
    "\n",
    "jobId = str(uuid.uuid4())\n",
    "jobResult = adlaJobClient.job.create(\n",
    "    adla,\n",
    "    jobId,\n",
    "    JobInformation(\n",
    "        name='MAGget@jupyter',\n",
    "        type='USql',\n",
    "        degree_of_parallelism=15,\n",
    "        properties=USqlJobProperties(script=script.read() )\n",
    "    )\n",
    ")"
   ]
  },
  {
   "cell_type": "code",
   "execution_count": 26,
   "metadata": {},
   "outputs": [
    {
     "name": "stdout",
     "output_type": "stream",
     "text": [
      "It takes 1.9638028144836426 seconds to download Open.csv\n"
     ]
    }
   ],
   "source": [
    "import time\n",
    "from azure.storage.blob import BlockBlobService\n",
    "\n",
    "CONTAINERNAME ='mag-2019-03-02'\n",
    "BLOBNAME= \"Open.csv\"\n",
    "LOCALFILENAME= \"/home/jovyan/openScience/code-data/Open.csv\"\n",
    "\n",
    "#download from blob\n",
    "block_blob_service=BlockBlobService(account_name=config.get(\"configuration\",\"account\"),account_key=config.get(\"configuration\",\"password\"))\n",
    "#download from blob\n",
    "t1=time.time()\n",
    "block_blob_service.get_blob_to_path(CONTAINERNAME,BLOBNAME,LOCALFILENAME)\n",
    "t2=time.time()\n",
    "print((\"It takes %s seconds to download \"+BLOBNAME) % (t2 - t1))"
   ]
  },
  {
   "cell_type": "code",
   "execution_count": 27,
   "metadata": {},
   "outputs": [
    {
     "name": "stdout",
     "output_type": "stream",
     "text": [
      "It takes 4.0064404010772705 seconds to download Reproduce.csv\n"
     ]
    }
   ],
   "source": [
    "BLOBNAME= \"Reproduce.csv\"\n",
    "LOCALFILENAME= \"/home/jovyan/openScience/code-data/Reproduce.csv\"\n",
    "\n",
    "#download from blob\n",
    "t1=time.time()\n",
    "block_blob_service.get_blob_to_path(CONTAINERNAME,BLOBNAME,LOCALFILENAME)\n",
    "t2=time.time()\n",
    "print((\"It takes %s seconds to download \"+BLOBNAME) % (t2 - t1))"
   ]
  },
  {
   "cell_type": "code",
   "execution_count": 53,
   "metadata": {},
   "outputs": [
    {
     "name": "stdout",
     "output_type": "stream",
     "text": [
      "It takes 1.7508304119110107 seconds to download Open-old.csv\n"
     ]
    }
   ],
   "source": [
    "import time\n",
    "from azure.storage.blob import BlockBlobService\n",
    "\n",
    "CONTAINERNAME ='mag-2019-03-02'\n",
    "BLOBNAME= \"Open-old.csv\"\n",
    "LOCALFILENAME= \"/home/jovyan/openScience/code-data/Open-old.csv\"\n",
    "\n",
    "#download from blob\n",
    "block_blob_service=BlockBlobService(account_name=config.get(\"configuration\",\"account\"),account_key=config.get(\"configuration\",\"password\"))\n",
    "#download from blob\n",
    "t1=time.time()\n",
    "block_blob_service.get_blob_to_path(CONTAINERNAME,BLOBNAME,LOCALFILENAME)\n",
    "t2=time.time()\n",
    "print((\"It takes %s seconds to download \"+BLOBNAME) % (t2 - t1))"
   ]
  },
  {
   "cell_type": "code",
   "execution_count": 54,
   "metadata": {},
   "outputs": [
    {
     "name": "stdout",
     "output_type": "stream",
     "text": [
      "It takes 0.8343608379364014 seconds to download Reproduce-old.csv\n"
     ]
    }
   ],
   "source": [
    "BLOBNAME= \"Reproduce-old.csv\"\n",
    "LOCALFILENAME= \"/home/jovyan/openScience/code-data/Reproduce-old.csv\"\n",
    "\n",
    "#download from blob\n",
    "t1=time.time()\n",
    "block_blob_service.get_blob_to_path(CONTAINERNAME,BLOBNAME,LOCALFILENAME)\n",
    "t2=time.time()\n",
    "print((\"It takes %s seconds to download \"+BLOBNAME) % (t2 - t1))"
   ]
  },
  {
   "cell_type": "code",
   "execution_count": null,
   "metadata": {},
   "outputs": [],
   "source": []
  }
 ],
 "metadata": {
  "kernelspec": {
   "display_name": "Python 3",
   "language": "python",
   "name": "python3"
  },
  "language_info": {
   "codemirror_mode": {
    "name": "ipython",
    "version": 3
   },
   "file_extension": ".py",
   "mimetype": "text/x-python",
   "name": "python",
   "nbconvert_exporter": "python",
   "pygments_lexer": "ipython3",
   "version": "3.6.8"
  }
 },
 "nbformat": 4,
 "nbformat_minor": 2
}
