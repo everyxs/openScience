{
 "cells": [
  {
   "cell_type": "code",
   "execution_count": 1,
   "metadata": {},
   "outputs": [
    {
     "name": "stderr",
     "output_type": "stream",
     "text": [
      "\n",
      "checkpoint: Part of the Reproducible R Toolkit from Microsoft\n",
      "https://mran.microsoft.com/documents/rro/reproducibility/\n",
      "Scanning for packages used in this project\n",
      "- Discovered 15 packages\n",
      "All detected packages already installed\n",
      "checkpoint process complete\n",
      "---\n",
      "\n",
      "Attaching package: ‘dplyr’\n",
      "\n",
      "The following objects are masked from ‘package:stats’:\n",
      "\n",
      "    filter, lag\n",
      "\n",
      "The following objects are masked from ‘package:base’:\n",
      "\n",
      "    intersect, setdiff, setequal, union\n",
      "\n"
     ]
    }
   ],
   "source": [
    "library(\"checkpoint\")\n",
    "checkpoint(\"2019-04-23\")\n",
    "library(ggplot2)\n",
    "library(dplyr)\n",
    "#install.packages('textcat')\n",
    "library(textcat)"
   ]
  },
  {
   "cell_type": "markdown",
   "metadata": {},
   "source": [
    "### Semantic analysis\n",
    "#### SENTIMENT"
   ]
  },
  {
   "cell_type": "code",
   "execution_count": 2,
   "metadata": {},
   "outputs": [
    {
     "data": {
      "text/html": [
       "2926"
      ],
      "text/latex": [
       "2926"
      ],
      "text/markdown": [
       "2926"
      ],
      "text/plain": [
       "[1] 2926"
      ]
     },
     "metadata": {},
     "output_type": "display_data"
    },
    {
     "data": {
      "text/html": [
       "1020"
      ],
      "text/latex": [
       "1020"
      ],
      "text/markdown": [
       "1020"
      ],
      "text/plain": [
       "[1] 1020"
      ]
     },
     "metadata": {},
     "output_type": "display_data"
    },
    {
     "data": {
      "text/html": [
       "0"
      ],
      "text/latex": [
       "0"
      ],
      "text/markdown": [
       "0"
      ],
      "text/plain": [
       "[1] 0"
      ]
     },
     "metadata": {},
     "output_type": "display_data"
    },
    {
     "data": {
      "text/plain": [
       "                 \n",
       "                  FALSE\n",
       "  OpenScience       879\n",
       "  Reproducibility  2047"
      ]
     },
     "metadata": {},
     "output_type": "display_data"
    }
   ],
   "source": [
    "data <- read.csv('abstracts_scored.csv', stringsAsFactors = FALSE)\n",
    "\n",
    "### Exclude missing abstracts\n",
    "nrow(data) #2926\n",
    "sum(data$WordCount==0) #1020\n",
    "sum(is.na(data$IndexedAbstract)) #1020\n",
    "table(data$Tag, is.na(data$IndexedAbstract))\n",
    "#                 FALSE TRUE\n",
    "# OpenScience       674  204\n",
    "# Reproducibility  1232  815\n",
    "data <- filter(data, WordCount>0)"
   ]
  },
  {
   "cell_type": "code",
   "execution_count": 3,
   "metadata": {},
   "outputs": [
    {
     "data": {
      "text/plain": [
       "\n",
       "     afrikaans       albanian         breton        catalan         danish \n",
       "             2              1              1             21              9 \n",
       "         dutch        english      esperanto         french        frisian \n",
       "             2           1764              1              6              3 \n",
       "        german     indonesian        italian          latin           manx \n",
       "            28              2              1              7              2 \n",
       "middle_frisian     portuguese       romanian      rumantsch          scots \n",
       "             4              9              5              4             14 \n",
       "  scots_gaelic   slovak-ascii        spanish        swedish \n",
       "             1              2             13              4 "
      ]
     },
     "metadata": {},
     "output_type": "display_data"
    },
    {
     "name": "stderr",
     "output_type": "stream",
     "text": [
      "ERROR while rich displaying an object: Error in loadNamespace(name): there is no package called ‘vctrs’\n",
      "\n",
      "Traceback:\n",
      "1. FUN(X[[i]], ...)\n",
      "2. tryCatch(withCallingHandlers({\n",
      " .     if (!mime %in% names(repr::mime2repr)) \n",
      " .         stop(\"No repr_* for mimetype \", mime, \" in repr::mime2repr\")\n",
      " .     rpr <- repr::mime2repr[[mime]](obj)\n",
      " .     if (is.null(rpr)) \n",
      " .         return(NULL)\n",
      " .     prepare_content(is.raw(rpr), rpr)\n",
      " . }, error = error_handler), error = outer_handler)\n",
      "3. tryCatchList(expr, classes, parentenv, handlers)\n",
      "4. tryCatchOne(expr, names, parentenv, handlers[[1L]])\n",
      "5. doTryCatch(return(expr), name, parentenv, handler)\n",
      "6. withCallingHandlers({\n",
      " .     if (!mime %in% names(repr::mime2repr)) \n",
      " .         stop(\"No repr_* for mimetype \", mime, \" in repr::mime2repr\")\n",
      " .     rpr <- repr::mime2repr[[mime]](obj)\n",
      " .     if (is.null(rpr)) \n",
      " .         return(NULL)\n",
      " .     prepare_content(is.raw(rpr), rpr)\n",
      " . }, error = error_handler)\n",
      "7. repr::mime2repr[[mime]](obj)\n",
      "8. repr_html.matrix(obj)\n",
      "9. repr_matrix_generic(obj, \"<table>\\n<caption>%s</caption>\\n%s%s</table>\\n\", \n",
      " .     \"<thead>\\n%s</thead>\\n\", \"\\t<tr>%s</tr>\\n\", \"<th></th>\", \n",
      " .     \"<th scope=col>%s</th>\", \"<tbody>\\n%s</tbody>\\n\", \"\\t<tr>%s</tr>\\n\", \n",
      " .     \"<th scope=row>%s</th>\", \"<td>%s</td>\", escape_fun = html_escape_vec, \n",
      " .     rows = rows, cols = cols, ...)\n",
      "10. type_sum(as.vector(x))\n",
      "11. type_sum.default(as.vector(x))\n",
      "12. vctrs::vec_ptype_abbr\n",
      "13. getExportedValue(pkg, name)\n",
      "14. asNamespace(ns)\n",
      "15. getNamespace(ns)\n",
      "16. tryCatch(loadNamespace(name), error = function(e) stop(e))\n",
      "17. tryCatchList(expr, classes, parentenv, handlers)\n",
      "18. tryCatchOne(expr, names, parentenv, handlers[[1L]])\n",
      "19. value[[3L]](cond)\n",
      "ERROR while rich displaying an object: Error in loadNamespace(name): there is no package called ‘vctrs’\n",
      "\n",
      "Traceback:\n",
      "1. FUN(X[[i]], ...)\n",
      "2. tryCatch(withCallingHandlers({\n",
      " .     if (!mime %in% names(repr::mime2repr)) \n",
      " .         stop(\"No repr_* for mimetype \", mime, \" in repr::mime2repr\")\n",
      " .     rpr <- repr::mime2repr[[mime]](obj)\n",
      " .     if (is.null(rpr)) \n",
      " .         return(NULL)\n",
      " .     prepare_content(is.raw(rpr), rpr)\n",
      " . }, error = error_handler), error = outer_handler)\n",
      "3. tryCatchList(expr, classes, parentenv, handlers)\n",
      "4. tryCatchOne(expr, names, parentenv, handlers[[1L]])\n",
      "5. doTryCatch(return(expr), name, parentenv, handler)\n",
      "6. withCallingHandlers({\n",
      " .     if (!mime %in% names(repr::mime2repr)) \n",
      " .         stop(\"No repr_* for mimetype \", mime, \" in repr::mime2repr\")\n",
      " .     rpr <- repr::mime2repr[[mime]](obj)\n",
      " .     if (is.null(rpr)) \n",
      " .         return(NULL)\n",
      " .     prepare_content(is.raw(rpr), rpr)\n",
      " . }, error = error_handler)\n",
      "7. repr::mime2repr[[mime]](obj)\n",
      "8. repr_markdown.matrix(obj)\n",
      "9. repr_matrix_generic(obj, \"\\n%s\\n\\n%s%s\\n\", sprintf(\"|%%s\\n|%s|\\n\", \n",
      " .     underline), NULL, \" <!--/--> |\", \" %s |\", \"%s\", \"|%s\\n\", \n",
      " .     \" %s |\", \" %s |\", escape_fun = markdown_escape, rows = rows, \n",
      " .     cols = cols, ...)\n",
      "10. type_sum(as.vector(x))\n",
      "11. type_sum.default(as.vector(x))\n",
      "12. vctrs::vec_ptype_abbr\n",
      "13. getExportedValue(pkg, name)\n",
      "14. asNamespace(ns)\n",
      "15. getNamespace(ns)\n",
      "16. tryCatch(loadNamespace(name), error = function(e) stop(e))\n",
      "17. tryCatchList(expr, classes, parentenv, handlers)\n",
      "18. tryCatchOne(expr, names, parentenv, handlers[[1L]])\n",
      "19. value[[3L]](cond)\n",
      "ERROR while rich displaying an object: Error in loadNamespace(name): there is no package called ‘vctrs’\n",
      "\n",
      "Traceback:\n",
      "1. FUN(X[[i]], ...)\n",
      "2. tryCatch(withCallingHandlers({\n",
      " .     if (!mime %in% names(repr::mime2repr)) \n",
      " .         stop(\"No repr_* for mimetype \", mime, \" in repr::mime2repr\")\n",
      " .     rpr <- repr::mime2repr[[mime]](obj)\n",
      " .     if (is.null(rpr)) \n",
      " .         return(NULL)\n",
      " .     prepare_content(is.raw(rpr), rpr)\n",
      " . }, error = error_handler), error = outer_handler)\n",
      "3. tryCatchList(expr, classes, parentenv, handlers)\n",
      "4. tryCatchOne(expr, names, parentenv, handlers[[1L]])\n",
      "5. doTryCatch(return(expr), name, parentenv, handler)\n",
      "6. withCallingHandlers({\n",
      " .     if (!mime %in% names(repr::mime2repr)) \n",
      " .         stop(\"No repr_* for mimetype \", mime, \" in repr::mime2repr\")\n",
      " .     rpr <- repr::mime2repr[[mime]](obj)\n",
      " .     if (is.null(rpr)) \n",
      " .         return(NULL)\n",
      " .     prepare_content(is.raw(rpr), rpr)\n",
      " . }, error = error_handler)\n",
      "7. repr::mime2repr[[mime]](obj)\n",
      "8. repr_latex.matrix(obj)\n",
      "9. repr_matrix_generic(obj, sprintf(\"%%s\\n\\\\begin{tabular}{%s}\\n%%s%%s\\\\end{tabular}\\n\", \n",
      " .     cols), \"%s\\\\hline\\n\", \"%s\\\\\\\\\\n\", \"  &\", \" %s &\", \"%s\", \"\\t%s\\\\\\\\\\n\", \n",
      " .     \"%s &\", \" %s &\", escape_fun = latex_escape_vec, rows = rows, \n",
      " .     cols = cols, ...)\n",
      "10. type_sum(as.vector(x))\n",
      "11. type_sum.default(as.vector(x))\n",
      "12. vctrs::vec_ptype_abbr\n",
      "13. getExportedValue(pkg, name)\n",
      "14. asNamespace(ns)\n",
      "15. getNamespace(ns)\n",
      "16. tryCatch(loadNamespace(name), error = function(e) stop(e))\n",
      "17. tryCatchList(expr, classes, parentenv, handlers)\n",
      "18. tryCatchOne(expr, names, parentenv, handlers[[1L]])\n",
      "19. value[[3L]](cond)\n"
     ]
    },
    {
     "data": {
      "text/plain": [
       "                 \n",
       "                  FALSE TRUE Sum \n",
       "  OpenScience      79    595  674\n",
       "  Reproducibility  63   1169 1232\n",
       "  Sum             142   1764 1906"
      ]
     },
     "metadata": {},
     "output_type": "display_data"
    }
   ],
   "source": [
    "#Exclude non-English titles\n",
    "data$Language <- textcat(as.character(data$Title))\n",
    "table(data$Language)\n",
    "addmargins(table(data$Tag, data$Language=='english'))\n",
    "data <- filter(data, Language=='english')"
   ]
  },
  {
   "cell_type": "code",
   "execution_count": 4,
   "metadata": {},
   "outputs": [
    {
     "data": {
      "image/png": "[encoded data removed]",
      "text/plain": [
       "Plot with title “Histogram of data$nchar”"
      ]
     },
     "metadata": {},
     "output_type": "display_data",
     "source": "R display func"
    },
    {
     "data": {
      "image/png": "[encoded data removed]",
      "text/plain": [
       "Plot with title “Histogram of data$nchar”"
      ]
     },
     "metadata": {},
     "output_type": "display_data",
     "source": "R display func"
    },
    {
     "data": {
      "image/png": "[encoded data removed]",
      "text/plain": [
       "Plot with title “Histogram of data$nchar”"
      ]
     },
     "metadata": {},
     "output_type": "display_data",
     "source": "R display func"
    }
   ],
   "source": [
    "#check for weirdly short abstracts\n",
    "data$nchar <- nchar(data$IndexedAbstract)\n",
    "hist(data$nchar, breaks=seq(0,7300,10)) #spike at 1023 due to truncation of some abstracts\n",
    "hist(data$nchar, xlim=c(0,2000), breaks=seq(0,7300,10))\n",
    "hist(data$nchar, xlim=c(0,500), breaks=seq(0,7300,10)) #no small weird values"
   ]
  },
  {
   "cell_type": "code",
   "execution_count": 5,
   "metadata": {},
   "outputs": [
    {
     "data": {},
     "metadata": {},
     "output_type": "display_data"
    },
    {
     "data": {
      "text/html": [
       "<strong>png:</strong> 2"
      ],
      "text/latex": [
       "\\textbf{png:} 2"
      ],
      "text/markdown": [
       "**png:** 2"
      ],
      "text/plain": [
       "png \n",
       "  2 "
      ]
     },
     "metadata": {},
     "output_type": "display_data"
    }
   ],
   "source": [
    "#look at boxplots and histograms of sentiment by field\n",
    "\n",
    "pdf('figures/Postivity_FieldFemale.pdf', width=5, height=4)\n",
    "data$femaleLead <- (data$X1st==1) | (data$last==1)\n",
    "ggplot(filter(data, !is.na(femaleLead)), aes(x=femaleLead, y=PositivityQDAP, fill=femaleLead)) + \n",
    "  geom_boxplot() + facet_grid(. ~ Tag) + scale_fill_manual(values=c('lightblue','pink')) + guides(fill=FALSE)\n",
    "dev.off()\n",
    "\n",
    "#no noticable gender differences, but sizeable difference between fields (Reproducibility less positive)"
   ]
  },
  {
   "cell_type": "code",
   "execution_count": 6,
   "metadata": {},
   "outputs": [
    {
     "data": {
      "text/html": [
       "<strong>png:</strong> 2"
      ],
      "text/latex": [
       "\\textbf{png:} 2"
      ],
      "text/markdown": [
       "**png:** 2"
      ],
      "text/plain": [
       "png \n",
       "  2 "
      ]
     },
     "metadata": {},
     "output_type": "display_data"
    }
   ],
   "source": [
    "### QDAP\n",
    "\n",
    "pdf('figures/SentimentPositivityQDAP_hist.pdf', width=10, height=5)\n",
    "par(mfrow=c(1,2))\n",
    "#Sentiment\n",
    "tmp <- filter(data, SentimentQDAP >= -0.2)\n",
    "hist(tmp$SentimentQDAP[tmp$Tag=='OpenScience'], freq=FALSE, breaks=seq(-0.2,0.5,0.03), col=rgb(0,1,1,0.5), main='Sentiment', xlab='QDAP Sentiment Score')\n",
    "hist(tmp$SentimentQDAP[tmp$Tag=='Reproducibility'], freq=FALSE, breaks=seq(-0.2,0.5,0.03), col=rgb(1,0,1,0.5), add=TRUE)\n",
    "legend('topright', legend=c('Open Science', 'Reproducibility'), fill=c(rgb(0,1,1,0.5), rgb(1,0,1,0.5)))\n",
    "#Positivity\n",
    "hist(tmp$PositivityQDAP[tmp$Tag=='OpenScience'], freq=FALSE, breaks=seq(-0.2,0.5,0.03), col=rgb(0,1,1,0.5), ylim=c(0,9), main='Positivity', xlab='QDAP Positivity Score')\n",
    "hist(tmp$PositivityQDAP[tmp$Tag=='Reproducibility'], freq=FALSE, breaks=seq(-0.2,0.5,0.03), col=rgb(1,0,1,0.5), add=TRUE)\n",
    "legend('topright', legend=c('Open Science', 'Reproducibility'), fill=c(rgb(0,1,1,0.5), rgb(1,0,1,0.5)))\n",
    "dev.off()"
   ]
  },
  {
   "cell_type": "code",
   "execution_count": 7,
   "metadata": {},
   "outputs": [
    {
     "data": {
      "text/html": [
       "<strong>png:</strong> 2"
      ],
      "text/latex": [
       "\\textbf{png:} 2"
      ],
      "text/markdown": [
       "**png:** 2"
      ],
      "text/plain": [
       "png \n",
       "  2 "
      ]
     },
     "metadata": {},
     "output_type": "display_data"
    }
   ],
   "source": [
    "### GI\n",
    "\n",
    "pdf('figures/SentimentPositivityGI_hist.pdf', width=10, height=5)\n",
    "par(mfrow=c(1,2))\n",
    "#Sentiment\n",
    "tmp <- filter(data, SentimentGI >= -0.2)\n",
    "hist(tmp$SentimentGI[tmp$Tag=='OpenScience'], freq=FALSE, breaks=seq(-0.2,0.6,0.03), col=rgb(0,1,1,0.5), main='Sentiment', xlab='GI Sentiment Score')\n",
    "hist(tmp$SentimentGI[tmp$Tag=='Reproducibility'], freq=FALSE, breaks=seq(-0.2,0.6,0.03), col=rgb(1,0,1,0.5), add=TRUE)\n",
    "legend('topright', legend=c('Open Science', 'Reproducibility'), fill=c(rgb(0,1,1,0.5), rgb(1,0,1,0.5)))\n",
    "#Positivity\n",
    "hist(tmp$PositivityGI[tmp$Tag=='OpenScience'], freq=FALSE, breaks=seq(-0.2,0.6,0.03), col=rgb(0,1,1,0.5), main='Positivity', xlab='GI Positivity Score')\n",
    "hist(tmp$PositivityGI[tmp$Tag=='Reproducibility'], freq=FALSE, breaks=seq(-0.2,0.6,0.03), col=rgb(1,0,1,0.5), add=TRUE)\n",
    "legend('topright', legend=c('Open Science', 'Reproducibility'), fill=c(rgb(0,1,1,0.5), rgb(1,0,1,0.5)))\n",
    "dev.off()"
   ]
  },
  {
   "cell_type": "code",
   "execution_count": 8,
   "metadata": {},
   "outputs": [
    {
     "name": "stderr",
     "output_type": "stream",
     "text": [
      "Warning message:\n",
      "“Removed 100 rows containing missing values (stat_boxplot).”`geom_smooth()` using method = 'loess' and formula 'y ~ x'\n",
      "Warning message:\n",
      "“Removed 100 rows containing non-finite values (stat_smooth).”Warning message:\n",
      "“Removed 1 rows containing missing values (geom_boxplot).”"
     ]
    },
    {
     "data": {},
     "metadata": {},
     "output_type": "display_data"
    },
    {
     "name": "stderr",
     "output_type": "stream",
     "text": [
      "Warning message:\n",
      "“Removed 100 rows containing missing values (stat_boxplot).”`geom_smooth()` using method = 'loess' and formula 'y ~ x'\n",
      "Warning message:\n",
      "“Removed 100 rows containing non-finite values (stat_smooth).”Warning message:\n",
      "“Removed 1 rows containing missing values (geom_boxplot).”"
     ]
    },
    {
     "data": {},
     "metadata": {},
     "output_type": "display_data"
    },
    {
     "data": {
      "text/html": [
       "<strong>png:</strong> 2"
      ],
      "text/latex": [
       "\\textbf{png:} 2"
      ],
      "text/markdown": [
       "**png:** 2"
      ],
      "text/plain": [
       "png \n",
       "  2 "
      ]
     },
     "metadata": {},
     "output_type": "display_data"
    }
   ],
   "source": [
    "### Team Size\n",
    "\n",
    "pdf('figures/SentimentPositivity_TeamSize.pdf', width=10, height=5)\n",
    "ggplot(data, aes(x=authorCount, y=SentimentQDAP, color=Tag, group=interaction(authorCount,Tag))) + \n",
    "  geom_boxplot() + geom_smooth() + xlim(0,10) + theme(legend.position='bottom')\n",
    "ggplot(data, aes(x=authorCount, y=PositivityQDAP, color=Tag, group=interaction(authorCount,Tag))) + \n",
    "  geom_boxplot() + geom_smooth() + xlim(0,10) + theme(legend.position='bottom')\n",
    "dev.off()\n",
    "\n",
    "#no noticeable effect of team size within either literature.\n",
    "#differences between the two fields are preserved across different team sizes"
   ]
  },
  {
   "cell_type": "markdown",
   "metadata": {},
   "source": [
    "### CUSTOM DICTIONARIES"
   ]
  },
  {
   "cell_type": "code",
   "execution_count": 9,
   "metadata": {},
   "outputs": [
    {
     "data": {
      "text/plain": [
       "                 \n",
       "                  FALSE TRUE\n",
       "  OpenScience       674  205\n",
       "  Reproducibility  1232  815"
      ]
     },
     "metadata": {},
     "output_type": "display_data"
    }
   ],
   "source": [
    "data <- read.csv('output/abstracts_scored_custom.csv', stringsAsFactors = FALSE)\n",
    "\n",
    "#make sure variable names match constructs\n",
    "dictionary <- read.csv('input/Lancet Dictionaries.csv', stringsAsFactors = FALSE)\n",
    "dictionary <- dictionary[,1:2]\n",
    "constructs <- levels(as.factor(dictionary$IndivConstruct)) \n",
    "\n",
    "neaten <- function(x){\n",
    "  x <- gsub(pattern = \" \", replacement = \"\", x) #remove spaces\n",
    "  x <- gsub(pattern = \"/\", replacement = \"_\", x) #replace slashes\n",
    "  x <- gsub(pattern = \"-\", replacement = \"\", x) #replace dashes\n",
    "  return(x)\n",
    "}\n",
    "constructs2 <- neaten(constructs)\n",
    "\n",
    "### Exclude missing abstracts\n",
    "table(data$Tag, data$IndexedAbstract=='') #how many excluded/included?\n",
    "#                  FALSE TRUE\n",
    "# OpenScience       674  205\n",
    "# Reproducibility  1232  815\n",
    "data <- filter(data, (IndexedAbstract != ''))"
   ]
  },
  {
   "cell_type": "code",
   "execution_count": 10,
   "metadata": {},
   "outputs": [
    {
     "data": {
      "text/plain": [
       "\n",
       "     afrikaans       albanian         breton        catalan         danish \n",
       "             2              1              1             21              9 \n",
       "         dutch        english      esperanto         french        frisian \n",
       "             2           1764              1              6              3 \n",
       "        german     indonesian        italian          latin           manx \n",
       "            28              2              1              7              2 \n",
       "middle_frisian     portuguese       romanian      rumantsch          scots \n",
       "             4              9              5              4             14 \n",
       "  scots_gaelic   slovak-ascii        spanish        swedish \n",
       "             1              2             13              4 "
      ]
     },
     "metadata": {},
     "output_type": "display_data"
    },
    {
     "data": {
      "text/plain": [
       "                 \n",
       "                  FALSE TRUE\n",
       "  OpenScience       595   79\n",
       "  Reproducibility  1169   63"
      ]
     },
     "metadata": {},
     "output_type": "display_data"
    },
    {
     "data": {
      "text/html": [
       "1764"
      ],
      "text/latex": [
       "1764"
      ],
      "text/markdown": [
       "1764"
      ],
      "text/plain": [
       "[1] 1764"
      ]
     },
     "metadata": {},
     "output_type": "display_data"
    },
    {
     "data": {
      "text/plain": [
       "\n",
       "    OpenScience Reproducibility \n",
       "            595            1169 "
      ]
     },
     "metadata": {},
     "output_type": "display_data"
    }
   ],
   "source": [
    "###Exclude non-English titles\n",
    "\n",
    "data$Language <- textcat(as.character(data$Title))\n",
    "table(data$Language)\n",
    "# afrikaans       albanian         breton        catalan         danish          dutch        english      esperanto \n",
    "# 2              1              1             21              9              2           1764              1 \n",
    "# french        frisian         german     indonesian        italian          latin           manx middle_frisian \n",
    "# 6              3             28              2              1              7              2              4 \n",
    "# portuguese       romanian      rumantsch          scots   scots_gaelic   slovak-ascii        spanish        swedish \n",
    "# 9              5              4             14              1              2             13              4 \n",
    "table(data$Tag, data$Language!='english') #how many excluded/included?\n",
    "#                 FALSE TRUE\n",
    "# OpenScience       595   79\n",
    "# Reproducibility  1169   63\n",
    "data <- filter(data, Language=='english')\n",
    "nrow(data) #1764\n",
    "table(data$Tag)\n",
    "# OpenScience Reproducibility \n",
    "# 595            1169 "
   ]
  },
  {
   "cell_type": "markdown",
   "metadata": {},
   "source": [
    "#### Compute composite scores"
   ]
  },
  {
   "cell_type": "code",
   "execution_count": 32,
   "metadata": {},
   "outputs": [
    {
     "name": "stdout",
     "output_type": "stream",
     "text": [
      "[1] \"Collaboration\"\n",
      "[1] \"Competiition_Achievement\"\n",
      "[1] \"Femininewords\"\n",
      "[1] \"IndividualfocusedPronouns\"\n",
      "[1] \"Innovation\"\n",
      "[1] \"Integrity\"\n",
      "[1] \"Learning\"\n",
      "[1] \"Masculinewords\"\n",
      "[1] \"Openness\"\n",
      "[1] \"Otherfocusedpronouns\"\n",
      "[1] \"Policing\"\n",
      "[1] \"ProsocialMotives\"\n",
      "[1] \"Reproducibility\"\n",
      "[1] \"TeamfocusedPronouns\"\n",
      "[1] \"Team_Communality\"\n"
     ]
    },
    {
     "data": {
      "text/html": [
       "<strong>png:</strong> 2"
      ],
      "text/latex": [
       "\\textbf{png:} 2"
      ],
      "text/markdown": [
       "**png:** 2"
      ],
      "text/plain": [
       "png \n",
       "  2 "
      ]
     },
     "metadata": {},
     "output_type": "display_data"
    }
   ],
   "source": [
    "#Exploratory Analysis\n",
    "\n",
    "#dat_dict2 <- filter(dat_dict, Year >= 2010, Year < 2018, authorCount <= 15)\n",
    "pdf('figures/Construct_boxplots.pdf', width=4, height=6)\n",
    "for(c in constructs2){\n",
    "  print(c)\n",
    "  data_c <- data[data[,c] > 0,] #only include observations with at least one instance of a construct word\n",
    "  names(data_c)[names(data_c)==c] <- 'var'\n",
    "  title_c <- paste0(c, ' (n = ',nrow(data_c),')')\n",
    "  print(ggplot(data_c, aes(x=Tag, y=var, group=Tag)) + geom_boxplot() + ylab(c) + ggtitle(title_c)) \n",
    "}\n",
    "dev.off()"
   ]
  },
  {
   "cell_type": "code",
   "execution_count": 11,
   "metadata": {},
   "outputs": [
    {
     "data": {
      "text/html": [
       "<strong>png:</strong> 2"
      ],
      "text/latex": [
       "\\textbf{png:} 2"
      ],
      "text/markdown": [
       "**png:** 2"
      ],
      "text/plain": [
       "png \n",
       "  2 "
      ]
     },
     "metadata": {},
     "output_type": "display_data"
    }
   ],
   "source": [
    "# Histograms for Pro-Social Construct\n",
    "\n",
    "data_OS <- filter(data, Tag=='OpenScience')\n",
    "data_RR <- filter(data, Tag=='Reproducibility')\n",
    "\n",
    "pdf('figures/ProSocialHist.pdf', width=6, height=5)\n",
    "angle <- c(45,-45)\n",
    "hist(data_RR$ProsocialMotives, border='gray', main='Distribution of Pro-Social Motives Construct Score', xlab='Pro-Social Motives Construct Score', breaks=seq(0,0.2,0.01))\n",
    "hist(data_OS$ProsocialMotives, border='black', add=TRUE, breaks=seq(0,0.2,0.01))\n",
    "legend('topright',legend=c('Open Science','Reproducibility'),fill='white',border=c('black','gray'))\n",
    "# hist(dat_dict_RR[,c], angle=angle[2], density=30, col='gray', main='Distribution of Pro-Social Motives Construct Score', xlab='Pro-Social Motives Construct Score', breaks=seq(0,0.2,0.01))\n",
    "# hist(dat_dict_OS[,c], angle=angle[1], density=30, col='turquoise', add=TRUE, breaks=seq(0,0.2,0.01))\n",
    "# legend('topright',legend=c('Open Science','Reproducibility'),fill=c('turquoise','gray'),angle=angle,density=30)\n",
    "dev.off()"
   ]
  },
  {
   "cell_type": "code",
   "execution_count": 36,
   "metadata": {},
   "outputs": [
    {
     "data": {
      "text/html": [
       "2.37834806213913"
      ],
      "text/latex": [
       "2.37834806213913"
      ],
      "text/markdown": [
       "2.37834806213913"
      ],
      "text/plain": [
       "[1] 2.378348"
      ]
     },
     "metadata": {},
     "output_type": "display_data"
    },
    {
     "data": {
      "text/html": [
       "1.81818181818182"
      ],
      "text/latex": [
       "1.81818181818182"
      ],
      "text/markdown": [
       "1.81818181818182"
      ],
      "text/plain": [
       "[1] 1.818182"
      ]
     },
     "metadata": {},
     "output_type": "display_data"
    },
    {
     "data": {
      "text/html": [
       "0.909111284241955"
      ],
      "text/latex": [
       "0.909111284241955"
      ],
      "text/markdown": [
       "0.909111284241955"
      ],
      "text/plain": [
       "[1] 0.9091113"
      ]
     },
     "metadata": {},
     "output_type": "display_data"
    },
    {
     "data": {
      "text/html": [
       "0"
      ],
      "text/latex": [
       "0"
      ],
      "text/markdown": [
       "0"
      ],
      "text/plain": [
       "[1] 0"
      ]
     },
     "metadata": {},
     "output_type": "display_data"
    },
    {
     "data": {
      "text/html": [
       "0"
      ],
      "text/latex": [
       "0"
      ],
      "text/markdown": [
       "0"
      ],
      "text/plain": [
       "[1] 0"
      ]
     },
     "metadata": {},
     "output_type": "display_data"
    },
    {
     "data": {
      "text/html": [
       "0"
      ],
      "text/latex": [
       "0"
      ],
      "text/markdown": [
       "0"
      ],
      "text/plain": [
       "[1] 0"
      ]
     },
     "metadata": {},
     "output_type": "display_data"
    }
   ],
   "source": [
    "# Pro-social word density\n",
    "mean(data_OS$ProsocialMotives)*100 #2.380103\n",
    "median(data_OS$ProsocialMotives)*100 #1.818182\n",
    "mean(data_RR$ProsocialMotives)*100 #0.9095105\n",
    "median(data_RR$ProsocialMotives)*100 #0\n",
    "\n",
    "# Test for Differences in Pro-Social Construct Score\n",
    "mean_diff <- mean(data_OS$ProsocialMotives) - mean(data_RR$ProsocialMotives) #0.01470592\n",
    "med_diff <- median(data_OS$ProsocialMotives) - median(data_RR$ProsocialMotives) #0.01818182\n",
    "\n",
    "#perform permutation test\n",
    "M <- 100000\n",
    "labels_true <- data$Tag\n",
    "n <- length(data$Tag)\n",
    "mean_diff_null <- rep(NA, M) #construct the null distribution for the difference in means\n",
    "med_diff_null <- rep(NA, M) #construct the null distribution for the difference in medians\n",
    "for(m in 1:M){\n",
    "  #print(m)\n",
    "  labels_m <- sample(labels_true, n, replace=FALSE)\n",
    "  data_OS_m <- data[labels_m=='OpenScience',]\n",
    "  data_RR_m <- data[labels_m=='Reproducibility',]\n",
    "  mean_diff_null[m] <- mean(data_OS_m$ProsocialMotives) - mean(data_RR_m$ProsocialMotives)\n",
    "  med_diff_null[m] <- median(data_OS_m$ProsocialMotives) - median(data_RR_m$ProsocialMotives)\n",
    "}\n",
    "\n",
    "#p-value (percent of times the permutation-based mean/median difference exceeds the observed one)\n",
    "mean(abs(mean_diff_null) > abs(mean_diff)) #0 (< 1/100000 = 1e-05)\n",
    "mean(abs(med_diff_null) > abs(med_diff)) #0 (< 1/100000 = 1e-05)"
   ]
  },
  {
   "cell_type": "code",
   "execution_count": 37,
   "metadata": {},
   "outputs": [
    {
     "data": {
      "text/plain": [
       "       \n",
       "        OpenScience Reproducibility\n",
       "  FALSE         141             654\n",
       "  TRUE          454             515"
      ]
     },
     "metadata": {},
     "output_type": "display_data"
    },
    {
     "data": {
      "text/plain": [
       "       \n",
       "        OpenScience Reproducibility\n",
       "  FALSE   0.2369748       0.5594525\n",
       "  TRUE    0.7630252       0.4405475"
      ]
     },
     "metadata": {},
     "output_type": "display_data"
    },
    {
     "data": {
      "text/html": [
       "6.66379162121165e-38"
      ],
      "text/latex": [
       "6.66379162121165e-38"
      ],
      "text/markdown": [
       "6.66379162121165e-38"
      ],
      "text/plain": [
       "[1] 6.663792e-38"
      ]
     },
     "metadata": {},
     "output_type": "display_data"
    }
   ],
   "source": [
    "# Test for Differences in Use of Any Pro-Social Words\n",
    "\n",
    "#what percentage of papers use ANY pro-social words?\n",
    "tab <- table(data$ProsocialMotives > 0, data$Tag)\n",
    "tab\n",
    "#           OpenScience Reproducibility\n",
    "# FALSE         141             654\n",
    "# TRUE          454             515\n",
    "tab/matrix(colSums(tab), nrow=2, ncol=2, byrow=TRUE)\n",
    "#         OpenScience Reproducibility\n",
    "# FALSE   0.2369748       0.5594525\n",
    "# TRUE    0.7630252       0.4405475\n",
    "\n",
    "\n",
    "# % of papers with any pro-social words in the abstract\n",
    "n_OS <- (tab[2,1]+tab[1,1])\n",
    "n_RR <- (tab[2,2]+tab[1,2])\n",
    "n1_OS <- tab[2,1]\n",
    "n1_RR <- tab[2,2]\n",
    "pct_OS <- n1_OS/n_OS #76%\n",
    "pct_RR <- n1_RR/n_RR #44%\n",
    "\n",
    "#H0: p_OS = p_RR\n",
    "pct = (n1_OS+n1_RR)/(n_OS+n_RR)\n",
    "t_compare <- (pct_OS - pct_RR)/sqrt(pct*(1-pct)*(1/n_OS + 1/n_RR))\n",
    "2*pnorm(t_compare, lower.tail = FALSE) #2.737252e-38"
   ]
  },
  {
   "cell_type": "code",
   "execution_count": null,
   "metadata": {},
   "outputs": [],
   "source": []
  }
 ],
 "metadata": {
  "kernelspec": {
   "display_name": "R",
   "language": "R",
   "name": "ir"
  },
  "language_info": {
   "codemirror_mode": "r",
   "file_extension": ".r",
   "mimetype": "text/x-r-source",
   "name": "R",
   "pygments_lexer": "r",
   "version": "3.4.4"
  }
 },
 "nbformat": 4,
 "nbformat_minor": 2
}
