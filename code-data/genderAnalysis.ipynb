{
 "cells": [
  {
   "cell_type": "code",
   "execution_count": 3,
   "metadata": {},
   "outputs": [
    {
     "name": "stderr",
     "output_type": "stream",
     "text": [
      "Installing package into ‘/srv/rlibs’\n",
      "(as ‘lib’ is unspecified)\n",
      "\n",
      "Attaching package: ‘gridExtra’\n",
      "\n",
      "The following object is masked from ‘package:dplyr’:\n",
      "\n",
      "    combine\n",
      "\n",
      "Installing package into ‘/srv/rlibs’\n",
      "(as ‘lib’ is unspecified)\n",
      "Loading required package: nlme\n",
      "\n",
      "Attaching package: ‘nlme’\n",
      "\n",
      "The following object is masked from ‘package:dplyr’:\n",
      "\n",
      "    collapse\n",
      "\n",
      "This is mgcv 1.8-22. For overview type 'help(\"mgcv-package\")'.\n"
     ]
    }
   ],
   "source": [
    "library(\"checkpoint\")\n",
    "checkpoint(\"2019-04-23\")\n",
    "library(ggplot2)\n",
    "library(dplyr)\n",
    "#install.packages('gridExtra')\n",
    "library(gridExtra)\n",
    "#install.packages('mgcv')\n",
    "library(mgcv) #gam"
   ]
  },
  {
   "cell_type": "code",
   "execution_count": 4,
   "metadata": {},
   "outputs": [
    {
     "data": {
      "text/html": [
       "2926"
      ],
      "text/latex": [
       "2926"
      ],
      "text/markdown": [
       "2926"
      ],
      "text/plain": [
       "[1] 2926"
      ]
     },
     "metadata": {},
     "output_type": "display_data"
    },
    {
     "data": {
      "text/html": [
       "<table>\n",
       "<thead><tr><th scope=col>Tag</th><th scope=col>count</th></tr></thead>\n",
       "<tbody>\n",
       "\t<tr><td>OpenScience    </td><td> 879           </td></tr>\n",
       "\t<tr><td>Reproducibility</td><td>2047           </td></tr>\n",
       "</tbody>\n",
       "</table>\n"
      ],
      "text/latex": [
       "\\begin{tabular}{r|ll}\n",
       " Tag & count\\\\\n",
       "\\hline\n",
       "\t OpenScience     &  879           \\\\\n",
       "\t Reproducibility & 2047           \\\\\n",
       "\\end{tabular}\n"
      ],
      "text/markdown": [
       "\n",
       "| Tag | count |\n",
       "|---|---|\n",
       "| OpenScience     |  879            |\n",
       "| Reproducibility | 2047            |\n",
       "\n"
      ],
      "text/plain": [
       "  Tag             count\n",
       "1 OpenScience      879 \n",
       "2 Reproducibility 2047 "
      ]
     },
     "metadata": {},
     "output_type": "display_data"
    }
   ],
   "source": [
    "dat <- read.csv('output/OpenSci3Discipline.csv', stringsAsFactors = FALSE)\n",
    "nrow(dat) #2926\n",
    "#number of papers in each literature\n",
    "dat %>% group_by(Tag) %>% summarise(count=n())\n",
    "# 1 OpenScience       879\n",
    "# 2 Reproducibility  2047"
   ]
  },
  {
   "cell_type": "markdown",
   "metadata": {},
   "source": [
    "### Female participation analysis"
   ]
  },
  {
   "cell_type": "code",
   "execution_count": 5,
   "metadata": {},
   "outputs": [
    {
     "data": {
      "text/plain": [
       "       \n",
       "        OpenScience Reproducibility\n",
       "  FALSE         336             613\n",
       "  TRUE          364             652"
      ]
     },
     "metadata": {},
     "output_type": "display_data"
    },
    {
     "data": {
      "text/html": [
       "<table>\n",
       "<thead><tr><th scope=col>Tag</th><th scope=col>count_known</th><th scope=col>pct_femLead</th></tr></thead>\n",
       "<tbody>\n",
       "\t<tr><td>OpenScience    </td><td>482            </td><td>0.6058091      </td></tr>\n",
       "\t<tr><td>Reproducibility</td><td>995            </td><td>0.5788945      </td></tr>\n",
       "</tbody>\n",
       "</table>\n"
      ],
      "text/latex": [
       "\\begin{tabular}{r|lll}\n",
       " Tag & count\\_known & pct\\_femLead\\\\\n",
       "\\hline\n",
       "\t OpenScience     & 482             & 0.6058091      \\\\\n",
       "\t Reproducibility & 995             & 0.5788945      \\\\\n",
       "\\end{tabular}\n"
      ],
      "text/markdown": [
       "\n",
       "| Tag | count_known | pct_femLead |\n",
       "|---|---|---|\n",
       "| OpenScience     | 482             | 0.6058091       |\n",
       "| Reproducibility | 995             | 0.5788945       |\n",
       "\n"
      ],
      "text/plain": [
       "  Tag             count_known pct_femLead\n",
       "1 OpenScience     482         0.6058091  \n",
       "2 Reproducibility 995         0.5788945  "
      ]
     },
     "metadata": {},
     "output_type": "display_data"
    }
   ],
   "source": [
    "# variables X1st, X2nd, etc. = 1 if female, 0 if male, NA if unknown\n",
    "\n",
    "#Female First or Last Author\n",
    "dat$femaleLead <- (dat$X1st==1) | (dat$last==1)\n",
    "table(dat$femaleLead, dat$Tag)\n",
    "\n",
    "#percent of multi-author papers with female lead (of those where it is observable)\n",
    "dat %>% filter(authorCount > 1) %>% group_by(Tag) %>% \n",
    "  summarise(count_known=sum(!is.na(femaleLead)), \n",
    "            pct_femLead = sum(femaleLead, na.rm=TRUE)/count_known)"
   ]
  },
  {
   "cell_type": "code",
   "execution_count": 6,
   "metadata": {},
   "outputs": [
    {
     "data": {
      "text/html": [
       "<table>\n",
       "<thead><tr><th scope=col>Tag</th><th scope=col>count</th></tr></thead>\n",
       "<tbody>\n",
       "\t<tr><td>OpenScience    </td><td>255            </td></tr>\n",
       "\t<tr><td>Reproducibility</td><td>342            </td></tr>\n",
       "</tbody>\n",
       "</table>\n"
      ],
      "text/latex": [
       "\\begin{tabular}{r|ll}\n",
       " Tag & count\\\\\n",
       "\\hline\n",
       "\t OpenScience     & 255            \\\\\n",
       "\t Reproducibility & 342            \\\\\n",
       "\\end{tabular}\n"
      ],
      "text/markdown": [
       "\n",
       "| Tag | count |\n",
       "|---|---|\n",
       "| OpenScience     | 255             |\n",
       "| Reproducibility | 342             |\n",
       "\n"
      ],
      "text/plain": [
       "  Tag             count\n",
       "1 OpenScience     255  \n",
       "2 Reproducibility 342  "
      ]
     },
     "metadata": {},
     "output_type": "display_data"
    },
    {
     "data": {
      "text/html": [
       "<table>\n",
       "<thead><tr><th scope=col>Tag</th><th scope=col>count</th></tr></thead>\n",
       "<tbody>\n",
       "\t<tr><td>OpenScience    </td><td> 624           </td></tr>\n",
       "\t<tr><td>Reproducibility</td><td>1705           </td></tr>\n",
       "</tbody>\n",
       "</table>\n"
      ],
      "text/latex": [
       "\\begin{tabular}{r|ll}\n",
       " Tag & count\\\\\n",
       "\\hline\n",
       "\t OpenScience     &  624           \\\\\n",
       "\t Reproducibility & 1705           \\\\\n",
       "\\end{tabular}\n"
      ],
      "text/markdown": [
       "\n",
       "| Tag | count |\n",
       "|---|---|\n",
       "| OpenScience     |  624            |\n",
       "| Reproducibility | 1705            |\n",
       "\n"
      ],
      "text/plain": [
       "  Tag             count\n",
       "1 OpenScience      624 \n",
       "2 Reproducibility 1705 "
      ]
     },
     "metadata": {},
     "output_type": "display_data"
    },
    {
     "data": {
      "text/html": [
       "<table>\n",
       "<thead><tr><th scope=col>Tag</th><th scope=col>X1st</th><th scope=col>count</th></tr></thead>\n",
       "<tbody>\n",
       "\t<tr><td>OpenScience    </td><td> 0             </td><td>146            </td></tr>\n",
       "\t<tr><td>OpenScience    </td><td> 1             </td><td> 72            </td></tr>\n",
       "\t<tr><td>OpenScience    </td><td>NA             </td><td> 37            </td></tr>\n",
       "\t<tr><td>Reproducibility</td><td> 0             </td><td>194            </td></tr>\n",
       "\t<tr><td>Reproducibility</td><td> 1             </td><td> 76            </td></tr>\n",
       "\t<tr><td>Reproducibility</td><td>NA             </td><td> 72            </td></tr>\n",
       "</tbody>\n",
       "</table>\n"
      ],
      "text/latex": [
       "\\begin{tabular}{r|lll}\n",
       " Tag & X1st & count\\\\\n",
       "\\hline\n",
       "\t OpenScience     &  0              & 146            \\\\\n",
       "\t OpenScience     &  1              &  72            \\\\\n",
       "\t OpenScience     & NA              &  37            \\\\\n",
       "\t Reproducibility &  0              & 194            \\\\\n",
       "\t Reproducibility &  1              &  76            \\\\\n",
       "\t Reproducibility & NA              &  72            \\\\\n",
       "\\end{tabular}\n"
      ],
      "text/markdown": [
       "\n",
       "| Tag | X1st | count |\n",
       "|---|---|---|\n",
       "| OpenScience     |  0              | 146             |\n",
       "| OpenScience     |  1              |  72             |\n",
       "| OpenScience     | NA              |  37             |\n",
       "| Reproducibility |  0              | 194             |\n",
       "| Reproducibility |  1              |  76             |\n",
       "| Reproducibility | NA              |  72             |\n",
       "\n"
      ],
      "text/plain": [
       "  Tag             X1st count\n",
       "1 OpenScience      0   146  \n",
       "2 OpenScience      1    72  \n",
       "3 OpenScience     NA    37  \n",
       "4 Reproducibility  0   194  \n",
       "5 Reproducibility  1    76  \n",
       "6 Reproducibility NA    72  "
      ]
     },
     "metadata": {},
     "output_type": "display_data"
    }
   ],
   "source": [
    "#number of single-authored papers in each literature\n",
    "dat %>% filter(authorCount==1) %>% group_by(Tag) %>% summarise(count=n())\n",
    "\n",
    "#number of multi-authored papers in each literature\n",
    "dat %>% filter(authorCount > 1) %>% group_by(Tag) %>% summarise(count=n())\n",
    "\n",
    "#number of single-authored papers with female, male or unknown author gender\n",
    "dat %>% filter(authorCount==1) %>% group_by(Tag, X1st) %>% summarise(count=n())"
   ]
  },
  {
   "cell_type": "code",
   "execution_count": 7,
   "metadata": {},
   "outputs": [
    {
     "data": {
      "text/html": [
       "<table>\n",
       "<thead><tr><th scope=col>Tag</th><th scope=col>count</th></tr></thead>\n",
       "<tbody>\n",
       "\t<tr><td>OpenScience    </td><td>454            </td></tr>\n",
       "\t<tr><td>Reproducibility</td><td>955            </td></tr>\n",
       "</tbody>\n",
       "</table>\n"
      ],
      "text/latex": [
       "\\begin{tabular}{r|ll}\n",
       " Tag & count\\\\\n",
       "\\hline\n",
       "\t OpenScience     & 454            \\\\\n",
       "\t Reproducibility & 955            \\\\\n",
       "\\end{tabular}\n"
      ],
      "text/markdown": [
       "\n",
       "| Tag | count |\n",
       "|---|---|\n",
       "| OpenScience     | 454             |\n",
       "| Reproducibility | 955             |\n",
       "\n"
      ],
      "text/plain": [
       "  Tag             count\n",
       "1 OpenScience     454  \n",
       "2 Reproducibility 955  "
      ]
     },
     "metadata": {},
     "output_type": "display_data"
    },
    {
     "data": {
      "text/html": [
       "<table>\n",
       "<thead><tr><th scope=col>Tag</th><th scope=col>count</th></tr></thead>\n",
       "<tbody>\n",
       "\t<tr><td>OpenScience    </td><td>28             </td></tr>\n",
       "\t<tr><td>Reproducibility</td><td>40             </td></tr>\n",
       "</tbody>\n",
       "</table>\n"
      ],
      "text/latex": [
       "\\begin{tabular}{r|ll}\n",
       " Tag & count\\\\\n",
       "\\hline\n",
       "\t OpenScience     & 28             \\\\\n",
       "\t Reproducibility & 40             \\\\\n",
       "\\end{tabular}\n"
      ],
      "text/markdown": [
       "\n",
       "| Tag | count |\n",
       "|---|---|\n",
       "| OpenScience     | 28              |\n",
       "| Reproducibility | 40              |\n",
       "\n"
      ],
      "text/plain": [
       "  Tag             count\n",
       "1 OpenScience     28   \n",
       "2 Reproducibility 40   "
      ]
     },
     "metadata": {},
     "output_type": "display_data"
    },
    {
     "data": {
      "image/png": "[encoded data removed]",
      "text/plain": [
       "Plot with title “Distribution of Team Size”"
      ]
     },
     "metadata": {},
     "output_type": "display_data",
     "source": "R display func"
    }
   ],
   "source": [
    "#distribution of team size\n",
    "hist(dat$authorCount, breaks=seq(0,94,2), main='Distribution of Team Size', xlab='Number of Authors')\n",
    "abline(v=15, col='red')\n",
    "\n",
    "#sample size for regression\n",
    "dat %>% filter(authorCount > 1, authorCount <= 12, !is.na(femaleLead)) %>% group_by(Tag) %>% summarise(count=n())\n",
    "# 1 OpenScience       461\n",
    "# 2 Reproducibility   970\n",
    "\n",
    "#number of papers with more than 12 authors (excluded from regression)\n",
    "dat %>% filter(authorCount > 12, !is.na(femaleLead)) %>% group_by(Tag) %>% summarise(count=n())"
   ]
  },
  {
   "cell_type": "code",
   "execution_count": 8,
   "metadata": {},
   "outputs": [
    {
     "data": {
      "text/plain": [
       "         \n",
       "          OpenScience Reproducibility\n",
       "  Male            146             194\n",
       "  Female           72              76\n",
       "  Unknown          37              72"
      ]
     },
     "metadata": {},
     "output_type": "display_data"
    },
    {
     "data": {
      "text/plain": [
       "         \n",
       "          OpenScience Reproducibility\n",
       "  Male          0.573           0.567\n",
       "  Female        0.282           0.222\n",
       "  Unknown       0.145           0.211"
      ]
     },
     "metadata": {},
     "output_type": "display_data"
    }
   ],
   "source": [
    "### Test for differences in rates of female vs. male authorship in single-author papers\n",
    "\n",
    "tmp <- dplyr::filter(dat, authorCount==1)\n",
    "tab <- table(tmp$femaleLead, tmp$Tag, useNA = 'ifany')\n",
    "rownames(tab) <- c(\"Male\",\"Female\",\"Unknown\")\n",
    "tab\n",
    "# OpenScience Reproducibility\n",
    "# Male            146             194\n",
    "# Female           72              76\n",
    "# Unknown          37              72\n",
    "round(tab/matrix(colSums(tab), nrow=3,ncol=2,byrow=TRUE),3)"
   ]
  },
  {
   "cell_type": "code",
   "execution_count": 9,
   "metadata": {},
   "outputs": [
    {
     "data": {
      "text/html": [
       "2.69458669765673e-07"
      ],
      "text/latex": [
       "2.69458669765673e-07"
      ],
      "text/markdown": [
       "2.69458669765673e-07"
      ],
      "text/plain": [
       "[1] 2.694587e-07"
      ]
     },
     "metadata": {},
     "output_type": "display_data"
    },
    {
     "data": {
      "text/html": [
       "3.45381216777963e-13"
      ],
      "text/latex": [
       "3.45381216777963e-13"
      ],
      "text/markdown": [
       "3.45381216777963e-13"
      ],
      "text/plain": [
       "[1] 3.453812e-13"
      ]
     },
     "metadata": {},
     "output_type": "display_data"
    }
   ],
   "source": [
    "### COMPARE RATES OF WOMEN IN SINGLE-AUTHOR PAPERS\n",
    "\n",
    "# % of single-author papers written by women, among those with known gender\n",
    "tab <- tab[1:2,] #exclude papers with unknown author gender \n",
    "n_OS <- sum(tab[,1])\n",
    "n_RR <- sum(tab[,2])\n",
    "n_fem_OS <- tab[2,1]\n",
    "n_fem_RR <- tab[2,2]\n",
    "pct_fem_OS <- n_fem_OS/n_OS #33% \n",
    "pct_fem_RR <- n_fem_RR/n_RR #28%\n",
    "\n",
    "#H0: p = 0.5\n",
    "\n",
    "#Normal approximation\n",
    "t_OS <- (pct_fem_OS-0.5)/sqrt(0.5*0.5/n_OS)\n",
    "t_RR <- (pct_fem_RR-0.5)/sqrt(0.5*0.5/n_RR)\n",
    "pnorm(t_OS) #2.694587e-07\n",
    "pnorm(t_RR) #4.888296e-13"
   ]
  },
  {
   "cell_type": "code",
   "execution_count": 10,
   "metadata": {},
   "outputs": [
    {
     "data": {
      "text/html": [
       "3.01272730645377e-07"
      ],
      "text/latex": [
       "3.01272730645377e-07"
      ],
      "text/markdown": [
       "3.01272730645377e-07"
      ],
      "text/plain": [
       "[1] 3.012727e-07"
      ]
     },
     "metadata": {},
     "output_type": "display_data"
    },
    {
     "data": {
      "text/html": [
       "2.27988306033356e-13"
      ],
      "text/latex": [
       "2.27988306033356e-13"
      ],
      "text/markdown": [
       "2.27988306033356e-13"
      ],
      "text/plain": [
       "[1] 2.279883e-13"
      ]
     },
     "metadata": {},
     "output_type": "display_data"
    },
    {
     "data": {
      "text/html": [
       "0.121853167633639"
      ],
      "text/latex": [
       "0.121853167633639"
      ],
      "text/markdown": [
       "0.121853167633639"
      ],
      "text/plain": [
       "[1] 0.1218532"
      ]
     },
     "metadata": {},
     "output_type": "display_data"
    }
   ],
   "source": [
    "#Exact test\n",
    "pbinom(n_fem_OS, size = n_OS, prob = 0.5) #3.012727e-07\n",
    "pbinom(n_fem_RR, size = n_RR, prob = 0.5) #3.286681e-13\n",
    "\n",
    "#H0: p_OS = p_RR\n",
    "pct_fem = (n_fem_OS+n_fem_RR)/(n_OS+n_RR)\n",
    "t_compare <- (pct_fem_OS - pct_fem_RR)/sqrt(pct_fem*(1-pct_fem)*(1/n_OS + 1/n_RR))\n",
    "pnorm(t_compare, lower.tail = FALSE) #p=0.1218532"
   ]
  },
  {
   "cell_type": "markdown",
   "metadata": {},
   "source": [
    "### Exploratory Analysis"
   ]
  },
  {
   "cell_type": "code",
   "execution_count": 11,
   "metadata": {},
   "outputs": [
    {
     "data": {
      "text/html": [
       "<strong>png:</strong> 2"
      ],
      "text/latex": [
       "\\textbf{png:} 2"
      ],
      "text/markdown": [
       "**png:** 2"
      ],
      "text/plain": [
       "png \n",
       "  2 "
      ]
     },
     "metadata": {},
     "output_type": "display_data"
    }
   ],
   "source": [
    "### Number of papers in each field over Time\n",
    "\n",
    "pdf('figures/TimeHist.pdf', width=8, height=5)\n",
    "par(mfrow=c(1,2))\n",
    "par(cex.axis=0.7)\n",
    "hist(dat$Year[dat$Tag=='OpenScience'], col=rgb(0,0,1,0.5), breaks=2010:2017, xlab='Year', xlim=c(2010,2017), main='Open Science', ylab='Number of Papers Published')\n",
    "hist(dat$Year[dat$Tag=='Reproducibility'], col=rgb(0,0,1,0.5), breaks=2010:2017, xlab='Year', xlim=c(2010,2017), main='Reproducibility', ylab='Number of Papers Published')\n",
    "dev.off()"
   ]
  },
  {
   "cell_type": "code",
   "execution_count": 12,
   "metadata": {},
   "outputs": [
    {
     "data": {
      "text/html": [
       "<strong>png:</strong> 2"
      ],
      "text/latex": [
       "\\textbf{png:} 2"
      ],
      "text/markdown": [
       "**png:** 2"
      ],
      "text/plain": [
       "png \n",
       "  2 "
      ]
     },
     "metadata": {},
     "output_type": "display_data"
    }
   ],
   "source": [
    "### Number of papers in each field by Team Size\n",
    "\n",
    "pdf('figures/TeamSizeHist.pdf', width=8, height=5)\n",
    "par(mfrow=c(1,2))\n",
    "par(cex.axis=0.7)\n",
    "hist(dat$authorCount[dat$Tag=='OpenScience'], col=rgb(0,0,1,0.5), xlab='Number of Authors', xlim=c(0,20), breaks=seq(0,100), main='Open Science', ylab='Number of Papers Published')\n",
    "hist(dat$authorCount[dat$Tag=='Reproducibility'], col=rgb(0,0,1,0.5), xlab='Number of Authors', xlim=c(0,20), breaks=seq(0,100), main='Reproducibility', ylab='Number of Papers Published')\n",
    "dev.off()"
   ]
  },
  {
   "cell_type": "code",
   "execution_count": 23,
   "metadata": {},
   "outputs": [
    {
     "data": {
      "text/html": [
       "<table>\n",
       "<thead><tr><th scope=col>Tag</th><th scope=col>count</th></tr></thead>\n",
       "<tbody>\n",
       "\t<tr><td>OpenScience    </td><td>21             </td></tr>\n",
       "\t<tr><td>Reproducibility</td><td>25             </td></tr>\n",
       "</tbody>\n",
       "</table>\n"
      ],
      "text/latex": [
       "\\begin{tabular}{r|ll}\n",
       " Tag & count\\\\\n",
       "\\hline\n",
       "\t OpenScience     & 21             \\\\\n",
       "\t Reproducibility & 25             \\\\\n",
       "\\end{tabular}\n"
      ],
      "text/markdown": [
       "\n",
       "| Tag | count |\n",
       "|---|---|\n",
       "| OpenScience     | 21              |\n",
       "| Reproducibility | 25              |\n",
       "\n"
      ],
      "text/plain": [
       "  Tag             count\n",
       "1 OpenScience     21   \n",
       "2 Reproducibility 25   "
      ]
     },
     "metadata": {},
     "output_type": "display_data"
    },
    {
     "data": {
      "text/html": [
       "<table>\n",
       "<thead><tr><th scope=col>Tag</th><th scope=col>count</th></tr></thead>\n",
       "<tbody>\n",
       "\t<tr><td>OpenScience    </td><td>14             </td></tr>\n",
       "\t<tr><td>Reproducibility</td><td>15             </td></tr>\n",
       "</tbody>\n",
       "</table>\n"
      ],
      "text/latex": [
       "\\begin{tabular}{r|ll}\n",
       " Tag & count\\\\\n",
       "\\hline\n",
       "\t OpenScience     & 14             \\\\\n",
       "\t Reproducibility & 15             \\\\\n",
       "\\end{tabular}\n"
      ],
      "text/markdown": [
       "\n",
       "| Tag | count |\n",
       "|---|---|\n",
       "| OpenScience     | 14              |\n",
       "| Reproducibility | 15              |\n",
       "\n"
      ],
      "text/plain": [
       "  Tag             count\n",
       "1 OpenScience     14   \n",
       "2 Reproducibility 15   "
      ]
     },
     "metadata": {},
     "output_type": "display_data"
    },
    {
     "data": {
      "text/html": [
       "<strong>png:</strong> 2"
      ],
      "text/latex": [
       "\\textbf{png:} 2"
      ],
      "text/markdown": [
       "**png:** 2"
      ],
      "text/plain": [
       "png \n",
       "  2 "
      ]
     },
     "metadata": {},
     "output_type": "display_data"
    }
   ],
   "source": [
    "### Team Size Distribution (**** FIGURE 3 ****)\n",
    "\n",
    "#how many papers then excluded due to high number of authors?\n",
    "dat %>% filter(authorCount > 1, !is.na(femaleLead), authorCount > 15) %>% group_by(Tag) %>% summarize(count=n())\n",
    "# 1 OpenScience        21\n",
    "# 2 Reproducibility    25\n",
    "\n",
    "dat %>% filter(authorCount > 1, !is.na(femaleLead), authorCount > 20) %>% group_by(Tag) %>% summarize(count=n())\n",
    "# 1 OpenScience        14\n",
    "# 2 Reproducibility    15\n",
    "\n",
    "pdf('figures/TeamSizeHist_fem.pdf', width=8, height=5) \n",
    "par(mfrow=c(1,2))\n",
    "angle <- c(45,-45)\n",
    "\n",
    "#Open Science\n",
    "datOS <- filter(dat, Tag=='OpenScience', authorCount <= 20, authorCount > 1, !is.na(femaleLead))\n",
    "hist(datOS$authorCount[datOS$femaleLead==TRUE], border='black', breaks=seq(1,20,1), main='Open Science', xlab='Team Size', ylim=c(0,150), xlim=c(0,20))\n",
    "hist(datOS$authorCount[datOS$femaleLead==FALSE], border='gray', breaks=seq(1,20,1), add=TRUE)\n",
    "legend('topright', legend=c('Female with High Status', 'No Female with High Status'), fill='white', border=c('black','gray'))\n",
    "# hist(datOS$authorCount[datOS$femaleLead==TRUE], angle=angle[1], density=30, col='magenta', breaks=seq(1,20,1), main='Open Science', xlab='Team Size', ylim=c(0,200), xlim=c(0,20))\n",
    "# hist(datOS$authorCount[datOS$femaleLead==FALSE], angle=angle[2], density=30, col='blue', breaks=seq(1,20,1), add=TRUE)\n",
    "# legend('topright', legend=c('Female with High Status', 'No Female with High Status'), fill=c('magenta','blue'),angle=angle,density=30)\n",
    "\n",
    "#Reproducibility\n",
    "datRP <- filter(dat, Tag=='Reproducibility', authorCount <= 20, authorCount > 1, !is.na(femaleLead))\n",
    "hist(datRP$authorCount[datRP$femaleLead==TRUE], border='black', breaks=seq(1,20,1), main='Reproducibility', xlab='Team Size', ylim=c(0,150), xlim=c(0,20))\n",
    "hist(datRP$authorCount[datRP$femaleLead==FALSE], border='gray', breaks=seq(1,20,1), add=TRUE)\n",
    "legend('topright', legend=c('Female with High Status', 'No Female with High Status'), fill='white', border=c('black','gray'))\n",
    "# hist(datRP$authorCount[datRP$femaleLead==TRUE], angle=angle[1], density=30, col='magenta', breaks=seq(1,20,1), main='Reproducibility', xlab='Team Size', ylim=c(0,200), xlim=c(0,20))\n",
    "# hist(datRP$authorCount[datRP$femaleLead==FALSE], angle=angle[2], density=30, col='blue', breaks=seq(1,20,1), add=TRUE)\n",
    "# legend('topright', legend=c('Female with High Status', 'No Female with High Status'), fill=c('magenta','blue'),angle=angle,density=30)\n",
    "\n",
    "dev.off()"
   ]
  },
  {
   "cell_type": "code",
   "execution_count": 13,
   "metadata": {},
   "outputs": [
    {
     "name": "stderr",
     "output_type": "stream",
     "text": [
      "`geom_smooth()` using method = 'loess'\n",
      "`geom_smooth()` using method = 'loess'\n",
      "Warning message:\n",
      "“Removed 1 rows containing non-finite values (stat_smooth).”"
     ]
    },
    {
     "data": {
      "text/html": [
       "<strong>png:</strong> 2"
      ],
      "text/latex": [
       "\\textbf{png:} 2"
      ],
      "text/markdown": [
       "**png:** 2"
      ],
      "text/plain": [
       "png \n",
       "  2 "
      ]
     },
     "metadata": {},
     "output_type": "display_data"
    }
   ],
   "source": [
    "### Time Trends: Female lead authorship is frowing in Open Science but declining in Reproducibility\n",
    "\n",
    "pdf('figures/TimeTrends_fem.pdf', width=8, height=5) \n",
    "#multi-author papers\n",
    "dat_summ1 <- dat %>% filter(Year >= 2010, Year < 2018, authorCount <= 15, authorCount > 1) %>% \n",
    "  group_by(Tag, Year) %>% \n",
    "  summarize(count=sum(!is.na(femaleLead)), pctFemaleLead = mean(femaleLead, na.rm=TRUE), logitFemaleLead = log(pctFemaleLead/(1-pctFemaleLead)))\n",
    "p1 <- ggplot(dat_summ1, aes(x=Year, y=logitFemaleLead, color=Tag, group=Tag)) + \n",
    "  geom_point() + geom_smooth() + ylab('Logit of Pr(Female Lead)') +\n",
    "  ggtitle('Multi-Author Papers') + theme(legend.position='bottom')\n",
    "#single-author papers\n",
    "dat_summ2 <- dat %>% filter(Year >= 2010, Year < 2018, authorCount == 1) %>% \n",
    "  group_by(Tag, Year) %>% \n",
    "  summarize(count=sum(!is.na(femaleLead)), pctFemaleLead = mean(femaleLead, na.rm=TRUE), logitFemaleLead = log(pctFemaleLead/(1-pctFemaleLead)))\n",
    "p2 <- ggplot(dat_summ2, aes(x=Year, y=logitFemaleLead, color=Tag, group=Tag)) + \n",
    "  geom_point() + geom_smooth() + ylab('Logit of Pr(Female Lead)') +\n",
    "  ggtitle('Single-Author Papers') + theme(legend.position='bottom')\n",
    "grid.arrange(p1, p2, nrow=1)\n",
    "dev.off()"
   ]
  },
  {
   "cell_type": "markdown",
   "metadata": {},
   "source": [
    "### Models for Female Lead Authorship"
   ]
  },
  {
   "cell_type": "code",
   "execution_count": 14,
   "metadata": {},
   "outputs": [
    {
     "data": {
      "text/html": [
       "<table>\n",
       "<thead><tr><th scope=col>Tag</th><th scope=col>count</th></tr></thead>\n",
       "<tbody>\n",
       "\t<tr><td>OpenScience    </td><td>142            </td></tr>\n",
       "\t<tr><td>Reproducibility</td><td>710            </td></tr>\n",
       "</tbody>\n",
       "</table>\n"
      ],
      "text/latex": [
       "\\begin{tabular}{r|ll}\n",
       " Tag & count\\\\\n",
       "\\hline\n",
       "\t OpenScience     & 142            \\\\\n",
       "\t Reproducibility & 710            \\\\\n",
       "\\end{tabular}\n"
      ],
      "text/markdown": [
       "\n",
       "| Tag | count |\n",
       "|---|---|\n",
       "| OpenScience     | 142             |\n",
       "| Reproducibility | 710             |\n",
       "\n"
      ],
      "text/plain": [
       "  Tag             count\n",
       "1 OpenScience     142  \n",
       "2 Reproducibility 710  "
      ]
     },
     "metadata": {},
     "output_type": "display_data"
    },
    {
     "data": {
      "text/html": [
       "<table>\n",
       "<thead><tr><th scope=col>Tag</th><th scope=col>count</th></tr></thead>\n",
       "<tbody>\n",
       "\t<tr><td>OpenScience    </td><td>28             </td></tr>\n",
       "\t<tr><td>Reproducibility</td><td>40             </td></tr>\n",
       "</tbody>\n",
       "</table>\n"
      ],
      "text/latex": [
       "\\begin{tabular}{r|ll}\n",
       " Tag & count\\\\\n",
       "\\hline\n",
       "\t OpenScience     & 28             \\\\\n",
       "\t Reproducibility & 40             \\\\\n",
       "\\end{tabular}\n"
      ],
      "text/markdown": [
       "\n",
       "| Tag | count |\n",
       "|---|---|\n",
       "| OpenScience     | 28              |\n",
       "| Reproducibility | 40              |\n",
       "\n"
      ],
      "text/plain": [
       "  Tag             count\n",
       "1 OpenScience     28   \n",
       "2 Reproducibility 40   "
      ]
     },
     "metadata": {},
     "output_type": "display_data"
    },
    {
     "data": {
      "text/html": [
       "<table>\n",
       "<thead><tr><th scope=col>Tag</th><th scope=col>count</th></tr></thead>\n",
       "<tbody>\n",
       "\t<tr><td>OpenScience    </td><td>454            </td></tr>\n",
       "\t<tr><td>Reproducibility</td><td>955            </td></tr>\n",
       "</tbody>\n",
       "</table>\n"
      ],
      "text/latex": [
       "\\begin{tabular}{r|ll}\n",
       " Tag & count\\\\\n",
       "\\hline\n",
       "\t OpenScience     & 454            \\\\\n",
       "\t Reproducibility & 955            \\\\\n",
       "\\end{tabular}\n"
      ],
      "text/markdown": [
       "\n",
       "| Tag | count |\n",
       "|---|---|\n",
       "| OpenScience     | 454             |\n",
       "| Reproducibility | 955             |\n",
       "\n"
      ],
      "text/plain": [
       "  Tag             count\n",
       "1 OpenScience     454  \n",
       "2 Reproducibility 955  "
      ]
     },
     "metadata": {},
     "output_type": "display_data"
    }
   ],
   "source": [
    "#how many papers excluded due to unknown female lead authorship?\n",
    "dat %>% filter(authorCount > 1, is.na(femaleLead)) %>% group_by(Tag) %>% summarize(count=n())\n",
    "\n",
    "#how many papers then excluded due to high number of authors?\n",
    "dat %>% filter(authorCount > 1, !is.na(femaleLead), authorCount > 12) %>% group_by(Tag) %>% summarize(count=n())\n",
    "\n",
    "dat3 <- filter(dat, authorCount <= 12) #very few papers with over 12 authors in either literature (numbers above)\n",
    "dat3 <- filter(dat3, authorCount > 1) #exclude single-author papers\n",
    "dat3 %>% group_by(Tag) %>% summarise(count=sum(!is.na(femaleLead)))"
   ]
  },
  {
   "cell_type": "markdown",
   "metadata": {},
   "source": [
    "#### Model 1: All multi-author papers with known female lead authorship"
   ]
  },
  {
   "cell_type": "code",
   "execution_count": 15,
   "metadata": {},
   "outputs": [
    {
     "data": {
      "text/html": [
       "<table>\n",
       "<thead><tr><th scope=col>Tag</th><th scope=col>count</th></tr></thead>\n",
       "<tbody>\n",
       "\t<tr><td>OpenScience    </td><td>454            </td></tr>\n",
       "\t<tr><td>Reproducibility</td><td>955            </td></tr>\n",
       "</tbody>\n",
       "</table>\n"
      ],
      "text/latex": [
       "\\begin{tabular}{r|ll}\n",
       " Tag & count\\\\\n",
       "\\hline\n",
       "\t OpenScience     & 454            \\\\\n",
       "\t Reproducibility & 955            \\\\\n",
       "\\end{tabular}\n"
      ],
      "text/markdown": [
       "\n",
       "| Tag | count |\n",
       "|---|---|\n",
       "| OpenScience     | 454             |\n",
       "| Reproducibility | 955             |\n",
       "\n"
      ],
      "text/plain": [
       "  Tag             count\n",
       "1 OpenScience     454  \n",
       "2 Reproducibility 955  "
      ]
     },
     "metadata": {},
     "output_type": "display_data"
    },
    {
     "data": {
      "text/plain": [
       "\n",
       "Family: binomial \n",
       "Link function: logit \n",
       "\n",
       "Formula:\n",
       "femaleLead * 1 ~ RR * Year2 + s(authorCount_m2) + s(RR_AuthorCount) + \n",
       "    Conference\n",
       "\n",
       "Parametric coefficients:\n",
       "               Estimate Std. Error z value Pr(>|z|)    \n",
       "(Intercept)     1.02429    0.16149   6.343 2.26e-10 ***\n",
       "RRTRUE         -0.93331    0.21275  -4.387 1.15e-05 ***\n",
       "Year2           0.14482    0.05129   2.823  0.00475 ** \n",
       "ConferenceTRUE -0.38474    0.18140  -2.121  0.03393 *  \n",
       "RRTRUE:Year2   -0.18137    0.05897  -3.076  0.00210 ** \n",
       "---\n",
       "Signif. codes:  0 ‘***’ 0.001 ‘**’ 0.01 ‘*’ 0.05 ‘.’ 0.1 ‘ ’ 1\n",
       "\n",
       "Approximate significance of smooth terms:\n",
       "                    edf Ref.df Chi.sq p-value  \n",
       "s(authorCount_m2) 1.000  1.001  0.732  0.3925  \n",
       "s(RR_AuthorCount) 2.213  2.774 10.431  0.0139 *\n",
       "---\n",
       "Signif. codes:  0 ‘***’ 0.001 ‘**’ 0.01 ‘*’ 0.05 ‘.’ 0.1 ‘ ’ 1\n",
       "\n",
       "R-sq.(adj) =  0.0198   Deviance explained = 1.81%\n",
       "UBRE = 0.34542  Scale est. = 1         n = 1409"
      ]
     },
     "metadata": {},
     "output_type": "display_data"
    }
   ],
   "source": [
    "dat3a <- filter(dat3, !is.na(femaleLead))\n",
    "dat3a$Conference <- (dat3a$DocType == 'Conference')\n",
    "dat3a %>% group_by(Tag) %>% summarise(count=n())\n",
    "# 1 OpenScience       454\n",
    "# 2 Reproducibility   955\n",
    "\n",
    "# fit3a <- glm(formula = femaleLead*1 ~ Tag*(Year2 + authorCount_m2 + authorCount_m2_sq) + Conference, family = 'binomial', data=dat3a)\n",
    "\n",
    "dat3a$RR <- (dat3a$Tag=='Reproducibility')\n",
    "dat3a$authorCount_m2 <- (dat3a$authorCount - 2) #center at the smallest team size (2)\n",
    "dat3a$Year2 <- (dat3a$Year - 2017) #center at the most recent publication year \n",
    "dat3a$RR_AuthorCount <- (dat3a$RR)*(dat3a$authorCount_m2)\n",
    "fit3a <- gam(formula = femaleLead*1 ~ RR*Year2 + s(authorCount_m2) + s(RR_AuthorCount) + Conference, family = 'binomial', data=dat3a)\n",
    "summary(fit3a)"
   ]
  },
  {
   "cell_type": "code",
   "execution_count": 16,
   "metadata": {},
   "outputs": [
    {
     "data": {
      "text/html": [
       "<dl class=dl-horizontal>\n",
       "\t<dt>(Intercept)</dt>\n",
       "\t\t<dd>2.78512842176136</dd>\n",
       "\t<dt>RRTRUE</dt>\n",
       "\t\t<dd>0.393250579106412</dd>\n",
       "\t<dt>Year2</dt>\n",
       "\t\t<dd>1.15582618543504</dd>\n",
       "\t<dt>ConferenceTRUE</dt>\n",
       "\t\t<dd>0.680629246859301</dd>\n",
       "\t<dt>RRTRUE:Year2</dt>\n",
       "\t\t<dd>0.834123496273659</dd>\n",
       "</dl>\n"
      ],
      "text/latex": [
       "\\begin{description*}\n",
       "\\item[(Intercept)] 2.78512842176136\n",
       "\\item[RRTRUE] 0.393250579106412\n",
       "\\item[Year2] 1.15582618543504\n",
       "\\item[ConferenceTRUE] 0.680629246859301\n",
       "\\item[RRTRUE:Year2] 0.834123496273659\n",
       "\\end{description*}\n"
      ],
      "text/markdown": [
       "(Intercept)\n",
       ":   2.78512842176136RRTRUE\n",
       ":   0.393250579106412Year2\n",
       ":   1.15582618543504ConferenceTRUE\n",
       ":   0.680629246859301RRTRUE:Year2\n",
       ":   0.834123496273659\n",
       "\n"
      ],
      "text/plain": [
       "   (Intercept)         RRTRUE          Year2 ConferenceTRUE   RRTRUE:Year2 \n",
       "     2.7851284      0.3932506      1.1558262      0.6806292      0.8341235 "
      ]
     },
     "metadata": {},
     "output_type": "display_data"
    },
    {
     "data": {
      "text/html": [
       "<dl class=dl-horizontal>\n",
       "\t<dt>(Intercept)</dt>\n",
       "\t\t<dd>0.735808171196827</dd>\n",
       "\t<dt>RRTRUE</dt>\n",
       "\t\t<dd>0.282254021640982</dd>\n",
       "\t<dt>Year2</dt>\n",
       "\t\t<dd>0.536140711734512</dd>\n",
       "\t<dt>ConferenceTRUE</dt>\n",
       "\t\t<dd>0.404984768729472</dd>\n",
       "\t<dt>RRTRUE:Year2</dt>\n",
       "\t\t<dd>0.454780443066307</dd>\n",
       "</dl>\n"
      ],
      "text/latex": [
       "\\begin{description*}\n",
       "\\item[(Intercept)] 0.735808171196827\n",
       "\\item[RRTRUE] 0.282254021640982\n",
       "\\item[Year2] 0.536140711734512\n",
       "\\item[ConferenceTRUE] 0.404984768729472\n",
       "\\item[RRTRUE:Year2] 0.454780443066307\n",
       "\\end{description*}\n"
      ],
      "text/markdown": [
       "(Intercept)\n",
       ":   0.735808171196827RRTRUE\n",
       ":   0.282254021640982Year2\n",
       ":   0.536140711734512ConferenceTRUE\n",
       ":   0.404984768729472RRTRUE:Year2\n",
       ":   0.454780443066307\n",
       "\n"
      ],
      "text/plain": [
       "   (Intercept)         RRTRUE          Year2 ConferenceTRUE   RRTRUE:Year2 \n",
       "     0.7358082      0.2822540      0.5361407      0.4049848      0.4547804 "
      ]
     },
     "metadata": {},
     "output_type": "display_data"
    },
    {
     "data": {
      "text/html": [
       "<strong>Year2:</strong> 1.15582618543504"
      ],
      "text/latex": [
       "\\textbf{Year2:} 1.15582618543504"
      ],
      "text/markdown": [
       "**Year2:** 1.15582618543504"
      ],
      "text/plain": [
       "   Year2 \n",
       "1.155826 "
      ]
     },
     "metadata": {},
     "output_type": "display_data"
    },
    {
     "data": {
      "text/plain": [
       "\n",
       "Family: binomial \n",
       "Link function: logit \n",
       "\n",
       "Formula:\n",
       "femaleLead * 1 ~ OS * Year2 + s(authorCount_m2) + s(OS_AuthorCount) + \n",
       "    Conference\n",
       "\n",
       "Parametric coefficients:\n",
       "               Estimate Std. Error z value Pr(>|z|)    \n",
       "(Intercept)     0.09144    0.11407   0.802  0.42280    \n",
       "OSTRUE          0.92797    0.22098   4.199 2.68e-05 ***\n",
       "Year2          -0.03668    0.02892  -1.268  0.20468    \n",
       "ConferenceTRUE -0.38482    0.18173  -2.118  0.03422 *  \n",
       "OSTRUE:Year2    0.17972    0.05906   3.043  0.00234 ** \n",
       "---\n",
       "Signif. codes:  0 ‘***’ 0.001 ‘**’ 0.01 ‘*’ 0.05 ‘.’ 0.1 ‘ ’ 1\n",
       "\n",
       "Approximate significance of smooth terms:\n",
       "                    edf Ref.df Chi.sq p-value   \n",
       "s(authorCount_m2) 2.415  3.019 12.298 0.00654 **\n",
       "s(OS_AuthorCount) 2.038  2.538  7.864 0.03140 * \n",
       "---\n",
       "Signif. codes:  0 ‘***’ 0.001 ‘**’ 0.01 ‘*’ 0.05 ‘.’ 0.1 ‘ ’ 1\n",
       "\n",
       "R-sq.(adj) =  0.0197   Deviance explained = 1.87%\n",
       "UBRE = 0.34639  Scale est. = 1         n = 1409"
      ]
     },
     "metadata": {},
     "output_type": "display_data"
    },
    {
     "data": {
      "text/html": [
       "<strong>Year2:</strong> 0.0360197057574345"
      ],
      "text/latex": [
       "\\textbf{Year2:} 0.0360197057574345"
      ],
      "text/markdown": [
       "**Year2:** 0.0360197057574345"
      ],
      "text/plain": [
       "     Year2 \n",
       "0.03601971 "
      ]
     },
     "metadata": {},
     "output_type": "display_data"
    },
    {
     "data": {
      "text/html": [
       "<strong>OSTRUE:Year2:</strong> 1.19688284133982"
      ],
      "text/latex": [
       "\\textbf{OSTRUE:Year2:} 1.19688284133982"
      ],
      "text/markdown": [
       "**OSTRUE:Year2:** 1.19688284133982"
      ],
      "text/plain": [
       "OSTRUE:Year2 \n",
       "    1.196883 "
      ]
     },
     "metadata": {},
     "output_type": "display_data"
    },
    {
     "data": {
      "text/html": [
       "<table>\n",
       "<thead><tr><th></th><th scope=col>Estimate</th><th scope=col>LB_logodds</th><th scope=col>UB_logodds</th></tr></thead>\n",
       "<tbody>\n",
       "\t<tr><th scope=row>(Intercept)</th><td>2.785</td><td>2.029</td><td>3.822</td></tr>\n",
       "\t<tr><th scope=row>RRTRUE</th><td>0.393</td><td>0.259</td><td>0.597</td></tr>\n",
       "\t<tr><th scope=row>Year2</th><td>1.156</td><td>1.045</td><td>1.278</td></tr>\n",
       "\t<tr><th scope=row>ConferenceTRUE</th><td>0.681</td><td>0.477</td><td>0.971</td></tr>\n",
       "\t<tr><th scope=row>RRTRUE:Year2</th><td>0.834</td><td>0.743</td><td>0.936</td></tr>\n",
       "</tbody>\n",
       "</table>\n"
      ],
      "text/latex": [
       "\\begin{tabular}{r|lll}\n",
       "  & Estimate & LB\\_logodds & UB\\_logodds\\\\\n",
       "\\hline\n",
       "\t(Intercept) & 2.785 & 2.029 & 3.822\\\\\n",
       "\tRRTRUE & 0.393 & 0.259 & 0.597\\\\\n",
       "\tYear2 & 1.156 & 1.045 & 1.278\\\\\n",
       "\tConferenceTRUE & 0.681 & 0.477 & 0.971\\\\\n",
       "\tRRTRUE:Year2 & 0.834 & 0.743 & 0.936\\\\\n",
       "\\end{tabular}\n"
      ],
      "text/markdown": [
       "\n",
       "| <!--/--> | Estimate | LB_logodds | UB_logodds |\n",
       "|---|---|---|---|\n",
       "| (Intercept) | 2.785 | 2.029 | 3.822 |\n",
       "| RRTRUE | 0.393 | 0.259 | 0.597 |\n",
       "| Year2 | 1.156 | 1.045 | 1.278 |\n",
       "| ConferenceTRUE | 0.681 | 0.477 | 0.971 |\n",
       "| RRTRUE:Year2 | 0.834 | 0.743 | 0.936 |\n",
       "\n"
      ],
      "text/plain": [
       "               Estimate LB_logodds UB_logodds\n",
       "(Intercept)    2.785    2.029      3.822     \n",
       "RRTRUE         0.393    0.259      0.597     \n",
       "Year2          1.156    1.045      1.278     \n",
       "ConferenceTRUE 0.681    0.477      0.971     \n",
       "RRTRUE:Year2   0.834    0.743      0.936     "
      ]
     },
     "metadata": {},
     "output_type": "display_data"
    }
   ],
   "source": [
    "#coefficients on odd scale\n",
    "(coef_odds <- exp(summary(fit3a)$p.coeff))\n",
    "# (Intercept)         RRTRUE          Year2 ConferenceTRUE   RRTRUE:Year2 \n",
    "# 2.7851284      0.3932506      1.1558262      0.6806292      0.8341235 \n",
    "\n",
    "#coefficients on probability scale\n",
    "coef_odds/(1+coef_odds)\n",
    "# (Intercept)         RRTRUE          Year2 ConferenceTRUE   RRTRUE:Year2 \n",
    "# 0.7358082      0.2822540      0.5361407      0.4049848      0.4547804 \n",
    "\n",
    "#time trends\n",
    "exp(summary(fit3a)$p.coeff[3]) #OS: 1.1558262\n",
    "\n",
    "#get p-value for time trend in RR\n",
    "dat3a$OS <- (dat3a$Tag=='OpenScience')\n",
    "dat3a$OS_AuthorCount <- (dat3a$OS)*(dat3a$authorCount_m2)\n",
    "fit3a_alt <- gam(formula = femaleLead*1 ~ OS*Year2 + s(authorCount_m2) + s(OS_AuthorCount) + Conference, family = 'binomial', data=dat3a)\n",
    "summary(fit3a_alt)\n",
    "1-exp(summary(fit3a_alt)$p.coeff[3]) #RR: -0.03601971\n",
    "exp(summary(fit3a_alt)$p.coeff[5]) #OS: 1.196883\n",
    "\n",
    "#make confidence intervals on odds scale\n",
    "table <- as.data.frame(summary(fit3a)$p.table[,1:2])\n",
    "table$LB_logodds <- table$Estimate - 1.96*table$`Std. Error`\n",
    "table$UB_logodds <- table$Estimate + 1.96*table$`Std. Error`\n",
    "table <- table[,c(1,3,4)]\n",
    "table_odds <- exp(table)\n",
    "round(table_odds, 3)"
   ]
  },
  {
   "cell_type": "code",
   "execution_count": 17,
   "metadata": {},
   "outputs": [
    {
     "data": {
      "text/html": [
       "<table>\n",
       "<thead><tr><th scope=col>avg_team_size</th></tr></thead>\n",
       "<tbody>\n",
       "\t<tr><td>4.798661</td></tr>\n",
       "</tbody>\n",
       "</table>\n"
      ],
      "text/latex": [
       "\\begin{tabular}{r|l}\n",
       " avg\\_team\\_size\\\\\n",
       "\\hline\n",
       "\t 4.798661\\\\\n",
       "\\end{tabular}\n"
      ],
      "text/markdown": [
       "\n",
       "| avg_team_size |\n",
       "|---|\n",
       "| 4.798661 |\n",
       "\n"
      ],
      "text/plain": [
       "  avg_team_size\n",
       "1 4.798661     "
      ]
     },
     "metadata": {},
     "output_type": "display_data"
    }
   ],
   "source": [
    "# Plot predictions\n",
    "\n",
    "#function to convert log odds to probability scale (expit function)\n",
    "logodds_to_prob <- function(logodds){ \n",
    "  odds <- exp(logodds)\n",
    "  return(odds/(1 + odds))\n",
    "}\n",
    "\n",
    "dat.pred3a <- expand.grid(Tag=c('Reproducibility','OpenScience'),\n",
    "                          Conference = c(FALSE,TRUE),\n",
    "                          Year2 = (2010:2017) - 2017,\n",
    "                          authorCount_m2 = (2:12)-2)\n",
    "# dat.pred3a$authorCount_m2_sq <- (dat.pred3a$authorCount_m2)^2\n",
    "dat.pred3a$authorCount <- dat.pred3a$authorCount_m2 + 2\n",
    "dat.pred3a$RR <- (dat.pred3a$Tag=='Reproducibility')\n",
    "dat.pred3a$RR_AuthorCount <- (dat.pred3a$RR)*(dat.pred3a$authorCount_m2)\n",
    "pred3a <- predict(fit3a, newdata=dat.pred3a, type = \"link\", se.fit = TRUE) #on log-odds scale\n",
    "dat.pred3a$predict <- pred3a$fit\n",
    "dat.pred3a$SE <- pred3a$se.fit\n",
    "dat.pred3a$LB <- (dat.pred3a$predict - 1.96*dat.pred3a$SE)\n",
    "dat.pred3a$UB <- (dat.pred3a$predict + 1.96*dat.pred3a$SE)\n",
    "dat.pred3a$predict_p <- logodds_to_prob(dat.pred3a$predict)\n",
    "dat.pred3a$LB_p <- logodds_to_prob(dat.pred3a$LB)\n",
    "dat.pred3a$UB_p <- logodds_to_prob(dat.pred3a$UB)\n",
    "\n",
    "#average team size?\n",
    "dat3 %>% summarize(avg_team_size = mean(authorCount)) #3.999295\n",
    "\n",
    "dat.pred3a.journals2017 <- filter(dat.pred3a, !Conference, Year2==0) #fix year and document type, vary team size\n",
    "dat.pred3a.journals4auth <- filter(dat.pred3a, !Conference, authorCount == 4) #fix team size and document type, vary year of publication"
   ]
  },
  {
   "cell_type": "code",
   "execution_count": 18,
   "metadata": {},
   "outputs": [
    {
     "data": {
      "text/html": [
       "<strong>png:</strong> 2"
      ],
      "text/latex": [
       "\\textbf{png:} 2"
      ],
      "text/markdown": [
       "**png:** 2"
      ],
      "text/plain": [
       "png \n",
       "  2 "
      ]
     },
     "metadata": {},
     "output_type": "display_data"
    }
   ],
   "source": [
    "#Team Size\n",
    "pdf('figures/PredictedProbs_multiauthor_spline2.pdf', width=8.5, height=5)\n",
    "p1 <- ggplot(dat.pred3a.journals2017, aes(x=authorCount, group=Tag)) + \n",
    "  geom_ribbon(aes(ymin=LB_p, ymax=UB_p), alpha=0.2) + \n",
    "  geom_line(aes(y=predict_p, color=Tag), size=2) + \n",
    "  ylim(0.35,0.8) + xlim(2,12) + theme_bw() + theme(legend.position='bottom', panel.grid=element_blank()) +\n",
    "  scale_color_manual(name=NULL, values=c('darkgray','turquoise')) +\n",
    "  xlab('Number of Authors') + ylab('Probability of Female in a High Status Position') +\n",
    "  labs(title='Female Lead Authorship versus Team Size', subtitle='Journal Articles Published in 2017')\n",
    "p2 <- ggplot(dat.pred3a.journals4auth, aes(x=Year2+2017, group=interaction(Tag,authorCount))) + \n",
    "  geom_ribbon(aes(ymin=LB_p, ymax=UB_p), alpha=0.2) + \n",
    "  geom_line(aes(y=predict_p, color=Tag), size=2) + \n",
    "  ylim(0.25,0.8) + theme_bw() + theme(legend.position='bottom', panel.grid=element_blank()) +\n",
    "  scale_x_continuous(breaks=2010:2017) +\n",
    "  scale_color_manual(name=NULL, values=c('darkgray','turquoise')) +\n",
    "  xlab('Year of Publication') + ylab('Probability of Female in a High Status Position') +\n",
    "  labs(title='Female Lead Authorship vs Publication Year', subtitle='Journal Articles with 4 Authors (Average Size)')\n",
    "grid.arrange(p1, p2, nrow=1)\n",
    "dev.off()"
   ]
  },
  {
   "cell_type": "code",
   "execution_count": 30,
   "metadata": {},
   "outputs": [
    {
     "data": {
      "text/html": [
       "<strong>png:</strong> 2"
      ],
      "text/latex": [
       "\\textbf{png:} 2"
      ],
      "text/markdown": [
       "**png:** 2"
      ],
      "text/plain": [
       "png \n",
       "  2 "
      ]
     },
     "metadata": {},
     "output_type": "display_data"
    },
    {
     "data": {
      "text/html": [
       "<strong>png:</strong> 2"
      ],
      "text/latex": [
       "\\textbf{png:} 2"
      ],
      "text/markdown": [
       "**png:** 2"
      ],
      "text/plain": [
       "png \n",
       "  2 "
      ]
     },
     "metadata": {},
     "output_type": "display_data"
    }
   ],
   "source": [
    "#Team Size\n",
    "pdf('PredictedProbs_multiauthor_teamsize_spline.pdf', width=6, height=5)\n",
    "print(p1)\n",
    "dev.off()\n",
    "\n",
    "#Time\n",
    "pdf('PredictedProbs_multiauthor_year_spline.pdf', width=6, height=5)\n",
    "print(p2)\n",
    "dev.off()"
   ]
  },
  {
   "cell_type": "markdown",
   "metadata": {},
   "source": [
    "#### Model 1B: Control for Field of Study ######"
   ]
  },
  {
   "cell_type": "code",
   "execution_count": 19,
   "metadata": {},
   "outputs": [
    {
     "data": {
      "text/html": [
       "2328"
      ],
      "text/latex": [
       "2328"
      ],
      "text/markdown": [
       "2328"
      ],
      "text/plain": [
       "[1] 2328"
      ]
     },
     "metadata": {},
     "output_type": "display_data"
    },
    {
     "data": {},
     "metadata": {},
     "output_type": "display_data"
    },
    {
     "data": {
      "text/html": [
       "<strong>png:</strong> 2"
      ],
      "text/latex": [
       "\\textbf{png:} 2"
      ],
      "text/markdown": [
       "**png:** 2"
      ],
      "text/plain": [
       "png \n",
       "  2 "
      ]
     },
     "metadata": {},
     "output_type": "display_data"
    }
   ],
   "source": [
    "#each paper has several FOSs listed ... how many unique FOSs?\n",
    "FoS <- paste(dat3a$FoSNames, collapse='; ')\n",
    "FoS <- trimws((strsplit(FoS, ';', fixed=TRUE))[[1]])\n",
    "FoS_unique <- unique(FoS)\n",
    "length(FoS_unique) #2328\n",
    "\n",
    "#consider the most frequently appearing FOSs\n",
    "FOScount <- sort(table(FoS))\n",
    "FOScount_pct <- cumsum(rev(FOScount))/sum(FOScount)\n",
    "howmany_50pct <- min(which(FOScount_pct >= .5))\n",
    "topFOScount_pct <- FOScount_pct[1:howmany_50pct]\n",
    "pdf('figures/FoS_appearances.pdf', width=8, height=4)\n",
    "qplot(y=topFOScount_pct, x=factor(names(topFOScount_pct), levels=names(topFOScount_pct))) + xlab('Field of Study') + ylab('Cumulative % of Appearances') + theme(axis.text.x = element_text(angle = 45, hjust = 1)) + ggtitle('Fields of Study Explaining 50% of All FoS Appearances')\n",
    "dev.off()      "
   ]
  },
  {
   "cell_type": "code",
   "execution_count": 20,
   "metadata": {},
   "outputs": [
    {
     "data": {
      "text/html": [
       "4562"
      ],
      "text/latex": [
       "4562"
      ],
      "text/markdown": [
       "4562"
      ],
      "text/plain": [
       "[1] 4562"
      ]
     },
     "metadata": {},
     "output_type": "display_data"
    },
    {
     "data": {
      "text/html": [
       "10335"
      ],
      "text/latex": [
       "10335"
      ],
      "text/markdown": [
       "10335"
      ],
      "text/plain": [
       "[1] 10335"
      ]
     },
     "metadata": {},
     "output_type": "display_data"
    }
   ],
   "source": [
    "topFOScount <- tail(FOScount,30)\n",
    "topFOS <- names(topFOScount)\n",
    "#combine medical fields into a single field (below)\n",
    "medicineFOS <- c(\"anesthesiology\",\"cardiology\",\"diabetes mellitus\",\"internal medicine\",\"surgery\",\"alternative medicine\",\"physical therapy\",\"pathology\",\"radiology\",\"medicine\")\n",
    "#exclude FOSs that do not represent traditional fields of study\n",
    "notFOS <- c(\"publishing\",\"workflow\",\"data sharing\",\"reproducibility\",\"open science\",\"repeatability\",\"open data\", \"data mining\",\"intraclass correlation\")\n",
    "topFOS <- setdiff(topFOS, notFOS)\n",
    "\n",
    "sum(topFOScount) #4562\n",
    "sum(table(FoS)) #10335"
   ]
  },
  {
   "cell_type": "code",
   "execution_count": 21,
   "metadata": {},
   "outputs": [
    {
     "data": {
      "text/plain": [
       "\n",
       "FALSE  TRUE \n",
       "   98  1311 "
      ]
     },
     "metadata": {},
     "output_type": "display_data"
    },
    {
     "data": {
      "text/html": [
       "0.930447125621008"
      ],
      "text/latex": [
       "0.930447125621008"
      ],
      "text/markdown": [
       "0.930447125621008"
      ],
      "text/plain": [
       "[1] 0.9304471"
      ]
     },
     "metadata": {},
     "output_type": "display_data"
    }
   ],
   "source": [
    "#create indicator columns for each of the FOSs\n",
    "dat3a$anyFOS <- 0 #for each paper, determine if any of the FOSs on the short-list are listed \n",
    "for(i in 1:length(topFOS)){\n",
    "  #print(i)\n",
    "  FOS_i = topFOS[i]\n",
    "  dat3a$newcol = grepl(pattern = FOS_i, x = dat3a$FoSNames, fixed = F)\n",
    "  dat3a$anyFOS = dat3a$anyFOS + dat3a$newcol\n",
    "  names(dat3a)[names(dat3a)==\"newcol\"] <- FOS_i\n",
    "}\n",
    "dat3a$anyFOS <- (dat3a$anyFOS > 0)\n",
    "table(dat3a$anyFOS)\n",
    "# FALSE  TRUE \n",
    "# 98  1311\n",
    "mean(dat3a$anyFOS) #0.9304471\n",
    "\n",
    "#combine medicine-related FOSs into a single FOS\n",
    "dat3a$medicine <- rowSums(dat3a[,medicineFOS])>0\n",
    "topFOS2 <- c(\"medicine\", setdiff(topFOS, medicineFOS))\n",
    "\n",
    "#remove spaces in column names\n",
    "names(dat3a) <- gsub(pattern = \" \", replacement = \"\", x = names(dat3a))\n",
    "topFOS2 <- gsub(pattern = \" \", replacement = \"\", x = topFOS2)\n",
    "\n",
    "#sample size for new model\n",
    "#dat3a %>% filter(anyFOS) %>% group_by(Tag) %>% summarise(count=n())"
   ]
  },
  {
   "cell_type": "code",
   "execution_count": 22,
   "metadata": {},
   "outputs": [
    {
     "data": {
      "text/html": [
       "<strong>png:</strong> 2"
      ],
      "text/latex": [
       "\\textbf{png:} 2"
      ],
      "text/markdown": [
       "**png:** 2"
      ],
      "text/plain": [
       "png \n",
       "  2 "
      ]
     },
     "metadata": {},
     "output_type": "display_data"
    },
    {
     "data": {
      "text/plain": [
       "\n",
       "Family: binomial \n",
       "Link function: logit \n",
       "\n",
       "Formula:\n",
       "femaleLead * 1 ~ RR * Year2 + s(authorCount_m2) + s(RR_AuthorCount) + \n",
       "    Conference + medicine + artificialintelligence + managementscience + \n",
       "    analyticalchemistry + bioinformatics + engineering + knowledgemanagement + \n",
       "    psychology + software + biology + statistics + computerscience\n",
       "\n",
       "Parametric coefficients:\n",
       "                           Estimate Std. Error z value Pr(>|z|)    \n",
       "(Intercept)                 0.88032    0.25183   3.496 0.000473 ***\n",
       "RRTRUE                     -0.71550    0.23061  -3.103 0.001918 ** \n",
       "Year2                       0.11674    0.05727   2.038 0.041515 *  \n",
       "ConferenceTRUE             -0.22197    0.21010  -1.056 0.290758    \n",
       "medicineTRUE                0.05638    0.18158   0.310 0.756186    \n",
       "artificialintelligenceTRUE -0.01666    0.32403  -0.051 0.958988    \n",
       "managementscienceTRUE       0.12087    0.30066   0.402 0.687665    \n",
       "analyticalchemistryTRUE    -0.78940    0.29509  -2.675 0.007470 ** \n",
       "bioinformaticsTRUE         -0.56847    0.26228  -2.167 0.030202 *  \n",
       "engineeringTRUE            -0.04795    0.19742  -0.243 0.808096    \n",
       "knowledgemanagementTRUE     0.48385    0.27072   1.787 0.073892 .  \n",
       "psychologyTRUE             -0.11178    0.23939  -0.467 0.640533    \n",
       "softwareTRUE               -0.09736    0.22395  -0.435 0.663740    \n",
       "biologyTRUE                 0.32164    0.22955   1.401 0.161155    \n",
       "statisticsTRUE              0.35846    0.21051   1.703 0.088610 .  \n",
       "computerscienceTRUE        -0.23221    0.19732  -1.177 0.239264    \n",
       "RRTRUE:Year2               -0.15497    0.06512  -2.380 0.017329 *  \n",
       "---\n",
       "Signif. codes:  0 ‘***’ 0.001 ‘**’ 0.01 ‘*’ 0.05 ‘.’ 0.1 ‘ ’ 1\n",
       "\n",
       "Approximate significance of smooth terms:\n",
       "                    edf Ref.df Chi.sq p-value  \n",
       "s(authorCount_m2) 1.001  1.001  0.365  0.5462  \n",
       "s(RR_AuthorCount) 2.176  2.728  6.587  0.0832 .\n",
       "---\n",
       "Signif. codes:  0 ‘***’ 0.001 ‘**’ 0.01 ‘*’ 0.05 ‘.’ 0.1 ‘ ’ 1\n",
       "\n",
       "R-sq.(adj) =  0.0264   Deviance explained = 3.03%\n",
       "UBRE = 0.34537  Scale est. = 1         n = 1311"
      ]
     },
     "metadata": {},
     "output_type": "display_data"
    }
   ],
   "source": [
    "#fit model with new FOS indicator variables\n",
    "formula <- as.formula(paste0(\"femaleLead*1 ~ RR*Year2 + s(authorCount_m2) + s(RR_AuthorCount) + Conference +\", paste(topFOS2,collapse = \" + \")))\n",
    "fit3b <- gam(formula = formula, family = 'binomial', data= dat3a[dat3a$anyFOS,])\n",
    "pdf('figures/spline_estimates.pdf', width=6, height=4)\n",
    "plot(fit3b, pages=1)\n",
    "dev.off()\n",
    "\n",
    "summary(fit3b)"
   ]
  },
  {
   "cell_type": "code",
   "execution_count": 23,
   "metadata": {},
   "outputs": [
    {
     "data": {
      "text/html": [
       "<dl class=dl-horizontal>\n",
       "\t<dt>(Intercept)</dt>\n",
       "\t\t<dd>2.4116755881283</dd>\n",
       "\t<dt>RRTRUE</dt>\n",
       "\t\t<dd>0.488948428732304</dd>\n",
       "\t<dt>Year2</dt>\n",
       "\t\t<dd>1.12382581360413</dd>\n",
       "\t<dt>ConferenceTRUE</dt>\n",
       "\t\t<dd>0.800941723366668</dd>\n",
       "\t<dt>medicineTRUE</dt>\n",
       "\t\t<dd>1.05799765023246</dd>\n",
       "\t<dt>artificialintelligenceTRUE</dt>\n",
       "\t\t<dd>0.983475495600039</dd>\n",
       "\t<dt>managementscienceTRUE</dt>\n",
       "\t\t<dd>1.1284822959907</dd>\n",
       "\t<dt>analyticalchemistryTRUE</dt>\n",
       "\t\t<dd>0.454117460829412</dd>\n",
       "\t<dt>bioinformaticsTRUE</dt>\n",
       "\t\t<dd>0.566388812750345</dd>\n",
       "\t<dt>engineeringTRUE</dt>\n",
       "\t\t<dd>0.953181832368083</dd>\n",
       "\t<dt>knowledgemanagementTRUE</dt>\n",
       "\t\t<dd>1.62230318245137</dd>\n",
       "\t<dt>psychologyTRUE</dt>\n",
       "\t\t<dd>0.894238706606494</dd>\n",
       "\t<dt>softwareTRUE</dt>\n",
       "\t\t<dd>0.90722620194055</dd>\n",
       "\t<dt>biologyTRUE</dt>\n",
       "\t\t<dd>1.37939235364588</dd>\n",
       "\t<dt>statisticsTRUE</dt>\n",
       "\t\t<dd>1.43112135243705</dd>\n",
       "\t<dt>computerscienceTRUE</dt>\n",
       "\t\t<dd>0.792777034757716</dd>\n",
       "\t<dt>RRTRUE:Year2</dt>\n",
       "\t\t<dd>0.856437178109264</dd>\n",
       "</dl>\n"
      ],
      "text/latex": [
       "\\begin{description*}\n",
       "\\item[(Intercept)] 2.4116755881283\n",
       "\\item[RRTRUE] 0.488948428732304\n",
       "\\item[Year2] 1.12382581360413\n",
       "\\item[ConferenceTRUE] 0.800941723366668\n",
       "\\item[medicineTRUE] 1.05799765023246\n",
       "\\item[artificialintelligenceTRUE] 0.983475495600039\n",
       "\\item[managementscienceTRUE] 1.1284822959907\n",
       "\\item[analyticalchemistryTRUE] 0.454117460829412\n",
       "\\item[bioinformaticsTRUE] 0.566388812750345\n",
       "\\item[engineeringTRUE] 0.953181832368083\n",
       "\\item[knowledgemanagementTRUE] 1.62230318245137\n",
       "\\item[psychologyTRUE] 0.894238706606494\n",
       "\\item[softwareTRUE] 0.90722620194055\n",
       "\\item[biologyTRUE] 1.37939235364588\n",
       "\\item[statisticsTRUE] 1.43112135243705\n",
       "\\item[computerscienceTRUE] 0.792777034757716\n",
       "\\item[RRTRUE:Year2] 0.856437178109264\n",
       "\\end{description*}\n"
      ],
      "text/markdown": [
       "(Intercept)\n",
       ":   2.4116755881283RRTRUE\n",
       ":   0.488948428732304Year2\n",
       ":   1.12382581360413ConferenceTRUE\n",
       ":   0.800941723366668medicineTRUE\n",
       ":   1.05799765023246artificialintelligenceTRUE\n",
       ":   0.983475495600039managementscienceTRUE\n",
       ":   1.1284822959907analyticalchemistryTRUE\n",
       ":   0.454117460829412bioinformaticsTRUE\n",
       ":   0.566388812750345engineeringTRUE\n",
       ":   0.953181832368083knowledgemanagementTRUE\n",
       ":   1.62230318245137psychologyTRUE\n",
       ":   0.894238706606494softwareTRUE\n",
       ":   0.90722620194055biologyTRUE\n",
       ":   1.37939235364588statisticsTRUE\n",
       ":   1.43112135243705computerscienceTRUE\n",
       ":   0.792777034757716RRTRUE:Year2\n",
       ":   0.856437178109264\n",
       "\n"
      ],
      "text/plain": [
       "               (Intercept)                     RRTRUE \n",
       "                 2.4116756                  0.4889484 \n",
       "                     Year2             ConferenceTRUE \n",
       "                 1.1238258                  0.8009417 \n",
       "              medicineTRUE artificialintelligenceTRUE \n",
       "                 1.0579977                  0.9834755 \n",
       "     managementscienceTRUE    analyticalchemistryTRUE \n",
       "                 1.1284823                  0.4541175 \n",
       "        bioinformaticsTRUE            engineeringTRUE \n",
       "                 0.5663888                  0.9531818 \n",
       "   knowledgemanagementTRUE             psychologyTRUE \n",
       "                 1.6223032                  0.8942387 \n",
       "              softwareTRUE                biologyTRUE \n",
       "                 0.9072262                  1.3793924 \n",
       "            statisticsTRUE        computerscienceTRUE \n",
       "                 1.4311214                  0.7927770 \n",
       "              RRTRUE:Year2 \n",
       "                 0.8564372 "
      ]
     },
     "metadata": {},
     "output_type": "display_data"
    }
   ],
   "source": [
    "exp(summary(fit3b)$p.coeff)"
   ]
  },
  {
   "cell_type": "code",
   "execution_count": 24,
   "metadata": {},
   "outputs": [
    {
     "data": {
      "text/html": [
       "<table>\n",
       "<thead><tr><th></th><th scope=col>Estimate</th><th scope=col>LB_logodds</th><th scope=col>UB_logodds</th></tr></thead>\n",
       "<tbody>\n",
       "\t<tr><th scope=row>(Intercept)</th><td>2.412</td><td>1.472</td><td>3.951</td></tr>\n",
       "\t<tr><th scope=row>RRTRUE</th><td>0.489</td><td>0.311</td><td>0.768</td></tr>\n",
       "\t<tr><th scope=row>Year2</th><td>1.124</td><td>1.004</td><td>1.257</td></tr>\n",
       "\t<tr><th scope=row>ConferenceTRUE</th><td>0.801</td><td>0.531</td><td>1.209</td></tr>\n",
       "\t<tr><th scope=row>medicineTRUE</th><td>1.058</td><td>0.741</td><td>1.510</td></tr>\n",
       "\t<tr><th scope=row>artificialintelligenceTRUE</th><td>0.983</td><td>0.521</td><td>1.856</td></tr>\n",
       "\t<tr><th scope=row>managementscienceTRUE</th><td>1.128</td><td>0.626</td><td>2.034</td></tr>\n",
       "\t<tr><th scope=row>analyticalchemistryTRUE</th><td>0.454</td><td>0.255</td><td>0.810</td></tr>\n",
       "\t<tr><th scope=row>bioinformaticsTRUE</th><td>0.566</td><td>0.339</td><td>0.947</td></tr>\n",
       "\t<tr><th scope=row>engineeringTRUE</th><td>0.953</td><td>0.647</td><td>1.404</td></tr>\n",
       "\t<tr><th scope=row>knowledgemanagementTRUE</th><td>1.622</td><td>0.954</td><td>2.758</td></tr>\n",
       "\t<tr><th scope=row>psychologyTRUE</th><td>0.894</td><td>0.559</td><td>1.430</td></tr>\n",
       "\t<tr><th scope=row>softwareTRUE</th><td>0.907</td><td>0.585</td><td>1.407</td></tr>\n",
       "\t<tr><th scope=row>biologyTRUE</th><td>1.379</td><td>0.880</td><td>2.163</td></tr>\n",
       "\t<tr><th scope=row>statisticsTRUE</th><td>1.431</td><td>0.947</td><td>2.162</td></tr>\n",
       "\t<tr><th scope=row>computerscienceTRUE</th><td>0.793</td><td>0.539</td><td>1.167</td></tr>\n",
       "\t<tr><th scope=row>RRTRUE:Year2</th><td>0.856</td><td>0.754</td><td>0.973</td></tr>\n",
       "</tbody>\n",
       "</table>\n"
      ],
      "text/latex": [
       "\\begin{tabular}{r|lll}\n",
       "  & Estimate & LB\\_logodds & UB\\_logodds\\\\\n",
       "\\hline\n",
       "\t(Intercept) & 2.412 & 1.472 & 3.951\\\\\n",
       "\tRRTRUE & 0.489 & 0.311 & 0.768\\\\\n",
       "\tYear2 & 1.124 & 1.004 & 1.257\\\\\n",
       "\tConferenceTRUE & 0.801 & 0.531 & 1.209\\\\\n",
       "\tmedicineTRUE & 1.058 & 0.741 & 1.510\\\\\n",
       "\tartificialintelligenceTRUE & 0.983 & 0.521 & 1.856\\\\\n",
       "\tmanagementscienceTRUE & 1.128 & 0.626 & 2.034\\\\\n",
       "\tanalyticalchemistryTRUE & 0.454 & 0.255 & 0.810\\\\\n",
       "\tbioinformaticsTRUE & 0.566 & 0.339 & 0.947\\\\\n",
       "\tengineeringTRUE & 0.953 & 0.647 & 1.404\\\\\n",
       "\tknowledgemanagementTRUE & 1.622 & 0.954 & 2.758\\\\\n",
       "\tpsychologyTRUE & 0.894 & 0.559 & 1.430\\\\\n",
       "\tsoftwareTRUE & 0.907 & 0.585 & 1.407\\\\\n",
       "\tbiologyTRUE & 1.379 & 0.880 & 2.163\\\\\n",
       "\tstatisticsTRUE & 1.431 & 0.947 & 2.162\\\\\n",
       "\tcomputerscienceTRUE & 0.793 & 0.539 & 1.167\\\\\n",
       "\tRRTRUE:Year2 & 0.856 & 0.754 & 0.973\\\\\n",
       "\\end{tabular}\n"
      ],
      "text/markdown": [
       "\n",
       "| <!--/--> | Estimate | LB_logodds | UB_logodds |\n",
       "|---|---|---|---|\n",
       "| (Intercept) | 2.412 | 1.472 | 3.951 |\n",
       "| RRTRUE | 0.489 | 0.311 | 0.768 |\n",
       "| Year2 | 1.124 | 1.004 | 1.257 |\n",
       "| ConferenceTRUE | 0.801 | 0.531 | 1.209 |\n",
       "| medicineTRUE | 1.058 | 0.741 | 1.510 |\n",
       "| artificialintelligenceTRUE | 0.983 | 0.521 | 1.856 |\n",
       "| managementscienceTRUE | 1.128 | 0.626 | 2.034 |\n",
       "| analyticalchemistryTRUE | 0.454 | 0.255 | 0.810 |\n",
       "| bioinformaticsTRUE | 0.566 | 0.339 | 0.947 |\n",
       "| engineeringTRUE | 0.953 | 0.647 | 1.404 |\n",
       "| knowledgemanagementTRUE | 1.622 | 0.954 | 2.758 |\n",
       "| psychologyTRUE | 0.894 | 0.559 | 1.430 |\n",
       "| softwareTRUE | 0.907 | 0.585 | 1.407 |\n",
       "| biologyTRUE | 1.379 | 0.880 | 2.163 |\n",
       "| statisticsTRUE | 1.431 | 0.947 | 2.162 |\n",
       "| computerscienceTRUE | 0.793 | 0.539 | 1.167 |\n",
       "| RRTRUE:Year2 | 0.856 | 0.754 | 0.973 |\n",
       "\n"
      ],
      "text/plain": [
       "                           Estimate LB_logodds UB_logodds\n",
       "(Intercept)                2.412    1.472      3.951     \n",
       "RRTRUE                     0.489    0.311      0.768     \n",
       "Year2                      1.124    1.004      1.257     \n",
       "ConferenceTRUE             0.801    0.531      1.209     \n",
       "medicineTRUE               1.058    0.741      1.510     \n",
       "artificialintelligenceTRUE 0.983    0.521      1.856     \n",
       "managementscienceTRUE      1.128    0.626      2.034     \n",
       "analyticalchemistryTRUE    0.454    0.255      0.810     \n",
       "bioinformaticsTRUE         0.566    0.339      0.947     \n",
       "engineeringTRUE            0.953    0.647      1.404     \n",
       "knowledgemanagementTRUE    1.622    0.954      2.758     \n",
       "psychologyTRUE             0.894    0.559      1.430     \n",
       "softwareTRUE               0.907    0.585      1.407     \n",
       "biologyTRUE                1.379    0.880      2.163     \n",
       "statisticsTRUE             1.431    0.947      2.162     \n",
       "computerscienceTRUE        0.793    0.539      1.167     \n",
       "RRTRUE:Year2               0.856    0.754      0.973     "
      ]
     },
     "metadata": {},
     "output_type": "display_data"
    }
   ],
   "source": [
    "table <- as.data.frame(summary(fit3b)$p.table[,1:2])\n",
    "table$LB_logodds <- table$Estimate - 1.96*table$`Std. Error`\n",
    "table$UB_logodds <- table$Estimate + 1.96*table$`Std. Error`\n",
    "table <- table[,c(1,3,4)]\n",
    "table_odds <- exp(table)\n",
    "round(table_odds, 3)"
   ]
  },
  {
   "cell_type": "code",
   "execution_count": 26,
   "metadata": {},
   "outputs": [
    {
     "data": {
      "text/html": [
       "<strong>png:</strong> 2"
      ],
      "text/latex": [
       "\\textbf{png:} 2"
      ],
      "text/markdown": [
       "**png:** 2"
      ],
      "text/plain": [
       "png \n",
       "  2 "
      ]
     },
     "metadata": {},
     "output_type": "display_data"
    }
   ],
   "source": [
    "# Plot predictions\n",
    "\n",
    "dat.pred3b <- expand.grid(Tag=c('Reproducibility','OpenScience'),\n",
    "                          Conference = c(FALSE,TRUE),\n",
    "                          Year2 = (2010:2017) - 2017,\n",
    "                          authorCount_m2 = (2:12)-2)\n",
    "falses = as.data.frame(matrix(FALSE, nrow=nrow(dat.pred3b), ncol=length(topFOS2)))\n",
    "names(falses) = topFOS2\n",
    "dat.pred3b <- cbind(dat.pred3b, falses)\n",
    "\n",
    "# dat.pred3b$authorCount_m2_sq <- (dat.pred3b$authorCount_m2)^2\n",
    "dat.pred3b$authorCount <- dat.pred3b$authorCount_m2 + 2\n",
    "dat.pred3b$RR <- (dat.pred3b$Tag=='Reproducibility')\n",
    "dat.pred3b$RR_AuthorCount <- (dat.pred3b$RR)*(dat.pred3b$authorCount_m2)\n",
    "pred3b <- predict(fit3b, newdata=dat.pred3b, type = \"link\", se.fit = TRUE) #on log-odds scale\n",
    "dat.pred3b$predict <- pred3b$fit\n",
    "dat.pred3b$SE <- pred3b$se.fit\n",
    "dat.pred3b$LB <- (dat.pred3b$predict - 1.96*dat.pred3b$SE)\n",
    "dat.pred3b$UB <- (dat.pred3b$predict + 1.96*dat.pred3b$SE)\n",
    "dat.pred3b$predict_p <- logodds_to_prob(dat.pred3b$predict)\n",
    "dat.pred3b$LB_p <- logodds_to_prob(dat.pred3b$LB)\n",
    "dat.pred3b$UB_p <- logodds_to_prob(dat.pred3b$UB)\n",
    "\n",
    "\n",
    "dat.pred3b.journals2017 <- filter(dat.pred3b, !Conference, Year2==0) #fix year and document type, vary team size\n",
    "dat.pred3b.journals4auth <- filter(dat.pred3b, !Conference, authorCount == 4) #fix team size and document type, vary year of publication\n",
    "\n",
    "#Team Size\n",
    "pdf('figures/PredictedProbs_multiauthor_spline2_FOS.pdf', width=8.5, height=5)\n",
    "p1 <- ggplot(dat.pred3b.journals2017, aes(x=authorCount, group=Tag)) + \n",
    "  geom_ribbon(aes(ymin=LB_p, ymax=UB_p), alpha=0.2) + \n",
    "  geom_line(aes(y=predict_p, color=Tag), size=2) + \n",
    "  ylim(0.35,0.8) + xlim(2,12) + theme_bw() + theme(legend.position='bottom', panel.grid=element_blank()) +\n",
    "  scale_color_manual(name=NULL, values=c('darkgray','turquoise')) +\n",
    "  xlab('Number of Authors') + ylab('Probability of Female in a High Status Position') +\n",
    "  labs(title='Female Lead Authorship versus Team Size', subtitle='Journal Articles Published in 2017')\n",
    "p2 <- ggplot(dat.pred3b.journals4auth, aes(x=Year2+2017, group=interaction(Tag,authorCount))) + \n",
    "  geom_ribbon(aes(ymin=LB_p, ymax=UB_p), alpha=0.2) + \n",
    "  geom_line(aes(y=predict_p, color=Tag), size=2) + \n",
    "  ylim(0.25,0.8) + theme_bw() + theme(legend.position='bottom', panel.grid=element_blank()) +\n",
    "  scale_x_continuous(breaks=2010:2017) +\n",
    "  scale_color_manual(name=NULL, values=c('darkgray','turquoise')) +\n",
    "  xlab('Year of Publication') + ylab('Probability of Female in a High Status Position') +\n",
    "  labs(title='Female Lead Authorship vs Publication Year', subtitle='Journal Articles with 4 Authors (Average Size)')\n",
    "grid.arrange(p1, p2, nrow=1)\n",
    "dev.off()\n"
   ]
  },
  {
   "cell_type": "code",
   "execution_count": null,
   "metadata": {},
   "outputs": [],
   "source": []
  }
 ],
 "metadata": {
  "kernelspec": {
   "display_name": "R",
   "language": "R",
   "name": "ir"
  },
  "language_info": {
   "codemirror_mode": "r",
   "file_extension": ".r",
   "mimetype": "text/x-r-source",
   "name": "R",
   "pygments_lexer": "r",
   "version": "3.4.4"
  }
 },
 "nbformat": 4,
 "nbformat_minor": 2
}
