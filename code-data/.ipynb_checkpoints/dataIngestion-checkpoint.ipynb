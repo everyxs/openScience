{
 "cells": [
  {
   "cell_type": "code",
   "execution_count": 18,
   "metadata": {},
   "outputs": [
    {
     "data": {
      "text/plain": [
       "['configuration']"
      ]
     },
     "execution_count": 18,
     "metadata": {},
     "output_type": "execute_result"
    }
   ],
   "source": [
    "import os, sys\n",
    "#import configparser\n",
    "\n",
    "os.path.abspath(\"AzureDownload/config.txt\")\n",
    "os.getcwd()\n",
    "#config = configparser.ConfigParser()\n",
    "config.read(\"/home/jovyan/AzureDownload/config.txt\")\n",
    "config.sections()"
   ]
  },
  {
   "cell_type": "code",
   "execution_count": 22,
   "metadata": {},
   "outputs": [
    {
     "name": "stdout",
     "output_type": "stream",
     "text": [
      "It takes 1.5517127513885498 seconds to download Open-old.csv\n"
     ]
    }
   ],
   "source": [
    "import time\n",
    "from azure.storage.blob import BlockBlobService\n",
    "\n",
    "CONTAINERNAME ='mag-2019-03-02'\n",
    "BLOBNAME= \"Open-old.csv\"\n",
    "LOCALFILENAME= \"/home/jovyan/openScience/code-data/Open-old.csv\"\n",
    "\n",
    "#download from blob\n",
    "block_blob_service=BlockBlobService(account_name=config.get(\"configuration\",\"account\"),account_key=config.get(\"configuration\",\"password\"))\n",
    "#download from blob\n",
    "t1=time.time()\n",
    "block_blob_service.get_blob_to_path(CONTAINERNAME,BLOBNAME,LOCALFILENAME)\n",
    "t2=time.time()\n",
    "print((\"It takes %s seconds to download \"+BLOBNAME) % (t2 - t1))"
   ]
  },
  {
   "cell_type": "code",
   "execution_count": null,
   "metadata": {},
   "outputs": [],
   "source": [
    "BLOBNAME= \"Reproduce-old.csv\"\n",
    "LOCALFILENAME= \"/home/jovyan/openScience/code-data/Reproduce-old.csv\"\n",
    "\n",
    "#download from blob\n",
    "block_blob_service=BlockBlobService(account_name=config.get(\"configuration\",\"account\"),account_key=config.get(\"configuration\",\"password\"))\n",
    "#download from blob\n",
    "t1=time.time()\n",
    "block_blob_service.get_blob_to_path(CONTAINERNAME,BLOBNAME,LOCALFILENAME)\n",
    "t2=time.time()\n",
    "print((\"It takes %s seconds to download \"+BLOBNAME) % (t2 - t1))"
   ]
  }
 ],
 "metadata": {
  "kernelspec": {
   "display_name": "Python 3",
   "language": "python",
   "name": "python3"
  },
  "language_info": {
   "codemirror_mode": {
    "name": "ipython",
    "version": 3
   },
   "file_extension": ".py",
   "mimetype": "text/x-python",
   "name": "python",
   "nbconvert_exporter": "python",
   "pygments_lexer": "ipython3",
   "version": "3.6.7"
  }
 },
 "nbformat": 4,
 "nbformat_minor": 2
}
