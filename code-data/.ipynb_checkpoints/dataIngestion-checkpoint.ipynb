{
 "cells": [
  {
   "cell_type": "code",
   "execution_count": 29,
   "metadata": {},
   "outputs": [
    {
     "data": {
      "text/plain": [
       "['configuration', 'credentials']"
      ]
     },
     "execution_count": 29,
     "metadata": {},
     "output_type": "execute_result"
    }
   ],
   "source": [
    "import os, sys\n",
    "#import configparser\n",
    "\n",
    "os.path.abspath(\"AzureDownload/config.txt\")\n",
    "os.getcwd()\n",
    "#config = configparser.ConfigParser()\n",
    "config.read(\"/home/jovyan/AzureDownload/config.txt\")\n",
    "config.sections()"
   ]
  },
  {
   "cell_type": "code",
   "execution_count": 42,
   "metadata": {},
   "outputs": [],
   "source": [
    "## Required for Azure Data Lake Analytics job management\n",
    "from azure.mgmt.datalake.analytics.job import DataLakeAnalyticsJobManagementClient\n",
    "from azure.mgmt.datalake.analytics.job.models import JobInformation, JobState, USqlJobProperties\n",
    "from azure.common.credentials import ServicePrincipalCredentials\n",
    "\n",
    "credentials = ServicePrincipalCredentials(client_id =config.get(\"credentials\",\"client\"), secret=config.get(\"credentials\",\"password\"), tenant =config.get(\"credentials\",\"tenant\"))\n",
    "\n",
    "subid= 'Microsoft Azure Sponsorship'\n",
    "rg = 'IUNI-MAG-RG'\n",
    "location = 'eastus2'\n",
    "adla = 'iunimag'\n",
    "\n",
    "adlaJobClient = DataLakeAnalyticsJobManagementClient(credentials, 'azuredatalakeanalytics.net')"
   ]
  },
  {
   "cell_type": "code",
   "execution_count": 50,
   "metadata": {},
   "outputs": [],
   "source": [
    "script = open(\"/home/jovyan/openScience/code-data/usql-scripts/MAGget.usql\", \"r\")\n",
    "\n",
    "jobId = str(uuid.uuid4())\n",
    "jobResult = adlaJobClient.job.create(\n",
    "    adla,\n",
    "    jobId,\n",
    "    JobInformation(\n",
    "        name='MAGget@jupyter',\n",
    "        type='USql',\n",
    "        degree_of_parallelism=15,\n",
    "        properties=USqlJobProperties(script=script.read() )\n",
    "    )\n",
    ")"
   ]
  },
  {
   "cell_type": "code",
   "execution_count": 51,
   "metadata": {},
   "outputs": [
    {
     "name": "stdout",
     "output_type": "stream",
     "text": [
      "It takes 1.821382761001587 seconds to download Open.csv\n"
     ]
    }
   ],
   "source": [
    "import time\n",
    "from azure.storage.blob import BlockBlobService\n",
    "\n",
    "CONTAINERNAME ='mag-2019-03-02'\n",
    "BLOBNAME= \"Open.csv\"\n",
    "LOCALFILENAME= \"/home/jovyan/openScience/code-data/Open.csv\"\n",
    "\n",
    "#download from blob\n",
    "block_blob_service=BlockBlobService(account_name=config.get(\"configuration\",\"account\"),account_key=config.get(\"configuration\",\"password\"))\n",
    "#download from blob\n",
    "t1=time.time()\n",
    "block_blob_service.get_blob_to_path(CONTAINERNAME,BLOBNAME,LOCALFILENAME)\n",
    "t2=time.time()\n",
    "print((\"It takes %s seconds to download \"+BLOBNAME) % (t2 - t1))"
   ]
  },
  {
   "cell_type": "code",
   "execution_count": 52,
   "metadata": {},
   "outputs": [
    {
     "name": "stdout",
     "output_type": "stream",
     "text": [
      "It takes 8.286332368850708 seconds to download Reproduce.csv\n"
     ]
    }
   ],
   "source": [
    "BLOBNAME= \"Reproduce.csv\"\n",
    "LOCALFILENAME= \"/home/jovyan/openScience/code-data/Reproduce.csv\"\n",
    "\n",
    "#download from blob\n",
    "t1=time.time()\n",
    "block_blob_service.get_blob_to_path(CONTAINERNAME,BLOBNAME,LOCALFILENAME)\n",
    "t2=time.time()\n",
    "print((\"It takes %s seconds to download \"+BLOBNAME) % (t2 - t1))"
   ]
  },
  {
   "cell_type": "code",
   "execution_count": 53,
   "metadata": {},
   "outputs": [
    {
     "name": "stdout",
     "output_type": "stream",
     "text": [
      "It takes 1.7508304119110107 seconds to download Open-old.csv\n"
     ]
    }
   ],
   "source": [
    "import time\n",
    "from azure.storage.blob import BlockBlobService\n",
    "\n",
    "CONTAINERNAME ='mag-2019-03-02'\n",
    "BLOBNAME= \"Open-old.csv\"\n",
    "LOCALFILENAME= \"/home/jovyan/openScience/code-data/Open-old.csv\"\n",
    "\n",
    "#download from blob\n",
    "block_blob_service=BlockBlobService(account_name=config.get(\"configuration\",\"account\"),account_key=config.get(\"configuration\",\"password\"))\n",
    "#download from blob\n",
    "t1=time.time()\n",
    "block_blob_service.get_blob_to_path(CONTAINERNAME,BLOBNAME,LOCALFILENAME)\n",
    "t2=time.time()\n",
    "print((\"It takes %s seconds to download \"+BLOBNAME) % (t2 - t1))"
   ]
  },
  {
   "cell_type": "code",
   "execution_count": 54,
   "metadata": {},
   "outputs": [
    {
     "name": "stdout",
     "output_type": "stream",
     "text": [
      "It takes 0.8343608379364014 seconds to download Reproduce-old.csv\n"
     ]
    }
   ],
   "source": [
    "BLOBNAME= \"Reproduce-old.csv\"\n",
    "LOCALFILENAME= \"/home/jovyan/openScience/code-data/Reproduce-old.csv\"\n",
    "\n",
    "#download from blob\n",
    "t1=time.time()\n",
    "block_blob_service.get_blob_to_path(CONTAINERNAME,BLOBNAME,LOCALFILENAME)\n",
    "t2=time.time()\n",
    "print((\"It takes %s seconds to download \"+BLOBNAME) % (t2 - t1))"
   ]
  },
  {
   "cell_type": "code",
   "execution_count": null,
   "metadata": {},
   "outputs": [],
   "source": []
  }
 ],
 "metadata": {
  "kernelspec": {
   "display_name": "Python 3",
   "language": "python",
   "name": "python3"
  },
  "language_info": {
   "codemirror_mode": {
    "name": "ipython",
    "version": 3
   },
   "file_extension": ".py",
   "mimetype": "text/x-python",
   "name": "python",
   "nbconvert_exporter": "python",
   "pygments_lexer": "ipython3",
   "version": "3.6.8"
  }
 },
 "nbformat": 4,
 "nbformat_minor": 2
}
