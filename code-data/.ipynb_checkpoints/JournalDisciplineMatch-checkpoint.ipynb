{
 "cells": [
  {
   "cell_type": "code",
   "execution_count": 14,
   "metadata": {},
   "outputs": [
    {
     "name": "stdout",
     "output_type": "stream",
     "text": [
      "Requirement already satisfied: azure-storage-blob in /home/jovyan/.local/lib/python3.6/site-packages (1.5.0)\n",
      "Requirement already satisfied: azure-common>=1.1.5 in /home/jovyan/.local/lib/python3.6/site-packages (from azure-storage-blob) (1.1.18)\n",
      "Requirement already satisfied: azure-storage-common~=1.4 in /home/jovyan/.local/lib/python3.6/site-packages (from azure-storage-blob) (1.4.0)\n",
      "Requirement already satisfied: python-dateutil in /opt/conda/lib/python3.6/site-packages (from azure-storage-common~=1.4->azure-storage-blob) (2.8.0)\n",
      "Requirement already satisfied: cryptography in /opt/conda/lib/python3.6/site-packages (from azure-storage-common~=1.4->azure-storage-blob) (2.5)\n",
      "Requirement already satisfied: requests in /opt/conda/lib/python3.6/site-packages (from azure-storage-common~=1.4->azure-storage-blob) (2.21.0)\n",
      "Requirement already satisfied: six>=1.5 in /opt/conda/lib/python3.6/site-packages (from python-dateutil->azure-storage-common~=1.4->azure-storage-blob) (1.12.0)\n",
      "Requirement already satisfied: cffi!=1.11.3,>=1.8 in /opt/conda/lib/python3.6/site-packages (from cryptography->azure-storage-common~=1.4->azure-storage-blob) (1.12.1)\n",
      "Requirement already satisfied: asn1crypto>=0.21.0 in /opt/conda/lib/python3.6/site-packages (from cryptography->azure-storage-common~=1.4->azure-storage-blob) (0.24.0)\n",
      "Requirement already satisfied: certifi>=2017.4.17 in /opt/conda/lib/python3.6/site-packages (from requests->azure-storage-common~=1.4->azure-storage-blob) (2018.11.29)\n",
      "Requirement already satisfied: chardet<3.1.0,>=3.0.2 in /opt/conda/lib/python3.6/site-packages (from requests->azure-storage-common~=1.4->azure-storage-blob) (3.0.4)\n",
      "Requirement already satisfied: idna<2.9,>=2.5 in /opt/conda/lib/python3.6/site-packages (from requests->azure-storage-common~=1.4->azure-storage-blob) (2.8)\n",
      "Requirement already satisfied: urllib3<1.25,>=1.21.1 in /opt/conda/lib/python3.6/site-packages (from requests->azure-storage-common~=1.4->azure-storage-blob) (1.24.1)\n",
      "Requirement already satisfied: pycparser in /opt/conda/lib/python3.6/site-packages (from cffi!=1.11.3,>=1.8->cryptography->azure-storage-common~=1.4->azure-storage-blob) (2.19)\n"
     ]
    }
   ],
   "source": [
    "import os, sys\n",
    "os.getcwd()\n",
    "!pip install azure-storage-blob --user"
   ]
  },
  {
   "cell_type": "code",
   "execution_count": 1,
   "metadata": {},
   "outputs": [
    {
     "name": "stdout",
     "output_type": "stream",
     "text": [
      "['/usr/local/spark/python', '/usr/local/spark/python/lib/py4j-0.10.7-src.zip', '/opt/conda/lib/python36.zip', '/opt/conda/lib/python3.6', '/opt/conda/lib/python3.6/lib-dynload', '', '/home/jovyan/.local/lib/python3.6/site-packages', '/opt/conda/lib/python3.6/site-packages', '/opt/conda/lib/python3.6/site-packages/IPython/extensions', '/home/jovyan/.ipython', '/home/jovyan/.local/lib/python3.6/site-packages/']\n"
     ]
    },
    {
     "data": {
      "text/plain": [
       "['configuration', 'credentials']"
      ]
     },
     "execution_count": 1,
     "metadata": {},
     "output_type": "execute_result"
    }
   ],
   "source": [
    "import os, sys\n",
    "import configparser\n",
    "sys.path.append('/home/jovyan/.local/lib/python3.6/site-packages/')\n",
    "print(sys.path)\n",
    "\n",
    "os.path.abspath(\"AzureDownload/config.txt\")\n",
    "os.getcwd()\n",
    "config = configparser.ConfigParser()\n",
    "config.read(\"/home/jovyan/AzureDownload/config.txt\")\n",
    "config.sections()"
   ]
  },
  {
   "cell_type": "code",
   "execution_count": 17,
   "metadata": {},
   "outputs": [],
   "source": [
    "from pyspark.sql.functions import trim, to_date, year, month\n",
    "from azure.storage.blob import *\n",
    "from pyspark import SparkContext\n",
    "from pyspark import SparkConf\n",
    "from pyspark.sql import *\n",
    "\n",
    "spark = SparkSession.builder.getOrCreate()\n",
    "spark.conf.set(\n",
    "    \"fs.azure.account.key.iunimag.blob.core.windows.net\",\n",
    "    config.get(\"configuration\",\"password\")\n",
    ")\n",
    "\n",
    "test = spark.read.csv(\"Open.csv\")\n",
    "#wosJournalMap = spark.read.parquet(\"wasbs://mag-2019-01-25@iunimag.blob.core.windows.net/MAGwosJournalMatch/*.parquet\")"
   ]
  },
  {
   "cell_type": "code",
   "execution_count": 20,
   "metadata": {},
   "outputs": [
    {
     "name": "stdout",
     "output_type": "stream",
     "text": [
      "+--------------------+\n",
      "|                 _c0|\n",
      "+--------------------+\n",
      "|AuthorIds\tAuthorN...|\n",
      "|1895541405\tJ. Mic...|\n",
      "|1903954269\tPieter...|\n",
      "|149214408\tStacy K...|\n",
      "|1968619019; 21627...|\n",
      "|1918640562\tHeidi ...|\n",
      "|146930744; 282834...|\n",
      "|1971373124\tJonas ...|\n",
      "|1460683274; 25181...|\n",
      "|2072777619\tOliver...|\n",
      "|1840341420\tPaola ...|\n",
      "|115656586\tElliott...|\n",
      "|Figure 1 Research...|\n",
      "|Figure 2 Advantag...|\n",
      "|To illustrate the...|\n",
      "|2045166491; 21282...|\n",
      "|In collaboration ...|\n",
      "|The truth sets ar...|\n",
      "|The truth sets do...|\n",
      "|Many existing val...|\n",
      "+--------------------+\n",
      "only showing top 20 rows\n",
      "\n"
     ]
    }
   ],
   "source": [
    "test.show(20)"
   ]
  },
  {
   "cell_type": "code",
   "execution_count": null,
   "metadata": {},
   "outputs": [],
   "source": []
  }
 ],
 "metadata": {
  "kernelspec": {
   "display_name": "Python 3",
   "language": "python",
   "name": "python3"
  },
  "language_info": {
   "codemirror_mode": {
    "name": "ipython",
    "version": 3
   },
   "file_extension": ".py",
   "mimetype": "text/x-python",
   "name": "python",
   "nbconvert_exporter": "python",
   "pygments_lexer": "ipython3",
   "version": "3.6.8"
  }
 },
 "nbformat": 4,
 "nbformat_minor": 2
}
