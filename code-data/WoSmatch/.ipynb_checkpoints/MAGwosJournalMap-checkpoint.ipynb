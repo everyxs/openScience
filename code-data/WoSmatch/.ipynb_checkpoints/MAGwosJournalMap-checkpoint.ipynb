{
 "cells": [
  {
   "cell_type": "code",
   "execution_count": 1,
   "metadata": {
    "collapsed": false,
    "scrolled": true
   },
   "outputs": [
    {
     "data": {
      "text/plain": [
       "Waiting for a Spark session to start..."
      ]
     },
     "metadata": {},
     "output_type": "display_data"
    },
    {
     "data": {
      "text/plain": [
       "sqlContext = org.apache.spark.sql.SQLContext@1f567540\n"
      ]
     },
     "metadata": {},
     "output_type": "display_data"
    },
    {
     "data": {
      "text/plain": [
       "warning: there was one deprecation warning; re-run with -deprecation for details\n"
      ]
     },
     "metadata": {},
     "output_type": "display_data"
    },
    {
     "data": {
      "text/plain": [
       "org.apache.spark.sql.SQLContext@1f567540"
      ]
     },
     "execution_count": 1,
     "metadata": {},
     "output_type": "execute_result"
    }
   ],
   "source": [
    "import org.apache.spark.sql.{SQLContext, SaveMode}\n",
    "import org.apache.spark.sql.types.{StructType, StructField, StringType, DoubleType};\n",
    "import com.databricks.spark.xml._\n",
    "\n",
    "val sqlContext = new SQLContext(sc)\n",
    "import sqlContext.implicits._"
   ]
  },
  {
   "cell_type": "code",
   "execution_count": 2,
   "metadata": {
    "collapsed": false
   },
   "outputs": [
    {
     "name": "stdout",
     "output_type": "stream",
     "text": [
      "+----------+--------------------+----------+\n",
      "|       MID|                Mdoi|      MJid|\n",
      "+----------+--------------------+----------+\n",
      "|2057940216|10.1111/j.1600-07...| 114728194|\n",
      "|2129851794|10.1017/S00208183...| 160686149|\n",
      "|1782961828|                null|  65932378|\n",
      "|2361074566|                null|2764671857|\n",
      "|2039151116|10.1215/00295132-...| 165333975|\n",
      "|2005692652|   10.1190/1.1441619| 106174089|\n",
      "|2057940218|10.1080/01416200....|  30354769|\n",
      "|2129851795|10.5281/zenodo.41643|      null|\n",
      "|1782961867|                null|      null|\n",
      "|2361074570|                null|2764920693|\n",
      "|2039151118|10.1016/j.carbon....| 188605413|\n",
      "|2005692655|10.1109/ICIW.2010.45|      null|\n",
      "|2057940223|10.1016/S0162-310...| 131233414|\n",
      "|2129851796|10.1016/j.revpalb...|  43762691|\n",
      "|1782961894|                null|      null|\n",
      "|2361074586|                null|2764835777|\n",
      "|2039151119|10.1016/S0005-796...| 186589312|\n",
      "|2005692656|   10.1021/la027041o|  75741262|\n",
      "|2057940226|10.1360/crad20070212| 166095821|\n",
      "|2129851798|10.1007/s11367-01...| 108239708|\n",
      "+----------+--------------------+----------+\n",
      "only showing top 20 rows\n",
      "\n"
     ]
    },
    {
     "data": {
      "text/plain": [
       "MAG = [_c0: string, _c1: string ... 20 more fields]\n",
       "MAG2 = [MID: string, Mdoi: string ... 1 more field]\n"
      ]
     },
     "metadata": {},
     "output_type": "display_data"
    },
    {
     "data": {
      "text/plain": [
       "[MID: string, Mdoi: string ... 1 more field]"
      ]
     },
     "execution_count": 2,
     "metadata": {},
     "output_type": "execute_result"
    }
   ],
   "source": [
    "val MAG = spark.read.format(\"csv\").option(\"header\", \"false\").option(\"delimiter\", \"\\t\").load(\"file:///N/dc2/projects/IUNI_MSAcademic/mag_raw/mag/Papers.txt\")\n",
    "val MAG2 = MAG.select(\"_c0\", \"_c2\", \"_c10\").toDF(\"MID\", \"Mdoi\", \"MJid\")\n",
    "MAG2.show"
   ]
  },
  {
   "cell_type": "code",
   "execution_count": null,
   "metadata": {
    "collapsed": false,
    "scrolled": true
   },
   "outputs": [],
   "source": [
    "import scala.util.Try\n",
    "import org.apache.spark.sql.functions._\n",
    "import org.apache.spark.sql.{Row, SQLContext}\n",
    "import org.apache.spark.sql.functions.countDistinct\n",
    "\n",
    "val WoS = spark.read.format(\"parquet\").load(\"file:///N/dc2/projects/IUNI_MSAcademic/wos_raw/parquet/*.parquet\")\n",
    "\n",
    "val WoS2 = WoS.select(\"UID\",\"dynamic_data.cluster_related.identifiers.identifier\",\"static_data.abstracts.abstract.abstract_text.p\",\"static_data.summary.doctypes.doctype\",\n",
    "                       \"static_data.summary.pub_info._pubyear\",\"static_data.summary.names.name.display_name\",\"static_data.summary.publishers.publisher.names.name.full_name\",\"static_data.summary.titles.title\")\n",
    "\n",
    "val WoS3 = WoS2.withColumn(\"identifiers\", explode(col(\"identifier\")))\n",
    "WoS3.groupBy(\"identifiers._type\").count().show"
   ]
  },
  {
   "cell_type": "code",
   "execution_count": 7,
   "metadata": {
    "collapsed": false
   },
   "outputs": [
    {
     "name": "stdout",
     "output_type": "stream",
     "text": [
      "[Stage 29:=====================================================>(499 + 1) / 500]+-------+--------+--------+--------+\n",
      "|summary|     UID|     doi|_pubyear|\n",
      "+-------+--------+--------+--------+\n",
      "|  count|19854931|19854931|19854931|\n",
      "+-------+--------+--------+--------+\n",
      "\n"
     ]
    },
    {
     "data": {
      "text/plain": [
       "WoS4 = [UID: string, doi: string ... 1 more field]\n"
      ]
     },
     "metadata": {},
     "output_type": "display_data"
    },
    {
     "data": {
      "text/plain": [
       "getID: (_type: String)org.apache.spark.sql.expressions.UserDefinedFunction\n"
      ]
     },
     "metadata": {},
     "output_type": "display_data"
    },
    {
     "data": {
      "text/plain": [
       "[UID: string, doi: string ... 1 more field]"
      ]
     },
     "execution_count": 7,
     "metadata": {},
     "output_type": "execute_result"
    }
   ],
   "source": [
    "def getID(_type: String) = {\n",
    "  udf((row: Seq[Row]) =>\n",
    "    row.map(r => (r.getString(0), r.getString(1), r.getString(2)))\n",
    "      .find { case (_, s, _) => s == _type}\n",
    "      .map(_._3)\n",
    "      .orElse(None)\n",
    "  )\n",
    "}\n",
    "\n",
    "\n",
    "val WoS4 = WoS2.withColumn(\"doi\", when(col(\"identifier\").isNotNull, getID(\"doi\")($\"identifier\")).otherwise(lit(null)))\n",
    ".select(\"UID\",\"doi\",\"_pubyear\").filter($\"doi\" =!= \"null\").coalesce(500)\n",
    "\n",
    "WoS4.describe().filter($\"summary\" === \"count\").show"
   ]
  },
  {
   "cell_type": "code",
   "execution_count": 11,
   "metadata": {
    "collapsed": false,
    "scrolled": true
   },
   "outputs": [
    {
     "name": "stdout",
     "output_type": "stream",
     "text": [
      "+-------------------+--------------------+--------------------+\n",
      "|               UID2|             WoStype|          WoSjournal|\n",
      "+-------------------+--------------------+--------------------+\n",
      "|WOS:000314473000028|           [Article]|             ANALYST|\n",
      "|WOS:000215261800133|           [Article]|CASE REPORTS IN M...|\n",
      "|WOS:000318694100266|  [Meeting Abstract]|JOURNAL OF LABELL...|\n",
      "|WOS:000318694100428|  [Meeting Abstract]|JOURNAL OF LABELL...|\n",
      "|WOS:000330468400149|  [Meeting Abstract]|            PANCREAS|\n",
      "|WOS:000327808700032|            [Letter]|JOURNAL OF VASCUL...|\n",
      "|WOS:000322828100039|            [Letter]|APPLIED AND ENVIR...|\n",
      "|WOS:000312965100005|[Editorial Material]|    GASTROENTEROLOGY|\n",
      "|WOS:000332833800288|  [Meeting Abstract]|JOURNAL OF MOLECU...|\n",
      "|WOS:000316290900022|[Editorial Material]|JOURNAL OF PHASE ...|\n",
      "|WOS:000330358200026|           [Article]| CLASSICAL QUARTERLY|\n",
      "|WOS:000331980300050|[Article, Proceed...|    BUFFALO BULLETIN|\n",
      "|WOS:000331980300212|[Article, Proceed...|    BUFFALO BULLETIN|\n",
      "|WOS:000314627700035|           [Article]| INORGANIC CHEMISTRY|\n",
      "|WOS:000328683600017|           [Article]|JOURNAL OF LEUKOC...|\n",
      "|WOS:000318665300019|[Article, Proceed...|MICROCHEMICAL JOU...|\n",
      "|WOS:000339363800092| [Proceedings Paper]|APPLIED MATERIALS...|\n",
      "|WOS:000339363800254| [Proceedings Paper]|APPLIED MATERIALS...|\n",
      "|WOS:000339363800416| [Proceedings Paper]|APPLIED MATERIALS...|\n",
      "|WOS:000218628800005|           [Article]|ENTREPRENEURSHIP ...|\n",
      "+-------------------+--------------------+--------------------+\n",
      "only showing top 20 rows\n",
      "\n"
     ]
    },
    {
     "data": {
      "text/plain": [
       "WoS5 = [UID2: string, WoStype: array<string> ... 1 more field]\n"
      ]
     },
     "metadata": {},
     "output_type": "display_data"
    },
    {
     "data": {
      "text/plain": [
       "getTitle: (_type: String)org.apache.spark.sql.expressions.UserDefinedFunction\n"
      ]
     },
     "metadata": {},
     "output_type": "display_data"
    },
    {
     "data": {
      "text/plain": [
       "[UID2: string, WoStype: array<string> ... 1 more field]"
      ]
     },
     "execution_count": 11,
     "metadata": {},
     "output_type": "execute_result"
    }
   ],
   "source": [
    "import scala.util.Try\n",
    "import org.apache.hadoop.fs._\n",
    "import org.apache.spark.sql.Row\n",
    "\n",
    "def getTitle(_type: String) = { \n",
    "  udf((row: Seq[Row]) =>\n",
    "    row.map(r => (r.getString(0), r.getString(1), r.getString(2)))\n",
    "      .find { case (_, _, s) => s == _type}\n",
    "      .map(_._1)\n",
    "      .orElse(None)\n",
    "  )\n",
    "}\n",
    "\n",
    "val WoS5 = WoS2.withColumn(\"journal\", getTitle(\"source\")($\"title\")).select(\"UID\",\"doctype\",\"journal\")\n",
    ".toDF(\"UID2\",\"WoStype\",\"WoSjournal\")\n",
    "WoS5.show"
   ]
  },
  {
   "cell_type": "code",
   "execution_count": 9,
   "metadata": {
    "collapsed": false
   },
   "outputs": [
    {
     "name": "stdout",
     "output_type": "stream",
     "text": [
      "[Stage 25:=====================================================>(444 + 1) / 445]+----------+--------------------+---------+-------------------+--------------------+--------+\n",
      "|       MID|                Mdoi|     MJid|                UID|                 doi|_pubyear|\n",
      "+----------+--------------------+---------+-------------------+--------------------+--------+\n",
      "|2076045575|10.1001/2013.jama...|146641495|WOS:000312395500012|10.1001/2013.jama...|    2012|\n",
      "|2074261013|10.1001/2013.jama...| 65364685|WOS:000311513000005|10.1001/2013.jama...|    2012|\n",
      "|2063424611|10.1001/2013.jama...| 65364685|WOS:000312198300015|10.1001/2013.jama...|    2012|\n",
      "|2139316812|10.1001/archderma...|115046667|WOS:000286229000010|10.1001/archderma...|    2011|\n",
      "|2112827574|10.1001/archfacia...|193953920|WOS:000308848300010|10.1001/archfacia...|    2012|\n",
      "|2099029781|10.1001/archgenps...|126359496|WOS:000299905400005|10.1001/archgenps...|    2012|\n",
      "|2085073318|10.1001/archinter...| 65364685|WOS:000305594200021|10.1001/archinter...|    2012|\n",
      "|2002315935|10.1001/archinter...| 65364685|WOS:000307369200011|10.1001/archinter...|    2012|\n",
      "|2051660946|10.1001/archophth...| 80523760|WOS:000293648800008|10.1001/archophth...|    2011|\n",
      "|2149296628|10.1001/archpedia...| 14226812|WOS:000292373100003|10.1001/archpedia...|    2011|\n",
      "|2125848834|10.1001/archpedia...| 14226812|WOS:000310686400009|10.1001/archpedia...|    2012|\n",
      "|2066186632|10.1001/archsurg....| 61251237|WOS:000312397800007|10.1001/archsurg....|    2012|\n",
      "|2092042871|10.1001/jama.2009...|172573765|WOS:000273522600002|10.1001/jama.2009...|    2010|\n",
      "|1977962760|10.1001/jama.2010...|172573765|WOS:000276597300019|10.1001/jama.2010...|    2010|\n",
      "|2026502192|10.1001/jama.2010...|172573765|WOS:000277513900019|10.1001/jama.2010...|    2010|\n",
      "|2024216757|10.1001/jama.2010...|172573765|WOS:000279010900034|10.1001/jama.2010...|    2010|\n",
      "|2066901059|10.1001/jama.2011...|172573765|WOS:000294542600018|10.1001/jama.2011...|    2011|\n",
      "|2041362722|10.1001/jama.2011...|172573765|WOS:000296181600026|10.1001/jama.2011...|    2011|\n",
      "|2049746561|10.1001/jama.2011...|172573765|WOS:000296181600024|10.1001/jama.2011...|    2011|\n",
      "|2061730569|10.1001/jama.2011...|172573765|WOS:000298792300003|10.1001/jama.2011...|    2012|\n",
      "+----------+--------------------+---------+-------------------+--------------------+--------+\n",
      "only showing top 20 rows\n",
      "\n"
     ]
    },
    {
     "data": {
      "text/plain": [
       "MAGwos = [MID: string, Mdoi: string ... 4 more fields]\n"
      ]
     },
     "metadata": {},
     "output_type": "display_data"
    },
    {
     "data": {
      "text/plain": [
       "[MID: string, Mdoi: string ... 4 more fields]"
      ]
     },
     "execution_count": 9,
     "metadata": {},
     "output_type": "execute_result"
    }
   ],
   "source": [
    "val MAGwos = MAG2.join(WoS4, MAG2(\"Mdoi\")===WoS4(\"doi\"), \"inner\")\n",
    "MAGwos.show"
   ]
  },
  {
   "cell_type": "code",
   "execution_count": 10,
   "metadata": {
    "collapsed": false
   },
   "outputs": [
    {
     "name": "stdout",
     "output_type": "stream",
     "text": [
      "[Stage 29:====================================================> (195 + 5) / 200]"
     ]
    }
   ],
   "source": [
    "MAGwos.write.mode(SaveMode.Overwrite).parquet(\"file:///N/dc2/projects/IUNI_MSAcademic/mag_raw/WoSmatch/\")"
   ]
  },
  {
   "cell_type": "code",
   "execution_count": 2,
   "metadata": {
    "collapsed": false
   },
   "outputs": [
    {
     "name": "stdout",
     "output_type": "stream",
     "text": [
      "[Stage 1:=====================================================> (195 + 5) / 200]+----------+--------------------+---------+-------------------+--------------------+--------+\n",
      "|       MID|                Mdoi|     MJid|                UID|                 doi|_pubyear|\n",
      "+----------+--------------------+---------+-------------------+--------------------+--------+\n",
      "|2165176312|10.1001/archfacia...|193953920|WOS:000306380400011|10.1001/archfacia...|    2012|\n",
      "|2056420845|10.1001/archinter...| 65364685|WOS:000305087600005|10.1001/archinter...|    2012|\n",
      "|2013055832|10.1001/archneuro...|164389565|WOS:000312196100001|10.1001/archneuro...|    2012|\n",
      "|2015492981|10.1001/archpedia...| 14226812|WOS:000290113500010|10.1001/archpedia...|    2011|\n",
      "|2110498722|10.1001/archpedia...| 14226812|WOS:000301211000003|10.1001/archpedia...|    2012|\n",
      "|1999322515|10.1001/jama.2010...|172573765|WOS:000281422400025|10.1001/jama.2010...|    2010|\n",
      "|2029215247|10.1001/jama.2010...|172573765|WOS:000277764500026|10.1001/jama.2010...|    2010|\n",
      "|1964233159|10.1001/jama.2010...|172573765|WOS:000278018200017|10.1001/jama.2010...|    2010|\n",
      "|1983224567|10.1001/jama.2011...|172573765|WOS:000298276800013|10.1001/jama.2011...|    2011|\n",
      "|1998215194|10.1001/jama.2011...|172573765|WOS:000298792300018|10.1001/jama.2011...|    2012|\n",
      "|2078787724|10.1001/jama.2011...|172573765|WOS:000288652100005|10.1001/jama.2011...|    2011|\n",
      "|2072076896|10.1001/jama.2011...|172573765|WOS:000291349100001|10.1001/jama.2011...|    2011|\n",
      "|2041736286|10.1001/jama.2011...|172573765|WOS:000290156200027|10.1001/jama.2011...|    2011|\n",
      "|2054743870|10.1001/jama.2011...|172573765|WOS:000291597300018|10.1001/jama.2011...|    2011|\n",
      "|2061701563|10.1001/jama.2012...|172573765|WOS:000309103600031|10.1001/jama.2012...|    2012|\n",
      "|2070804914|10.1001/jama.2012...|172573765|WOS:000310726500002|10.1001/jama.2012...|    2012|\n",
      "|2066481124|10.1001/jama.2012...|172573765|WOS:000301172100007|10.1001/jama.2012...|    2012|\n",
      "|2026541170|10.1001/jama.2012...|172573765|WOS:000303147500006|10.1001/jama.2012...|    2012|\n",
      "|1966663730|10.1001/jama.2012...|172573765|WOS:000306477900021|10.1001/jama.2012...|    2012|\n",
      "|2152740900|10.1001/jama.2012...|172573765|WOS:000312916600025|10.1001/jama.2012...|    2012|\n",
      "+----------+--------------------+---------+-------------------+--------------------+--------+\n",
      "only showing top 20 rows\n",
      "\n"
     ]
    },
    {
     "data": {
      "text/plain": [
       "MAGwos2 = [MID: string, Mdoi: string ... 4 more fields]\n"
      ]
     },
     "metadata": {},
     "output_type": "display_data"
    },
    {
     "data": {
      "text/plain": [
       "[MID: string, Mdoi: string ... 4 more fields]"
      ]
     },
     "execution_count": 2,
     "metadata": {},
     "output_type": "execute_result"
    }
   ],
   "source": [
    "val MAGwos2 = spark.read.format(\"parquet\").load(\"file:///N/dc2/projects/IUNI_MSAcademic/mag_raw/WoSmatch/*.parquet\")\n",
    "MAGwos2.show"
   ]
  },
  {
   "cell_type": "code",
   "execution_count": 13,
   "metadata": {
    "collapsed": false
   },
   "outputs": [
    {
     "name": "stdout",
     "output_type": "stream",
     "text": [
      "[Stage 44:=====================================================>(199 + 1) / 200]+-------+--------+--------+--------+--------+--------+--------+--------+----------+\n",
      "|summary|     MID|    Mdoi|    MJid|     UID|     doi|_pubyear|    UID2|WoSjournal|\n",
      "+-------+--------+--------+--------+--------+--------+--------+--------+----------+\n",
      "|  count|18988668|18988668|17874374|18988668|18988668|18988668|18988668|  18988668|\n",
      "+-------+--------+--------+--------+--------+--------+--------+--------+----------+\n",
      "\n"
     ]
    },
    {
     "data": {
      "text/plain": [
       "MAGwos3 = [MID: string, Mdoi: string ... 7 more fields]\n"
      ]
     },
     "metadata": {},
     "output_type": "display_data"
    },
    {
     "data": {
      "text/plain": [
       "[MID: string, Mdoi: string ... 7 more fields]"
      ]
     },
     "execution_count": 13,
     "metadata": {},
     "output_type": "execute_result"
    }
   ],
   "source": [
    "val MAGwos3 = MAGwos2.join(WoS5, MAGwos2(\"UID\")===WoS5(\"UID2\"), \"leftouter\")\n",
    "MAGwos3.describe().filter($\"summary\" === \"count\").show"
   ]
  },
  {
   "cell_type": "code",
   "execution_count": 14,
   "metadata": {
    "collapsed": false
   },
   "outputs": [
    {
     "name": "stdout",
     "output_type": "stream",
     "text": [
      "[Stage 50:=====================================================>(198 + 2) / 200]"
     ]
    }
   ],
   "source": [
    "MAGwos3.select(\"MID\", \"Mdoi\", \"MJid\", \"UID\", \"_pubyear\", \"WoSjournal\")\n",
    ".toDF(\"MAGID\", \"doi\", \"MJid\", \"WoSID\", \"Year\", \"WoSjournal\")\n",
    ".write.mode(SaveMode.Overwrite).parquet(\"file:///N/dc2/projects/IUNI_MSAcademic/mag_raw/WoSmatchJournal/\")"
   ]
  },
  {
   "cell_type": "code",
   "execution_count": 16,
   "metadata": {
    "collapsed": false
   },
   "outputs": [
    {
     "name": "stdout",
     "output_type": "stream",
     "text": [
      "[Stage 54:=====================================================>(198 + 2) / 200]+-------+--------+--------+--------+--------+--------+--------+--------+--------+----------+\n",
      "|summary|  citing|     MID|    Mdoi|    MJid|     UID|     doi|_pubyear|    UID2|WoSjournal|\n",
      "+-------+--------+--------+--------+--------+--------+--------+--------+--------+----------+\n",
      "|  count|18988668|18988668|18988668|17874374|18988668|18988668|18988668|18988668|  18988668|\n",
      "+-------+--------+--------+--------+--------+--------+--------+--------+--------+----------+\n",
      "\n"
     ]
    },
    {
     "data": {
      "text/plain": [
       "WoS5 = [citing: string, citedList: array<string>]\n",
       "WoSref2 = [citing: string, citedList: array<string> ... 9 more fields]\n"
      ]
     },
     "metadata": {},
     "output_type": "display_data"
    },
    {
     "data": {
      "text/plain": [
       "[citing: string, citedList: array<string> ... 9 more fields]"
      ]
     },
     "execution_count": 16,
     "metadata": {},
     "output_type": "execute_result"
    }
   ],
   "source": [
    "val WoS5 = WoS.select(\"UID\", \"static_data.fullrecord_metadata.references.reference.uid\").toDF(\"citing\",\"citedList\")\n",
    "val WoSref2 = WoS5.join(MAGwos3, WoS5(\"citing\")===MAGwos3(\"UID\"), \"inner\")\n",
    "WoSref2.describe().filter($\"summary\" === \"count\").show"
   ]
  },
  {
   "cell_type": "code",
   "execution_count": 21,
   "metadata": {
    "collapsed": false,
    "scrolled": true
   },
   "outputs": [
    {
     "data": {
      "text/plain": [
       "WoSref3 = [citing: string, MID: string ... 3 more fields]\n",
       "WoSref4 = [citingWoS: string, citingMAG: string ... 3 more fields]\n"
      ]
     },
     "metadata": {},
     "output_type": "display_data"
    },
    {
     "data": {
      "text/plain": [
       "lastException: Throwable = null\n"
      ]
     },
     "metadata": {},
     "output_type": "display_data"
    },
    {
     "data": {
      "text/plain": [
       "[citingWoS: string, citingMAG: string ... 3 more fields]"
      ]
     },
     "execution_count": 21,
     "metadata": {},
     "output_type": "execute_result"
    }
   ],
   "source": [
    "val WoSref3 = WoSref2.select(\"citing\",\"MID\",\"Mdoi\",\"_pubyear\",\"citedList\").repartition(50)\n",
    "\n",
    "val WoSref4 = WoSref3.withColumn(\"cited\", explode(col(\"citedList\"))).select(\"citing\",\"MID\",\"Mdoi\",\"_pubyear\",\"cited\")\n",
    "                .toDF(\"citingWoS\",\"citingMAG\",\"citingDOI\",\"citingYear\",\"cited\")\n",
    "//WoSref4.describe().filter($\"summary\" === \"count\").show"
   ]
  },
  {
   "cell_type": "code",
   "execution_count": null,
   "metadata": {
    "collapsed": false
   },
   "outputs": [
    {
     "name": "stdout",
     "output_type": "stream",
     "text": [
      "[Stage 73:=========================================>           (157 + 43) / 200]"
     ]
    }
   ],
   "source": [
    "val MAGwos4 = MAGwos3.select(\"MID\", \"Mdoi\",\"UID\", \"_pubyear\").toDF(\"citedMAG\", \"citedDOI\", \"citedWoS\", \"Year\")\n",
    "val WoSref5 = WoSref4.join(broadcast(MAGwos4), WoSref4(\"cited\")===MAGwos4(\"citedWoS\"), \"inner\")\n",
    "WoSref5.describe().filter($\"summary\" === \"count\").show"
   ]
  },
  {
   "cell_type": "code",
   "execution_count": null,
   "metadata": {
    "collapsed": true
   },
   "outputs": [],
   "source": [
    "WoSref4.write.mode(SaveMode.Overwrite).parquet(\"file:///N/dc2/projects/IUNI_MSAcademic/mag_raw/WoStallCitation/\")"
   ]
  },
  {
   "cell_type": "code",
   "execution_count": null,
   "metadata": {
    "collapsed": true
   },
   "outputs": [],
   "source": []
  }
 ],
 "metadata": {
  "kernelspec": {
   "display_name": "Spark - Scala",
   "language": "scala",
   "name": "spark_scala"
  },
  "language_info": {
   "codemirror_mode": "text/x-scala",
   "file_extension": ".scala",
   "mimetype": "text/x-scala",
   "name": "scala",
   "pygments_lexer": "scala",
   "version": "2.11.12"
  }
 },
 "nbformat": 4,
 "nbformat_minor": 0
}
