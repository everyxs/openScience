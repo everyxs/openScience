{
 "cells": [
  {
   "cell_type": "code",
   "execution_count": 1,
   "metadata": {},
   "outputs": [
    {
     "name": "stderr",
     "output_type": "stream",
     "text": [
      "\n",
      "Attaching package: ‘dplyr’\n",
      "\n",
      "The following objects are masked from ‘package:stats’:\n",
      "\n",
      "    filter, lag\n",
      "\n",
      "The following objects are masked from ‘package:base’:\n",
      "\n",
      "    intersect, setdiff, setequal, union\n",
      "\n",
      "\n",
      "Attaching package: ‘igraph’\n",
      "\n",
      "The following object is masked from ‘package:tidyr’:\n",
      "\n",
      "    crossing\n",
      "\n",
      "The following objects are masked from ‘package:dplyr’:\n",
      "\n",
      "    as_data_frame, groups, union\n",
      "\n",
      "The following objects are masked from ‘package:stats’:\n",
      "\n",
      "    decompose, spectrum\n",
      "\n",
      "The following object is masked from ‘package:base’:\n",
      "\n",
      "    union\n",
      "\n"
     ]
    }
   ],
   "source": [
    "library(dplyr)\n",
    "library(tidyr)\n",
    "library(stringr)\n",
    "#install.packages('widyr')\n",
    "library(widyr)\n",
    "library(readr)\n",
    "#install.packages('igraph')\n",
    "library(igraph)"
   ]
  },
  {
   "cell_type": "code",
   "execution_count": 50,
   "metadata": {},
   "outputs": [
    {
     "name": "stderr",
     "output_type": "stream",
     "text": [
      "Parsed with column specification:\n",
      "cols(\n",
      "  .default = col_character(),\n",
      "  PaperId = col_double(),\n",
      "  Rank = col_double(),\n",
      "  JournalId = col_double(),\n",
      "  ConferenceInstanceId = col_double(),\n",
      "  Year = col_double(),\n",
      "  Date = col_datetime(format = \"\"),\n",
      "  ReferenceCount = col_double(),\n",
      "  CitationCount = col_double(),\n",
      "  EstimatedCitation = col_double()\n",
      ")\n",
      "See spec(...) for full column specifications.\n",
      "Warning message:\n",
      "“Expected 300 pieces. Missing pieces filled with `NA` in 899 rows [1, 2, 3, 4, 5, 6, 7, 8, 9, 10, 11, 12, 13, 14, 15, 16, 17, 18, 19, 20, ...].”"
     ]
    },
    {
     "data": {
      "text/html": [
       "<table>\n",
       "<thead><tr><th scope=col>PaperId</th><th scope=col>Author.101</th><th scope=col>Author.102</th><th scope=col>Author.103</th><th scope=col>Author.104</th><th scope=col>Author.105</th><th scope=col>Author.106</th><th scope=col>Author.107</th><th scope=col>Author.108</th><th scope=col>Author.109</th><th scope=col>⋯</th><th scope=col>Author.295</th><th scope=col>Author.296</th><th scope=col>Author.297</th><th scope=col>Author.298</th><th scope=col>Author.299</th><th scope=col>Author.300</th><th scope=col>Year</th><th scope=col>DocType</th><th scope=col>authorOrder</th><th scope=col>AuthorIds</th></tr></thead>\n",
       "<tbody>\n",
       "\t<tr><td>2626957287 </td><td>NA         </td><td>NA         </td><td>NA         </td><td>NA         </td><td>NA         </td><td>NA         </td><td>NA         </td><td>NA         </td><td>NA         </td><td>⋯          </td><td>NA         </td><td>NA         </td><td>NA         </td><td>NA         </td><td>NA         </td><td>NA         </td><td>2017       </td><td>Journal    </td><td>Author.1   </td><td>1918640562 </td></tr>\n",
       "\t<tr><td>1477275442 </td><td>NA         </td><td>NA         </td><td>NA         </td><td>NA         </td><td>NA         </td><td>NA         </td><td>NA         </td><td>NA         </td><td>NA         </td><td>⋯          </td><td>NA         </td><td>NA         </td><td>NA         </td><td>NA         </td><td>NA         </td><td>NA         </td><td>2014       </td><td>Journal    </td><td>Author.1   </td><td>1971373124 </td></tr>\n",
       "\t<tr><td>2315983435 </td><td>NA         </td><td>NA         </td><td>NA         </td><td>NA         </td><td>NA         </td><td>NA         </td><td>NA         </td><td>NA         </td><td>NA         </td><td>⋯          </td><td>NA         </td><td>NA         </td><td>NA         </td><td>NA         </td><td>NA         </td><td>NA         </td><td>2014       </td><td>Journal    </td><td>Author.1   </td><td>115656586  </td></tr>\n",
       "\t<tr><td>2316467960 </td><td>NA         </td><td>NA         </td><td>NA         </td><td>NA         </td><td>NA         </td><td>NA         </td><td>NA         </td><td>NA         </td><td>NA         </td><td>⋯          </td><td>NA         </td><td>NA         </td><td>NA         </td><td>NA         </td><td>NA         </td><td>NA         </td><td>2016       </td><td>Journal    </td><td>Author.1   </td><td>2045166491 </td></tr>\n",
       "\t<tr><td>1974865399 </td><td>NA         </td><td>NA         </td><td>NA         </td><td>NA         </td><td>NA         </td><td>NA         </td><td>NA         </td><td>NA         </td><td>NA         </td><td>⋯          </td><td>NA         </td><td>NA         </td><td>NA         </td><td>NA         </td><td>NA         </td><td>NA         </td><td>2015       </td><td>Journal    </td><td>Author.1   </td><td>2104297841 </td></tr>\n",
       "\t<tr><td>2532918696 </td><td>NA         </td><td>NA         </td><td>NA         </td><td>NA         </td><td>NA         </td><td>NA         </td><td>NA         </td><td>NA         </td><td>NA         </td><td>⋯          </td><td>NA         </td><td>NA         </td><td>NA         </td><td>NA         </td><td>NA         </td><td>NA         </td><td>2016       </td><td>Journal    </td><td>Author.1   </td><td>1868731373 </td></tr>\n",
       "\t<tr><td>2069967271 </td><td>NA         </td><td>NA         </td><td>NA         </td><td>NA         </td><td>NA         </td><td>NA         </td><td>NA         </td><td>NA         </td><td>NA         </td><td>⋯          </td><td>NA         </td><td>NA         </td><td>NA         </td><td>NA         </td><td>NA         </td><td>NA         </td><td>2012       </td><td>Conference </td><td>Author.1   </td><td>1908621684 </td></tr>\n",
       "\t<tr><td>2566381292 </td><td>NA         </td><td>NA         </td><td>NA         </td><td>NA         </td><td>NA         </td><td>NA         </td><td>NA         </td><td>NA         </td><td>NA         </td><td>⋯          </td><td>NA         </td><td>NA         </td><td>NA         </td><td>NA         </td><td>NA         </td><td>NA         </td><td>2016       </td><td>Conference </td><td>Author.1   </td><td>2017370817 </td></tr>\n",
       "\t<tr><td>2559907294 </td><td>NA         </td><td>NA         </td><td>NA         </td><td>NA         </td><td>NA         </td><td>NA         </td><td>NA         </td><td>NA         </td><td>NA         </td><td>⋯          </td><td>NA         </td><td>NA         </td><td>NA         </td><td>NA         </td><td>NA         </td><td>NA         </td><td>2016       </td><td>Conference </td><td>Author.1   </td><td>1916366858 </td></tr>\n",
       "\t<tr><td>1552162895 </td><td>NA         </td><td>NA         </td><td>NA         </td><td>NA         </td><td>NA         </td><td>NA         </td><td>NA         </td><td>NA         </td><td>NA         </td><td>⋯          </td><td>NA         </td><td>NA         </td><td>NA         </td><td>NA         </td><td>NA         </td><td>NA         </td><td>2014       </td><td>Journal    </td><td>Author.1   </td><td>1985335732 </td></tr>\n",
       "\t<tr><td>2111744339 </td><td>NA         </td><td>NA         </td><td>NA         </td><td>NA         </td><td>NA         </td><td>NA         </td><td>NA         </td><td>NA         </td><td>NA         </td><td>⋯          </td><td>NA         </td><td>NA         </td><td>NA         </td><td>NA         </td><td>NA         </td><td>NA         </td><td>2012       </td><td>Journal    </td><td>Author.1   </td><td>1973113305 </td></tr>\n",
       "\t<tr><td>1871179273 </td><td>NA         </td><td>NA         </td><td>NA         </td><td>NA         </td><td>NA         </td><td>NA         </td><td>NA         </td><td>NA         </td><td>NA         </td><td>⋯          </td><td>NA         </td><td>NA         </td><td>NA         </td><td>NA         </td><td>NA         </td><td>NA         </td><td>2016       </td><td>Journal    </td><td>Author.1   </td><td>1161373467 </td></tr>\n",
       "\t<tr><td>2073285985 </td><td>NA         </td><td>NA         </td><td>NA         </td><td>NA         </td><td>NA         </td><td>NA         </td><td>NA         </td><td>NA         </td><td>NA         </td><td>⋯          </td><td>NA         </td><td>NA         </td><td>NA         </td><td>NA         </td><td>NA         </td><td>NA         </td><td>2014       </td><td>Journal    </td><td>Author.1   </td><td>192274276  </td></tr>\n",
       "\t<tr><td>2152010581 </td><td>NA         </td><td>NA         </td><td>NA         </td><td>NA         </td><td>NA         </td><td>NA         </td><td>NA         </td><td>NA         </td><td>NA         </td><td>⋯          </td><td>NA         </td><td>NA         </td><td>NA         </td><td>NA         </td><td>NA         </td><td>NA         </td><td>2015       </td><td>Journal    </td><td>Author.1   </td><td>2106210375 </td></tr>\n",
       "\t<tr><td>2327441653 </td><td>NA         </td><td>NA         </td><td>NA         </td><td>NA         </td><td>NA         </td><td>NA         </td><td>NA         </td><td>NA         </td><td>NA         </td><td>⋯          </td><td>NA         </td><td>NA         </td><td>NA         </td><td>NA         </td><td>NA         </td><td>NA         </td><td>2015       </td><td>Conference </td><td>Author.1   </td><td>1987111820 </td></tr>\n",
       "\t<tr><td>2298654054 </td><td>NA         </td><td>NA         </td><td>NA         </td><td>NA         </td><td>NA         </td><td>NA         </td><td>NA         </td><td>NA         </td><td>NA         </td><td>⋯          </td><td>NA         </td><td>NA         </td><td>NA         </td><td>NA         </td><td>NA         </td><td>NA         </td><td>2016       </td><td>Journal    </td><td>Author.1   </td><td>1952202380 </td></tr>\n",
       "\t<tr><td>2774666154 </td><td>NA         </td><td>NA         </td><td>NA         </td><td>NA         </td><td>NA         </td><td>NA         </td><td>NA         </td><td>NA         </td><td>NA         </td><td>⋯          </td><td>NA         </td><td>NA         </td><td>NA         </td><td>NA         </td><td>NA         </td><td>NA         </td><td>2017       </td><td>Journal    </td><td>Author.1   </td><td>201421245  </td></tr>\n",
       "\t<tr><td>2090556106 </td><td>NA         </td><td>NA         </td><td>NA         </td><td>NA         </td><td>NA         </td><td>NA         </td><td>NA         </td><td>NA         </td><td>NA         </td><td>⋯          </td><td>NA         </td><td>NA         </td><td>NA         </td><td>NA         </td><td>NA         </td><td>NA         </td><td>2013       </td><td>Journal    </td><td>Author.1   </td><td>2061691810 </td></tr>\n",
       "\t<tr><td>2290496341 </td><td>NA         </td><td>NA         </td><td>NA         </td><td>NA         </td><td>NA         </td><td>NA         </td><td>NA         </td><td>NA         </td><td>NA         </td><td>⋯          </td><td>NA         </td><td>NA         </td><td>NA         </td><td>NA         </td><td>NA         </td><td>NA         </td><td>2016       </td><td>Journal    </td><td>Author.1   </td><td>2004016812 </td></tr>\n",
       "\t<tr><td>2050365740 </td><td>NA         </td><td>NA         </td><td>NA         </td><td>NA         </td><td>NA         </td><td>NA         </td><td>NA         </td><td>NA         </td><td>NA         </td><td>⋯          </td><td>NA         </td><td>NA         </td><td>NA         </td><td>NA         </td><td>NA         </td><td>NA         </td><td>2012       </td><td>Conference </td><td>Author.1   </td><td>2106587489 </td></tr>\n",
       "\t<tr><td>2093696670 </td><td>NA         </td><td>NA         </td><td>NA         </td><td>NA         </td><td>NA         </td><td>NA         </td><td>NA         </td><td>NA         </td><td>NA         </td><td>⋯          </td><td>NA         </td><td>NA         </td><td>NA         </td><td>NA         </td><td>NA         </td><td>NA         </td><td>2014       </td><td>Journal    </td><td>Author.1   </td><td>2233874302 </td></tr>\n",
       "\t<tr><td>2500602410 </td><td>NA         </td><td>NA         </td><td>NA         </td><td>NA         </td><td>NA         </td><td>NA         </td><td>NA         </td><td>NA         </td><td>NA         </td><td>⋯          </td><td>NA         </td><td>NA         </td><td>NA         </td><td>NA         </td><td>NA         </td><td>NA         </td><td>2015       </td><td>BookChapter</td><td>Author.1   </td><td>2162692397 </td></tr>\n",
       "\t<tr><td>2748300313 </td><td>NA         </td><td>NA         </td><td>NA         </td><td>NA         </td><td>NA         </td><td>NA         </td><td>NA         </td><td>NA         </td><td>NA         </td><td>⋯          </td><td>NA         </td><td>NA         </td><td>NA         </td><td>NA         </td><td>NA         </td><td>NA         </td><td>2017       </td><td>Journal    </td><td>Author.1   </td><td>2047428607 </td></tr>\n",
       "\t<tr><td>2730956315 </td><td>NA         </td><td>NA         </td><td>NA         </td><td>NA         </td><td>NA         </td><td>NA         </td><td>NA         </td><td>NA         </td><td>NA         </td><td>⋯          </td><td>NA         </td><td>NA         </td><td>NA         </td><td>NA         </td><td>NA         </td><td>NA         </td><td>2017       </td><td>Journal    </td><td>Author.1   </td><td>2122310831 </td></tr>\n",
       "\t<tr><td>1970200167 </td><td>NA         </td><td>NA         </td><td>NA         </td><td>NA         </td><td>NA         </td><td>NA         </td><td>NA         </td><td>NA         </td><td>NA         </td><td>⋯          </td><td>NA         </td><td>NA         </td><td>NA         </td><td>NA         </td><td>NA         </td><td>NA         </td><td>2015       </td><td>Journal    </td><td>Author.1   </td><td>2308590913 </td></tr>\n",
       "\t<tr><td>2565767455 </td><td>NA         </td><td>NA         </td><td>NA         </td><td>NA         </td><td>NA         </td><td>NA         </td><td>NA         </td><td>NA         </td><td>NA         </td><td>⋯          </td><td>NA         </td><td>NA         </td><td>NA         </td><td>NA         </td><td>NA         </td><td>NA         </td><td>2017       </td><td>Journal    </td><td>Author.1   </td><td>2112309812 </td></tr>\n",
       "\t<tr><td>2071190370 </td><td>NA         </td><td>NA         </td><td>NA         </td><td>NA         </td><td>NA         </td><td>NA         </td><td>NA         </td><td>NA         </td><td>NA         </td><td>⋯          </td><td>NA         </td><td>NA         </td><td>NA         </td><td>NA         </td><td>NA         </td><td>NA         </td><td>2012       </td><td>Journal    </td><td>Author.1   </td><td>2123667360 </td></tr>\n",
       "\t<tr><td>2034767297 </td><td>NA         </td><td>NA         </td><td>NA         </td><td>NA         </td><td>NA         </td><td>NA         </td><td>NA         </td><td>NA         </td><td>NA         </td><td>⋯          </td><td>NA         </td><td>NA         </td><td>NA         </td><td>NA         </td><td>NA         </td><td>NA         </td><td>2013       </td><td>Conference </td><td>Author.1   </td><td>2028772503 </td></tr>\n",
       "\t<tr><td>2113085067 </td><td>NA         </td><td>NA         </td><td>NA         </td><td>NA         </td><td>NA         </td><td>NA         </td><td>NA         </td><td>NA         </td><td>NA         </td><td>⋯          </td><td>NA         </td><td>NA         </td><td>NA         </td><td>NA         </td><td>NA         </td><td>NA         </td><td>2014       </td><td>Journal    </td><td>Author.1   </td><td>2238366779 </td></tr>\n",
       "\t<tr><td>1494345135 </td><td>NA         </td><td>NA         </td><td>NA         </td><td>NA         </td><td>NA         </td><td>NA         </td><td>NA         </td><td>NA         </td><td>NA         </td><td>⋯          </td><td>NA         </td><td>NA         </td><td>NA         </td><td>NA         </td><td>NA         </td><td>NA         </td><td>2014       </td><td>Journal    </td><td>Author.1   </td><td>2146354473 </td></tr>\n",
       "\t<tr><td>⋮</td><td>⋮</td><td>⋮</td><td>⋮</td><td>⋮</td><td>⋮</td><td>⋮</td><td>⋮</td><td>⋮</td><td>⋮</td><td>⋱</td><td>⋮</td><td>⋮</td><td>⋮</td><td>⋮</td><td>⋮</td><td>⋮</td><td>⋮</td><td>⋮</td><td>⋮</td><td>⋮</td></tr>\n",
       "\t<tr><td>2547880330 </td><td>NA         </td><td>NA         </td><td>NA         </td><td>NA         </td><td>NA         </td><td>NA         </td><td>NA         </td><td>NA         </td><td>NA         </td><td>⋯          </td><td>NA         </td><td>NA         </td><td>NA         </td><td>NA         </td><td>NA         </td><td>NA         </td><td>2016       </td><td>Journal    </td><td>Author.67  </td><td> 2563546566</td></tr>\n",
       "\t<tr><td>2740316488 </td><td>NA         </td><td>NA         </td><td>NA         </td><td>NA         </td><td>NA         </td><td>NA         </td><td>NA         </td><td>NA         </td><td>NA         </td><td>⋯          </td><td>NA         </td><td>NA         </td><td>NA         </td><td>NA         </td><td>NA         </td><td>NA         </td><td>2017       </td><td>Journal    </td><td>Author.68  </td><td> 2597593074</td></tr>\n",
       "\t<tr><td>2547880330 </td><td>NA         </td><td>NA         </td><td>NA         </td><td>NA         </td><td>NA         </td><td>NA         </td><td>NA         </td><td>NA         </td><td>NA         </td><td>⋯          </td><td>NA         </td><td>NA         </td><td>NA         </td><td>NA         </td><td>NA         </td><td>NA         </td><td>2016       </td><td>Journal    </td><td>Author.68  </td><td> 468406898 </td></tr>\n",
       "\t<tr><td>2740316488 </td><td>NA         </td><td>NA         </td><td>NA         </td><td>NA         </td><td>NA         </td><td>NA         </td><td>NA         </td><td>NA         </td><td>NA         </td><td>⋯          </td><td>NA         </td><td>NA         </td><td>NA         </td><td>NA         </td><td>NA         </td><td>NA         </td><td>2017       </td><td>Journal    </td><td>Author.69  </td><td> 2740866186</td></tr>\n",
       "\t<tr><td>2547880330 </td><td>NA         </td><td>NA         </td><td>NA         </td><td>NA         </td><td>NA         </td><td>NA         </td><td>NA         </td><td>NA         </td><td>NA         </td><td>⋯          </td><td>NA         </td><td>NA         </td><td>NA         </td><td>NA         </td><td>NA         </td><td>NA         </td><td>2016       </td><td>Journal    </td><td>Author.69  </td><td> 2562435463</td></tr>\n",
       "\t<tr><td>2740316488 </td><td>NA         </td><td>NA         </td><td>NA         </td><td>NA         </td><td>NA         </td><td>NA         </td><td>NA         </td><td>NA         </td><td>NA         </td><td>⋯          </td><td>NA         </td><td>NA         </td><td>NA         </td><td>NA         </td><td>NA         </td><td>NA         </td><td>2017       </td><td>Journal    </td><td>Author.70  </td><td> 2741761536</td></tr>\n",
       "\t<tr><td>2547880330 </td><td>NA         </td><td>NA         </td><td>NA         </td><td>NA         </td><td>NA         </td><td>NA         </td><td>NA         </td><td>NA         </td><td>NA         </td><td>⋯          </td><td>NA         </td><td>NA         </td><td>NA         </td><td>NA         </td><td>NA         </td><td>NA         </td><td>2016       </td><td>Journal    </td><td>Author.70  </td><td> 2563016391</td></tr>\n",
       "\t<tr><td>2740316488 </td><td>NA         </td><td>NA         </td><td>NA         </td><td>NA         </td><td>NA         </td><td>NA         </td><td>NA         </td><td>NA         </td><td>NA         </td><td>⋯          </td><td>NA         </td><td>NA         </td><td>NA         </td><td>NA         </td><td>NA         </td><td>NA         </td><td>2017       </td><td>Journal    </td><td>Author.71  </td><td> 2741992701</td></tr>\n",
       "\t<tr><td>2740316488 </td><td>NA         </td><td>NA         </td><td>NA         </td><td>NA         </td><td>NA         </td><td>NA         </td><td>NA         </td><td>NA         </td><td>NA         </td><td>⋯          </td><td>NA         </td><td>NA         </td><td>NA         </td><td>NA         </td><td>NA         </td><td>NA         </td><td>2017       </td><td>Journal    </td><td>Author.72  </td><td> 2041087347</td></tr>\n",
       "\t<tr><td>2740316488 </td><td>NA         </td><td>NA         </td><td>NA         </td><td>NA         </td><td>NA         </td><td>NA         </td><td>NA         </td><td>NA         </td><td>NA         </td><td>⋯          </td><td>NA         </td><td>NA         </td><td>NA         </td><td>NA         </td><td>NA         </td><td>NA         </td><td>2017       </td><td>Journal    </td><td>Author.73  </td><td> 2742064152</td></tr>\n",
       "\t<tr><td>2740316488 </td><td>NA         </td><td>NA         </td><td>NA         </td><td>NA         </td><td>NA         </td><td>NA         </td><td>NA         </td><td>NA         </td><td>NA         </td><td>⋯          </td><td>NA         </td><td>NA         </td><td>NA         </td><td>NA         </td><td>NA         </td><td>NA         </td><td>2017       </td><td>Journal    </td><td>Author.74  </td><td> 2068107358</td></tr>\n",
       "\t<tr><td>2740316488 </td><td>NA         </td><td>NA         </td><td>NA         </td><td>NA         </td><td>NA         </td><td>NA         </td><td>NA         </td><td>NA         </td><td>NA         </td><td>⋯          </td><td>NA         </td><td>NA         </td><td>NA         </td><td>NA         </td><td>NA         </td><td>NA         </td><td>2017       </td><td>Journal    </td><td>Author.75  </td><td> 2771455475</td></tr>\n",
       "\t<tr><td>2740316488 </td><td>NA         </td><td>NA         </td><td>NA         </td><td>NA         </td><td>NA         </td><td>NA         </td><td>NA         </td><td>NA         </td><td>NA         </td><td>⋯          </td><td>NA         </td><td>NA         </td><td>NA         </td><td>NA         </td><td>NA         </td><td>NA         </td><td>2017       </td><td>Journal    </td><td>Author.76  </td><td> 2737348735</td></tr>\n",
       "\t<tr><td>2740316488 </td><td>NA         </td><td>NA         </td><td>NA         </td><td>NA         </td><td>NA         </td><td>NA         </td><td>NA         </td><td>NA         </td><td>NA         </td><td>⋯          </td><td>NA         </td><td>NA         </td><td>NA         </td><td>NA         </td><td>NA         </td><td>NA         </td><td>2017       </td><td>Journal    </td><td>Author.77  </td><td> 2739517175</td></tr>\n",
       "\t<tr><td>2740316488 </td><td>NA         </td><td>NA         </td><td>NA         </td><td>NA         </td><td>NA         </td><td>NA         </td><td>NA         </td><td>NA         </td><td>NA         </td><td>⋯          </td><td>NA         </td><td>NA         </td><td>NA         </td><td>NA         </td><td>NA         </td><td>NA         </td><td>2017       </td><td>Journal    </td><td>Author.78  </td><td> 2739934955</td></tr>\n",
       "\t<tr><td>2740316488 </td><td>NA         </td><td>NA         </td><td>NA         </td><td>NA         </td><td>NA         </td><td>NA         </td><td>NA         </td><td>NA         </td><td>NA         </td><td>⋯          </td><td>NA         </td><td>NA         </td><td>NA         </td><td>NA         </td><td>NA         </td><td>NA         </td><td>2017       </td><td>Journal    </td><td>Author.79  </td><td> 2740337290</td></tr>\n",
       "\t<tr><td>2740316488 </td><td>NA         </td><td>NA         </td><td>NA         </td><td>NA         </td><td>NA         </td><td>NA         </td><td>NA         </td><td>NA         </td><td>NA         </td><td>⋯          </td><td>NA         </td><td>NA         </td><td>NA         </td><td>NA         </td><td>NA         </td><td>NA         </td><td>2017       </td><td>Journal    </td><td>Author.80  </td><td> 2739814687</td></tr>\n",
       "\t<tr><td>2740316488 </td><td>NA         </td><td>NA         </td><td>NA         </td><td>NA         </td><td>NA         </td><td>NA         </td><td>NA         </td><td>NA         </td><td>NA         </td><td>⋯          </td><td>NA         </td><td>NA         </td><td>NA         </td><td>NA         </td><td>NA         </td><td>NA         </td><td>2017       </td><td>Journal    </td><td>Author.81  </td><td> 2740873800</td></tr>\n",
       "\t<tr><td>2740316488 </td><td>NA         </td><td>NA         </td><td>NA         </td><td>NA         </td><td>NA         </td><td>NA         </td><td>NA         </td><td>NA         </td><td>NA         </td><td>⋯          </td><td>NA         </td><td>NA         </td><td>NA         </td><td>NA         </td><td>NA         </td><td>NA         </td><td>2017       </td><td>Journal    </td><td>Author.82  </td><td> 2049073134</td></tr>\n",
       "\t<tr><td>2740316488 </td><td>NA         </td><td>NA         </td><td>NA         </td><td>NA         </td><td>NA         </td><td>NA         </td><td>NA         </td><td>NA         </td><td>NA         </td><td>⋯          </td><td>NA         </td><td>NA         </td><td>NA         </td><td>NA         </td><td>NA         </td><td>NA         </td><td>2017       </td><td>Journal    </td><td>Author.83  </td><td> 2166439352</td></tr>\n",
       "\t<tr><td>2740316488 </td><td>NA         </td><td>NA         </td><td>NA         </td><td>NA         </td><td>NA         </td><td>NA         </td><td>NA         </td><td>NA         </td><td>NA         </td><td>⋯          </td><td>NA         </td><td>NA         </td><td>NA         </td><td>NA         </td><td>NA         </td><td>NA         </td><td>2017       </td><td>Journal    </td><td>Author.84  </td><td> 2159410886</td></tr>\n",
       "\t<tr><td>2740316488 </td><td>NA         </td><td>NA         </td><td>NA         </td><td>NA         </td><td>NA         </td><td>NA         </td><td>NA         </td><td>NA         </td><td>NA         </td><td>⋯          </td><td>NA         </td><td>NA         </td><td>NA         </td><td>NA         </td><td>NA         </td><td>NA         </td><td>2017       </td><td>Journal    </td><td>Author.85  </td><td> 2739652070</td></tr>\n",
       "\t<tr><td>2740316488 </td><td>NA         </td><td>NA         </td><td>NA         </td><td>NA         </td><td>NA         </td><td>NA         </td><td>NA         </td><td>NA         </td><td>NA         </td><td>⋯          </td><td>NA         </td><td>NA         </td><td>NA         </td><td>NA         </td><td>NA         </td><td>NA         </td><td>2017       </td><td>Journal    </td><td>Author.86  </td><td> 2280028932</td></tr>\n",
       "\t<tr><td>2740316488 </td><td>NA         </td><td>NA         </td><td>NA         </td><td>NA         </td><td>NA         </td><td>NA         </td><td>NA         </td><td>NA         </td><td>NA         </td><td>⋯          </td><td>NA         </td><td>NA         </td><td>NA         </td><td>NA         </td><td>NA         </td><td>NA         </td><td>2017       </td><td>Journal    </td><td>Author.87  </td><td> 2034964685</td></tr>\n",
       "\t<tr><td>2740316488 </td><td>NA         </td><td>NA         </td><td>NA         </td><td>NA         </td><td>NA         </td><td>NA         </td><td>NA         </td><td>NA         </td><td>NA         </td><td>⋯          </td><td>NA         </td><td>NA         </td><td>NA         </td><td>NA         </td><td>NA         </td><td>NA         </td><td>2017       </td><td>Journal    </td><td>Author.88  </td><td> 2761095480</td></tr>\n",
       "\t<tr><td>2740316488 </td><td>NA         </td><td>NA         </td><td>NA         </td><td>NA         </td><td>NA         </td><td>NA         </td><td>NA         </td><td>NA         </td><td>NA         </td><td>⋯          </td><td>NA         </td><td>NA         </td><td>NA         </td><td>NA         </td><td>NA         </td><td>NA         </td><td>2017       </td><td>Journal    </td><td>Author.89  </td><td> 2739509300</td></tr>\n",
       "\t<tr><td>2740316488 </td><td>NA         </td><td>NA         </td><td>NA         </td><td>NA         </td><td>NA         </td><td>NA         </td><td>NA         </td><td>NA         </td><td>NA         </td><td>⋯          </td><td>NA         </td><td>NA         </td><td>NA         </td><td>NA         </td><td>NA         </td><td>NA         </td><td>2017       </td><td>Journal    </td><td>Author.90  </td><td> 1825923484</td></tr>\n",
       "\t<tr><td>2740316488 </td><td>NA         </td><td>NA         </td><td>NA         </td><td>NA         </td><td>NA         </td><td>NA         </td><td>NA         </td><td>NA         </td><td>NA         </td><td>⋯          </td><td>NA         </td><td>NA         </td><td>NA         </td><td>NA         </td><td>NA         </td><td>NA         </td><td>2017       </td><td>Journal    </td><td>Author.91  </td><td> 2739968954</td></tr>\n",
       "\t<tr><td>2740316488 </td><td>NA         </td><td>NA         </td><td>NA         </td><td>NA         </td><td>NA         </td><td>NA         </td><td>NA         </td><td>NA         </td><td>NA         </td><td>⋯          </td><td>NA         </td><td>NA         </td><td>NA         </td><td>NA         </td><td>NA         </td><td>NA         </td><td>2017       </td><td>Journal    </td><td>Author.92  </td><td> 2741065716</td></tr>\n",
       "\t<tr><td>2740316488 </td><td>NA         </td><td>NA         </td><td>NA         </td><td>NA         </td><td>NA         </td><td>NA         </td><td>NA         </td><td>NA         </td><td>NA         </td><td>⋯          </td><td>NA         </td><td>NA         </td><td>NA         </td><td>NA         </td><td>NA         </td><td>NA         </td><td>2017       </td><td>Journal    </td><td>Author.93  </td><td> 2740076258</td></tr>\n",
       "</tbody>\n",
       "</table>\n"
      ],
      "text/latex": [
       "\\begin{tabular}{r|lllllllllllllllllllllllllllllllllllllllllllllllllllllllllllllllllllllllllllllllllllllllllllllllllllllllllllllllllllllllllllllllllllllllllllllllllllllllllllllllllllllllllllllllllllllllllllllllllllllllllllll}\n",
       " PaperId & Author.101 & Author.102 & Author.103 & Author.104 & Author.105 & Author.106 & Author.107 & Author.108 & Author.109 & ⋯ & Author.295 & Author.296 & Author.297 & Author.298 & Author.299 & Author.300 & Year & DocType & authorOrder & AuthorIds\\\\\n",
       "\\hline\n",
       "\t 2626957287  & NA          & NA          & NA          & NA          & NA          & NA          & NA          & NA          & NA          & ⋯           & NA          & NA          & NA          & NA          & NA          & NA          & 2017        & Journal     & Author.1    & 1918640562 \\\\\n",
       "\t 1477275442  & NA          & NA          & NA          & NA          & NA          & NA          & NA          & NA          & NA          & ⋯           & NA          & NA          & NA          & NA          & NA          & NA          & 2014        & Journal     & Author.1    & 1971373124 \\\\\n",
       "\t 2315983435  & NA          & NA          & NA          & NA          & NA          & NA          & NA          & NA          & NA          & ⋯           & NA          & NA          & NA          & NA          & NA          & NA          & 2014        & Journal     & Author.1    & 115656586  \\\\\n",
       "\t 2316467960  & NA          & NA          & NA          & NA          & NA          & NA          & NA          & NA          & NA          & ⋯           & NA          & NA          & NA          & NA          & NA          & NA          & 2016        & Journal     & Author.1    & 2045166491 \\\\\n",
       "\t 1974865399  & NA          & NA          & NA          & NA          & NA          & NA          & NA          & NA          & NA          & ⋯           & NA          & NA          & NA          & NA          & NA          & NA          & 2015        & Journal     & Author.1    & 2104297841 \\\\\n",
       "\t 2532918696  & NA          & NA          & NA          & NA          & NA          & NA          & NA          & NA          & NA          & ⋯           & NA          & NA          & NA          & NA          & NA          & NA          & 2016        & Journal     & Author.1    & 1868731373 \\\\\n",
       "\t 2069967271  & NA          & NA          & NA          & NA          & NA          & NA          & NA          & NA          & NA          & ⋯           & NA          & NA          & NA          & NA          & NA          & NA          & 2012        & Conference  & Author.1    & 1908621684 \\\\\n",
       "\t 2566381292  & NA          & NA          & NA          & NA          & NA          & NA          & NA          & NA          & NA          & ⋯           & NA          & NA          & NA          & NA          & NA          & NA          & 2016        & Conference  & Author.1    & 2017370817 \\\\\n",
       "\t 2559907294  & NA          & NA          & NA          & NA          & NA          & NA          & NA          & NA          & NA          & ⋯           & NA          & NA          & NA          & NA          & NA          & NA          & 2016        & Conference  & Author.1    & 1916366858 \\\\\n",
       "\t 1552162895  & NA          & NA          & NA          & NA          & NA          & NA          & NA          & NA          & NA          & ⋯           & NA          & NA          & NA          & NA          & NA          & NA          & 2014        & Journal     & Author.1    & 1985335732 \\\\\n",
       "\t 2111744339  & NA          & NA          & NA          & NA          & NA          & NA          & NA          & NA          & NA          & ⋯           & NA          & NA          & NA          & NA          & NA          & NA          & 2012        & Journal     & Author.1    & 1973113305 \\\\\n",
       "\t 1871179273  & NA          & NA          & NA          & NA          & NA          & NA          & NA          & NA          & NA          & ⋯           & NA          & NA          & NA          & NA          & NA          & NA          & 2016        & Journal     & Author.1    & 1161373467 \\\\\n",
       "\t 2073285985  & NA          & NA          & NA          & NA          & NA          & NA          & NA          & NA          & NA          & ⋯           & NA          & NA          & NA          & NA          & NA          & NA          & 2014        & Journal     & Author.1    & 192274276  \\\\\n",
       "\t 2152010581  & NA          & NA          & NA          & NA          & NA          & NA          & NA          & NA          & NA          & ⋯           & NA          & NA          & NA          & NA          & NA          & NA          & 2015        & Journal     & Author.1    & 2106210375 \\\\\n",
       "\t 2327441653  & NA          & NA          & NA          & NA          & NA          & NA          & NA          & NA          & NA          & ⋯           & NA          & NA          & NA          & NA          & NA          & NA          & 2015        & Conference  & Author.1    & 1987111820 \\\\\n",
       "\t 2298654054  & NA          & NA          & NA          & NA          & NA          & NA          & NA          & NA          & NA          & ⋯           & NA          & NA          & NA          & NA          & NA          & NA          & 2016        & Journal     & Author.1    & 1952202380 \\\\\n",
       "\t 2774666154  & NA          & NA          & NA          & NA          & NA          & NA          & NA          & NA          & NA          & ⋯           & NA          & NA          & NA          & NA          & NA          & NA          & 2017        & Journal     & Author.1    & 201421245  \\\\\n",
       "\t 2090556106  & NA          & NA          & NA          & NA          & NA          & NA          & NA          & NA          & NA          & ⋯           & NA          & NA          & NA          & NA          & NA          & NA          & 2013        & Journal     & Author.1    & 2061691810 \\\\\n",
       "\t 2290496341  & NA          & NA          & NA          & NA          & NA          & NA          & NA          & NA          & NA          & ⋯           & NA          & NA          & NA          & NA          & NA          & NA          & 2016        & Journal     & Author.1    & 2004016812 \\\\\n",
       "\t 2050365740  & NA          & NA          & NA          & NA          & NA          & NA          & NA          & NA          & NA          & ⋯           & NA          & NA          & NA          & NA          & NA          & NA          & 2012        & Conference  & Author.1    & 2106587489 \\\\\n",
       "\t 2093696670  & NA          & NA          & NA          & NA          & NA          & NA          & NA          & NA          & NA          & ⋯           & NA          & NA          & NA          & NA          & NA          & NA          & 2014        & Journal     & Author.1    & 2233874302 \\\\\n",
       "\t 2500602410  & NA          & NA          & NA          & NA          & NA          & NA          & NA          & NA          & NA          & ⋯           & NA          & NA          & NA          & NA          & NA          & NA          & 2015        & BookChapter & Author.1    & 2162692397 \\\\\n",
       "\t 2748300313  & NA          & NA          & NA          & NA          & NA          & NA          & NA          & NA          & NA          & ⋯           & NA          & NA          & NA          & NA          & NA          & NA          & 2017        & Journal     & Author.1    & 2047428607 \\\\\n",
       "\t 2730956315  & NA          & NA          & NA          & NA          & NA          & NA          & NA          & NA          & NA          & ⋯           & NA          & NA          & NA          & NA          & NA          & NA          & 2017        & Journal     & Author.1    & 2122310831 \\\\\n",
       "\t 1970200167  & NA          & NA          & NA          & NA          & NA          & NA          & NA          & NA          & NA          & ⋯           & NA          & NA          & NA          & NA          & NA          & NA          & 2015        & Journal     & Author.1    & 2308590913 \\\\\n",
       "\t 2565767455  & NA          & NA          & NA          & NA          & NA          & NA          & NA          & NA          & NA          & ⋯           & NA          & NA          & NA          & NA          & NA          & NA          & 2017        & Journal     & Author.1    & 2112309812 \\\\\n",
       "\t 2071190370  & NA          & NA          & NA          & NA          & NA          & NA          & NA          & NA          & NA          & ⋯           & NA          & NA          & NA          & NA          & NA          & NA          & 2012        & Journal     & Author.1    & 2123667360 \\\\\n",
       "\t 2034767297  & NA          & NA          & NA          & NA          & NA          & NA          & NA          & NA          & NA          & ⋯           & NA          & NA          & NA          & NA          & NA          & NA          & 2013        & Conference  & Author.1    & 2028772503 \\\\\n",
       "\t 2113085067  & NA          & NA          & NA          & NA          & NA          & NA          & NA          & NA          & NA          & ⋯           & NA          & NA          & NA          & NA          & NA          & NA          & 2014        & Journal     & Author.1    & 2238366779 \\\\\n",
       "\t 1494345135  & NA          & NA          & NA          & NA          & NA          & NA          & NA          & NA          & NA          & ⋯           & NA          & NA          & NA          & NA          & NA          & NA          & 2014        & Journal     & Author.1    & 2146354473 \\\\\n",
       "\t ⋮ & ⋮ & ⋮ & ⋮ & ⋮ & ⋮ & ⋮ & ⋮ & ⋮ & ⋮ & ⋱ & ⋮ & ⋮ & ⋮ & ⋮ & ⋮ & ⋮ & ⋮ & ⋮ & ⋮ & ⋮\\\\\n",
       "\t 2547880330  & NA          & NA          & NA          & NA          & NA          & NA          & NA          & NA          & NA          & ⋯           & NA          & NA          & NA          & NA          & NA          & NA          & 2016        & Journal     & Author.67   &  2563546566\\\\\n",
       "\t 2740316488  & NA          & NA          & NA          & NA          & NA          & NA          & NA          & NA          & NA          & ⋯           & NA          & NA          & NA          & NA          & NA          & NA          & 2017        & Journal     & Author.68   &  2597593074\\\\\n",
       "\t 2547880330  & NA          & NA          & NA          & NA          & NA          & NA          & NA          & NA          & NA          & ⋯           & NA          & NA          & NA          & NA          & NA          & NA          & 2016        & Journal     & Author.68   &  468406898 \\\\\n",
       "\t 2740316488  & NA          & NA          & NA          & NA          & NA          & NA          & NA          & NA          & NA          & ⋯           & NA          & NA          & NA          & NA          & NA          & NA          & 2017        & Journal     & Author.69   &  2740866186\\\\\n",
       "\t 2547880330  & NA          & NA          & NA          & NA          & NA          & NA          & NA          & NA          & NA          & ⋯           & NA          & NA          & NA          & NA          & NA          & NA          & 2016        & Journal     & Author.69   &  2562435463\\\\\n",
       "\t 2740316488  & NA          & NA          & NA          & NA          & NA          & NA          & NA          & NA          & NA          & ⋯           & NA          & NA          & NA          & NA          & NA          & NA          & 2017        & Journal     & Author.70   &  2741761536\\\\\n",
       "\t 2547880330  & NA          & NA          & NA          & NA          & NA          & NA          & NA          & NA          & NA          & ⋯           & NA          & NA          & NA          & NA          & NA          & NA          & 2016        & Journal     & Author.70   &  2563016391\\\\\n",
       "\t 2740316488  & NA          & NA          & NA          & NA          & NA          & NA          & NA          & NA          & NA          & ⋯           & NA          & NA          & NA          & NA          & NA          & NA          & 2017        & Journal     & Author.71   &  2741992701\\\\\n",
       "\t 2740316488  & NA          & NA          & NA          & NA          & NA          & NA          & NA          & NA          & NA          & ⋯           & NA          & NA          & NA          & NA          & NA          & NA          & 2017        & Journal     & Author.72   &  2041087347\\\\\n",
       "\t 2740316488  & NA          & NA          & NA          & NA          & NA          & NA          & NA          & NA          & NA          & ⋯           & NA          & NA          & NA          & NA          & NA          & NA          & 2017        & Journal     & Author.73   &  2742064152\\\\\n",
       "\t 2740316488  & NA          & NA          & NA          & NA          & NA          & NA          & NA          & NA          & NA          & ⋯           & NA          & NA          & NA          & NA          & NA          & NA          & 2017        & Journal     & Author.74   &  2068107358\\\\\n",
       "\t 2740316488  & NA          & NA          & NA          & NA          & NA          & NA          & NA          & NA          & NA          & ⋯           & NA          & NA          & NA          & NA          & NA          & NA          & 2017        & Journal     & Author.75   &  2771455475\\\\\n",
       "\t 2740316488  & NA          & NA          & NA          & NA          & NA          & NA          & NA          & NA          & NA          & ⋯           & NA          & NA          & NA          & NA          & NA          & NA          & 2017        & Journal     & Author.76   &  2737348735\\\\\n",
       "\t 2740316488  & NA          & NA          & NA          & NA          & NA          & NA          & NA          & NA          & NA          & ⋯           & NA          & NA          & NA          & NA          & NA          & NA          & 2017        & Journal     & Author.77   &  2739517175\\\\\n",
       "\t 2740316488  & NA          & NA          & NA          & NA          & NA          & NA          & NA          & NA          & NA          & ⋯           & NA          & NA          & NA          & NA          & NA          & NA          & 2017        & Journal     & Author.78   &  2739934955\\\\\n",
       "\t 2740316488  & NA          & NA          & NA          & NA          & NA          & NA          & NA          & NA          & NA          & ⋯           & NA          & NA          & NA          & NA          & NA          & NA          & 2017        & Journal     & Author.79   &  2740337290\\\\\n",
       "\t 2740316488  & NA          & NA          & NA          & NA          & NA          & NA          & NA          & NA          & NA          & ⋯           & NA          & NA          & NA          & NA          & NA          & NA          & 2017        & Journal     & Author.80   &  2739814687\\\\\n",
       "\t 2740316488  & NA          & NA          & NA          & NA          & NA          & NA          & NA          & NA          & NA          & ⋯           & NA          & NA          & NA          & NA          & NA          & NA          & 2017        & Journal     & Author.81   &  2740873800\\\\\n",
       "\t 2740316488  & NA          & NA          & NA          & NA          & NA          & NA          & NA          & NA          & NA          & ⋯           & NA          & NA          & NA          & NA          & NA          & NA          & 2017        & Journal     & Author.82   &  2049073134\\\\\n",
       "\t 2740316488  & NA          & NA          & NA          & NA          & NA          & NA          & NA          & NA          & NA          & ⋯           & NA          & NA          & NA          & NA          & NA          & NA          & 2017        & Journal     & Author.83   &  2166439352\\\\\n",
       "\t 2740316488  & NA          & NA          & NA          & NA          & NA          & NA          & NA          & NA          & NA          & ⋯           & NA          & NA          & NA          & NA          & NA          & NA          & 2017        & Journal     & Author.84   &  2159410886\\\\\n",
       "\t 2740316488  & NA          & NA          & NA          & NA          & NA          & NA          & NA          & NA          & NA          & ⋯           & NA          & NA          & NA          & NA          & NA          & NA          & 2017        & Journal     & Author.85   &  2739652070\\\\\n",
       "\t 2740316488  & NA          & NA          & NA          & NA          & NA          & NA          & NA          & NA          & NA          & ⋯           & NA          & NA          & NA          & NA          & NA          & NA          & 2017        & Journal     & Author.86   &  2280028932\\\\\n",
       "\t 2740316488  & NA          & NA          & NA          & NA          & NA          & NA          & NA          & NA          & NA          & ⋯           & NA          & NA          & NA          & NA          & NA          & NA          & 2017        & Journal     & Author.87   &  2034964685\\\\\n",
       "\t 2740316488  & NA          & NA          & NA          & NA          & NA          & NA          & NA          & NA          & NA          & ⋯           & NA          & NA          & NA          & NA          & NA          & NA          & 2017        & Journal     & Author.88   &  2761095480\\\\\n",
       "\t 2740316488  & NA          & NA          & NA          & NA          & NA          & NA          & NA          & NA          & NA          & ⋯           & NA          & NA          & NA          & NA          & NA          & NA          & 2017        & Journal     & Author.89   &  2739509300\\\\\n",
       "\t 2740316488  & NA          & NA          & NA          & NA          & NA          & NA          & NA          & NA          & NA          & ⋯           & NA          & NA          & NA          & NA          & NA          & NA          & 2017        & Journal     & Author.90   &  1825923484\\\\\n",
       "\t 2740316488  & NA          & NA          & NA          & NA          & NA          & NA          & NA          & NA          & NA          & ⋯           & NA          & NA          & NA          & NA          & NA          & NA          & 2017        & Journal     & Author.91   &  2739968954\\\\\n",
       "\t 2740316488  & NA          & NA          & NA          & NA          & NA          & NA          & NA          & NA          & NA          & ⋯           & NA          & NA          & NA          & NA          & NA          & NA          & 2017        & Journal     & Author.92   &  2741065716\\\\\n",
       "\t 2740316488  & NA          & NA          & NA          & NA          & NA          & NA          & NA          & NA          & NA          & ⋯           & NA          & NA          & NA          & NA          & NA          & NA          & 2017        & Journal     & Author.93   &  2740076258\\\\\n",
       "\\end{tabular}\n"
      ],
      "text/markdown": [
       "\n",
       "| PaperId | Author.101 | Author.102 | Author.103 | Author.104 | Author.105 | Author.106 | Author.107 | Author.108 | Author.109 | ⋯ | Author.295 | Author.296 | Author.297 | Author.298 | Author.299 | Author.300 | Year | DocType | authorOrder | AuthorIds |\n",
       "|---|---|---|---|---|---|---|---|---|---|---|---|---|---|---|---|---|---|---|---|---|\n",
       "| 2626957287  | NA          | NA          | NA          | NA          | NA          | NA          | NA          | NA          | NA          | ⋯           | NA          | NA          | NA          | NA          | NA          | NA          | 2017        | Journal     | Author.1    | 1918640562  |\n",
       "| 1477275442  | NA          | NA          | NA          | NA          | NA          | NA          | NA          | NA          | NA          | ⋯           | NA          | NA          | NA          | NA          | NA          | NA          | 2014        | Journal     | Author.1    | 1971373124  |\n",
       "| 2315983435  | NA          | NA          | NA          | NA          | NA          | NA          | NA          | NA          | NA          | ⋯           | NA          | NA          | NA          | NA          | NA          | NA          | 2014        | Journal     | Author.1    | 115656586   |\n",
       "| 2316467960  | NA          | NA          | NA          | NA          | NA          | NA          | NA          | NA          | NA          | ⋯           | NA          | NA          | NA          | NA          | NA          | NA          | 2016        | Journal     | Author.1    | 2045166491  |\n",
       "| 1974865399  | NA          | NA          | NA          | NA          | NA          | NA          | NA          | NA          | NA          | ⋯           | NA          | NA          | NA          | NA          | NA          | NA          | 2015        | Journal     | Author.1    | 2104297841  |\n",
       "| 2532918696  | NA          | NA          | NA          | NA          | NA          | NA          | NA          | NA          | NA          | ⋯           | NA          | NA          | NA          | NA          | NA          | NA          | 2016        | Journal     | Author.1    | 1868731373  |\n",
       "| 2069967271  | NA          | NA          | NA          | NA          | NA          | NA          | NA          | NA          | NA          | ⋯           | NA          | NA          | NA          | NA          | NA          | NA          | 2012        | Conference  | Author.1    | 1908621684  |\n",
       "| 2566381292  | NA          | NA          | NA          | NA          | NA          | NA          | NA          | NA          | NA          | ⋯           | NA          | NA          | NA          | NA          | NA          | NA          | 2016        | Conference  | Author.1    | 2017370817  |\n",
       "| 2559907294  | NA          | NA          | NA          | NA          | NA          | NA          | NA          | NA          | NA          | ⋯           | NA          | NA          | NA          | NA          | NA          | NA          | 2016        | Conference  | Author.1    | 1916366858  |\n",
       "| 1552162895  | NA          | NA          | NA          | NA          | NA          | NA          | NA          | NA          | NA          | ⋯           | NA          | NA          | NA          | NA          | NA          | NA          | 2014        | Journal     | Author.1    | 1985335732  |\n",
       "| 2111744339  | NA          | NA          | NA          | NA          | NA          | NA          | NA          | NA          | NA          | ⋯           | NA          | NA          | NA          | NA          | NA          | NA          | 2012        | Journal     | Author.1    | 1973113305  |\n",
       "| 1871179273  | NA          | NA          | NA          | NA          | NA          | NA          | NA          | NA          | NA          | ⋯           | NA          | NA          | NA          | NA          | NA          | NA          | 2016        | Journal     | Author.1    | 1161373467  |\n",
       "| 2073285985  | NA          | NA          | NA          | NA          | NA          | NA          | NA          | NA          | NA          | ⋯           | NA          | NA          | NA          | NA          | NA          | NA          | 2014        | Journal     | Author.1    | 192274276   |\n",
       "| 2152010581  | NA          | NA          | NA          | NA          | NA          | NA          | NA          | NA          | NA          | ⋯           | NA          | NA          | NA          | NA          | NA          | NA          | 2015        | Journal     | Author.1    | 2106210375  |\n",
       "| 2327441653  | NA          | NA          | NA          | NA          | NA          | NA          | NA          | NA          | NA          | ⋯           | NA          | NA          | NA          | NA          | NA          | NA          | 2015        | Conference  | Author.1    | 1987111820  |\n",
       "| 2298654054  | NA          | NA          | NA          | NA          | NA          | NA          | NA          | NA          | NA          | ⋯           | NA          | NA          | NA          | NA          | NA          | NA          | 2016        | Journal     | Author.1    | 1952202380  |\n",
       "| 2774666154  | NA          | NA          | NA          | NA          | NA          | NA          | NA          | NA          | NA          | ⋯           | NA          | NA          | NA          | NA          | NA          | NA          | 2017        | Journal     | Author.1    | 201421245   |\n",
       "| 2090556106  | NA          | NA          | NA          | NA          | NA          | NA          | NA          | NA          | NA          | ⋯           | NA          | NA          | NA          | NA          | NA          | NA          | 2013        | Journal     | Author.1    | 2061691810  |\n",
       "| 2290496341  | NA          | NA          | NA          | NA          | NA          | NA          | NA          | NA          | NA          | ⋯           | NA          | NA          | NA          | NA          | NA          | NA          | 2016        | Journal     | Author.1    | 2004016812  |\n",
       "| 2050365740  | NA          | NA          | NA          | NA          | NA          | NA          | NA          | NA          | NA          | ⋯           | NA          | NA          | NA          | NA          | NA          | NA          | 2012        | Conference  | Author.1    | 2106587489  |\n",
       "| 2093696670  | NA          | NA          | NA          | NA          | NA          | NA          | NA          | NA          | NA          | ⋯           | NA          | NA          | NA          | NA          | NA          | NA          | 2014        | Journal     | Author.1    | 2233874302  |\n",
       "| 2500602410  | NA          | NA          | NA          | NA          | NA          | NA          | NA          | NA          | NA          | ⋯           | NA          | NA          | NA          | NA          | NA          | NA          | 2015        | BookChapter | Author.1    | 2162692397  |\n",
       "| 2748300313  | NA          | NA          | NA          | NA          | NA          | NA          | NA          | NA          | NA          | ⋯           | NA          | NA          | NA          | NA          | NA          | NA          | 2017        | Journal     | Author.1    | 2047428607  |\n",
       "| 2730956315  | NA          | NA          | NA          | NA          | NA          | NA          | NA          | NA          | NA          | ⋯           | NA          | NA          | NA          | NA          | NA          | NA          | 2017        | Journal     | Author.1    | 2122310831  |\n",
       "| 1970200167  | NA          | NA          | NA          | NA          | NA          | NA          | NA          | NA          | NA          | ⋯           | NA          | NA          | NA          | NA          | NA          | NA          | 2015        | Journal     | Author.1    | 2308590913  |\n",
       "| 2565767455  | NA          | NA          | NA          | NA          | NA          | NA          | NA          | NA          | NA          | ⋯           | NA          | NA          | NA          | NA          | NA          | NA          | 2017        | Journal     | Author.1    | 2112309812  |\n",
       "| 2071190370  | NA          | NA          | NA          | NA          | NA          | NA          | NA          | NA          | NA          | ⋯           | NA          | NA          | NA          | NA          | NA          | NA          | 2012        | Journal     | Author.1    | 2123667360  |\n",
       "| 2034767297  | NA          | NA          | NA          | NA          | NA          | NA          | NA          | NA          | NA          | ⋯           | NA          | NA          | NA          | NA          | NA          | NA          | 2013        | Conference  | Author.1    | 2028772503  |\n",
       "| 2113085067  | NA          | NA          | NA          | NA          | NA          | NA          | NA          | NA          | NA          | ⋯           | NA          | NA          | NA          | NA          | NA          | NA          | 2014        | Journal     | Author.1    | 2238366779  |\n",
       "| 1494345135  | NA          | NA          | NA          | NA          | NA          | NA          | NA          | NA          | NA          | ⋯           | NA          | NA          | NA          | NA          | NA          | NA          | 2014        | Journal     | Author.1    | 2146354473  |\n",
       "| ⋮ | ⋮ | ⋮ | ⋮ | ⋮ | ⋮ | ⋮ | ⋮ | ⋮ | ⋮ | ⋱ | ⋮ | ⋮ | ⋮ | ⋮ | ⋮ | ⋮ | ⋮ | ⋮ | ⋮ | ⋮ |\n",
       "| 2547880330  | NA          | NA          | NA          | NA          | NA          | NA          | NA          | NA          | NA          | ⋯           | NA          | NA          | NA          | NA          | NA          | NA          | 2016        | Journal     | Author.67   |  2563546566 |\n",
       "| 2740316488  | NA          | NA          | NA          | NA          | NA          | NA          | NA          | NA          | NA          | ⋯           | NA          | NA          | NA          | NA          | NA          | NA          | 2017        | Journal     | Author.68   |  2597593074 |\n",
       "| 2547880330  | NA          | NA          | NA          | NA          | NA          | NA          | NA          | NA          | NA          | ⋯           | NA          | NA          | NA          | NA          | NA          | NA          | 2016        | Journal     | Author.68   |  468406898  |\n",
       "| 2740316488  | NA          | NA          | NA          | NA          | NA          | NA          | NA          | NA          | NA          | ⋯           | NA          | NA          | NA          | NA          | NA          | NA          | 2017        | Journal     | Author.69   |  2740866186 |\n",
       "| 2547880330  | NA          | NA          | NA          | NA          | NA          | NA          | NA          | NA          | NA          | ⋯           | NA          | NA          | NA          | NA          | NA          | NA          | 2016        | Journal     | Author.69   |  2562435463 |\n",
       "| 2740316488  | NA          | NA          | NA          | NA          | NA          | NA          | NA          | NA          | NA          | ⋯           | NA          | NA          | NA          | NA          | NA          | NA          | 2017        | Journal     | Author.70   |  2741761536 |\n",
       "| 2547880330  | NA          | NA          | NA          | NA          | NA          | NA          | NA          | NA          | NA          | ⋯           | NA          | NA          | NA          | NA          | NA          | NA          | 2016        | Journal     | Author.70   |  2563016391 |\n",
       "| 2740316488  | NA          | NA          | NA          | NA          | NA          | NA          | NA          | NA          | NA          | ⋯           | NA          | NA          | NA          | NA          | NA          | NA          | 2017        | Journal     | Author.71   |  2741992701 |\n",
       "| 2740316488  | NA          | NA          | NA          | NA          | NA          | NA          | NA          | NA          | NA          | ⋯           | NA          | NA          | NA          | NA          | NA          | NA          | 2017        | Journal     | Author.72   |  2041087347 |\n",
       "| 2740316488  | NA          | NA          | NA          | NA          | NA          | NA          | NA          | NA          | NA          | ⋯           | NA          | NA          | NA          | NA          | NA          | NA          | 2017        | Journal     | Author.73   |  2742064152 |\n",
       "| 2740316488  | NA          | NA          | NA          | NA          | NA          | NA          | NA          | NA          | NA          | ⋯           | NA          | NA          | NA          | NA          | NA          | NA          | 2017        | Journal     | Author.74   |  2068107358 |\n",
       "| 2740316488  | NA          | NA          | NA          | NA          | NA          | NA          | NA          | NA          | NA          | ⋯           | NA          | NA          | NA          | NA          | NA          | NA          | 2017        | Journal     | Author.75   |  2771455475 |\n",
       "| 2740316488  | NA          | NA          | NA          | NA          | NA          | NA          | NA          | NA          | NA          | ⋯           | NA          | NA          | NA          | NA          | NA          | NA          | 2017        | Journal     | Author.76   |  2737348735 |\n",
       "| 2740316488  | NA          | NA          | NA          | NA          | NA          | NA          | NA          | NA          | NA          | ⋯           | NA          | NA          | NA          | NA          | NA          | NA          | 2017        | Journal     | Author.77   |  2739517175 |\n",
       "| 2740316488  | NA          | NA          | NA          | NA          | NA          | NA          | NA          | NA          | NA          | ⋯           | NA          | NA          | NA          | NA          | NA          | NA          | 2017        | Journal     | Author.78   |  2739934955 |\n",
       "| 2740316488  | NA          | NA          | NA          | NA          | NA          | NA          | NA          | NA          | NA          | ⋯           | NA          | NA          | NA          | NA          | NA          | NA          | 2017        | Journal     | Author.79   |  2740337290 |\n",
       "| 2740316488  | NA          | NA          | NA          | NA          | NA          | NA          | NA          | NA          | NA          | ⋯           | NA          | NA          | NA          | NA          | NA          | NA          | 2017        | Journal     | Author.80   |  2739814687 |\n",
       "| 2740316488  | NA          | NA          | NA          | NA          | NA          | NA          | NA          | NA          | NA          | ⋯           | NA          | NA          | NA          | NA          | NA          | NA          | 2017        | Journal     | Author.81   |  2740873800 |\n",
       "| 2740316488  | NA          | NA          | NA          | NA          | NA          | NA          | NA          | NA          | NA          | ⋯           | NA          | NA          | NA          | NA          | NA          | NA          | 2017        | Journal     | Author.82   |  2049073134 |\n",
       "| 2740316488  | NA          | NA          | NA          | NA          | NA          | NA          | NA          | NA          | NA          | ⋯           | NA          | NA          | NA          | NA          | NA          | NA          | 2017        | Journal     | Author.83   |  2166439352 |\n",
       "| 2740316488  | NA          | NA          | NA          | NA          | NA          | NA          | NA          | NA          | NA          | ⋯           | NA          | NA          | NA          | NA          | NA          | NA          | 2017        | Journal     | Author.84   |  2159410886 |\n",
       "| 2740316488  | NA          | NA          | NA          | NA          | NA          | NA          | NA          | NA          | NA          | ⋯           | NA          | NA          | NA          | NA          | NA          | NA          | 2017        | Journal     | Author.85   |  2739652070 |\n",
       "| 2740316488  | NA          | NA          | NA          | NA          | NA          | NA          | NA          | NA          | NA          | ⋯           | NA          | NA          | NA          | NA          | NA          | NA          | 2017        | Journal     | Author.86   |  2280028932 |\n",
       "| 2740316488  | NA          | NA          | NA          | NA          | NA          | NA          | NA          | NA          | NA          | ⋯           | NA          | NA          | NA          | NA          | NA          | NA          | 2017        | Journal     | Author.87   |  2034964685 |\n",
       "| 2740316488  | NA          | NA          | NA          | NA          | NA          | NA          | NA          | NA          | NA          | ⋯           | NA          | NA          | NA          | NA          | NA          | NA          | 2017        | Journal     | Author.88   |  2761095480 |\n",
       "| 2740316488  | NA          | NA          | NA          | NA          | NA          | NA          | NA          | NA          | NA          | ⋯           | NA          | NA          | NA          | NA          | NA          | NA          | 2017        | Journal     | Author.89   |  2739509300 |\n",
       "| 2740316488  | NA          | NA          | NA          | NA          | NA          | NA          | NA          | NA          | NA          | ⋯           | NA          | NA          | NA          | NA          | NA          | NA          | 2017        | Journal     | Author.90   |  1825923484 |\n",
       "| 2740316488  | NA          | NA          | NA          | NA          | NA          | NA          | NA          | NA          | NA          | ⋯           | NA          | NA          | NA          | NA          | NA          | NA          | 2017        | Journal     | Author.91   |  2739968954 |\n",
       "| 2740316488  | NA          | NA          | NA          | NA          | NA          | NA          | NA          | NA          | NA          | ⋯           | NA          | NA          | NA          | NA          | NA          | NA          | 2017        | Journal     | Author.92   |  2741065716 |\n",
       "| 2740316488  | NA          | NA          | NA          | NA          | NA          | NA          | NA          | NA          | NA          | ⋯           | NA          | NA          | NA          | NA          | NA          | NA          | 2017        | Journal     | Author.93   |  2740076258 |\n",
       "\n"
      ],
      "text/plain": [
       "     PaperId    Author.101 Author.102 Author.103 Author.104 Author.105\n",
       "1    2626957287 NA         NA         NA         NA         NA        \n",
       "2    1477275442 NA         NA         NA         NA         NA        \n",
       "3    2315983435 NA         NA         NA         NA         NA        \n",
       "4    2316467960 NA         NA         NA         NA         NA        \n",
       "5    1974865399 NA         NA         NA         NA         NA        \n",
       "6    2532918696 NA         NA         NA         NA         NA        \n",
       "7    2069967271 NA         NA         NA         NA         NA        \n",
       "8    2566381292 NA         NA         NA         NA         NA        \n",
       "9    2559907294 NA         NA         NA         NA         NA        \n",
       "10   1552162895 NA         NA         NA         NA         NA        \n",
       "11   2111744339 NA         NA         NA         NA         NA        \n",
       "12   1871179273 NA         NA         NA         NA         NA        \n",
       "13   2073285985 NA         NA         NA         NA         NA        \n",
       "14   2152010581 NA         NA         NA         NA         NA        \n",
       "15   2327441653 NA         NA         NA         NA         NA        \n",
       "16   2298654054 NA         NA         NA         NA         NA        \n",
       "17   2774666154 NA         NA         NA         NA         NA        \n",
       "18   2090556106 NA         NA         NA         NA         NA        \n",
       "19   2290496341 NA         NA         NA         NA         NA        \n",
       "20   2050365740 NA         NA         NA         NA         NA        \n",
       "21   2093696670 NA         NA         NA         NA         NA        \n",
       "22   2500602410 NA         NA         NA         NA         NA        \n",
       "23   2748300313 NA         NA         NA         NA         NA        \n",
       "24   2730956315 NA         NA         NA         NA         NA        \n",
       "25   1970200167 NA         NA         NA         NA         NA        \n",
       "26   2565767455 NA         NA         NA         NA         NA        \n",
       "27   2071190370 NA         NA         NA         NA         NA        \n",
       "28   2034767297 NA         NA         NA         NA         NA        \n",
       "29   2113085067 NA         NA         NA         NA         NA        \n",
       "30   1494345135 NA         NA         NA         NA         NA        \n",
       "⋮    ⋮          ⋮          ⋮          ⋮          ⋮          ⋮         \n",
       "3581 2547880330 NA         NA         NA         NA         NA        \n",
       "3582 2740316488 NA         NA         NA         NA         NA        \n",
       "3583 2547880330 NA         NA         NA         NA         NA        \n",
       "3584 2740316488 NA         NA         NA         NA         NA        \n",
       "3585 2547880330 NA         NA         NA         NA         NA        \n",
       "3586 2740316488 NA         NA         NA         NA         NA        \n",
       "3587 2547880330 NA         NA         NA         NA         NA        \n",
       "3588 2740316488 NA         NA         NA         NA         NA        \n",
       "3589 2740316488 NA         NA         NA         NA         NA        \n",
       "3590 2740316488 NA         NA         NA         NA         NA        \n",
       "3591 2740316488 NA         NA         NA         NA         NA        \n",
       "3592 2740316488 NA         NA         NA         NA         NA        \n",
       "3593 2740316488 NA         NA         NA         NA         NA        \n",
       "3594 2740316488 NA         NA         NA         NA         NA        \n",
       "3595 2740316488 NA         NA         NA         NA         NA        \n",
       "3596 2740316488 NA         NA         NA         NA         NA        \n",
       "3597 2740316488 NA         NA         NA         NA         NA        \n",
       "3598 2740316488 NA         NA         NA         NA         NA        \n",
       "3599 2740316488 NA         NA         NA         NA         NA        \n",
       "3600 2740316488 NA         NA         NA         NA         NA        \n",
       "3601 2740316488 NA         NA         NA         NA         NA        \n",
       "3602 2740316488 NA         NA         NA         NA         NA        \n",
       "3603 2740316488 NA         NA         NA         NA         NA        \n",
       "3604 2740316488 NA         NA         NA         NA         NA        \n",
       "3605 2740316488 NA         NA         NA         NA         NA        \n",
       "3606 2740316488 NA         NA         NA         NA         NA        \n",
       "3607 2740316488 NA         NA         NA         NA         NA        \n",
       "3608 2740316488 NA         NA         NA         NA         NA        \n",
       "3609 2740316488 NA         NA         NA         NA         NA        \n",
       "3610 2740316488 NA         NA         NA         NA         NA        \n",
       "     Author.106 Author.107 Author.108 Author.109 ⋯ Author.295 Author.296\n",
       "1    NA         NA         NA         NA         ⋯ NA         NA        \n",
       "2    NA         NA         NA         NA         ⋯ NA         NA        \n",
       "3    NA         NA         NA         NA         ⋯ NA         NA        \n",
       "4    NA         NA         NA         NA         ⋯ NA         NA        \n",
       "5    NA         NA         NA         NA         ⋯ NA         NA        \n",
       "6    NA         NA         NA         NA         ⋯ NA         NA        \n",
       "7    NA         NA         NA         NA         ⋯ NA         NA        \n",
       "8    NA         NA         NA         NA         ⋯ NA         NA        \n",
       "9    NA         NA         NA         NA         ⋯ NA         NA        \n",
       "10   NA         NA         NA         NA         ⋯ NA         NA        \n",
       "11   NA         NA         NA         NA         ⋯ NA         NA        \n",
       "12   NA         NA         NA         NA         ⋯ NA         NA        \n",
       "13   NA         NA         NA         NA         ⋯ NA         NA        \n",
       "14   NA         NA         NA         NA         ⋯ NA         NA        \n",
       "15   NA         NA         NA         NA         ⋯ NA         NA        \n",
       "16   NA         NA         NA         NA         ⋯ NA         NA        \n",
       "17   NA         NA         NA         NA         ⋯ NA         NA        \n",
       "18   NA         NA         NA         NA         ⋯ NA         NA        \n",
       "19   NA         NA         NA         NA         ⋯ NA         NA        \n",
       "20   NA         NA         NA         NA         ⋯ NA         NA        \n",
       "21   NA         NA         NA         NA         ⋯ NA         NA        \n",
       "22   NA         NA         NA         NA         ⋯ NA         NA        \n",
       "23   NA         NA         NA         NA         ⋯ NA         NA        \n",
       "24   NA         NA         NA         NA         ⋯ NA         NA        \n",
       "25   NA         NA         NA         NA         ⋯ NA         NA        \n",
       "26   NA         NA         NA         NA         ⋯ NA         NA        \n",
       "27   NA         NA         NA         NA         ⋯ NA         NA        \n",
       "28   NA         NA         NA         NA         ⋯ NA         NA        \n",
       "29   NA         NA         NA         NA         ⋯ NA         NA        \n",
       "30   NA         NA         NA         NA         ⋯ NA         NA        \n",
       "⋮    ⋮          ⋮          ⋮          ⋮          ⋱ ⋮          ⋮         \n",
       "3581 NA         NA         NA         NA         ⋯ NA         NA        \n",
       "3582 NA         NA         NA         NA         ⋯ NA         NA        \n",
       "3583 NA         NA         NA         NA         ⋯ NA         NA        \n",
       "3584 NA         NA         NA         NA         ⋯ NA         NA        \n",
       "3585 NA         NA         NA         NA         ⋯ NA         NA        \n",
       "3586 NA         NA         NA         NA         ⋯ NA         NA        \n",
       "3587 NA         NA         NA         NA         ⋯ NA         NA        \n",
       "3588 NA         NA         NA         NA         ⋯ NA         NA        \n",
       "3589 NA         NA         NA         NA         ⋯ NA         NA        \n",
       "3590 NA         NA         NA         NA         ⋯ NA         NA        \n",
       "3591 NA         NA         NA         NA         ⋯ NA         NA        \n",
       "3592 NA         NA         NA         NA         ⋯ NA         NA        \n",
       "3593 NA         NA         NA         NA         ⋯ NA         NA        \n",
       "3594 NA         NA         NA         NA         ⋯ NA         NA        \n",
       "3595 NA         NA         NA         NA         ⋯ NA         NA        \n",
       "3596 NA         NA         NA         NA         ⋯ NA         NA        \n",
       "3597 NA         NA         NA         NA         ⋯ NA         NA        \n",
       "3598 NA         NA         NA         NA         ⋯ NA         NA        \n",
       "3599 NA         NA         NA         NA         ⋯ NA         NA        \n",
       "3600 NA         NA         NA         NA         ⋯ NA         NA        \n",
       "3601 NA         NA         NA         NA         ⋯ NA         NA        \n",
       "3602 NA         NA         NA         NA         ⋯ NA         NA        \n",
       "3603 NA         NA         NA         NA         ⋯ NA         NA        \n",
       "3604 NA         NA         NA         NA         ⋯ NA         NA        \n",
       "3605 NA         NA         NA         NA         ⋯ NA         NA        \n",
       "3606 NA         NA         NA         NA         ⋯ NA         NA        \n",
       "3607 NA         NA         NA         NA         ⋯ NA         NA        \n",
       "3608 NA         NA         NA         NA         ⋯ NA         NA        \n",
       "3609 NA         NA         NA         NA         ⋯ NA         NA        \n",
       "3610 NA         NA         NA         NA         ⋯ NA         NA        \n",
       "     Author.297 Author.298 Author.299 Author.300 Year DocType     authorOrder\n",
       "1    NA         NA         NA         NA         2017 Journal     Author.1   \n",
       "2    NA         NA         NA         NA         2014 Journal     Author.1   \n",
       "3    NA         NA         NA         NA         2014 Journal     Author.1   \n",
       "4    NA         NA         NA         NA         2016 Journal     Author.1   \n",
       "5    NA         NA         NA         NA         2015 Journal     Author.1   \n",
       "6    NA         NA         NA         NA         2016 Journal     Author.1   \n",
       "7    NA         NA         NA         NA         2012 Conference  Author.1   \n",
       "8    NA         NA         NA         NA         2016 Conference  Author.1   \n",
       "9    NA         NA         NA         NA         2016 Conference  Author.1   \n",
       "10   NA         NA         NA         NA         2014 Journal     Author.1   \n",
       "11   NA         NA         NA         NA         2012 Journal     Author.1   \n",
       "12   NA         NA         NA         NA         2016 Journal     Author.1   \n",
       "13   NA         NA         NA         NA         2014 Journal     Author.1   \n",
       "14   NA         NA         NA         NA         2015 Journal     Author.1   \n",
       "15   NA         NA         NA         NA         2015 Conference  Author.1   \n",
       "16   NA         NA         NA         NA         2016 Journal     Author.1   \n",
       "17   NA         NA         NA         NA         2017 Journal     Author.1   \n",
       "18   NA         NA         NA         NA         2013 Journal     Author.1   \n",
       "19   NA         NA         NA         NA         2016 Journal     Author.1   \n",
       "20   NA         NA         NA         NA         2012 Conference  Author.1   \n",
       "21   NA         NA         NA         NA         2014 Journal     Author.1   \n",
       "22   NA         NA         NA         NA         2015 BookChapter Author.1   \n",
       "23   NA         NA         NA         NA         2017 Journal     Author.1   \n",
       "24   NA         NA         NA         NA         2017 Journal     Author.1   \n",
       "25   NA         NA         NA         NA         2015 Journal     Author.1   \n",
       "26   NA         NA         NA         NA         2017 Journal     Author.1   \n",
       "27   NA         NA         NA         NA         2012 Journal     Author.1   \n",
       "28   NA         NA         NA         NA         2013 Conference  Author.1   \n",
       "29   NA         NA         NA         NA         2014 Journal     Author.1   \n",
       "30   NA         NA         NA         NA         2014 Journal     Author.1   \n",
       "⋮    ⋮          ⋮          ⋮          ⋮          ⋮    ⋮           ⋮          \n",
       "3581 NA         NA         NA         NA         2016 Journal     Author.67  \n",
       "3582 NA         NA         NA         NA         2017 Journal     Author.68  \n",
       "3583 NA         NA         NA         NA         2016 Journal     Author.68  \n",
       "3584 NA         NA         NA         NA         2017 Journal     Author.69  \n",
       "3585 NA         NA         NA         NA         2016 Journal     Author.69  \n",
       "3586 NA         NA         NA         NA         2017 Journal     Author.70  \n",
       "3587 NA         NA         NA         NA         2016 Journal     Author.70  \n",
       "3588 NA         NA         NA         NA         2017 Journal     Author.71  \n",
       "3589 NA         NA         NA         NA         2017 Journal     Author.72  \n",
       "3590 NA         NA         NA         NA         2017 Journal     Author.73  \n",
       "3591 NA         NA         NA         NA         2017 Journal     Author.74  \n",
       "3592 NA         NA         NA         NA         2017 Journal     Author.75  \n",
       "3593 NA         NA         NA         NA         2017 Journal     Author.76  \n",
       "3594 NA         NA         NA         NA         2017 Journal     Author.77  \n",
       "3595 NA         NA         NA         NA         2017 Journal     Author.78  \n",
       "3596 NA         NA         NA         NA         2017 Journal     Author.79  \n",
       "3597 NA         NA         NA         NA         2017 Journal     Author.80  \n",
       "3598 NA         NA         NA         NA         2017 Journal     Author.81  \n",
       "3599 NA         NA         NA         NA         2017 Journal     Author.82  \n",
       "3600 NA         NA         NA         NA         2017 Journal     Author.83  \n",
       "3601 NA         NA         NA         NA         2017 Journal     Author.84  \n",
       "3602 NA         NA         NA         NA         2017 Journal     Author.85  \n",
       "3603 NA         NA         NA         NA         2017 Journal     Author.86  \n",
       "3604 NA         NA         NA         NA         2017 Journal     Author.87  \n",
       "3605 NA         NA         NA         NA         2017 Journal     Author.88  \n",
       "3606 NA         NA         NA         NA         2017 Journal     Author.89  \n",
       "3607 NA         NA         NA         NA         2017 Journal     Author.90  \n",
       "3608 NA         NA         NA         NA         2017 Journal     Author.91  \n",
       "3609 NA         NA         NA         NA         2017 Journal     Author.92  \n",
       "3610 NA         NA         NA         NA         2017 Journal     Author.93  \n",
       "     AuthorIds  \n",
       "1    1918640562 \n",
       "2    1971373124 \n",
       "3    115656586  \n",
       "4    2045166491 \n",
       "5    2104297841 \n",
       "6    1868731373 \n",
       "7    1908621684 \n",
       "8    2017370817 \n",
       "9    1916366858 \n",
       "10   1985335732 \n",
       "11   1973113305 \n",
       "12   1161373467 \n",
       "13   192274276  \n",
       "14   2106210375 \n",
       "15   1987111820 \n",
       "16   1952202380 \n",
       "17   201421245  \n",
       "18   2061691810 \n",
       "19   2004016812 \n",
       "20   2106587489 \n",
       "21   2233874302 \n",
       "22   2162692397 \n",
       "23   2047428607 \n",
       "24   2122310831 \n",
       "25   2308590913 \n",
       "26   2112309812 \n",
       "27   2123667360 \n",
       "28   2028772503 \n",
       "29   2238366779 \n",
       "30   2146354473 \n",
       "⋮    ⋮          \n",
       "3581  2563546566\n",
       "3582  2597593074\n",
       "3583  468406898 \n",
       "3584  2740866186\n",
       "3585  2562435463\n",
       "3586  2741761536\n",
       "3587  2563016391\n",
       "3588  2741992701\n",
       "3589  2041087347\n",
       "3590  2742064152\n",
       "3591  2068107358\n",
       "3592  2771455475\n",
       "3593  2737348735\n",
       "3594  2739517175\n",
       "3595  2739934955\n",
       "3596  2740337290\n",
       "3597  2739814687\n",
       "3598  2740873800\n",
       "3599  2049073134\n",
       "3600  2166439352\n",
       "3601  2159410886\n",
       "3602  2739652070\n",
       "3603  2280028932\n",
       "3604  2034964685\n",
       "3605  2761095480\n",
       "3606  2739509300\n",
       "3607  1825923484\n",
       "3608  2739968954\n",
       "3609  2741065716\n",
       "3610  2740076258"
      ]
     },
     "metadata": {},
     "output_type": "display_data"
    }
   ],
   "source": [
    "#setwd(\"/home/everyan/Dropbox/MAGprojects/womenOpenSci/newData\")\n",
    "block = read_tsv(\"Open-old.csv\", col_names = TRUE, quote = \"\\\"\")\n",
    "myvars <- c(\"PaperId\", \"AuthorIds\", \"Year\", \"DocType\")\n",
    "data <- block[myvars]\n",
    "data <- data[data$Year >=2010 & data$Year <=2017,]\n",
    "data <- data[!is.na(data$DocType),]\n",
    "AuthorTable <- data %>% separate(AuthorIds, into = sprintf('%s.%s', rep('Author',300), rep(1:300)), sep = \";\") #max author has exceeded 250\n",
    "AuthorTable <- AuthorTable %>% gather(authorOrder, AuthorIds, into = sprintf('%s.%s', rep('Author',100), rep(1:100)))\n",
    "AuthorTable <- AuthorTable[!is.na(AuthorTable$AuthorIds), ]\n",
    "AuthorTable"
   ]
  },
  {
   "cell_type": "code",
   "execution_count": 38,
   "metadata": {},
   "outputs": [
    {
     "data": {
      "text/html": [
       "899"
      ],
      "text/latex": [
       "899"
      ],
      "text/markdown": [
       "899"
      ],
      "text/plain": [
       "[1] 899"
      ]
     },
     "metadata": {},
     "output_type": "display_data"
    },
    {
     "data": {
      "text/html": [
       "274"
      ],
      "text/latex": [
       "274"
      ],
      "text/markdown": [
       "274"
      ],
      "text/plain": [
       "[1] 274"
      ]
     },
     "metadata": {},
     "output_type": "display_data"
    }
   ],
   "source": [
    "PaperCollab <- pairwise_count(AuthorTable, PaperId, AuthorIds, sort = TRUE)\n",
    "openG <- graph_from_data_frame(d = PaperCollab, directed=FALSE, vertices=data)\n",
    "write_graph(openG, \"/home/jovyan/openScience/code-data/openRaw.graphml\", format=\"graphml\")\n",
    "n1=vcount(openG)\n",
    "m1=ecount(openG)/2\n",
    "n1\n",
    "m1"
   ]
  },
  {
   "cell_type": "code",
   "execution_count": 21,
   "metadata": {},
   "outputs": [
    {
     "name": "stderr",
     "output_type": "stream",
     "text": [
      "Parsed with column specification:\n",
      "cols(\n",
      "  .default = col_character(),\n",
      "  PaperId = col_double(),\n",
      "  Rank = col_double(),\n",
      "  JournalId = col_double(),\n",
      "  ConferenceInstanceId = col_double(),\n",
      "  Year = col_double(),\n",
      "  Date = col_datetime(format = \"\"),\n",
      "  ReferenceCount = col_double(),\n",
      "  CitationCount = col_double(),\n",
      "  EstimatedCitation = col_double()\n",
      ")\n",
      "See spec(...) for full column specifications.\n",
      "Warning message:\n",
      "“Expected 300 pieces. Missing pieces filled with `NA` in 2118 rows [1, 2, 3, 4, 5, 6, 7, 8, 9, 10, 11, 12, 13, 14, 15, 16, 17, 18, 19, 20, ...].”"
     ]
    },
    {
     "data": {
      "text/html": [
       "<table>\n",
       "<thead><tr><th scope=col>PaperId</th><th scope=col>Year</th><th scope=col>DocType</th><th scope=col>authorOrder</th><th scope=col>AuthorIds</th></tr></thead>\n",
       "<tbody>\n",
       "\t<tr><td>2253162893</td><td>2012      </td><td>Journal   </td><td>Author.1  </td><td>1729943254</td></tr>\n",
       "\t<tr><td>2045754515</td><td>2014      </td><td>Conference</td><td>Author.1  </td><td>1387639048</td></tr>\n",
       "\t<tr><td>2313808222</td><td>2015      </td><td>Journal   </td><td>Author.1  </td><td>1433102634</td></tr>\n",
       "\t<tr><td>2340071928</td><td>2016      </td><td>Journal   </td><td>Author.1  </td><td>1327215664</td></tr>\n",
       "\t<tr><td>2112240140</td><td>2014      </td><td>Journal   </td><td>Author.1  </td><td>1478855930</td></tr>\n",
       "\t<tr><td>2331068677</td><td>2011      </td><td>Journal   </td><td>Author.1  </td><td>2030993026</td></tr>\n",
       "\t<tr><td>2109726367</td><td>2012      </td><td>Journal   </td><td>Author.1  </td><td>1207772840</td></tr>\n",
       "\t<tr><td>2314302714</td><td>2011      </td><td>Journal   </td><td>Author.1  </td><td>1441062885</td></tr>\n",
       "\t<tr><td>2333362394</td><td>2013      </td><td>Journal   </td><td>Author.1  </td><td>1722051742</td></tr>\n",
       "\t<tr><td>2777297143</td><td>2017      </td><td>Journal   </td><td>Author.1  </td><td>1981843489</td></tr>\n",
       "\t<tr><td>2747988993</td><td>2017      </td><td>Journal   </td><td>Author.1  </td><td>1250392612</td></tr>\n",
       "\t<tr><td>2107666221</td><td>2012      </td><td>Journal   </td><td>Author.1  </td><td>1914407541</td></tr>\n",
       "\t<tr><td>2526372752</td><td>2016      </td><td>Journal   </td><td>Author.1  </td><td>107662645 </td></tr>\n",
       "\t<tr><td>2024247353</td><td>2010      </td><td>Journal   </td><td>Author.1  </td><td>183189838 </td></tr>\n",
       "\t<tr><td>2072203463</td><td>2015      </td><td>Journal   </td><td>Author.1  </td><td>1894310331</td></tr>\n",
       "\t<tr><td>2736415125</td><td>2017      </td><td>Journal   </td><td>Author.1  </td><td>1838097981</td></tr>\n",
       "\t<tr><td>2071455580</td><td>2010      </td><td>Journal   </td><td>Author.1  </td><td>1893352410</td></tr>\n",
       "\t<tr><td>2569500599</td><td>2017      </td><td>Journal   </td><td>Author.1  </td><td>1818135735</td></tr>\n",
       "\t<tr><td>2086651798</td><td>2010      </td><td>Journal   </td><td>Author.1  </td><td>1408769901</td></tr>\n",
       "\t<tr><td>1965520833</td><td>2013      </td><td>Journal   </td><td>Author.1  </td><td>139613769 </td></tr>\n",
       "\t<tr><td>2521980962</td><td>2016      </td><td>Journal   </td><td>Author.1  </td><td>2027970418</td></tr>\n",
       "\t<tr><td>2618151000</td><td>2017      </td><td>Journal   </td><td>Author.1  </td><td>1515326635</td></tr>\n",
       "\t<tr><td>2065180956</td><td>2014      </td><td>Journal   </td><td>Author.1  </td><td>2039462798</td></tr>\n",
       "\t<tr><td>2001184907</td><td>2011      </td><td>Journal   </td><td>Author.1  </td><td>192004786 </td></tr>\n",
       "\t<tr><td>1485720760</td><td>2011      </td><td>Conference</td><td>Author.1  </td><td>1908730544</td></tr>\n",
       "\t<tr><td>2752120965</td><td>2017      </td><td>Journal   </td><td>Author.1  </td><td>155913550 </td></tr>\n",
       "\t<tr><td>2771908588</td><td>2017      </td><td>Journal   </td><td>Author.1  </td><td>2092429533</td></tr>\n",
       "\t<tr><td>1973712273</td><td>2011      </td><td>Journal   </td><td>Author.1  </td><td>2071930107</td></tr>\n",
       "\t<tr><td>2239999543</td><td>2017      </td><td>Journal   </td><td>Author.1  </td><td>2060124806</td></tr>\n",
       "\t<tr><td>2024261912</td><td>2012      </td><td>Journal   </td><td>Author.1  </td><td>1996188493</td></tr>\n",
       "\t<tr><td>⋮</td><td>⋮</td><td>⋮</td><td>⋮</td><td>⋮</td></tr>\n",
       "\t<tr><td>2530539846 </td><td>2016       </td><td>Journal    </td><td>Author.68  </td><td> 2517766866</td></tr>\n",
       "\t<tr><td>2309036171 </td><td>2016       </td><td>Journal    </td><td>Author.69  </td><td> 2581216291</td></tr>\n",
       "\t<tr><td>2310703973 </td><td>2016       </td><td>Journal    </td><td>Author.69  </td><td> 2152978785</td></tr>\n",
       "\t<tr><td>2530539846 </td><td>2016       </td><td>Journal    </td><td>Author.69  </td><td> 2004263254</td></tr>\n",
       "\t<tr><td>2309036171 </td><td>2016       </td><td>Journal    </td><td>Author.70  </td><td> 2511165909</td></tr>\n",
       "\t<tr><td>2530539846 </td><td>2016       </td><td>Journal    </td><td>Author.70  </td><td> 1998496640</td></tr>\n",
       "\t<tr><td>2309036171 </td><td>2016       </td><td>Journal    </td><td>Author.71  </td><td> 2134688017</td></tr>\n",
       "\t<tr><td>2530539846 </td><td>2016       </td><td>Journal    </td><td>Author.71  </td><td> 2508943309</td></tr>\n",
       "\t<tr><td>2309036171 </td><td>2016       </td><td>Journal    </td><td>Author.72  </td><td> 2516465733</td></tr>\n",
       "\t<tr><td>2530539846 </td><td>2016       </td><td>Journal    </td><td>Author.72  </td><td> 591459194 </td></tr>\n",
       "\t<tr><td>2309036171 </td><td>2016       </td><td>Journal    </td><td>Author.73  </td><td> 161739490 </td></tr>\n",
       "\t<tr><td>2530539846 </td><td>2016       </td><td>Journal    </td><td>Author.73  </td><td> 2112218589</td></tr>\n",
       "\t<tr><td>2309036171 </td><td>2016       </td><td>Journal    </td><td>Author.74  </td><td> 2268079738</td></tr>\n",
       "\t<tr><td>2530539846 </td><td>2016       </td><td>Journal    </td><td>Author.74  </td><td> 2509280056</td></tr>\n",
       "\t<tr><td>2309036171 </td><td>2016       </td><td>Journal    </td><td>Author.75  </td><td> 2022025971</td></tr>\n",
       "\t<tr><td>2530539846 </td><td>2016       </td><td>Journal    </td><td>Author.75  </td><td> 2101117261</td></tr>\n",
       "\t<tr><td>2309036171 </td><td>2016       </td><td>Journal    </td><td>Author.76  </td><td> 2515762828</td></tr>\n",
       "\t<tr><td>2530539846 </td><td>2016       </td><td>Journal    </td><td>Author.76  </td><td> 2288329251</td></tr>\n",
       "\t<tr><td>2309036171 </td><td>2016       </td><td>Journal    </td><td>Author.77  </td><td> 2513074109</td></tr>\n",
       "\t<tr><td>2530539846 </td><td>2016       </td><td>Journal    </td><td>Author.77  </td><td> 1487710977</td></tr>\n",
       "\t<tr><td>2309036171 </td><td>2016       </td><td>Journal    </td><td>Author.78  </td><td> 2513633116</td></tr>\n",
       "\t<tr><td>2530539846 </td><td>2016       </td><td>Journal    </td><td>Author.78  </td><td> 2495803827</td></tr>\n",
       "\t<tr><td>2309036171 </td><td>2016       </td><td>Journal    </td><td>Author.79  </td><td> 2432117730</td></tr>\n",
       "\t<tr><td>2530539846 </td><td>2016       </td><td>Journal    </td><td>Author.79  </td><td> 2120538070</td></tr>\n",
       "\t<tr><td>2309036171 </td><td>2016       </td><td>Journal    </td><td>Author.80  </td><td> 2552704178</td></tr>\n",
       "\t<tr><td>2530539846 </td><td>2016       </td><td>Journal    </td><td>Author.80  </td><td> 2145744116</td></tr>\n",
       "\t<tr><td>2309036171 </td><td>2016       </td><td>Journal    </td><td>Author.81  </td><td> 2140188458</td></tr>\n",
       "\t<tr><td>2530539846 </td><td>2016       </td><td>Journal    </td><td>Author.81  </td><td> 2019972325</td></tr>\n",
       "\t<tr><td>2309036171 </td><td>2016       </td><td>Journal    </td><td>Author.82  </td><td> 2125251229</td></tr>\n",
       "\t<tr><td>2530539846 </td><td>2016       </td><td>Journal    </td><td>Author.82  </td><td> 2507187796</td></tr>\n",
       "</tbody>\n",
       "</table>\n"
      ],
      "text/latex": [
       "\\begin{tabular}{r|lllll}\n",
       " PaperId & Year & DocType & authorOrder & AuthorIds\\\\\n",
       "\\hline\n",
       "\t 2253162893 & 2012       & Journal    & Author.1   & 1729943254\\\\\n",
       "\t 2045754515 & 2014       & Conference & Author.1   & 1387639048\\\\\n",
       "\t 2313808222 & 2015       & Journal    & Author.1   & 1433102634\\\\\n",
       "\t 2340071928 & 2016       & Journal    & Author.1   & 1327215664\\\\\n",
       "\t 2112240140 & 2014       & Journal    & Author.1   & 1478855930\\\\\n",
       "\t 2331068677 & 2011       & Journal    & Author.1   & 2030993026\\\\\n",
       "\t 2109726367 & 2012       & Journal    & Author.1   & 1207772840\\\\\n",
       "\t 2314302714 & 2011       & Journal    & Author.1   & 1441062885\\\\\n",
       "\t 2333362394 & 2013       & Journal    & Author.1   & 1722051742\\\\\n",
       "\t 2777297143 & 2017       & Journal    & Author.1   & 1981843489\\\\\n",
       "\t 2747988993 & 2017       & Journal    & Author.1   & 1250392612\\\\\n",
       "\t 2107666221 & 2012       & Journal    & Author.1   & 1914407541\\\\\n",
       "\t 2526372752 & 2016       & Journal    & Author.1   & 107662645 \\\\\n",
       "\t 2024247353 & 2010       & Journal    & Author.1   & 183189838 \\\\\n",
       "\t 2072203463 & 2015       & Journal    & Author.1   & 1894310331\\\\\n",
       "\t 2736415125 & 2017       & Journal    & Author.1   & 1838097981\\\\\n",
       "\t 2071455580 & 2010       & Journal    & Author.1   & 1893352410\\\\\n",
       "\t 2569500599 & 2017       & Journal    & Author.1   & 1818135735\\\\\n",
       "\t 2086651798 & 2010       & Journal    & Author.1   & 1408769901\\\\\n",
       "\t 1965520833 & 2013       & Journal    & Author.1   & 139613769 \\\\\n",
       "\t 2521980962 & 2016       & Journal    & Author.1   & 2027970418\\\\\n",
       "\t 2618151000 & 2017       & Journal    & Author.1   & 1515326635\\\\\n",
       "\t 2065180956 & 2014       & Journal    & Author.1   & 2039462798\\\\\n",
       "\t 2001184907 & 2011       & Journal    & Author.1   & 192004786 \\\\\n",
       "\t 1485720760 & 2011       & Conference & Author.1   & 1908730544\\\\\n",
       "\t 2752120965 & 2017       & Journal    & Author.1   & 155913550 \\\\\n",
       "\t 2771908588 & 2017       & Journal    & Author.1   & 2092429533\\\\\n",
       "\t 1973712273 & 2011       & Journal    & Author.1   & 2071930107\\\\\n",
       "\t 2239999543 & 2017       & Journal    & Author.1   & 2060124806\\\\\n",
       "\t 2024261912 & 2012       & Journal    & Author.1   & 1996188493\\\\\n",
       "\t ⋮ & ⋮ & ⋮ & ⋮ & ⋮\\\\\n",
       "\t 2530539846  & 2016        & Journal     & Author.68   &  2517766866\\\\\n",
       "\t 2309036171  & 2016        & Journal     & Author.69   &  2581216291\\\\\n",
       "\t 2310703973  & 2016        & Journal     & Author.69   &  2152978785\\\\\n",
       "\t 2530539846  & 2016        & Journal     & Author.69   &  2004263254\\\\\n",
       "\t 2309036171  & 2016        & Journal     & Author.70   &  2511165909\\\\\n",
       "\t 2530539846  & 2016        & Journal     & Author.70   &  1998496640\\\\\n",
       "\t 2309036171  & 2016        & Journal     & Author.71   &  2134688017\\\\\n",
       "\t 2530539846  & 2016        & Journal     & Author.71   &  2508943309\\\\\n",
       "\t 2309036171  & 2016        & Journal     & Author.72   &  2516465733\\\\\n",
       "\t 2530539846  & 2016        & Journal     & Author.72   &  591459194 \\\\\n",
       "\t 2309036171  & 2016        & Journal     & Author.73   &  161739490 \\\\\n",
       "\t 2530539846  & 2016        & Journal     & Author.73   &  2112218589\\\\\n",
       "\t 2309036171  & 2016        & Journal     & Author.74   &  2268079738\\\\\n",
       "\t 2530539846  & 2016        & Journal     & Author.74   &  2509280056\\\\\n",
       "\t 2309036171  & 2016        & Journal     & Author.75   &  2022025971\\\\\n",
       "\t 2530539846  & 2016        & Journal     & Author.75   &  2101117261\\\\\n",
       "\t 2309036171  & 2016        & Journal     & Author.76   &  2515762828\\\\\n",
       "\t 2530539846  & 2016        & Journal     & Author.76   &  2288329251\\\\\n",
       "\t 2309036171  & 2016        & Journal     & Author.77   &  2513074109\\\\\n",
       "\t 2530539846  & 2016        & Journal     & Author.77   &  1487710977\\\\\n",
       "\t 2309036171  & 2016        & Journal     & Author.78   &  2513633116\\\\\n",
       "\t 2530539846  & 2016        & Journal     & Author.78   &  2495803827\\\\\n",
       "\t 2309036171  & 2016        & Journal     & Author.79   &  2432117730\\\\\n",
       "\t 2530539846  & 2016        & Journal     & Author.79   &  2120538070\\\\\n",
       "\t 2309036171  & 2016        & Journal     & Author.80   &  2552704178\\\\\n",
       "\t 2530539846  & 2016        & Journal     & Author.80   &  2145744116\\\\\n",
       "\t 2309036171  & 2016        & Journal     & Author.81   &  2140188458\\\\\n",
       "\t 2530539846  & 2016        & Journal     & Author.81   &  2019972325\\\\\n",
       "\t 2309036171  & 2016        & Journal     & Author.82   &  2125251229\\\\\n",
       "\t 2530539846  & 2016        & Journal     & Author.82   &  2507187796\\\\\n",
       "\\end{tabular}\n"
      ],
      "text/markdown": [
       "\n",
       "| PaperId | Year | DocType | authorOrder | AuthorIds |\n",
       "|---|---|---|---|---|\n",
       "| 2253162893 | 2012       | Journal    | Author.1   | 1729943254 |\n",
       "| 2045754515 | 2014       | Conference | Author.1   | 1387639048 |\n",
       "| 2313808222 | 2015       | Journal    | Author.1   | 1433102634 |\n",
       "| 2340071928 | 2016       | Journal    | Author.1   | 1327215664 |\n",
       "| 2112240140 | 2014       | Journal    | Author.1   | 1478855930 |\n",
       "| 2331068677 | 2011       | Journal    | Author.1   | 2030993026 |\n",
       "| 2109726367 | 2012       | Journal    | Author.1   | 1207772840 |\n",
       "| 2314302714 | 2011       | Journal    | Author.1   | 1441062885 |\n",
       "| 2333362394 | 2013       | Journal    | Author.1   | 1722051742 |\n",
       "| 2777297143 | 2017       | Journal    | Author.1   | 1981843489 |\n",
       "| 2747988993 | 2017       | Journal    | Author.1   | 1250392612 |\n",
       "| 2107666221 | 2012       | Journal    | Author.1   | 1914407541 |\n",
       "| 2526372752 | 2016       | Journal    | Author.1   | 107662645  |\n",
       "| 2024247353 | 2010       | Journal    | Author.1   | 183189838  |\n",
       "| 2072203463 | 2015       | Journal    | Author.1   | 1894310331 |\n",
       "| 2736415125 | 2017       | Journal    | Author.1   | 1838097981 |\n",
       "| 2071455580 | 2010       | Journal    | Author.1   | 1893352410 |\n",
       "| 2569500599 | 2017       | Journal    | Author.1   | 1818135735 |\n",
       "| 2086651798 | 2010       | Journal    | Author.1   | 1408769901 |\n",
       "| 1965520833 | 2013       | Journal    | Author.1   | 139613769  |\n",
       "| 2521980962 | 2016       | Journal    | Author.1   | 2027970418 |\n",
       "| 2618151000 | 2017       | Journal    | Author.1   | 1515326635 |\n",
       "| 2065180956 | 2014       | Journal    | Author.1   | 2039462798 |\n",
       "| 2001184907 | 2011       | Journal    | Author.1   | 192004786  |\n",
       "| 1485720760 | 2011       | Conference | Author.1   | 1908730544 |\n",
       "| 2752120965 | 2017       | Journal    | Author.1   | 155913550  |\n",
       "| 2771908588 | 2017       | Journal    | Author.1   | 2092429533 |\n",
       "| 1973712273 | 2011       | Journal    | Author.1   | 2071930107 |\n",
       "| 2239999543 | 2017       | Journal    | Author.1   | 2060124806 |\n",
       "| 2024261912 | 2012       | Journal    | Author.1   | 1996188493 |\n",
       "| ⋮ | ⋮ | ⋮ | ⋮ | ⋮ |\n",
       "| 2530539846  | 2016        | Journal     | Author.68   |  2517766866 |\n",
       "| 2309036171  | 2016        | Journal     | Author.69   |  2581216291 |\n",
       "| 2310703973  | 2016        | Journal     | Author.69   |  2152978785 |\n",
       "| 2530539846  | 2016        | Journal     | Author.69   |  2004263254 |\n",
       "| 2309036171  | 2016        | Journal     | Author.70   |  2511165909 |\n",
       "| 2530539846  | 2016        | Journal     | Author.70   |  1998496640 |\n",
       "| 2309036171  | 2016        | Journal     | Author.71   |  2134688017 |\n",
       "| 2530539846  | 2016        | Journal     | Author.71   |  2508943309 |\n",
       "| 2309036171  | 2016        | Journal     | Author.72   |  2516465733 |\n",
       "| 2530539846  | 2016        | Journal     | Author.72   |  591459194  |\n",
       "| 2309036171  | 2016        | Journal     | Author.73   |  161739490  |\n",
       "| 2530539846  | 2016        | Journal     | Author.73   |  2112218589 |\n",
       "| 2309036171  | 2016        | Journal     | Author.74   |  2268079738 |\n",
       "| 2530539846  | 2016        | Journal     | Author.74   |  2509280056 |\n",
       "| 2309036171  | 2016        | Journal     | Author.75   |  2022025971 |\n",
       "| 2530539846  | 2016        | Journal     | Author.75   |  2101117261 |\n",
       "| 2309036171  | 2016        | Journal     | Author.76   |  2515762828 |\n",
       "| 2530539846  | 2016        | Journal     | Author.76   |  2288329251 |\n",
       "| 2309036171  | 2016        | Journal     | Author.77   |  2513074109 |\n",
       "| 2530539846  | 2016        | Journal     | Author.77   |  1487710977 |\n",
       "| 2309036171  | 2016        | Journal     | Author.78   |  2513633116 |\n",
       "| 2530539846  | 2016        | Journal     | Author.78   |  2495803827 |\n",
       "| 2309036171  | 2016        | Journal     | Author.79   |  2432117730 |\n",
       "| 2530539846  | 2016        | Journal     | Author.79   |  2120538070 |\n",
       "| 2309036171  | 2016        | Journal     | Author.80   |  2552704178 |\n",
       "| 2530539846  | 2016        | Journal     | Author.80   |  2145744116 |\n",
       "| 2309036171  | 2016        | Journal     | Author.81   |  2140188458 |\n",
       "| 2530539846  | 2016        | Journal     | Author.81   |  2019972325 |\n",
       "| 2309036171  | 2016        | Journal     | Author.82   |  2125251229 |\n",
       "| 2530539846  | 2016        | Journal     | Author.82   |  2507187796 |\n",
       "\n"
      ],
      "text/plain": [
       "      PaperId    Year DocType    authorOrder AuthorIds  \n",
       "1     2253162893 2012 Journal    Author.1    1729943254 \n",
       "2     2045754515 2014 Conference Author.1    1387639048 \n",
       "3     2313808222 2015 Journal    Author.1    1433102634 \n",
       "4     2340071928 2016 Journal    Author.1    1327215664 \n",
       "5     2112240140 2014 Journal    Author.1    1478855930 \n",
       "6     2331068677 2011 Journal    Author.1    2030993026 \n",
       "7     2109726367 2012 Journal    Author.1    1207772840 \n",
       "8     2314302714 2011 Journal    Author.1    1441062885 \n",
       "9     2333362394 2013 Journal    Author.1    1722051742 \n",
       "10    2777297143 2017 Journal    Author.1    1981843489 \n",
       "11    2747988993 2017 Journal    Author.1    1250392612 \n",
       "12    2107666221 2012 Journal    Author.1    1914407541 \n",
       "13    2526372752 2016 Journal    Author.1    107662645  \n",
       "14    2024247353 2010 Journal    Author.1    183189838  \n",
       "15    2072203463 2015 Journal    Author.1    1894310331 \n",
       "16    2736415125 2017 Journal    Author.1    1838097981 \n",
       "17    2071455580 2010 Journal    Author.1    1893352410 \n",
       "18    2569500599 2017 Journal    Author.1    1818135735 \n",
       "19    2086651798 2010 Journal    Author.1    1408769901 \n",
       "20    1965520833 2013 Journal    Author.1    139613769  \n",
       "21    2521980962 2016 Journal    Author.1    2027970418 \n",
       "22    2618151000 2017 Journal    Author.1    1515326635 \n",
       "23    2065180956 2014 Journal    Author.1    2039462798 \n",
       "24    2001184907 2011 Journal    Author.1    192004786  \n",
       "25    1485720760 2011 Conference Author.1    1908730544 \n",
       "26    2752120965 2017 Journal    Author.1    155913550  \n",
       "27    2771908588 2017 Journal    Author.1    2092429533 \n",
       "28    1973712273 2011 Journal    Author.1    2071930107 \n",
       "29    2239999543 2017 Journal    Author.1    2060124806 \n",
       "30    2024261912 2012 Journal    Author.1    1996188493 \n",
       "⋮     ⋮          ⋮    ⋮          ⋮           ⋮          \n",
       "10122 2530539846 2016 Journal    Author.68    2517766866\n",
       "10123 2309036171 2016 Journal    Author.69    2581216291\n",
       "10124 2310703973 2016 Journal    Author.69    2152978785\n",
       "10125 2530539846 2016 Journal    Author.69    2004263254\n",
       "10126 2309036171 2016 Journal    Author.70    2511165909\n",
       "10127 2530539846 2016 Journal    Author.70    1998496640\n",
       "10128 2309036171 2016 Journal    Author.71    2134688017\n",
       "10129 2530539846 2016 Journal    Author.71    2508943309\n",
       "10130 2309036171 2016 Journal    Author.72    2516465733\n",
       "10131 2530539846 2016 Journal    Author.72    591459194 \n",
       "10132 2309036171 2016 Journal    Author.73    161739490 \n",
       "10133 2530539846 2016 Journal    Author.73    2112218589\n",
       "10134 2309036171 2016 Journal    Author.74    2268079738\n",
       "10135 2530539846 2016 Journal    Author.74    2509280056\n",
       "10136 2309036171 2016 Journal    Author.75    2022025971\n",
       "10137 2530539846 2016 Journal    Author.75    2101117261\n",
       "10138 2309036171 2016 Journal    Author.76    2515762828\n",
       "10139 2530539846 2016 Journal    Author.76    2288329251\n",
       "10140 2309036171 2016 Journal    Author.77    2513074109\n",
       "10141 2530539846 2016 Journal    Author.77    1487710977\n",
       "10142 2309036171 2016 Journal    Author.78    2513633116\n",
       "10143 2530539846 2016 Journal    Author.78    2495803827\n",
       "10144 2309036171 2016 Journal    Author.79    2432117730\n",
       "10145 2530539846 2016 Journal    Author.79    2120538070\n",
       "10146 2309036171 2016 Journal    Author.80    2552704178\n",
       "10147 2530539846 2016 Journal    Author.80    2145744116\n",
       "10148 2309036171 2016 Journal    Author.81    2140188458\n",
       "10149 2530539846 2016 Journal    Author.81    2019972325\n",
       "10150 2309036171 2016 Journal    Author.82    2125251229\n",
       "10151 2530539846 2016 Journal    Author.82    2507187796"
      ]
     },
     "metadata": {},
     "output_type": "display_data"
    }
   ],
   "source": [
    "block2 = read_tsv(\"Reproduce-old.csv\", col_names = TRUE)\n",
    "myvars <- c(\"PaperId\", \"AuthorIds\", \"Year\", \"DocType\")\n",
    "data2 <- block2[myvars]\n",
    "data2 <- data2[data2$Year >=2010 & data2$Year <=2017,]\n",
    "data2 <- data2[!is.na(data2$DocType),]\n",
    "AuthorTable2 <- data2 %>% separate(AuthorIds, into = sprintf('%s.%s', rep('Author',300), rep(1:300)), sep = \";\") #max author has exceeded 250\n",
    "AuthorTable2 <- AuthorTable2 %>% gather(authorOrder, AuthorIds, into = sprintf('%s.%s', rep('Author',300), rep(1:300)))\n",
    "AuthorTable2 <- AuthorTable2[!is.na(AuthorTable2$AuthorIds), ]\n",
    "AuthorTable2"
   ]
  },
  {
   "cell_type": "code",
   "execution_count": 32,
   "metadata": {},
   "outputs": [
    {
     "data": {
      "text/html": [
       "2118"
      ],
      "text/latex": [
       "2118"
      ],
      "text/markdown": [
       "2118"
      ],
      "text/plain": [
       "[1] 2118"
      ]
     },
     "metadata": {},
     "output_type": "display_data"
    },
    {
     "data": {
      "text/html": [
       "665"
      ],
      "text/latex": [
       "665"
      ],
      "text/markdown": [
       "665"
      ],
      "text/plain": [
       "[1] 665"
      ]
     },
     "metadata": {},
     "output_type": "display_data"
    }
   ],
   "source": [
    "PaperCollab2 <- pairwise_count(AuthorTable2, PaperId, AuthorIds, sort = TRUE)\n",
    "repG <- graph_from_data_frame(d = PaperCollab2, directed=FALSE, vertices=data2)\n",
    "write_graph(repG, \"/home/jovyan/openScience/code-data/reproduceRaw.graphml\", \"graphml\")\n",
    "n2=vcount(repG)\n",
    "m2=ecount(repG)/2\n",
    "n2\n",
    "m2"
   ]
  },
  {
   "cell_type": "code",
   "execution_count": 23,
   "metadata": {},
   "outputs": [
    {
     "data": {
      "text/html": [
       "3017"
      ],
      "text/latex": [
       "3017"
      ],
      "text/markdown": [
       "3017"
      ],
      "text/plain": [
       "[1] 3017"
      ]
     },
     "metadata": {},
     "output_type": "display_data"
    }
   ],
   "source": [
    "nrow(data)+nrow(data2)"
   ]
  },
  {
   "cell_type": "code",
   "execution_count": 24,
   "metadata": {},
   "outputs": [
    {
     "data": {
      "text/html": [
       "<table>\n",
       "<thead><tr><th scope=col>n</th></tr></thead>\n",
       "<tbody>\n",
       "\t<tr><td>3295</td></tr>\n",
       "</tbody>\n",
       "</table>\n"
      ],
      "text/latex": [
       "\\begin{tabular}{r|l}\n",
       " n\\\\\n",
       "\\hline\n",
       "\t 3295\\\\\n",
       "\\end{tabular}\n"
      ],
      "text/markdown": [
       "\n",
       "| n |\n",
       "|---|\n",
       "| 3295 |\n",
       "\n"
      ],
      "text/plain": [
       "  n   \n",
       "1 3295"
      ]
     },
     "metadata": {},
     "output_type": "display_data"
    },
    {
     "data": {
      "text/html": [
       "<table>\n",
       "<thead><tr><th scope=col>n</th></tr></thead>\n",
       "<tbody>\n",
       "\t<tr><td>9180</td></tr>\n",
       "</tbody>\n",
       "</table>\n"
      ],
      "text/latex": [
       "\\begin{tabular}{r|l}\n",
       " n\\\\\n",
       "\\hline\n",
       "\t 9180\\\\\n",
       "\\end{tabular}\n"
      ],
      "text/markdown": [
       "\n",
       "| n |\n",
       "|---|\n",
       "| 9180 |\n",
       "\n"
      ],
      "text/plain": [
       "  n   \n",
       "1 9180"
      ]
     },
     "metadata": {},
     "output_type": "display_data"
    }
   ],
   "source": [
    "AuthorTable %>% summarize(n = n_distinct(AuthorIds))\n",
    "AuthorTable2 %>% summarize(n = n_distinct(AuthorIds))"
   ]
  },
  {
   "cell_type": "code",
   "execution_count": 27,
   "metadata": {},
   "outputs": [
    {
     "data": {
      "text/html": [
       "11270"
      ],
      "text/latex": [
       "11270"
      ],
      "text/markdown": [
       "11270"
      ],
      "text/plain": [
       "[1] 11270"
      ]
     },
     "metadata": {},
     "output_type": "display_data"
    }
   ],
   "source": [
    "nrow(block)+nrow(block2)"
   ]
  },
  {
   "cell_type": "code",
   "execution_count": 33,
   "metadata": {},
   "outputs": [
    {
     "data": {
      "text/html": [
       "0.00067880421453186"
      ],
      "text/latex": [
       "0.00067880421453186"
      ],
      "text/markdown": [
       "0.00067880421453186"
      ],
      "text/plain": [
       "[1] 0.0006788042"
      ]
     },
     "metadata": {},
     "output_type": "display_data"
    },
    {
     "data": {
      "text/html": [
       "0.000296623002868545"
      ],
      "text/latex": [
       "0.000296623002868545"
      ],
      "text/markdown": [
       "0.000296623002868545"
      ],
      "text/plain": [
       "[1] 0.000296623"
      ]
     },
     "metadata": {},
     "output_type": "display_data"
    }
   ],
   "source": [
    "2*m1/n1/(n1-1)\n",
    "2*m2/n2/(n2-1)"
   ]
  },
  {
   "cell_type": "code",
   "execution_count": 34,
   "metadata": {},
   "outputs": [
    {
     "data": {
      "text/plain": [
       "\n",
       "\tFisher's Exact Test for Count Data\n",
       "\n",
       "data:  table\n",
       "p-value < 2.2e-16\n",
       "alternative hypothesis: true odds ratio is greater than 1\n",
       "95 percent confidence interval:\n",
       " 2.027782      Inf\n",
       "sample estimates:\n",
       "odds ratio \n",
       "  2.289316 \n"
      ]
     },
     "metadata": {},
     "output_type": "display_data"
    },
    {
     "data": {
      "text/plain": [
       "\n",
       "\tFisher's Exact Test for Count Data\n",
       "\n",
       "data:  table\n",
       "p-value < 2.2e-16\n",
       "alternative hypothesis: true odds ratio is greater than 1\n",
       "95 percent confidence interval:\n",
       " 2.027782      Inf\n",
       "sample estimates:\n",
       "odds ratio \n",
       "  2.289316 \n"
      ]
     },
     "metadata": {},
     "output_type": "display_data"
    }
   ],
   "source": [
    "table <- cbind(c(m1,m2),c(n1*(n1-1)/2-m1,n2*(n2-1)/2-m2))\n",
    "fisher.test(table, alternative=\"greater\")\n",
    "\n",
    "table <- rbind(c(m1,m2),c(n1*(n1-1)/2-m1,n2*(n2-1)/2-m2))\n",
    "fisher.test(table, alternative=\"greater\")"
   ]
  },
  {
   "cell_type": "code",
   "execution_count": 35,
   "metadata": {},
   "outputs": [
    {
     "data": {
      "text/html": [
       "1.25910364145658"
      ],
      "text/latex": [
       "1.25910364145658"
      ],
      "text/markdown": [
       "1.25910364145658"
      ],
      "text/plain": [
       "[1] 1.259104"
      ]
     },
     "metadata": {},
     "output_type": "display_data"
    },
    {
     "data": {
      "text/html": [
       "1.20272572402044"
      ],
      "text/latex": [
       "1.20272572402044"
      ],
      "text/markdown": [
       "1.20272572402044"
      ],
      "text/plain": [
       "[1] 1.202726"
      ]
     },
     "metadata": {},
     "output_type": "display_data"
    }
   ],
   "source": [
    "n1/714\n",
    "n2/1761"
   ]
  },
  {
   "cell_type": "code",
   "execution_count": null,
   "metadata": {},
   "outputs": [],
   "source": []
  }
 ],
 "metadata": {
  "kernelspec": {
   "display_name": "R",
   "language": "R",
   "name": "ir"
  },
  "language_info": {
   "codemirror_mode": "r",
   "file_extension": ".r",
   "mimetype": "text/x-r-source",
   "name": "R",
   "pygments_lexer": "r",
   "version": "3.5.1"
  }
 },
 "nbformat": 4,
 "nbformat_minor": 2
}
