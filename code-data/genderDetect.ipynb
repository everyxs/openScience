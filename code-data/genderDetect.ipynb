{
 "cells": [
  {
   "cell_type": "code",
   "execution_count": 2,
   "metadata": {},
   "outputs": [
    {
     "data": {
      "text/html": [
       "'/home/jovyan/libraries'"
      ],
      "text/latex": [
       "'/home/jovyan/libraries'"
      ],
      "text/markdown": [
       "'/home/jovyan/libraries'"
      ],
      "text/plain": [
       "[1] \"/home/jovyan/libraries\""
      ]
     },
     "metadata": {},
     "output_type": "display_data"
    }
   ],
   "source": [
    ".libPaths( c( .libPaths(), \"/home/jovyan/libraries\") )\n",
    ".libPaths()[3]"
   ]
  },
  {
   "cell_type": "code",
   "execution_count": 3,
   "metadata": {},
   "outputs": [],
   "source": [
    "library(dplyr)\n",
    "library(tidyr)\n",
    "#install.packages('gender',lib=.libPaths()[3])\n",
    "#install.packages(\"genderdata\", repos = \"http://packages.ropensci.org\", type = \"source\",lib=.libPaths()[3])\n",
    "library(gender)\n",
    "library(stringr)\n",
    "library(widyr)\n",
    "library(readr)"
   ]
  },
  {
   "cell_type": "code",
   "execution_count": 4,
   "metadata": {},
   "outputs": [
    {
     "name": "stderr",
     "output_type": "stream",
     "text": [
      "Parsed with column specification:\n",
      "cols(\n",
      "  Tag = col_character(),\n",
      "  PaperId = col_double(),\n",
      "  AuthorIdsOrder = col_character(),\n",
      "  AuthorNamesOrder = col_character(),\n",
      "  FoSNames = col_character(),\n",
      "  Year = col_double(),\n",
      "  DocType = col_character(),\n",
      "  Journal = col_character(),\n",
      "  Publisher = col_character(),\n",
      "  Doi = col_character(),\n",
      "  Title = col_character(),\n",
      "  EstimatedCitation = col_double(),\n",
      "  URLs = col_character(),\n",
      "  IndexedAbstract = col_character()\n",
      ")\n"
     ]
    },
    {
     "data": {
      "text/html": [
       "2926"
      ],
      "text/latex": [
       "2926"
      ],
      "text/markdown": [
       "2926"
      ],
      "text/plain": [
       "[1] 2926"
      ]
     },
     "metadata": {},
     "output_type": "display_data"
    }
   ],
   "source": [
    "block = read_csv(\"newdataCombined.csv\")\n",
    "block = block[block$Year >=2010 & block$Year <=2017,]\n",
    "myvars <- c(\"AuthorIdsOrder\", \"AuthorNamesOrder\", \"Year\", \"PaperId\")\n",
    "data0 <- block[myvars]\n",
    "data0$Year1 <-  data0$Year-35 #25-45\n",
    "data0$Year2 <-  data0$Year-45 #35-55\n",
    "data0$Year3 <-  data0$Year-55 #45-65\n",
    "data0$authorCount <- str_count(data0$AuthorIdsOrder, '; ')+1\n",
    "nrow(data0)"
   ]
  },
  {
   "cell_type": "markdown",
   "metadata": {},
   "source": [
    "### We use \"Year2\" for birth year estimate, i.e. assuming authors are in the age range [35-55] when they publish. "
   ]
  },
  {
   "cell_type": "code",
   "execution_count": 17,
   "metadata": {},
   "outputs": [
    {
     "name": "stderr",
     "output_type": "stream",
     "text": [
      "Warning message:\n",
      "“Expected 100 pieces. Missing pieces filled with `NA` in 2926 rows [1, 2, 3, 4, 5, 6, 7, 8, 9, 10, 11, 12, 13, 14, 15, 16, 17, 18, 19, 20, ...].”Warning message:\n",
      "“Expected 4 pieces. Additional pieces discarded in 111 rows [667, 669, 843, 1038, 1120, 1322, 1577, 1744, 1946, 2020, 2181, 2220, 2280, 2301, 2390, 2841, 2843, 2858, 2859, 3145, ...].”Warning message:\n",
      "“Expected 4 pieces. Missing pieces filled with `NA` in 13047 rows [1, 2, 3, 4, 5, 6, 7, 8, 9, 10, 11, 12, 13, 14, 15, 16, 17, 18, 19, 20, ...].”"
     ]
    }
   ],
   "source": [
    "AuthorTable <- data0 %>% separate(AuthorNamesOrder, into = sprintf('%s.%s', rep('Author',100), rep(1:100)), sep = \"; \") #max author has exceeded 90\n",
    "AuthorTable <- AuthorTable %>% gather(authorOrder, name, into = sprintf('%s.%s', rep('Author',100), rep(1:100)))\n",
    "AuthorList <- data.frame(lapply(AuthorTable, trimws), stringsAsFactors = FALSE)\n",
    "nameTable <- AuthorList %>% separate(name, into = sprintf('%s.%s', rep('namePart',4), rep(1:4)), sep = \" \")"
   ]
  },
  {
   "cell_type": "code",
   "execution_count": 18,
   "metadata": {},
   "outputs": [
    {
     "data": {
      "text/html": [
       "<table>\n",
       "<thead><tr><th scope=col>genderLabel</th><th scope=col>no_rows</th></tr></thead>\n",
       "<tbody>\n",
       "\t<tr><td> 0    </td><td>  6175</td></tr>\n",
       "\t<tr><td> 1    </td><td>  3162</td></tr>\n",
       "\t<tr><td>NA    </td><td>283263</td></tr>\n",
       "</tbody>\n",
       "</table>\n"
      ],
      "text/latex": [
       "\\begin{tabular}{r|ll}\n",
       " genderLabel & no\\_rows\\\\\n",
       "\\hline\n",
       "\t  0     &   6175\\\\\n",
       "\t  1     &   3162\\\\\n",
       "\t NA     & 283263\\\\\n",
       "\\end{tabular}\n"
      ],
      "text/markdown": [
       "\n",
       "| genderLabel | no_rows |\n",
       "|---|---|\n",
       "|  0     |   6175 |\n",
       "|  1     |   3162 |\n",
       "| NA     | 283263 |\n",
       "\n"
      ],
      "text/plain": [
       "  genderLabel no_rows\n",
       "1  0            6175 \n",
       "2  1            3162 \n",
       "3 NA          283263 "
      ]
     },
     "metadata": {},
     "output_type": "display_data"
    }
   ],
   "source": [
    "newvars <- c(\"PaperId\",\"namePart.1\", \"namePart.2\", \"namePart.3\", \"namePart.4\", \"Year2\", \"authorOrder\", \"authorCount\")\n",
    "nameParts <- nameTable[newvars]\n",
    "nameParts$namePart.1 <- gsub(\"\\\"\", \"\", nameParts$namePart.1)\n",
    "nameParts$namePart.2 <- gsub(\"\\\"\", \"\", nameParts$namePart.2)\n",
    "nameParts$namePart.3 <- gsub(\"\\\"\", \"\", nameParts$namePart.3)\n",
    "nameParts$namePart.4 <- gsub(\"\\\"\", \"\", nameParts$namePart.4)\n",
    "nameParts$min_years <- as.numeric(nameParts$Year2)-20\n",
    "nameParts$max_years <- as.numeric(nameParts$Year2)+20\n",
    "results <- gender_df(nameParts, name_col = \"namePart.1\", year_col = c(\"min_years\", \"max_years\"), method = \"ssa\")\n",
    "output <- nameParts %>% left_join(results, by = c(\"namePart.1\" = \"name\", \"min_years\" = \"year_min\"))\n",
    "results <- gender_df(nameParts, name_col = \"namePart.2\", year_col = c(\"min_years\", \"max_years\"), method = \"ssa\")\n",
    "output <- output %>% left_join(results, by = c(\"namePart.2\" = \"name\", \"min_years\" = \"year_min\"))\n",
    "results <- gender_df(nameParts, name_col = \"namePart.3\", year_col = c(\"min_years\", \"max_years\"), method = \"ssa\")\n",
    "output <- output %>% left_join(results, by = c(\"namePart.3\" = \"name\", \"min_years\" = \"year_min\"))\n",
    "output <- within(output, #if namepart3 is the last name, set it NA \n",
    "   temp2 <- ifelse(is.na(namePart.4),NA,proportion_female)\n",
    ")\n",
    "output <- within(output, #if namepart2 is the last name, set it NA \n",
    "   temp1 <- ifelse(is.na(namePart.3),NA,proportion_female.y)\n",
    ")\n",
    "output <- within(output, #if namepart1 is the last name, set it NA \n",
    "   temp0 <- ifelse(is.na(namePart.2),NA,proportion_female.x)\n",
    ")\n",
    "output <- within(output, # namepart2 merged with namepart3\n",
    "   femaleProb0 <- ifelse(is.na(temp1),temp2,temp1)\n",
    ")\n",
    "output <- within(output, # namepart1 merged with namepart2\n",
    "   femaleProb <- ifelse(is.na(temp0),temp1,temp0)\n",
    ")\n",
    "output <- within(output, # binarize the probabilities, with 1 representing female and 0 male\n",
    "   genderLabel <- ifelse(femaleProb>0.5,1,0)\n",
    ")\n",
    "output %>% \n",
    "  group_by(genderLabel) %>%\n",
    "  summarise(no_rows = length(genderLabel))"
   ]
  },
  {
   "cell_type": "markdown",
   "metadata": {},
   "source": [
    "### We break each author name into 4 parts, delimited by space in their full name. The detected gender probability of later name parts overwrite earlier ones. The final labels are given by binarizing the probabilities, with 1 representing female and 0 male."
   ]
  },
  {
   "cell_type": "code",
   "execution_count": 19,
   "metadata": {},
   "outputs": [],
   "source": [
    "newvars <- c(\"PaperId\", \"Year2\", \"authorOrder\", \"genderLabel\", \"authorCount\")\n",
    "merged <- output[newvars]\n",
    "merged <- spread(merged, authorOrder, genderLabel)\n",
    "merged$detectCount <- 100-rowSums(is.na(merged))\n",
    "merged$femaleCount <- rowSums(merged[sapply(merged, is.numeric)], na.rm = TRUE) - merged$detectCount\n",
    "merged$femaleProp <- merged$femaleCount/merged$detectCount\n",
    "merged$femaleProp[is.infinite(merged$femaleProp) | is.nan(merged$femaleProp) ] <- NA\n",
    "merged$authorCount <- as.numeric(merged$authorCount)\n",
    "merged$unknownCount <- merged$authorCount-merged$detectCount\n",
    "merged$lastColName <- paste(\"Author\", merged$authorCount, sep=\".\") \n",
    "merged$last <- as.numeric(merged[cbind(1:nrow(merged),match(merged$lastColName, colnames(merged)))])\n",
    "merged$PaperId <- as.numeric(merged$PaperId)\n",
    "merged <- rename(merged, \"1st\" = \"Author.1\", \"2nd\" = \"Author.2\", \"3rd\" = \"Author.3\", \"4th\" = \"Author.4\", \"5th\" = \"Author.5\")\n",
    "outputVars <- c(\"PaperId\", \"authorCount\", \"unknownCount\", \"femaleCount\", \"femaleProp\", \"1st\", \"2nd\", \"3rd\", \"4th\", \"5th\", \"last\")\n",
    "mergedSelect <-  merged[outputVars]\n",
    "#write.csv(merged, file = \"output.csv\")"
   ]
  },
  {
   "cell_type": "markdown",
   "metadata": {},
   "source": [
    "### Group gender detected results to papers. Besides paper level aggregate statistics, first 5 and the last authors are kepted for downstream analysis (OpenSci3.csv)."
   ]
  },
  {
   "cell_type": "code",
   "execution_count": 22,
   "metadata": {},
   "outputs": [
    {
     "data": {
      "text/html": [
       "2926"
      ],
      "text/latex": [
       "2926"
      ],
      "text/markdown": [
       "2926"
      ],
      "text/plain": [
       "[1] 2926"
      ]
     },
     "metadata": {},
     "output_type": "display_data"
    }
   ],
   "source": [
    "block0 <- block %>% left_join(merged, by = c(\"PaperId\" = \"PaperId\"))\n",
    "outputVars <- c(\"Tag\", \"PaperId\", \"AuthorIdsOrder\", \"AuthorNamesOrder\", \"authorCount\", \"unknownCount\", \"femaleCount\", \"femaleProp\", \"1st\", \"2nd\", \"3rd\", \"4th\", \"5th\", \"last\",\n",
    "                \"FoSNames\", \"Year\", \"DocType\", \"Journal\", \"Publisher\", \"Doi\", \"Title\", \"EstimatedCitation\", \"IndexedAbstract\")\n",
    "data <- block0[outputVars]\n",
    "write_csv(data, \"OpenSci3.csv\")\n",
    "nrow(data)"
   ]
  },
  {
   "cell_type": "markdown",
   "metadata": {},
   "source": [
    "### Counting pie chart numbers for excel plotting (Pie.csv)."
   ]
  },
  {
   "cell_type": "code",
   "execution_count": 23,
   "metadata": {},
   "outputs": [],
   "source": [
    "data$allmale <- as.numeric(data$\"1st\"==0) * as.numeric(data$last==0) * as.numeric(data$authorCount>1)\n",
    "data$allfemale <- as.numeric(data$\"1st\"==1) * as.numeric(data$last==1) * as.numeric(data$authorCount>1)\n",
    "data$mixed <- as.numeric(data$\"1st\"==1) + as.numeric(data$last==1)\n",
    "data$mixed <- as.numeric(data$mixed==1)\n",
    "data$allUnknown <- as.numeric(is.na(data$\"1st\")) * as.numeric(is.na(data$last)) * as.numeric(data$authorCount>1)\n",
    "data$UnknownMale <- as.numeric(is.na(data$\"1st\")) * as.numeric(data$last==0)\n",
    "data$UnknownFemale <- as.numeric(is.na(data$\"1st\")) * as.numeric(data$last==1)\n",
    "data$maleUnknown <- as.numeric(is.na(data$last)) * as.numeric(data$\"1st\"==0)\n",
    "data$femaleUnknown <- as.numeric(is.na(data$last)) * as.numeric(data$\"1st\"==1)\n",
    "data$singleMale <- as.numeric(data$\"1st\"==0) * as.numeric(data$authorCount==1)\n",
    "data$singleFemale <- as.numeric(data$\"1st\"==1) * as.numeric(data$authorCount==1)\n",
    "data$singleUnknown <- as.numeric(is.na(data$\"1st\")) * as.numeric(data$authorCount==1)\n",
    "outputVars <- c(\"Tag\",\"allmale\",\"allfemale\",\"mixed\",\"allUnknown\",\"UnknownMale\",\"UnknownFemale\",\"maleUnknown\",\"femaleUnknown\",\"singleMale\",\"singleFemale\",\"singleUnknown\")\n",
    "dataOpen <- data[outputVars]\n",
    "dataOpen <- dataOpen[dataOpen$Tag==\"OpenScience\",]\n",
    "pieOpen <- dplyr::bind_rows(colSums(dataOpen[,-1], na.rm = TRUE))\n",
    "dataRep <- data[outputVars]\n",
    "dataRep <- dataRep[dataRep$Tag==\"Reproducibility\",]\n",
    "pieRep <- dplyr::bind_rows(colSums(dataRep[,-1], na.rm = TRUE))\n",
    "pie <- dplyr::bind_rows(list(OpenScience=pieOpen, Reproducibility=pieRep), .id = 'Tag')\n",
    "pie$sum <- rowSums(pie[-1])\n",
    "write_csv(pie, \"Pie.csv\")"
   ]
  },
  {
   "cell_type": "code",
   "execution_count": 14,
   "metadata": {},
   "outputs": [
    {
     "data": {
      "text/html": [
       "<table>\n",
       "<thead><tr><th scope=col>Tag</th><th scope=col>allmale</th><th scope=col>allfemale</th><th scope=col>mixed</th><th scope=col>allUnknown</th><th scope=col>UnknownMale</th><th scope=col>UnknownFemale</th><th scope=col>maleUnknown</th><th scope=col>femaleUnknown</th><th scope=col>singleMale</th><th scope=col>singleFemale</th><th scope=col>singleUnknown</th><th scope=col>sum</th></tr></thead>\n",
       "<tbody>\n",
       "\t<tr><td>OpenScience    </td><td>190            </td><td>73             </td><td>169            </td><td> 43            </td><td> 43            </td><td>21             </td><td> 56            </td><td> 29            </td><td>146            </td><td>72             </td><td>37             </td><td> 879           </td></tr>\n",
       "\t<tr><td>Reproducibility</td><td>419            </td><td>80             </td><td>326            </td><td>345            </td><td>200            </td><td>66             </td><td>165            </td><td>104            </td><td>194            </td><td>76             </td><td>72             </td><td>2047           </td></tr>\n",
       "</tbody>\n",
       "</table>\n"
      ],
      "text/latex": [
       "\\begin{tabular}{r|lllllllllllll}\n",
       " Tag & allmale & allfemale & mixed & allUnknown & UnknownMale & UnknownFemale & maleUnknown & femaleUnknown & singleMale & singleFemale & singleUnknown & sum\\\\\n",
       "\\hline\n",
       "\t OpenScience     & 190             & 73              & 169             &  43             &  43             & 21              &  56             &  29             & 146             & 72              & 37              &  879           \\\\\n",
       "\t Reproducibility & 419             & 80              & 326             & 345             & 200             & 66              & 165             & 104             & 194             & 76              & 72              & 2047           \\\\\n",
       "\\end{tabular}\n"
      ],
      "text/markdown": [
       "\n",
       "| Tag | allmale | allfemale | mixed | allUnknown | UnknownMale | UnknownFemale | maleUnknown | femaleUnknown | singleMale | singleFemale | singleUnknown | sum |\n",
       "|---|---|---|---|---|---|---|---|---|---|---|---|---|\n",
       "| OpenScience     | 190             | 73              | 169             |  43             |  43             | 21              |  56             |  29             | 146             | 72              | 37              |  879            |\n",
       "| Reproducibility | 419             | 80              | 326             | 345             | 200             | 66              | 165             | 104             | 194             | 76              | 72              | 2047            |\n",
       "\n"
      ],
      "text/plain": [
       "  Tag             allmale allfemale mixed allUnknown UnknownMale UnknownFemale\n",
       "1 OpenScience     190     73        169    43         43         21           \n",
       "2 Reproducibility 419     80        326   345        200         66           \n",
       "  maleUnknown femaleUnknown singleMale singleFemale singleUnknown sum \n",
       "1  56          29           146        72           37             879\n",
       "2 165         104           194        76           72            2047"
      ]
     },
     "metadata": {},
     "output_type": "display_data"
    }
   ],
   "source": [
    "pie"
   ]
  },
  {
   "cell_type": "code",
   "execution_count": null,
   "metadata": {},
   "outputs": [],
   "source": []
  }
 ],
 "metadata": {
  "kernelspec": {
   "display_name": "R",
   "language": "R",
   "name": "ir"
  },
  "language_info": {
   "codemirror_mode": "r",
   "file_extension": ".r",
   "mimetype": "text/x-r-source",
   "name": "R",
   "pygments_lexer": "r",
   "version": "3.5.1"
  }
 },
 "nbformat": 4,
 "nbformat_minor": 2
}
