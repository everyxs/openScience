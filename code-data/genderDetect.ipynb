{
 "cells": [
  {
   "cell_type": "code",
   "execution_count": 45,
   "metadata": {},
   "outputs": [
    {
     "data": {
      "text/html": [
       "'/home/jovyan/libraries'"
      ],
      "text/latex": [
       "'/home/jovyan/libraries'"
      ],
      "text/markdown": [
       "'/home/jovyan/libraries'"
      ],
      "text/plain": [
       "[1] \"/home/jovyan/libraries\""
      ]
     },
     "metadata": {},
     "output_type": "display_data"
    }
   ],
   "source": [
    ".libPaths( c( .libPaths(), \"/home/jovyan/libraries\") )\n",
    ".libPaths()[3]"
   ]
  },
  {
   "cell_type": "code",
   "execution_count": 46,
   "metadata": {},
   "outputs": [],
   "source": [
    "library(dplyr)\n",
    "library(tidyr)\n",
    "#install.packages('gender',lib=.libPaths()[3])\n",
    "#install.packages(\"genderdata\", repos = \"http://packages.ropensci.org\", type = \"source\",lib=.libPaths()[3])\n",
    "library(gender)\n",
    "library(stringr)\n",
    "library(widyr)\n",
    "library(readr)"
   ]
  },
  {
   "cell_type": "code",
   "execution_count": 47,
   "metadata": {},
   "outputs": [
    {
     "name": "stderr",
     "output_type": "stream",
     "text": [
      "Parsed with column specification:\n",
      "cols(\n",
      "  Tag = col_character(),\n",
      "  PaperId = col_double(),\n",
      "  AuthorIdsOrder = col_character(),\n",
      "  AuthorNamesOrder = col_character(),\n",
      "  FoSNames = col_character(),\n",
      "  Year = col_double(),\n",
      "  DocType = col_character(),\n",
      "  Journal = col_character(),\n",
      "  Publisher = col_character(),\n",
      "  Doi = col_character(),\n",
      "  Title = col_character(),\n",
      "  EstimatedCitation = col_double(),\n",
      "  IndexedAbstract = col_character()\n",
      ")\n"
     ]
    }
   ],
   "source": [
    "block = read_csv(\"newdataCombined.csv\")\n",
    "myvars <- c(\"AuthorIdsOrder\", \"AuthorNamesOrder\", \"Year\", \"PaperId\")\n",
    "data0 <- block[myvars]\n",
    "data0$Year1 <-  data0$Year-35 #25-45\n",
    "data0$Year2 <-  data0$Year-45 #35-55\n",
    "data0$Year3 <-  data0$Year-55 #45-65\n",
    "data0$authorCount <- str_count(data0$AuthorIdsOrder, '; ')+1"
   ]
  },
  {
   "cell_type": "code",
   "execution_count": 48,
   "metadata": {},
   "outputs": [
    {
     "name": "stderr",
     "output_type": "stream",
     "text": [
      "Warning message:\n",
      "“Expected 100 pieces. Missing pieces filled with `NA` in 3001 rows [1, 2, 3, 4, 5, 6, 7, 8, 9, 10, 11, 12, 13, 14, 15, 16, 17, 18, 19, 20, ...].”Warning message:\n",
      "“Expected 4 pieces. Additional pieces discarded in 113 rows [101, 333, 1127, 1145, 1165, 1228, 1307, 1611, 1771, 1844, 2138, 2199, 2402, 2535, 2573, 2600, 2666, 2720, 2772, 2898, ...].”Warning message:\n",
      "“Expected 4 pieces. Missing pieces filled with `NA` in 13200 rows [1, 2, 3, 4, 5, 6, 7, 9, 10, 11, 12, 13, 14, 15, 16, 17, 18, 19, 20, 21, ...].”"
     ]
    }
   ],
   "source": [
    "AuthorTable <- data0 %>% separate(AuthorNamesOrder, into = sprintf('%s.%s', rep('Author',100), rep(1:100)), sep = \"; \") #max author has exceeded 90\n",
    "AuthorTable <- AuthorTable %>% gather(authorOrder, name, into = sprintf('%s.%s', rep('Author',100), rep(1:100)))\n",
    "AuthorList <- data.frame(lapply(AuthorTable, trimws), stringsAsFactors = FALSE)\n",
    "nameTable <- AuthorList %>% separate(name, into = sprintf('%s.%s', rep('namePart',4), rep(1:4)), sep = \" \")"
   ]
  },
  {
   "cell_type": "code",
   "execution_count": 49,
   "metadata": {},
   "outputs": [
    {
     "data": {
      "text/html": [
       "<table>\n",
       "<thead><tr><th scope=col>genderLabel</th><th scope=col>no_rows</th></tr></thead>\n",
       "<tbody>\n",
       "\t<tr><td> 0    </td><td>  6256</td></tr>\n",
       "\t<tr><td> 1    </td><td>  3210</td></tr>\n",
       "\t<tr><td>NA    </td><td>290634</td></tr>\n",
       "</tbody>\n",
       "</table>\n"
      ],
      "text/latex": [
       "\\begin{tabular}{r|ll}\n",
       " genderLabel & no\\_rows\\\\\n",
       "\\hline\n",
       "\t  0     &   6256\\\\\n",
       "\t  1     &   3210\\\\\n",
       "\t NA     & 290634\\\\\n",
       "\\end{tabular}\n"
      ],
      "text/markdown": [
       "\n",
       "| genderLabel | no_rows |\n",
       "|---|---|\n",
       "|  0     |   6256 |\n",
       "|  1     |   3210 |\n",
       "| NA     | 290634 |\n",
       "\n"
      ],
      "text/plain": [
       "  genderLabel no_rows\n",
       "1  0            6256 \n",
       "2  1            3210 \n",
       "3 NA          290634 "
      ]
     },
     "metadata": {},
     "output_type": "display_data"
    }
   ],
   "source": [
    "newvars <- c(\"PaperId\",\"namePart.1\", \"namePart.2\", \"namePart.3\", \"namePart.4\", \"Year2\", \"authorOrder\", \"authorCount\")\n",
    "nameParts <- nameTable[newvars]\n",
    "nameParts$namePart.1 <- gsub(\"\\\"\", \"\", nameParts$namePart.1)\n",
    "nameParts$namePart.2 <- gsub(\"\\\"\", \"\", nameParts$namePart.2)\n",
    "nameParts$namePart.3 <- gsub(\"\\\"\", \"\", nameParts$namePart.3)\n",
    "nameParts$namePart.4 <- gsub(\"\\\"\", \"\", nameParts$namePart.4)\n",
    "nameParts$min_years <- as.numeric(nameParts$Year2)-20\n",
    "nameParts$max_years <- as.numeric(nameParts$Year2)+20\n",
    "results <- gender_df(nameParts, name_col = \"namePart.1\", year_col = c(\"min_years\", \"max_years\"), method = \"ssa\")\n",
    "output <- nameParts %>% left_join(results, by = c(\"namePart.1\" = \"name\", \"min_years\" = \"year_min\"))\n",
    "results <- gender_df(nameParts, name_col = \"namePart.2\", year_col = c(\"min_years\", \"max_years\"), method = \"ssa\")\n",
    "output <- output %>% left_join(results, by = c(\"namePart.2\" = \"name\", \"min_years\" = \"year_min\"))\n",
    "results <- gender_df(nameParts, name_col = \"namePart.3\", year_col = c(\"min_years\", \"max_years\"), method = \"ssa\")\n",
    "output <- output %>% left_join(results, by = c(\"namePart.3\" = \"name\", \"min_years\" = \"year_min\"))\n",
    "output <- within(output, #if namepart3 is the last name, set it NA \n",
    "   temp2 <- ifelse(is.na(namePart.4),NA,proportion_female)\n",
    ")\n",
    "output <- within(output, #if namepart2 is the last name, set it NA \n",
    "   temp1 <- ifelse(is.na(namePart.3),NA,proportion_female.y)\n",
    ")\n",
    "output <- within(output, #if namepart1 is the last name, set it NA \n",
    "   temp0 <- ifelse(is.na(namePart.2),NA,proportion_female.x)\n",
    ")\n",
    "output <- within(output, # namepart2 merged with namepart3\n",
    "   femaleProb0 <- ifelse(is.na(temp1),temp2,temp1)\n",
    ")\n",
    "output <- within(output, # namepart1 merged with namepart2\n",
    "   femaleProb <- ifelse(is.na(temp0),temp1,temp0)\n",
    ")\n",
    "output <- within(output, # binarize the probabilities, with 1 representing female and 0 male\n",
    "   genderLabel <- ifelse(femaleProb>0.5,1,0)\n",
    ")\n",
    "output %>% \n",
    "  group_by(genderLabel) %>%\n",
    "  summarise(no_rows = length(genderLabel))"
   ]
  },
  {
   "cell_type": "code",
   "execution_count": 102,
   "metadata": {},
   "outputs": [],
   "source": [
    "newvars <- c(\"PaperId\", \"Year2\", \"authorOrder\", \"genderLabel\", \"authorCount\")\n",
    "merged <- output[newvars]\n",
    "merged <- spread(merged, authorOrder, genderLabel)\n",
    "merged$detectCount <- 100-rowSums(is.na(merged))\n",
    "merged$femaleCount <- rowSums(merged[sapply(merged, is.numeric)], na.rm = TRUE) - merged$detectCount\n",
    "merged$femaleProp <- merged$femaleCount/merged$detectCount\n",
    "merged$femaleProp[is.infinite(merged$femaleProp) | is.nan(merged$femaleProp) ] <- NA\n",
    "merged$authorCount <- as.numeric(merged$authorCount)\n",
    "merged$unknownCount <- merged$authorCount-merged$detectCount\n",
    "merged$lastColName <- paste(\"Author\", merged$authorCount, sep=\".\") \n",
    "merged$last <- as.numeric(merged[cbind(1:nrow(merged),match(merged$lastColName, colnames(merged)))])\n",
    "merged$PaperId <- as.numeric(merged$PaperId)\n",
    "merged <- rename(merged, \"1st\" = \"Author.1\", \"2nd\" = \"Author.2\", \"3rd\" = \"Author.3\", \"4th\" = \"Author.4\", \"5th\" = \"Author.5\")\n",
    "outputVars <- c(\"PaperId\", \"authorCount\", \"unknownCount\", \"femaleCount\", \"femaleProp\", \"1st\", \"2nd\", \"3rd\", \"4th\", \"5th\", \"last\")\n",
    "mergedSelect <-  merged[outputVars]\n",
    "#write.csv(merged, file = \"output.csv\")"
   ]
  },
  {
   "cell_type": "code",
   "execution_count": 103,
   "metadata": {},
   "outputs": [
    {
     "name": "stdout",
     "output_type": "stream",
     "text": [
      "Classes ‘tbl_df’, ‘tbl’ and 'data.frame':\t3001 obs. of  23 variables:\n",
      " $ Tag              : chr  \"OpenScience\" \"OpenScience\" \"OpenScience\" \"OpenScience\" ...\n",
      " $ PaperId          : num  2.63e+09 1.48e+09 2.32e+09 2.32e+09 1.97e+09 ...\n",
      " $ AuthorIdsOrder   : chr  \"1918640562\" \"1971373124\" \"115656586\" \"1908890355; 2136934135; 2145472093; 2045166491; 2006167755; 2303251601; 2127190699; 2128270114; 2081974026; 2154796455\" ...\n",
      " $ AuthorNamesOrder : chr  \"Heidi Laine\" \"Jonas Kubilius\" \"Elliott M. Antman\" \"Elise Ruark; Nazneen Rahman; Anthony Renwick; Matthew Clarke; Katie Snape; Emma Ramsay; Anna Elliott; Sandra Ha\"| __truncated__ ...\n",
      " $ authorCount      : num  1 1 1 10 1 4 3 7 2 3 ...\n",
      " $ unknownCount     : num  0 0 0 1 0 1 0 0 0 0 ...\n",
      " $ femaleCount      : num  1 0 0 7 0 1 1 2 1 3 ...\n",
      " $ femaleProp       : num  1 0 0 0.778 0 ...\n",
      " $ 1st              : num  1 0 0 1 0 0 1 0 0 1 ...\n",
      " $ 2nd              : num  NA NA NA NA NA NA 0 0 1 1 ...\n",
      " $ 3rd              : num  NA NA NA 0 NA 0 0 1 NA 1 ...\n",
      " $ 4th              : num  NA NA NA 0 NA 1 NA 0 NA NA ...\n",
      " $ 5th              : num  NA NA NA 1 NA NA NA 0 NA NA ...\n",
      " $ last             : num  1 0 0 1 0 1 0 0 1 1 ...\n",
      " $ FoSNames         : chr  \"intrinsic value; research ethics; openness to experience; open science; data mining; open data; computer scienc\"| __truncated__ \"social psychology; knowledge management; open science; underdevelopment; psychology\" \"data sharing; data mining; data dictionary; computer science; clinical trial; adjudication; open science; patho\"| __truncated__ \"bioinformatics; open science; scripting language; remainder; fastq format; data mining; medicine; software; open data\" ...\n",
      " $ Year             : num  2017 2014 2014 2016 2015 ...\n",
      " $ DocType          : chr  \"Journal\" \"Journal\" \"Journal\" \"Journal\" ...\n",
      " $ Journal          : chr  \"Data Science Journal\" \"I-perception\" \"BMJ\" \"F1000Research\" ...\n",
      " $ Publisher        : chr  \"Ubiquity Press\" \"SAGE Publications\" \"BMJ\" \"Faculty of 1000 Ltd\" ...\n",
      " $ Doi              : chr  \"10.5334/dsj-2017-029\" \"10.1068/i004ir\" \"10.1136/bmj.g237\" \"10.12688/f1000research.8219.1\" ...\n",
      " $ Title            : chr  \"Afraid of Scooping – Case Study on Researcher Strategies against Fear of Scooping in the Context of Open Science\" \"i-Review: Sharing Code\" \"Data sharing in research: benefits and risks for clinicians\" \"The ICR142 NGS validation series: a resource for orthogonal assessment of NGS analysis\" ...\n",
      " $ EstimatedCitation: num  0 2 5 2 0 0 17 0 1 0 ...\n",
      " $ IndexedAbstract  : chr  \"The risk of scooping is often used as a counter argument for open science, especially open data. In this case s\"| __truncated__ \"Sharing code is becoming increasingly important in the wake of Open Science. In this review I describe and comp\"| __truncated__ \"The cycle of research begins with identification of an idea, design of the study to answer the scientific quest\"| __truncated__ \"The authors describe ICR142, a publicly available set of fastq files and confirmed true and false variants for \"| __truncated__ ...\n"
     ]
    }
   ],
   "source": [
    "block0 <- block %>% left_join(merged, by = c(\"PaperId\" = \"PaperId\"))\n",
    "outputVars <- c(\"Tag\", \"PaperId\", \"AuthorIdsOrder\", \"AuthorNamesOrder\", \"authorCount\", \"unknownCount\", \"femaleCount\", \"femaleProp\", \"1st\", \"2nd\", \"3rd\", \"4th\", \"5th\", \"last\",\n",
    "                \"FoSNames\", \"Year\", \"DocType\", \"Journal\", \"Publisher\", \"Doi\", \"Title\", \"EstimatedCitation\", \"IndexedAbstract\")\n",
    "data <- block0[outputVars]\n",
    "write_csv(data, \"OpenSci3.csv\")\n",
    "str(data)"
   ]
  },
  {
   "cell_type": "code",
   "execution_count": 107,
   "metadata": {},
   "outputs": [],
   "source": [
    "data$allmale <- as.numeric(data$\"1st\"==0) * as.numeric(data$last==0) * as.numeric(data$authorCount>1)\n",
    "data$allfemale <- as.numeric(data$\"1st\"==1) * as.numeric(data$last==1) * as.numeric(data$authorCount>1)\n",
    "data$mixed <- as.numeric(data$\"1st\"==1) + as.numeric(data$last==1)\n",
    "data$mixed <- as.numeric(data$mixed==1)\n",
    "data$allUnknown <- as.numeric(is.na(data$\"1st\")) * as.numeric(is.na(data$last)) * as.numeric(data$authorCount>1)\n",
    "data$UnknownMale <- as.numeric(is.na(data$\"1st\")) * as.numeric(data$last==0)\n",
    "data$UnknownFemale <- as.numeric(is.na(data$\"1st\")) * as.numeric(data$last==1)\n",
    "data$maleUnknown <- as.numeric(is.na(data$last)) * as.numeric(data$\"1st\"==0)\n",
    "data$femaleUnknown <- as.numeric(is.na(data$last)) * as.numeric(data$\"1st\"==1)\n",
    "data$singleMale <- as.numeric(data$\"1st\"==0) * as.numeric(data$authorCount==1)\n",
    "data$singleFemale <- as.numeric(data$\"1st\"==1) * as.numeric(data$authorCount==1)\n",
    "data$singleUnknown <- as.numeric(is.na(data$\"1st\")) * as.numeric(data$authorCount==1)\n",
    "outputVars <- c(\"Tag\",\"allmale\",\"allfemale\",\"mixed\",\"allUnknown\",\"UnknownMale\",\"UnknownFemale\",\"maleUnknown\",\"femaleUnknown\",\"singleMale\",\"singleFemale\",\"singleUnknown\")\n",
    "dataOpen <- data[outputVars]\n",
    "dataOpen <- dataOpen[dataOpen$Tag==\"OpenScience\",]\n",
    "pieOpen <- dplyr::bind_rows(colSums(dataOpen[,-1], na.rm = TRUE))\n",
    "dataRep <- data[outputVars]\n",
    "dataRep <- dataRep[dataRep$Tag==\"Reproducibility\",]\n",
    "pieRep <- dplyr::bind_rows(colSums(dataRep[,-1], na.rm = TRUE))\n",
    "pie <- dplyr::bind_rows(list(OpenScience=pieOpen, Reproducibility=pieRep), .id = 'Tag')\n",
    "pie$sum <- rowSums(pie[-1])\n",
    "write_csv(pie, \"Pie.csv\")"
   ]
  },
  {
   "cell_type": "code",
   "execution_count": null,
   "metadata": {},
   "outputs": [],
   "source": []
  }
 ],
 "metadata": {
  "kernelspec": {
   "display_name": "R",
   "language": "R",
   "name": "ir"
  },
  "language_info": {
   "codemirror_mode": "r",
   "file_extension": ".r",
   "mimetype": "text/x-r-source",
   "name": "R",
   "pygments_lexer": "r",
   "version": "3.5.1"
  }
 },
 "nbformat": 4,
 "nbformat_minor": 2
}
