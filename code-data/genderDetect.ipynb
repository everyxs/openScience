{
 "cells": [
  {
   "cell_type": "code",
   "execution_count": 1,
   "metadata": {},
   "outputs": [
    {
     "name": "stderr",
     "output_type": "stream",
     "text": [
      "\n",
      "Attaching package: ‘dplyr’\n",
      "\n",
      "The following objects are masked from ‘package:stats’:\n",
      "\n",
      "    filter, lag\n",
      "\n",
      "The following objects are masked from ‘package:base’:\n",
      "\n",
      "    intersect, setdiff, setequal, union\n",
      "\n"
     ]
    }
   ],
   "source": [
    "library(dplyr)\n",
    "library(tidyr)\n",
    "#install.packages('gender',lib=.libPaths()[3])\n",
    "#install.packages(\"genderdata\", repos = \"http://packages.ropensci.org\", type = \"source\",lib=.libPaths()[3])\n",
    "library(gender)\n",
    "library(stringr)\n",
    "library(widyr)\n",
    "library(readr)"
   ]
  },
  {
   "cell_type": "code",
   "execution_count": 2,
   "metadata": {},
   "outputs": [
    {
     "name": "stderr",
     "output_type": "stream",
     "text": [
      "Parsed with column specification:\n",
      "cols(\n",
      "  Tag = col_character(),\n",
      "  PaperId = col_double(),\n",
      "  AuthorIdsOrder = col_character(),\n",
      "  AuthorNamesOrder = col_character(),\n",
      "  FoSNames = col_character(),\n",
      "  Year = col_integer(),\n",
      "  DocType = col_character(),\n",
      "  Journal = col_character(),\n",
      "  Publisher = col_character(),\n",
      "  Doi = col_character(),\n",
      "  Title = col_character(),\n",
      "  EstimatedCitation = col_integer(),\n",
      "  URLs = col_character(),\n",
      "  IndexedAbstract = col_character()\n",
      ")\n"
     ]
    },
    {
     "data": {
      "text/html": [
       "2926"
      ],
      "text/latex": [
       "2926"
      ],
      "text/markdown": [
       "2926"
      ],
      "text/plain": [
       "[1] 2926"
      ]
     },
     "metadata": {},
     "output_type": "display_data"
    }
   ],
   "source": [
    "block = read_csv(\"newdataCombined.csv\")\n",
    "block = block[block$Year >=2010 & block$Year <=2017,]\n",
    "myvars <- c(\"AuthorIdsOrder\", \"AuthorNamesOrder\", \"Year\", \"PaperId\")\n",
    "data0 <- block[myvars]\n",
    "data0$Year1 <-  data0$Year-35 #25-45\n",
    "data0$Year2 <-  data0$Year-45 #35-55\n",
    "data0$Year3 <-  data0$Year-55 #45-65\n",
    "data0$authorCount <- str_count(data0$AuthorIdsOrder, '; ')+1\n",
    "nrow(data0)"
   ]
  },
  {
   "cell_type": "markdown",
   "metadata": {},
   "source": [
    "### We use \"Year2\" for birth year estimate, i.e. assuming authors are in the age range [35-55] when they publish. "
   ]
  },
  {
   "cell_type": "code",
   "execution_count": 3,
   "metadata": {},
   "outputs": [
    {
     "name": "stderr",
     "output_type": "stream",
     "text": [
      "Warning message:\n",
      "“Too few values at 2926 locations: 1, 2, 3, 4, 5, 6, 7, 8, 9, 10, 11, 12, 13, 14, 15, 16, 17, 18, 19, 20, ...”Warning message:\n",
      "“Too many values at 111 locations: 667, 669, 843, 1038, 1120, 1322, 1577, 1744, 1946, 2020, 2181, 2220, 2280, 2301, 2390, 2841, 2843, 2858, 2859, 3145, ...”Warning message:\n",
      "“Too few values at 13047 locations: 1, 2, 3, 4, 5, 6, 7, 8, 9, 10, 11, 12, 13, 14, 15, 16, 17, 18, 19, 20, ...”"
     ]
    }
   ],
   "source": [
    "AuthorTable <- data0 %>% separate(AuthorNamesOrder, into = sprintf('%s.%s', rep('Author',100), rep(1:100)), sep = \"; \") #max author has exceeded 90\n",
    "AuthorTable <- AuthorTable %>% gather(authorOrder, name, into = sprintf('%s.%s', rep('Author',100), rep(1:100)))\n",
    "AuthorList <- data.frame(lapply(AuthorTable, trimws), stringsAsFactors = FALSE)\n",
    "nameTable <- AuthorList %>% separate(name, into = sprintf('%s.%s', rep('namePart',4), rep(1:4)), sep = \" \")"
   ]
  },
  {
   "cell_type": "code",
   "execution_count": 4,
   "metadata": {},
   "outputs": [
    {
     "data": {
      "text/html": [
       "<table>\n",
       "<thead><tr><th scope=col>genderLabel</th><th scope=col>no_rows</th></tr></thead>\n",
       "<tbody>\n",
       "\t<tr><td> 0    </td><td>  6175</td></tr>\n",
       "\t<tr><td> 1    </td><td>  3162</td></tr>\n",
       "\t<tr><td>NA    </td><td>283263</td></tr>\n",
       "</tbody>\n",
       "</table>\n"
      ],
      "text/latex": [
       "\\begin{tabular}{r|ll}\n",
       " genderLabel & no\\_rows\\\\\n",
       "\\hline\n",
       "\t  0     &   6175\\\\\n",
       "\t  1     &   3162\\\\\n",
       "\t NA     & 283263\\\\\n",
       "\\end{tabular}\n"
      ],
      "text/markdown": [
       "\n",
       "| genderLabel | no_rows |\n",
       "|---|---|\n",
       "|  0     |   6175 |\n",
       "|  1     |   3162 |\n",
       "| NA     | 283263 |\n",
       "\n"
      ],
      "text/plain": [
       "  genderLabel no_rows\n",
       "1  0            6175 \n",
       "2  1            3162 \n",
       "3 NA          283263 "
      ]
     },
     "metadata": {},
     "output_type": "display_data"
    }
   ],
   "source": [
    "newvars <- c(\"PaperId\",\"namePart.1\", \"namePart.2\", \"namePart.3\", \"namePart.4\", \"Year2\", \"authorOrder\", \"authorCount\")\n",
    "nameParts <- nameTable[newvars]\n",
    "nameParts$namePart.1 <- gsub(\"\\\"\", \"\", nameParts$namePart.1)\n",
    "nameParts$namePart.2 <- gsub(\"\\\"\", \"\", nameParts$namePart.2)\n",
    "nameParts$namePart.3 <- gsub(\"\\\"\", \"\", nameParts$namePart.3)\n",
    "nameParts$namePart.4 <- gsub(\"\\\"\", \"\", nameParts$namePart.4)\n",
    "nameParts$min_years <- as.numeric(nameParts$Year2)-20\n",
    "nameParts$max_years <- as.numeric(nameParts$Year2)+20\n",
    "results <- gender_df(nameParts, name_col = \"namePart.1\", year_col = c(\"min_years\", \"max_years\"), method = \"ssa\")\n",
    "output <- nameParts %>% left_join(results, by = c(\"namePart.1\" = \"name\", \"min_years\" = \"year_min\"))\n",
    "results <- gender_df(nameParts, name_col = \"namePart.2\", year_col = c(\"min_years\", \"max_years\"), method = \"ssa\")\n",
    "output <- output %>% left_join(results, by = c(\"namePart.2\" = \"name\", \"min_years\" = \"year_min\"))\n",
    "results <- gender_df(nameParts, name_col = \"namePart.3\", year_col = c(\"min_years\", \"max_years\"), method = \"ssa\")\n",
    "output <- output %>% left_join(results, by = c(\"namePart.3\" = \"name\", \"min_years\" = \"year_min\"))\n",
    "output <- within(output, #if namepart3 is the last name, set it NA \n",
    "   temp2 <- ifelse(is.na(namePart.4),NA,proportion_female)\n",
    ")\n",
    "output <- within(output, #if namepart2 is the last name, set it NA \n",
    "   temp1 <- ifelse(is.na(namePart.3),NA,proportion_female.y)\n",
    ")\n",
    "output <- within(output, #if namepart1 is the last name, set it NA \n",
    "   temp0 <- ifelse(is.na(namePart.2),NA,proportion_female.x)\n",
    ")\n",
    "output <- within(output, # namepart2 merged with namepart3\n",
    "   femaleProb0 <- ifelse(is.na(temp1),temp2,temp1)\n",
    ")\n",
    "output <- within(output, # namepart1 merged with namepart2\n",
    "   femaleProb <- ifelse(is.na(temp0),temp1,temp0)\n",
    ")\n",
    "output <- within(output, # binarize the probabilities, with 1 representing female and 0 male\n",
    "   genderLabel <- ifelse(femaleProb>0.5,1,0)\n",
    ")\n",
    "output %>% \n",
    "  group_by(genderLabel) %>%\n",
    "  summarise(no_rows = length(genderLabel))"
   ]
  },
  {
   "cell_type": "markdown",
   "metadata": {},
   "source": [
    "### We break each author name into 4 parts, delimited by space in their full name. The detected gender probability of later name parts overwrite earlier ones. The final labels are given by binarizing the probabilities, with 1 representing female and 0 male."
   ]
  },
  {
   "cell_type": "code",
   "execution_count": 5,
   "metadata": {},
   "outputs": [],
   "source": [
    "newvars <- c(\"PaperId\", \"Year2\", \"authorOrder\", \"genderLabel\", \"authorCount\")\n",
    "merged <- output[newvars]\n",
    "merged <- spread(merged, authorOrder, genderLabel)\n",
    "merged$detectCount <- 100-rowSums(is.na(merged))\n",
    "merged$femaleCount <- rowSums(merged[sapply(merged, is.numeric)], na.rm = TRUE) - merged$detectCount\n",
    "merged$femaleProp <- merged$femaleCount/merged$detectCount\n",
    "merged$femaleProp[is.infinite(merged$femaleProp) | is.nan(merged$femaleProp) ] <- NA\n",
    "merged$authorCount <- as.numeric(merged$authorCount)\n",
    "merged$unknownCount <- merged$authorCount-merged$detectCount\n",
    "merged$lastColName <- paste(\"Author\", merged$authorCount, sep=\".\") \n",
    "merged$last <- as.numeric(merged[cbind(1:nrow(merged),match(merged$lastColName, colnames(merged)))])\n",
    "merged$PaperId <- as.numeric(merged$PaperId)\n",
    "merged <- rename(merged, \"1st\" = \"Author.1\", \"2nd\" = \"Author.2\", \"3rd\" = \"Author.3\", \"4th\" = \"Author.4\", \"5th\" = \"Author.5\")\n",
    "outputVars <- c(\"PaperId\", \"authorCount\", \"unknownCount\", \"femaleCount\", \"femaleProp\", \"1st\", \"2nd\", \"3rd\", \"4th\", \"5th\", \"last\")\n",
    "mergedSelect <-  merged[outputVars]\n",
    "#write.csv(merged, file = \"output.csv\")"
   ]
  },
  {
   "cell_type": "markdown",
   "metadata": {},
   "source": [
    "### Group gender detected results to papers. Besides paper level aggregate statistics, first 5 and the last authors are kepted for downstream analysis (OpenSci3.csv)."
   ]
  },
  {
   "cell_type": "code",
   "execution_count": 6,
   "metadata": {},
   "outputs": [
    {
     "data": {
      "text/html": [
       "2926"
      ],
      "text/latex": [
       "2926"
      ],
      "text/markdown": [
       "2926"
      ],
      "text/plain": [
       "[1] 2926"
      ]
     },
     "metadata": {},
     "output_type": "display_data"
    }
   ],
   "source": [
    "block0 <- block %>% left_join(merged, by = c(\"PaperId\" = \"PaperId\"))\n",
    "outputVars <- c(\"Tag\", \"PaperId\", \"AuthorIdsOrder\", \"AuthorNamesOrder\", \"authorCount\", \"unknownCount\", \"femaleCount\", \"femaleProp\", \"1st\", \"2nd\", \"3rd\", \"4th\", \"5th\", \"last\",\n",
    "                \"FoSNames\", \"Year\", \"DocType\", \"Journal\", \"Publisher\", \"Doi\", \"Title\", \"EstimatedCitation\", \"IndexedAbstract\")\n",
    "data <- block0[outputVars]\n",
    "write_csv(data, \"OpenSci3.csv\")\n",
    "nrow(data)"
   ]
  },
  {
   "cell_type": "markdown",
   "metadata": {},
   "source": [
    "### Counting pie chart numbers"
   ]
  },
  {
   "cell_type": "code",
   "execution_count": 7,
   "metadata": {},
   "outputs": [],
   "source": [
    "data$allmale <- as.numeric(data$\"1st\"==0) * as.numeric(data$last==0) * as.numeric(data$authorCount>1)\n",
    "data$allfemale <- as.numeric(data$\"1st\"==1) * as.numeric(data$last==1) * as.numeric(data$authorCount>1)\n",
    "data$mixed <- as.numeric(data$\"1st\"==1) + as.numeric(data$last==1)\n",
    "data$mixed <- as.numeric(data$mixed==1)\n",
    "data$allUnknown <- as.numeric(is.na(data$\"1st\")) * as.numeric(is.na(data$last)) * as.numeric(data$authorCount>1)\n",
    "data$UnknownMale <- as.numeric(is.na(data$\"1st\")) * as.numeric(data$last==0)\n",
    "data$UnknownFemale <- as.numeric(is.na(data$\"1st\")) * as.numeric(data$last==1)\n",
    "data$maleUnknown <- as.numeric(is.na(data$last)) * as.numeric(data$\"1st\"==0)\n",
    "data$femaleUnknown <- as.numeric(is.na(data$last)) * as.numeric(data$\"1st\"==1)\n",
    "data$singleMale <- as.numeric(data$\"1st\"==0) * as.numeric(data$authorCount==1)\n",
    "data$singleFemale <- as.numeric(data$\"1st\"==1) * as.numeric(data$authorCount==1)\n",
    "data$singleUnknown <- as.numeric(is.na(data$\"1st\")) * as.numeric(data$authorCount==1)\n",
    "outputVars <- c(\"Tag\",\"allmale\",\"allfemale\",\"mixed\",\"allUnknown\",\"UnknownMale\",\"UnknownFemale\",\"maleUnknown\",\"femaleUnknown\",\"singleMale\",\"singleFemale\",\"singleUnknown\")\n",
    "dataOpen <- data[outputVars]\n",
    "dataOpen <- dataOpen[dataOpen$Tag==\"OpenScience\",]\n",
    "pieOpen <- dplyr::bind_rows(colSums(dataOpen[,-1], na.rm = TRUE))\n",
    "dataRep <- data[outputVars]\n",
    "dataRep <- dataRep[dataRep$Tag==\"Reproducibility\",]\n",
    "pieRep <- dplyr::bind_rows(colSums(dataRep[,-1], na.rm = TRUE))\n",
    "pie <- dplyr::bind_rows(list(OpenScience=pieOpen, Reproducibility=pieRep), .id = 'Tag')\n",
    "pie$sum <- rowSums(pie[-1])\n",
    "#write_csv(pie, \"Pie.csv\")"
   ]
  },
  {
   "cell_type": "code",
   "execution_count": 8,
   "metadata": {},
   "outputs": [
    {
     "data": {
      "text/html": [
       "<table>\n",
       "<thead><tr><th scope=col>Tag</th><th scope=col>allmale</th><th scope=col>allfemale</th><th scope=col>mixed</th><th scope=col>allUnknown</th><th scope=col>UnknownMale</th><th scope=col>UnknownFemale</th><th scope=col>maleUnknown</th><th scope=col>femaleUnknown</th><th scope=col>singleMale</th><th scope=col>singleFemale</th><th scope=col>singleUnknown</th><th scope=col>sum</th></tr></thead>\n",
       "<tbody>\n",
       "\t<tr><td>OpenScience    </td><td>190            </td><td>73             </td><td>169            </td><td> 43            </td><td> 43            </td><td>21             </td><td> 56            </td><td> 29            </td><td>146            </td><td>72             </td><td>37             </td><td> 879           </td></tr>\n",
       "\t<tr><td>Reproducibility</td><td>419            </td><td>80             </td><td>326            </td><td>345            </td><td>200            </td><td>66             </td><td>165            </td><td>104            </td><td>194            </td><td>76             </td><td>72             </td><td>2047           </td></tr>\n",
       "</tbody>\n",
       "</table>\n"
      ],
      "text/latex": [
       "\\begin{tabular}{r|lllllllllllll}\n",
       " Tag & allmale & allfemale & mixed & allUnknown & UnknownMale & UnknownFemale & maleUnknown & femaleUnknown & singleMale & singleFemale & singleUnknown & sum\\\\\n",
       "\\hline\n",
       "\t OpenScience     & 190             & 73              & 169             &  43             &  43             & 21              &  56             &  29             & 146             & 72              & 37              &  879           \\\\\n",
       "\t Reproducibility & 419             & 80              & 326             & 345             & 200             & 66              & 165             & 104             & 194             & 76              & 72              & 2047           \\\\\n",
       "\\end{tabular}\n"
      ],
      "text/markdown": [
       "\n",
       "| Tag | allmale | allfemale | mixed | allUnknown | UnknownMale | UnknownFemale | maleUnknown | femaleUnknown | singleMale | singleFemale | singleUnknown | sum |\n",
       "|---|---|---|---|---|---|---|---|---|---|---|---|---|\n",
       "| OpenScience     | 190             | 73              | 169             |  43             |  43             | 21              |  56             |  29             | 146             | 72              | 37              |  879            |\n",
       "| Reproducibility | 419             | 80              | 326             | 345             | 200             | 66              | 165             | 104             | 194             | 76              | 72              | 2047            |\n",
       "\n"
      ],
      "text/plain": [
       "  Tag             allmale allfemale mixed allUnknown UnknownMale UnknownFemale\n",
       "1 OpenScience     190     73        169    43         43         21           \n",
       "2 Reproducibility 419     80        326   345        200         66           \n",
       "  maleUnknown femaleUnknown singleMale singleFemale singleUnknown sum \n",
       "1  56          29           146        72           37             879\n",
       "2 165         104           194        76           72            2047"
      ]
     },
     "metadata": {},
     "output_type": "display_data"
    }
   ],
   "source": [
    "pie"
   ]
  },
  {
   "cell_type": "code",
   "execution_count": 9,
   "metadata": {},
   "outputs": [
    {
     "data": {
      "text/html": [
       "<table>\n",
       "<thead><tr><th scope=col>Legend</th><th scope=col>V1</th><th scope=col>V2</th><th scope=col>V1p</th><th scope=col>V2p</th><th scope=col>lab.ypos1</th><th scope=col>lab.ypos2</th><th scope=col>V1l</th><th scope=col>V2l</th></tr></thead>\n",
       "<tbody>\n",
       "\t<tr><td>singleMale   </td><td>146          </td><td>194          </td><td>0.5725490    </td><td>0.5672515    </td><td>0.2862745    </td><td>0.2836257    </td><td>57.25%       </td><td>56.73%       </td></tr>\n",
       "\t<tr><td>singleFemale </td><td> 72          </td><td> 76          </td><td>0.2823529    </td><td>0.2222222    </td><td>0.7137255    </td><td>0.6783626    </td><td>28.24%       </td><td>22.22%       </td></tr>\n",
       "\t<tr><td>singleUnknown</td><td> 37          </td><td> 72          </td><td>0.1450980    </td><td>0.2105263    </td><td>0.9274510    </td><td>0.8947368    </td><td>14.51%       </td><td>21.05%       </td></tr>\n",
       "</tbody>\n",
       "</table>\n"
      ],
      "text/latex": [
       "\\begin{tabular}{r|lllllllll}\n",
       " Legend & V1 & V2 & V1p & V2p & lab.ypos1 & lab.ypos2 & V1l & V2l\\\\\n",
       "\\hline\n",
       "\t singleMale    & 146           & 194           & 0.5725490     & 0.5672515     & 0.2862745     & 0.2836257     & 57.25\\%      & 56.73\\%     \\\\\n",
       "\t singleFemale  &  72           &  76           & 0.2823529     & 0.2222222     & 0.7137255     & 0.6783626     & 28.24\\%      & 22.22\\%     \\\\\n",
       "\t singleUnknown &  37           &  72           & 0.1450980     & 0.2105263     & 0.9274510     & 0.8947368     & 14.51\\%      & 21.05\\%     \\\\\n",
       "\\end{tabular}\n"
      ],
      "text/markdown": [
       "\n",
       "| Legend | V1 | V2 | V1p | V2p | lab.ypos1 | lab.ypos2 | V1l | V2l |\n",
       "|---|---|---|---|---|---|---|---|---|\n",
       "| singleMale    | 146           | 194           | 0.5725490     | 0.5672515     | 0.2862745     | 0.2836257     | 57.25%        | 56.73%        |\n",
       "| singleFemale  |  72           |  76           | 0.2823529     | 0.2222222     | 0.7137255     | 0.6783626     | 28.24%        | 22.22%        |\n",
       "| singleUnknown |  37           |  72           | 0.1450980     | 0.2105263     | 0.9274510     | 0.8947368     | 14.51%        | 21.05%        |\n",
       "\n"
      ],
      "text/plain": [
       "  Legend        V1  V2  V1p       V2p       lab.ypos1 lab.ypos2 V1l    V2l   \n",
       "1 singleMale    146 194 0.5725490 0.5672515 0.2862745 0.2836257 57.25% 56.73%\n",
       "2 singleFemale   72  76 0.2823529 0.2222222 0.7137255 0.6783626 28.24% 22.22%\n",
       "3 singleUnknown  37  72 0.1450980 0.2105263 0.9274510 0.8947368 14.51% 21.05%"
      ]
     },
     "metadata": {},
     "output_type": "display_data"
    }
   ],
   "source": [
    "library(tibble)\n",
    "single <- pie[c(\"singleMale\",\"singleFemale\",\"singleUnknown\")]\n",
    "single <- as.data.frame(t(single))\n",
    "# Calculate percentage\n",
    "single$V1p <- single$V1 / sum(single$V1)\n",
    "single$V2p <- single$V2 / sum(single$V2)\n",
    "single <- rownames_to_column(single, \"Legend\") \n",
    "# Reorder the rows for plotting and lockin with factors\n",
    "single <- single[c(3,2,1),]\n",
    "single$Legend <- factor(single$Legend, levels = single$Legend)\n",
    "\n",
    "# Add label position for pie charts\n",
    "single <- single %>%\n",
    "  arrange(desc(Legend)) %>%\n",
    "  mutate(lab.ypos1 = cumsum(V1p) - 0.5*V1p)\n",
    "single <- single %>%\n",
    "  arrange(desc(Legend)) %>%\n",
    "  mutate(lab.ypos2 = cumsum(V2p) - 0.5*V2p)\n",
    "# Prepare the labels for plotting\n",
    "single$V1l <- sprintf(\"%0.2f%%\", single$V1p * 100)\n",
    "single$V2l <- sprintf(\"%0.2f%%\", single$V2p * 100)\n",
    "single"
   ]
  },
  {
   "cell_type": "code",
   "execution_count": 10,
   "metadata": {},
   "outputs": [
    {
     "data": {},
     "metadata": {},
     "output_type": "display_data"
    },
    {
     "data": {},
     "metadata": {},
     "output_type": "display_data"
    },
    {
     "data": {
      "text/html": [
       "<strong>png:</strong> 2"
      ],
      "text/latex": [
       "\\textbf{png:} 2"
      ],
      "text/markdown": [
       "**png:** 2"
      ],
      "text/plain": [
       "png \n",
       "  2 "
      ]
     },
     "metadata": {},
     "output_type": "display_data"
    }
   ],
   "source": [
    "pdf(\"SinglePie.pdf\")\n",
    "library(ggplot2)\n",
    "bp<- ggplot(single, aes(x=\"\", y=V1p, fill=Legend))+ ggtitle(\"Open science\") +\n",
    "  geom_bar(width = 1, stat = \"identity\", color = \"white\") +\n",
    "  coord_polar(\"y\", start = 0) +\n",
    "  geom_text(aes(y = lab.ypos1, label = V1l))\n",
    "bp\n",
    "bp2<- ggplot(single, aes(x=\"\", y=V2p, fill=Legend))+ ggtitle(\"Reproducibility\") +\n",
    "  geom_bar(width = 1, stat = \"identity\", color = \"white\") +\n",
    "  coord_polar(\"y\", start = 0) +\n",
    "  geom_text(aes(y = lab.ypos2, label = V2l))\n",
    "bp2\n",
    "dev.off()"
   ]
  },
  {
   "cell_type": "code",
   "execution_count": 11,
   "metadata": {},
   "outputs": [
    {
     "data": {
      "text/html": [
       "<table>\n",
       "<thead><tr><th scope=col>Legend</th><th scope=col>V1</th><th scope=col>V2</th><th scope=col>V1p</th><th scope=col>V2p</th><th scope=col>lab.ypos1</th><th scope=col>lab.ypos2</th><th scope=col>V1l</th><th scope=col>V2l</th></tr></thead>\n",
       "<tbody>\n",
       "\t<tr><td>allmale      </td><td>190          </td><td>419          </td><td>0.30448718   </td><td>0.24574780   </td><td>0.1522436    </td><td>0.1228739    </td><td>30.45%       </td><td>24.57%       </td></tr>\n",
       "\t<tr><td>maleUnknown  </td><td> 99          </td><td>365          </td><td>0.15865385   </td><td>0.21407625   </td><td>0.3838141    </td><td>0.3527859    </td><td>15.87%       </td><td>21.41%       </td></tr>\n",
       "\t<tr><td>allUnknown   </td><td> 43          </td><td>345          </td><td>0.06891026   </td><td>0.20234604   </td><td>0.4975962    </td><td>0.5609971    </td><td>6.89%        </td><td>20.23%       </td></tr>\n",
       "\t<tr><td>femaleUnknown</td><td> 50          </td><td>170          </td><td>0.08012821   </td><td>0.09970674   </td><td>0.5721154    </td><td>0.7120235    </td><td>8.01%        </td><td>9.97%        </td></tr>\n",
       "\t<tr><td>allfemale    </td><td> 73          </td><td> 80          </td><td>0.11698718   </td><td>0.04692082   </td><td>0.6706731    </td><td>0.7853372    </td><td>11.70%       </td><td>4.69%        </td></tr>\n",
       "\t<tr><td>mixed        </td><td>169          </td><td>326          </td><td>0.27083333   </td><td>0.19120235   </td><td>0.8645833    </td><td>0.9043988    </td><td>27.08%       </td><td>19.12%       </td></tr>\n",
       "</tbody>\n",
       "</table>\n"
      ],
      "text/latex": [
       "\\begin{tabular}{r|lllllllll}\n",
       " Legend & V1 & V2 & V1p & V2p & lab.ypos1 & lab.ypos2 & V1l & V2l\\\\\n",
       "\\hline\n",
       "\t allmale       & 190           & 419           & 0.30448718    & 0.24574780    & 0.1522436     & 0.1228739     & 30.45\\%      & 24.57\\%     \\\\\n",
       "\t maleUnknown   &  99           & 365           & 0.15865385    & 0.21407625    & 0.3838141     & 0.3527859     & 15.87\\%      & 21.41\\%     \\\\\n",
       "\t allUnknown    &  43           & 345           & 0.06891026    & 0.20234604    & 0.4975962     & 0.5609971     & 6.89\\%       & 20.23\\%     \\\\\n",
       "\t femaleUnknown &  50           & 170           & 0.08012821    & 0.09970674    & 0.5721154     & 0.7120235     & 8.01\\%       & 9.97\\%      \\\\\n",
       "\t allfemale     &  73           &  80           & 0.11698718    & 0.04692082    & 0.6706731     & 0.7853372     & 11.70\\%      & 4.69\\%      \\\\\n",
       "\t mixed         & 169           & 326           & 0.27083333    & 0.19120235    & 0.8645833     & 0.9043988     & 27.08\\%      & 19.12\\%     \\\\\n",
       "\\end{tabular}\n"
      ],
      "text/markdown": [
       "\n",
       "| Legend | V1 | V2 | V1p | V2p | lab.ypos1 | lab.ypos2 | V1l | V2l |\n",
       "|---|---|---|---|---|---|---|---|---|\n",
       "| allmale       | 190           | 419           | 0.30448718    | 0.24574780    | 0.1522436     | 0.1228739     | 30.45%        | 24.57%        |\n",
       "| maleUnknown   |  99           | 365           | 0.15865385    | 0.21407625    | 0.3838141     | 0.3527859     | 15.87%        | 21.41%        |\n",
       "| allUnknown    |  43           | 345           | 0.06891026    | 0.20234604    | 0.4975962     | 0.5609971     | 6.89%         | 20.23%        |\n",
       "| femaleUnknown |  50           | 170           | 0.08012821    | 0.09970674    | 0.5721154     | 0.7120235     | 8.01%         | 9.97%         |\n",
       "| allfemale     |  73           |  80           | 0.11698718    | 0.04692082    | 0.6706731     | 0.7853372     | 11.70%        | 4.69%         |\n",
       "| mixed         | 169           | 326           | 0.27083333    | 0.19120235    | 0.8645833     | 0.9043988     | 27.08%        | 19.12%        |\n",
       "\n"
      ],
      "text/plain": [
       "  Legend        V1  V2  V1p        V2p        lab.ypos1 lab.ypos2 V1l    V2l   \n",
       "1 allmale       190 419 0.30448718 0.24574780 0.1522436 0.1228739 30.45% 24.57%\n",
       "2 maleUnknown    99 365 0.15865385 0.21407625 0.3838141 0.3527859 15.87% 21.41%\n",
       "3 allUnknown     43 345 0.06891026 0.20234604 0.4975962 0.5609971 6.89%  20.23%\n",
       "4 femaleUnknown  50 170 0.08012821 0.09970674 0.5721154 0.7120235 8.01%  9.97% \n",
       "5 allfemale      73  80 0.11698718 0.04692082 0.6706731 0.7853372 11.70% 4.69% \n",
       "6 mixed         169 326 0.27083333 0.19120235 0.8645833 0.9043988 27.08% 19.12%"
      ]
     },
     "metadata": {},
     "output_type": "display_data"
    }
   ],
   "source": [
    "multi <- pie[c(\"allmale\",\"maleUnknown\",\"allUnknown\",\"femaleUnknown\",\"allfemale\",\"mixed\")]\n",
    "multi$maleUnknown <- multi$maleUnknown + pie$UnknownMale\n",
    "multi$femaleUnknown <- multi$femaleUnknown + pie$UnknownFemale\n",
    "multi <- as.data.frame(t(multi))\n",
    "# Calculate percentage\n",
    "multi$V1p <- multi$V1 / sum(multi$V1)\n",
    "multi$V2p <- multi$V2 / sum(multi$V2)\n",
    "multi <- rownames_to_column(multi, \"Legend\") \n",
    "# Reorder the rows for plotting and lockin with factors\n",
    "multi <- multi[c(6,5,4,3,2,1),]\n",
    "multi$Legend <- factor(multi$Legend, levels = multi$Legend)\n",
    "\n",
    "# Add label position for pie charts\n",
    "multi <- multi %>%\n",
    "  arrange(desc(Legend)) %>%\n",
    "  mutate(lab.ypos1 = cumsum(V1p) - 0.5*V1p)\n",
    "multi <- multi %>%\n",
    "  arrange(desc(Legend)) %>%\n",
    "  mutate(lab.ypos2 = cumsum(V2p) - 0.5*V2p)\n",
    "# Prepare the labels for plotting\n",
    "multi$V1l <- sprintf(\"%0.2f%%\", multi$V1p * 100)\n",
    "multi$V2l <- sprintf(\"%0.2f%%\", multi$V2p * 100)\n",
    "multi"
   ]
  },
  {
   "cell_type": "code",
   "execution_count": 12,
   "metadata": {},
   "outputs": [
    {
     "data": {},
     "metadata": {},
     "output_type": "display_data"
    },
    {
     "data": {},
     "metadata": {},
     "output_type": "display_data"
    },
    {
     "data": {
      "text/html": [
       "<strong>png:</strong> 2"
      ],
      "text/latex": [
       "\\textbf{png:} 2"
      ],
      "text/markdown": [
       "**png:** 2"
      ],
      "text/plain": [
       "png \n",
       "  2 "
      ]
     },
     "metadata": {},
     "output_type": "display_data"
    }
   ],
   "source": [
    "pdf(\"MultiPie.pdf\")\n",
    "library(ggplot2)\n",
    "bp<- ggplot(multi, aes(x=\"\", y=V1p, fill=Legend))+ ggtitle(\"Open science\") +\n",
    "  geom_bar(width = 1, stat = \"identity\", color = \"white\") +\n",
    "  coord_polar(\"y\", start = 0) +\n",
    "  geom_text(x = 1.2, aes(y = lab.ypos1, label = V1l))\n",
    "bp\n",
    "bp2<- ggplot(multi, aes(x=\"\", y=V2p, fill=Legend))+ ggtitle(\"Reproducibility\") +\n",
    "  geom_bar(width = 1, stat = \"identity\", color = \"white\") +\n",
    "  coord_polar(\"y\", start = 0) +\n",
    "  geom_text(x = 1.2, aes(y = lab.ypos2, label = V2l))\n",
    "bp2\n",
    "dev.off()"
   ]
  },
  {
   "cell_type": "markdown",
   "metadata": {},
   "source": [
    "### Calculating the fraction of women authors in each literature"
   ]
  },
  {
   "cell_type": "code",
   "execution_count": 57,
   "metadata": {},
   "outputs": [
    {
     "name": "stderr",
     "output_type": "stream",
     "text": [
      "Parsed with column specification:\n",
      "cols(\n",
      "  .default = col_integer(),\n",
      "  Tag = col_character(),\n",
      "  PaperId = col_double(),\n",
      "  AuthorIdsOrder = col_character(),\n",
      "  AuthorNamesOrder = col_character(),\n",
      "  femaleProp = col_double(),\n",
      "  FoSNames = col_character(),\n",
      "  DocType = col_character(),\n",
      "  Journal = col_character(),\n",
      "  Publisher = col_character(),\n",
      "  Doi = col_character(),\n",
      "  Title = col_character(),\n",
      "  IndexedAbstract = col_character()\n",
      ")\n",
      "See spec(...) for full column specifications.\n",
      "Warning message:\n",
      "“Too few values at 2926 locations: 1, 2, 3, 4, 5, 6, 7, 8, 9, 10, 11, 12, 13, 14, 15, 16, 17, 18, 19, 20, ...”Warning message:\n",
      "“Too few values at 2926 locations: 1, 2, 3, 4, 5, 6, 7, 8, 9, 10, 11, 12, 13, 14, 15, 16, 17, 18, 19, 20, ...”"
     ]
    },
    {
     "data": {
      "text/html": [
       "3157"
      ],
      "text/latex": [
       "3157"
      ],
      "text/markdown": [
       "3157"
      ],
      "text/plain": [
       "[1] 3157"
      ]
     },
     "metadata": {},
     "output_type": "display_data"
    },
    {
     "data": {
      "text/html": [
       "8766"
      ],
      "text/latex": [
       "8766"
      ],
      "text/markdown": [
       "8766"
      ],
      "text/plain": [
       "[1] 8766"
      ]
     },
     "metadata": {},
     "output_type": "display_data"
    }
   ],
   "source": [
    "papers = read_csv(\"OpenSci3.csv\")\n",
    "AuthorTable <- papers %>% separate(AuthorIdsOrder, into = sprintf('%s%s', rep('',100), rep(1:100)), sep = \"; \") #max author has exceeded 90\n",
    "AuthorTable <- AuthorTable %>% separate(AuthorNamesOrder, into = sprintf('%s.%s', rep('name',100), rep(1:100)), sep = \"; \") #max author has exceeded 90\n",
    "AuthorTable <- AuthorTable %>% gather(authorOrder, AuthorIdsOrder, into = sprintf('%s%s', rep('',100), rep(1:100)))\n",
    "AuthorTable <- AuthorTable[!is.na(AuthorTable$AuthorIdsOrder), ]\n",
    "AuthorTable2 <-  AuthorTable[AuthorTable$Tag==\"Reproducibility\",]\n",
    "AuthorTable1 <-  AuthorTable[AuthorTable$Tag==\"OpenScience\",]\n",
    "AuthorTable1 <- distinct(AuthorTable1, AuthorIdsOrder, .keep_all = TRUE)\n",
    "AuthorTable2 <- distinct(AuthorTable2, AuthorIdsOrder, .keep_all = TRUE)\n",
    "nrow(AuthorTable1)\n",
    "nrow(AuthorTable2)"
   ]
  },
  {
   "cell_type": "code",
   "execution_count": 64,
   "metadata": {},
   "outputs": [],
   "source": [
    "getName <- function(df) {\n",
    "  # check if df has more then 1 row:\n",
    "  if (nrow(df)>1) { message(\"!! nrow(df)>1 !!\");  return(NA) }\n",
    "  colName <- paste('name.', df$authorOrder, sep=\"\")\n",
    "  return(df %>% select(colName))\n",
    "}\n",
    "AuthorTable1$nameDistinct <- sapply(split((AuthorTable1), seq(nrow(AuthorTable1))), getName)\n",
    "AuthorTable2$nameDistinct <- sapply(split((AuthorTable2), seq(nrow(AuthorTable2))), getName)"
   ]
  },
  {
   "cell_type": "code",
   "execution_count": 67,
   "metadata": {},
   "outputs": [
    {
     "name": "stderr",
     "output_type": "stream",
     "text": [
      "Warning message:\n",
      "“Too many values at 11 locations: 234, 531, 867, 1008, 1468, 1496, 1622, 2064, 2203, 2368, 3056”Warning message:\n",
      "“Too few values at 3096 locations: 1, 2, 3, 4, 5, 6, 7, 8, 9, 10, 11, 12, 13, 14, 15, 16, 17, 18, 19, 20, ...”Warning message:\n",
      "“Too many values at 95 locations: 403, 528, 634, 690, 817, 1027, 1206, 1273, 1422, 1457, 1513, 1529, 1582, 1828, 1830, 1844, 1845, 2018, 2022, 2135, ...”Warning message:\n",
      "“Too few values at 8406 locations: 1, 2, 3, 4, 5, 6, 7, 8, 9, 10, 11, 12, 13, 14, 15, 16, 17, 18, 19, 20, ...”"
     ]
    }
   ],
   "source": [
    "AuthorTable1$Year2 <-  AuthorTable1$Year-45 #35-55\n",
    "AuthorTable2$Year2 <-  AuthorTable2$Year-45 #35-55\n",
    "myvars <- c(\"AuthorIdsOrder\", \"nameDistinct\", \"Year2\", \"PaperId\")\n",
    "data1 <- AuthorTable1[myvars]\n",
    "data2 <- AuthorTable2[myvars]\n",
    "\n",
    "AuthorList1 <- data.frame(lapply(AuthorTable1, trimws), stringsAsFactors = FALSE)\n",
    "nameTable1 <- AuthorList1 %>% separate(nameDistinct, into = sprintf('%s.%s', rep('namePart',4), rep(1:4)), sep = \" \")\n",
    "\n",
    "AuthorList2 <- data.frame(lapply(AuthorTable2, trimws), stringsAsFactors = FALSE)\n",
    "nameTable2 <- AuthorList2 %>% separate(nameDistinct, into = sprintf('%s.%s', rep('namePart',4), rep(1:4)), sep = \" \")"
   ]
  },
  {
   "cell_type": "code",
   "execution_count": 71,
   "metadata": {},
   "outputs": [
    {
     "data": {
      "text/html": [
       "3157"
      ],
      "text/latex": [
       "3157"
      ],
      "text/markdown": [
       "3157"
      ],
      "text/plain": [
       "[1] 3157"
      ]
     },
     "metadata": {},
     "output_type": "display_data"
    }
   ],
   "source": [
    "nrow(nameTable1)"
   ]
  },
  {
   "cell_type": "code",
   "execution_count": 78,
   "metadata": {},
   "outputs": [
    {
     "data": {
      "text/html": [
       "<table>\n",
       "<thead><tr><th scope=col>genderLabel</th><th scope=col>no_rows</th></tr></thead>\n",
       "<tbody>\n",
       "\t<tr><td> 0  </td><td>1669</td></tr>\n",
       "\t<tr><td> 1  </td><td> 916</td></tr>\n",
       "\t<tr><td>NA  </td><td> 572</td></tr>\n",
       "</tbody>\n",
       "</table>\n"
      ],
      "text/latex": [
       "\\begin{tabular}{r|ll}\n",
       " genderLabel & no\\_rows\\\\\n",
       "\\hline\n",
       "\t  0   & 1669\\\\\n",
       "\t  1   &  916\\\\\n",
       "\t NA   &  572\\\\\n",
       "\\end{tabular}\n"
      ],
      "text/markdown": [
       "\n",
       "| genderLabel | no_rows |\n",
       "|---|---|\n",
       "|  0   | 1669 |\n",
       "|  1   |  916 |\n",
       "| NA   |  572 |\n",
       "\n"
      ],
      "text/plain": [
       "  genderLabel no_rows\n",
       "1  0          1669   \n",
       "2  1           916   \n",
       "3 NA           572   "
      ]
     },
     "metadata": {},
     "output_type": "display_data"
    }
   ],
   "source": [
    "newvars <- c(\"AuthorIdsOrder\", \"PaperId\", \"namePart.1\", \"namePart.2\", \"namePart.3\", \"namePart.4\", \"Year2\", \"authorOrder\")\n",
    "nameParts <- nameTable1[newvars]\n",
    "nameParts$namePart.1 <- gsub(\"\\\"\", \"\", nameParts$namePart.1)\n",
    "nameParts$namePart.2 <- gsub(\"\\\"\", \"\", nameParts$namePart.2)\n",
    "nameParts$namePart.3 <- gsub(\"\\\"\", \"\", nameParts$namePart.3)\n",
    "nameParts$namePart.4 <- gsub(\"\\\"\", \"\", nameParts$namePart.4)\n",
    "nameParts$min_years <- as.numeric(nameParts$Year2)-20\n",
    "nameParts$max_years <- as.numeric(nameParts$Year2)+20\n",
    "results <- gender_df(nameParts, name_col = \"namePart.1\", year_col = c(\"min_years\", \"max_years\"), method = \"ssa\")\n",
    "output <- nameParts %>% left_join(results, by = c(\"namePart.1\" = \"name\", \"min_years\" = \"year_min\"))\n",
    "results <- gender_df(nameParts, name_col = \"namePart.2\", year_col = c(\"min_years\", \"max_years\"), method = \"ssa\")\n",
    "output <- output %>% left_join(results, by = c(\"namePart.2\" = \"name\", \"min_years\" = \"year_min\"))\n",
    "results <- gender_df(nameParts, name_col = \"namePart.3\", year_col = c(\"min_years\", \"max_years\"), method = \"ssa\")\n",
    "output <- output %>% left_join(results, by = c(\"namePart.3\" = \"name\", \"min_years\" = \"year_min\"))\n",
    "output <- within(output, #if namepart3 is the last name, set it NA \n",
    "   temp2 <- ifelse(is.na(namePart.4),NA,proportion_female)\n",
    ")\n",
    "output <- within(output, #if namepart2 is the last name, set it NA \n",
    "   temp1 <- ifelse(is.na(namePart.3),NA,proportion_female.y)\n",
    ")\n",
    "output <- within(output, #if namepart1 is the last name, set it NA \n",
    "   temp0 <- ifelse(is.na(namePart.2),NA,proportion_female.x)\n",
    ")\n",
    "output <- within(output, # namepart2 merged with namepart3\n",
    "   femaleProb0 <- ifelse(is.na(temp1),temp2,temp1)\n",
    ")\n",
    "output <- within(output, # namepart1 merged with namepart2\n",
    "   femaleProb <- ifelse(is.na(temp0),temp1,temp0)\n",
    ")\n",
    "output <- within(output, # binarize the probabilities, with 1 representing female and 0 male\n",
    "   genderLabel <- ifelse(femaleProb>0.5,1,0)\n",
    ")\n",
    "\n",
    "output %>% \n",
    "  group_by(genderLabel) %>%\n",
    "  summarise(no_rows = length(genderLabel))"
   ]
  },
  {
   "cell_type": "code",
   "execution_count": 79,
   "metadata": {},
   "outputs": [
    {
     "data": {
      "text/html": [
       "<table>\n",
       "<thead><tr><th scope=col>genderLabel</th><th scope=col>no_rows</th></tr></thead>\n",
       "<tbody>\n",
       "\t<tr><td> 0  </td><td>3705</td></tr>\n",
       "\t<tr><td> 1  </td><td>1891</td></tr>\n",
       "\t<tr><td>NA  </td><td>3170</td></tr>\n",
       "</tbody>\n",
       "</table>\n"
      ],
      "text/latex": [
       "\\begin{tabular}{r|ll}\n",
       " genderLabel & no\\_rows\\\\\n",
       "\\hline\n",
       "\t  0   & 3705\\\\\n",
       "\t  1   & 1891\\\\\n",
       "\t NA   & 3170\\\\\n",
       "\\end{tabular}\n"
      ],
      "text/markdown": [
       "\n",
       "| genderLabel | no_rows |\n",
       "|---|---|\n",
       "|  0   | 3705 |\n",
       "|  1   | 1891 |\n",
       "| NA   | 3170 |\n",
       "\n"
      ],
      "text/plain": [
       "  genderLabel no_rows\n",
       "1  0          3705   \n",
       "2  1          1891   \n",
       "3 NA          3170   "
      ]
     },
     "metadata": {},
     "output_type": "display_data"
    }
   ],
   "source": [
    "newvars <- c(\"AuthorIdsOrder\", \"PaperId\",\"namePart.1\", \"namePart.2\", \"namePart.3\", \"namePart.4\", \"Year2\", \"authorOrder\")\n",
    "nameParts <- nameTable2[newvars]\n",
    "nameParts$namePart.1 <- gsub(\"\\\"\", \"\", nameParts$namePart.1)\n",
    "nameParts$namePart.2 <- gsub(\"\\\"\", \"\", nameParts$namePart.2)\n",
    "nameParts$namePart.3 <- gsub(\"\\\"\", \"\", nameParts$namePart.3)\n",
    "nameParts$namePart.4 <- gsub(\"\\\"\", \"\", nameParts$namePart.4)\n",
    "nameParts$min_years <- as.numeric(nameParts$Year2)-20\n",
    "nameParts$max_years <- as.numeric(nameParts$Year2)+20\n",
    "results <- gender_df(nameParts, name_col = \"namePart.1\", year_col = c(\"min_years\", \"max_years\"), method = \"ssa\")\n",
    "output <- nameParts %>% left_join(results, by = c(\"namePart.1\" = \"name\", \"min_years\" = \"year_min\"))\n",
    "results <- gender_df(nameParts, name_col = \"namePart.2\", year_col = c(\"min_years\", \"max_years\"), method = \"ssa\")\n",
    "output <- output %>% left_join(results, by = c(\"namePart.2\" = \"name\", \"min_years\" = \"year_min\"))\n",
    "results <- gender_df(nameParts, name_col = \"namePart.3\", year_col = c(\"min_years\", \"max_years\"), method = \"ssa\")\n",
    "output <- output %>% left_join(results, by = c(\"namePart.3\" = \"name\", \"min_years\" = \"year_min\"))\n",
    "output <- within(output, #if namepart3 is the last name, set it NA \n",
    "   temp2 <- ifelse(is.na(namePart.4),NA,proportion_female)\n",
    ")\n",
    "output <- within(output, #if namepart2 is the last name, set it NA \n",
    "   temp1 <- ifelse(is.na(namePart.3),NA,proportion_female.y)\n",
    ")\n",
    "output <- within(output, #if namepart1 is the last name, set it NA \n",
    "   temp0 <- ifelse(is.na(namePart.2),NA,proportion_female.x)\n",
    ")\n",
    "output <- within(output, # namepart2 merged with namepart3\n",
    "   femaleProb0 <- ifelse(is.na(temp1),temp2,temp1)\n",
    ")\n",
    "output <- within(output, # namepart1 merged with namepart2\n",
    "   femaleProb <- ifelse(is.na(temp0),temp1,temp0)\n",
    ")\n",
    "output <- within(output, # binarize the probabilities, with 1 representing female and 0 male\n",
    "   genderLabel <- ifelse(femaleProb>0.5,1,0)\n",
    ")\n",
    "output %>% \n",
    "  group_by(genderLabel) %>%\n",
    "  summarise(no_rows = length(genderLabel))"
   ]
  },
  {
   "cell_type": "code",
   "execution_count": 80,
   "metadata": {},
   "outputs": [],
   "source": [
    "write_csv(output, \"authorList.csv\")"
   ]
  },
  {
   "cell_type": "code",
   "execution_count": 81,
   "metadata": {},
   "outputs": [
    {
     "data": {
      "text/html": [
       "<table>\n",
       "<thead><tr><th scope=col>AuthorIdsOrder</th><th scope=col>PaperId</th><th scope=col>namePart.1</th><th scope=col>namePart.2</th><th scope=col>namePart.3</th><th scope=col>namePart.4</th><th scope=col>Year2</th><th scope=col>authorOrder</th><th scope=col>min_years</th><th scope=col>max_years</th><th scope=col>⋯</th><th scope=col>proportion_male</th><th scope=col>proportion_female</th><th scope=col>gender</th><th scope=col>year_max</th><th scope=col>temp2</th><th scope=col>temp1</th><th scope=col>temp0</th><th scope=col>femaleProb0</th><th scope=col>femaleProb</th><th scope=col>genderLabel</th></tr></thead>\n",
       "<tbody>\n",
       "\t<tr><td>2678954453 </td><td>2155922502 </td><td>Francis    </td><td>Beauvais   </td><td>NA         </td><td>NA         </td><td>1969       </td><td>1          </td><td>1949       </td><td>1989       </td><td>⋯          </td><td>NA         </td><td>NA         </td><td>NA         </td><td>NA         </td><td>NA         </td><td>    NA     </td><td>0.0823     </td><td>    NA     </td><td>0.0823     </td><td> 0         </td></tr>\n",
       "\t<tr><td>2527835356 </td><td>2324727210 </td><td>Takashi    </td><td>Hoshino    </td><td>NA         </td><td>NA         </td><td>1967       </td><td>1          </td><td>1947       </td><td>1987       </td><td>⋯          </td><td>NA         </td><td>NA         </td><td>NA         </td><td>NA         </td><td>NA         </td><td>    NA     </td><td>0.0000     </td><td>    NA     </td><td>0.0000     </td><td> 0         </td></tr>\n",
       "\t<tr><td>2740812319 </td><td>2740582100 </td><td>P.         </td><td>Van        </td><td>Brussel    </td><td>NA         </td><td>1972       </td><td>1          </td><td>1952       </td><td>1992       </td><td>⋯          </td><td>NA         </td><td>NA         </td><td>NA         </td><td>NA         </td><td>NA         </td><td>0.0772     </td><td>    NA     </td><td>0.0772     </td><td>0.0772     </td><td> 0         </td></tr>\n",
       "\t<tr><td>2112481453 </td><td>2740654812 </td><td>Khatera    </td><td>Ibrahimi   </td><td>NA         </td><td>NA         </td><td>1972       </td><td>1          </td><td>1952       </td><td>1992       </td><td>⋯          </td><td>NA         </td><td>NA         </td><td>NA         </td><td>NA         </td><td>NA         </td><td>    NA     </td><td>    NA     </td><td>    NA     </td><td>    NA     </td><td>NA         </td></tr>\n",
       "\t<tr><td>2772520160 </td><td>2771908588 </td><td>L.         </td><td>Al-Mouazzen</td><td>NA         </td><td>NA         </td><td>1972       </td><td>1          </td><td>1952       </td><td>1992       </td><td>⋯          </td><td>NA         </td><td>NA         </td><td>NA         </td><td>NA         </td><td>NA         </td><td>    NA     </td><td>    NA     </td><td>    NA     </td><td>    NA     </td><td>NA         </td></tr>\n",
       "\t<tr><td>2780837869 </td><td>2406493898 </td><td>Monya      </td><td>Baker      </td><td>NA         </td><td>NA         </td><td>1971       </td><td>1          </td><td>1951       </td><td>1991       </td><td>⋯          </td><td>NA         </td><td>NA         </td><td>NA         </td><td>NA         </td><td>NA         </td><td>    NA     </td><td>1.0000     </td><td>    NA     </td><td>1.0000     </td><td> 1         </td></tr>\n",
       "</tbody>\n",
       "</table>\n"
      ],
      "text/latex": [
       "\\begin{tabular}{r|llllllllllllllllllllllllllll}\n",
       " AuthorIdsOrder & PaperId & namePart.1 & namePart.2 & namePart.3 & namePart.4 & Year2 & authorOrder & min\\_years & max\\_years & ⋯ & proportion\\_male & proportion\\_female & gender & year\\_max & temp2 & temp1 & temp0 & femaleProb0 & femaleProb & genderLabel\\\\\n",
       "\\hline\n",
       "\t 2678954453  & 2155922502  & Francis     & Beauvais    & NA          & NA          & 1969        & 1           & 1949        & 1989        & ⋯           & NA          & NA          & NA          & NA          & NA          &     NA      & 0.0823      &     NA      & 0.0823      &  0         \\\\\n",
       "\t 2527835356  & 2324727210  & Takashi     & Hoshino     & NA          & NA          & 1967        & 1           & 1947        & 1987        & ⋯           & NA          & NA          & NA          & NA          & NA          &     NA      & 0.0000      &     NA      & 0.0000      &  0         \\\\\n",
       "\t 2740812319  & 2740582100  & P.          & Van         & Brussel     & NA          & 1972        & 1           & 1952        & 1992        & ⋯           & NA          & NA          & NA          & NA          & NA          & 0.0772      &     NA      & 0.0772      & 0.0772      &  0         \\\\\n",
       "\t 2112481453  & 2740654812  & Khatera     & Ibrahimi    & NA          & NA          & 1972        & 1           & 1952        & 1992        & ⋯           & NA          & NA          & NA          & NA          & NA          &     NA      &     NA      &     NA      &     NA      & NA         \\\\\n",
       "\t 2772520160  & 2771908588  & L.          & Al-Mouazzen & NA          & NA          & 1972        & 1           & 1952        & 1992        & ⋯           & NA          & NA          & NA          & NA          & NA          &     NA      &     NA      &     NA      &     NA      & NA         \\\\\n",
       "\t 2780837869  & 2406493898  & Monya       & Baker       & NA          & NA          & 1971        & 1           & 1951        & 1991        & ⋯           & NA          & NA          & NA          & NA          & NA          &     NA      & 1.0000      &     NA      & 1.0000      &  1         \\\\\n",
       "\\end{tabular}\n"
      ],
      "text/markdown": [
       "\n",
       "| AuthorIdsOrder | PaperId | namePart.1 | namePart.2 | namePart.3 | namePart.4 | Year2 | authorOrder | min_years | max_years | ⋯ | proportion_male | proportion_female | gender | year_max | temp2 | temp1 | temp0 | femaleProb0 | femaleProb | genderLabel |\n",
       "|---|---|---|---|---|---|---|---|---|---|---|---|---|---|---|---|---|---|---|---|---|\n",
       "| 2678954453  | 2155922502  | Francis     | Beauvais    | NA          | NA          | 1969        | 1           | 1949        | 1989        | ⋯           | NA          | NA          | NA          | NA          | NA          |     NA      | 0.0823      |     NA      | 0.0823      |  0          |\n",
       "| 2527835356  | 2324727210  | Takashi     | Hoshino     | NA          | NA          | 1967        | 1           | 1947        | 1987        | ⋯           | NA          | NA          | NA          | NA          | NA          |     NA      | 0.0000      |     NA      | 0.0000      |  0          |\n",
       "| 2740812319  | 2740582100  | P.          | Van         | Brussel     | NA          | 1972        | 1           | 1952        | 1992        | ⋯           | NA          | NA          | NA          | NA          | NA          | 0.0772      |     NA      | 0.0772      | 0.0772      |  0          |\n",
       "| 2112481453  | 2740654812  | Khatera     | Ibrahimi    | NA          | NA          | 1972        | 1           | 1952        | 1992        | ⋯           | NA          | NA          | NA          | NA          | NA          |     NA      |     NA      |     NA      |     NA      | NA          |\n",
       "| 2772520160  | 2771908588  | L.          | Al-Mouazzen | NA          | NA          | 1972        | 1           | 1952        | 1992        | ⋯           | NA          | NA          | NA          | NA          | NA          |     NA      |     NA      |     NA      |     NA      | NA          |\n",
       "| 2780837869  | 2406493898  | Monya       | Baker       | NA          | NA          | 1971        | 1           | 1951        | 1991        | ⋯           | NA          | NA          | NA          | NA          | NA          |     NA      | 1.0000      |     NA      | 1.0000      |  1          |\n",
       "\n"
      ],
      "text/plain": [
       "  AuthorIdsOrder PaperId    namePart.1 namePart.2  namePart.3 namePart.4 Year2\n",
       "1 2678954453     2155922502 Francis    Beauvais    NA         NA         1969 \n",
       "2 2527835356     2324727210 Takashi    Hoshino     NA         NA         1967 \n",
       "3 2740812319     2740582100 P.         Van         Brussel    NA         1972 \n",
       "4 2112481453     2740654812 Khatera    Ibrahimi    NA         NA         1972 \n",
       "5 2772520160     2771908588 L.         Al-Mouazzen NA         NA         1972 \n",
       "6 2780837869     2406493898 Monya      Baker       NA         NA         1971 \n",
       "  authorOrder min_years max_years ⋯ proportion_male proportion_female gender\n",
       "1 1           1949      1989      ⋯ NA              NA                NA    \n",
       "2 1           1947      1987      ⋯ NA              NA                NA    \n",
       "3 1           1952      1992      ⋯ NA              NA                NA    \n",
       "4 1           1952      1992      ⋯ NA              NA                NA    \n",
       "5 1           1952      1992      ⋯ NA              NA                NA    \n",
       "6 1           1951      1991      ⋯ NA              NA                NA    \n",
       "  year_max temp2 temp1  temp0  femaleProb0 femaleProb genderLabel\n",
       "1 NA       NA        NA 0.0823     NA      0.0823      0         \n",
       "2 NA       NA        NA 0.0000     NA      0.0000      0         \n",
       "3 NA       NA    0.0772     NA 0.0772      0.0772      0         \n",
       "4 NA       NA        NA     NA     NA          NA     NA         \n",
       "5 NA       NA        NA     NA     NA          NA     NA         \n",
       "6 NA       NA        NA 1.0000     NA      1.0000      1         "
      ]
     },
     "metadata": {},
     "output_type": "display_data"
    }
   ],
   "source": [
    "head(output)"
   ]
  },
  {
   "cell_type": "code",
   "execution_count": null,
   "metadata": {},
   "outputs": [],
   "source": []
  }
 ],
 "metadata": {
  "kernelspec": {
   "display_name": "R",
   "language": "R",
   "name": "ir"
  },
  "language_info": {
   "codemirror_mode": "r",
   "file_extension": ".r",
   "mimetype": "text/x-r-source",
   "name": "R",
   "pygments_lexer": "r",
   "version": "3.4.4"
  }
 },
 "nbformat": 4,
 "nbformat_minor": 2
}
